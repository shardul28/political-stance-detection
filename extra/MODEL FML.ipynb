{
  "nbformat": 4,
  "nbformat_minor": 0,
  "metadata": {
    "colab": {
      "name": "MODE.ipynb",
      "provenance": [],
      "toc_visible": true,
      "collapsed_sections": [],
      "authorship_tag": "ABX9TyN8m2rDRlE5Iok7IGym3WFs",
      "include_colab_link": true
    },
    "kernelspec": {
      "name": "python3",
      "display_name": "Python 3"
    },
    "language_info": {
      "name": "python"
    },
    "accelerator": "GPU"
  },
  "cells": [
    {
      "cell_type": "markdown",
      "metadata": {
        "id": "view-in-github",
        "colab_type": "text"
      },
      "source": [
        "<a href=\"https://colab.research.google.com/github/shardul28/political-stance-detection/blob/Mscproject/MODEL%20FML.ipynb\" target=\"_parent\"><img src=\"https://colab.research.google.com/assets/colab-badge.svg\" alt=\"Open In Colab\"/></a>"
      ]
    },
    {
      "cell_type": "markdown",
      "source": [
        ""
      ],
      "metadata": {
        "id": "w5OjDLKBMAf2"
      }
    },
    {
      "cell_type": "markdown",
      "source": [
        "# Imports"
      ],
      "metadata": {
        "id": "i-TN0VVvMA-K"
      }
    },
    {
      "cell_type": "code",
      "source": [
        "!pip install mit-news-classify\n"
      ],
      "metadata": {
        "id": "EOg_7LK-L8De",
        "colab": {
          "base_uri": "https://localhost:8080/"
        },
        "outputId": "927cb9f7-a3be-4b17-c726-7d4a0e17b28c"
      },
      "execution_count": 1,
      "outputs": [
        {
          "output_type": "stream",
          "name": "stdout",
          "text": [
            "Requirement already satisfied: mit-news-classify in /usr/local/lib/python3.7/dist-packages (0.10.1.3)\n",
            "Requirement already satisfied: tensorflow>=2.1 in /usr/local/lib/python3.7/dist-packages (from mit-news-classify) (2.8.0)\n",
            "Requirement already satisfied: torch in /usr/local/lib/python3.7/dist-packages (from mit-news-classify) (1.10.0+cu111)\n",
            "Requirement already satisfied: numpy in /usr/local/lib/python3.7/dist-packages (from mit-news-classify) (1.21.5)\n",
            "Requirement already satisfied: tqdm in /usr/local/lib/python3.7/dist-packages (from mit-news-classify) (4.64.0)\n",
            "Requirement already satisfied: gensim==3.8.3 in /usr/local/lib/python3.7/dist-packages (from mit-news-classify) (3.8.3)\n",
            "Requirement already satisfied: transformers in /usr/local/lib/python3.7/dist-packages (from mit-news-classify) (4.18.0)\n",
            "Requirement already satisfied: sklearn in /usr/local/lib/python3.7/dist-packages (from mit-news-classify) (0.0)\n",
            "Requirement already satisfied: smart-open>=1.8.1 in /usr/local/lib/python3.7/dist-packages (from gensim==3.8.3->mit-news-classify) (5.2.1)\n",
            "Requirement already satisfied: six>=1.5.0 in /usr/local/lib/python3.7/dist-packages (from gensim==3.8.3->mit-news-classify) (1.15.0)\n",
            "Requirement already satisfied: scipy>=0.18.1 in /usr/local/lib/python3.7/dist-packages (from gensim==3.8.3->mit-news-classify) (1.4.1)\n",
            "Requirement already satisfied: opt-einsum>=2.3.2 in /usr/local/lib/python3.7/dist-packages (from tensorflow>=2.1->mit-news-classify) (3.3.0)\n",
            "Requirement already satisfied: gast>=0.2.1 in /usr/local/lib/python3.7/dist-packages (from tensorflow>=2.1->mit-news-classify) (0.5.3)\n",
            "Requirement already satisfied: tf-estimator-nightly==2.8.0.dev2021122109 in /usr/local/lib/python3.7/dist-packages (from tensorflow>=2.1->mit-news-classify) (2.8.0.dev2021122109)\n",
            "Requirement already satisfied: h5py>=2.9.0 in /usr/local/lib/python3.7/dist-packages (from tensorflow>=2.1->mit-news-classify) (3.1.0)\n",
            "Requirement already satisfied: keras-preprocessing>=1.1.1 in /usr/local/lib/python3.7/dist-packages (from tensorflow>=2.1->mit-news-classify) (1.1.2)\n",
            "Requirement already satisfied: flatbuffers>=1.12 in /usr/local/lib/python3.7/dist-packages (from tensorflow>=2.1->mit-news-classify) (2.0)\n",
            "Requirement already satisfied: google-pasta>=0.1.1 in /usr/local/lib/python3.7/dist-packages (from tensorflow>=2.1->mit-news-classify) (0.2.0)\n",
            "Requirement already satisfied: tensorflow-io-gcs-filesystem>=0.23.1 in /usr/local/lib/python3.7/dist-packages (from tensorflow>=2.1->mit-news-classify) (0.24.0)\n",
            "Requirement already satisfied: keras<2.9,>=2.8.0rc0 in /usr/local/lib/python3.7/dist-packages (from tensorflow>=2.1->mit-news-classify) (2.8.0)\n",
            "Requirement already satisfied: termcolor>=1.1.0 in /usr/local/lib/python3.7/dist-packages (from tensorflow>=2.1->mit-news-classify) (1.1.0)\n",
            "Requirement already satisfied: absl-py>=0.4.0 in /usr/local/lib/python3.7/dist-packages (from tensorflow>=2.1->mit-news-classify) (1.0.0)\n",
            "Requirement already satisfied: tensorboard<2.9,>=2.8 in /usr/local/lib/python3.7/dist-packages (from tensorflow>=2.1->mit-news-classify) (2.8.0)\n",
            "Requirement already satisfied: setuptools in /usr/local/lib/python3.7/dist-packages (from tensorflow>=2.1->mit-news-classify) (57.4.0)\n",
            "Requirement already satisfied: libclang>=9.0.1 in /usr/local/lib/python3.7/dist-packages (from tensorflow>=2.1->mit-news-classify) (13.0.0)\n",
            "Requirement already satisfied: grpcio<2.0,>=1.24.3 in /usr/local/lib/python3.7/dist-packages (from tensorflow>=2.1->mit-news-classify) (1.44.0)\n",
            "Requirement already satisfied: astunparse>=1.6.0 in /usr/local/lib/python3.7/dist-packages (from tensorflow>=2.1->mit-news-classify) (1.6.3)\n",
            "Requirement already satisfied: protobuf>=3.9.2 in /usr/local/lib/python3.7/dist-packages (from tensorflow>=2.1->mit-news-classify) (3.17.3)\n",
            "Requirement already satisfied: typing-extensions>=3.6.6 in /usr/local/lib/python3.7/dist-packages (from tensorflow>=2.1->mit-news-classify) (4.1.1)\n",
            "Requirement already satisfied: wrapt>=1.11.0 in /usr/local/lib/python3.7/dist-packages (from tensorflow>=2.1->mit-news-classify) (1.14.0)\n",
            "Requirement already satisfied: wheel<1.0,>=0.23.0 in /usr/local/lib/python3.7/dist-packages (from astunparse>=1.6.0->tensorflow>=2.1->mit-news-classify) (0.37.1)\n",
            "Requirement already satisfied: cached-property in /usr/local/lib/python3.7/dist-packages (from h5py>=2.9.0->tensorflow>=2.1->mit-news-classify) (1.5.2)\n",
            "Requirement already satisfied: werkzeug>=0.11.15 in /usr/local/lib/python3.7/dist-packages (from tensorboard<2.9,>=2.8->tensorflow>=2.1->mit-news-classify) (1.0.1)\n",
            "Requirement already satisfied: google-auth<3,>=1.6.3 in /usr/local/lib/python3.7/dist-packages (from tensorboard<2.9,>=2.8->tensorflow>=2.1->mit-news-classify) (1.35.0)\n",
            "Requirement already satisfied: tensorboard-data-server<0.7.0,>=0.6.0 in /usr/local/lib/python3.7/dist-packages (from tensorboard<2.9,>=2.8->tensorflow>=2.1->mit-news-classify) (0.6.1)\n",
            "Requirement already satisfied: requests<3,>=2.21.0 in /usr/local/lib/python3.7/dist-packages (from tensorboard<2.9,>=2.8->tensorflow>=2.1->mit-news-classify) (2.23.0)\n",
            "Requirement already satisfied: markdown>=2.6.8 in /usr/local/lib/python3.7/dist-packages (from tensorboard<2.9,>=2.8->tensorflow>=2.1->mit-news-classify) (3.3.6)\n",
            "Requirement already satisfied: tensorboard-plugin-wit>=1.6.0 in /usr/local/lib/python3.7/dist-packages (from tensorboard<2.9,>=2.8->tensorflow>=2.1->mit-news-classify) (1.8.1)\n",
            "Requirement already satisfied: google-auth-oauthlib<0.5,>=0.4.1 in /usr/local/lib/python3.7/dist-packages (from tensorboard<2.9,>=2.8->tensorflow>=2.1->mit-news-classify) (0.4.6)\n",
            "Requirement already satisfied: pyasn1-modules>=0.2.1 in /usr/local/lib/python3.7/dist-packages (from google-auth<3,>=1.6.3->tensorboard<2.9,>=2.8->tensorflow>=2.1->mit-news-classify) (0.2.8)\n",
            "Requirement already satisfied: cachetools<5.0,>=2.0.0 in /usr/local/lib/python3.7/dist-packages (from google-auth<3,>=1.6.3->tensorboard<2.9,>=2.8->tensorflow>=2.1->mit-news-classify) (4.2.4)\n",
            "Requirement already satisfied: rsa<5,>=3.1.4 in /usr/local/lib/python3.7/dist-packages (from google-auth<3,>=1.6.3->tensorboard<2.9,>=2.8->tensorflow>=2.1->mit-news-classify) (4.8)\n",
            "Requirement already satisfied: requests-oauthlib>=0.7.0 in /usr/local/lib/python3.7/dist-packages (from google-auth-oauthlib<0.5,>=0.4.1->tensorboard<2.9,>=2.8->tensorflow>=2.1->mit-news-classify) (1.3.1)\n",
            "Requirement already satisfied: importlib-metadata>=4.4 in /usr/local/lib/python3.7/dist-packages (from markdown>=2.6.8->tensorboard<2.9,>=2.8->tensorflow>=2.1->mit-news-classify) (4.11.3)\n",
            "Requirement already satisfied: zipp>=0.5 in /usr/local/lib/python3.7/dist-packages (from importlib-metadata>=4.4->markdown>=2.6.8->tensorboard<2.9,>=2.8->tensorflow>=2.1->mit-news-classify) (3.8.0)\n",
            "Requirement already satisfied: pyasn1<0.5.0,>=0.4.6 in /usr/local/lib/python3.7/dist-packages (from pyasn1-modules>=0.2.1->google-auth<3,>=1.6.3->tensorboard<2.9,>=2.8->tensorflow>=2.1->mit-news-classify) (0.4.8)\n",
            "Requirement already satisfied: idna<3,>=2.5 in /usr/local/lib/python3.7/dist-packages (from requests<3,>=2.21.0->tensorboard<2.9,>=2.8->tensorflow>=2.1->mit-news-classify) (2.10)\n",
            "Requirement already satisfied: chardet<4,>=3.0.2 in /usr/local/lib/python3.7/dist-packages (from requests<3,>=2.21.0->tensorboard<2.9,>=2.8->tensorflow>=2.1->mit-news-classify) (3.0.4)\n",
            "Requirement already satisfied: certifi>=2017.4.17 in /usr/local/lib/python3.7/dist-packages (from requests<3,>=2.21.0->tensorboard<2.9,>=2.8->tensorflow>=2.1->mit-news-classify) (2021.10.8)\n",
            "Requirement already satisfied: urllib3!=1.25.0,!=1.25.1,<1.26,>=1.21.1 in /usr/local/lib/python3.7/dist-packages (from requests<3,>=2.21.0->tensorboard<2.9,>=2.8->tensorflow>=2.1->mit-news-classify) (1.24.3)\n",
            "Requirement already satisfied: oauthlib>=3.0.0 in /usr/local/lib/python3.7/dist-packages (from requests-oauthlib>=0.7.0->google-auth-oauthlib<0.5,>=0.4.1->tensorboard<2.9,>=2.8->tensorflow>=2.1->mit-news-classify) (3.2.0)\n",
            "Requirement already satisfied: scikit-learn in /usr/local/lib/python3.7/dist-packages (from sklearn->mit-news-classify) (1.0.2)\n",
            "Requirement already satisfied: threadpoolctl>=2.0.0 in /usr/local/lib/python3.7/dist-packages (from scikit-learn->sklearn->mit-news-classify) (3.1.0)\n",
            "Requirement already satisfied: joblib>=0.11 in /usr/local/lib/python3.7/dist-packages (from scikit-learn->sklearn->mit-news-classify) (1.1.0)\n",
            "Requirement already satisfied: huggingface-hub<1.0,>=0.1.0 in /usr/local/lib/python3.7/dist-packages (from transformers->mit-news-classify) (0.5.1)\n",
            "Requirement already satisfied: pyyaml>=5.1 in /usr/local/lib/python3.7/dist-packages (from transformers->mit-news-classify) (6.0)\n",
            "Requirement already satisfied: sacremoses in /usr/local/lib/python3.7/dist-packages (from transformers->mit-news-classify) (0.0.49)\n",
            "Requirement already satisfied: filelock in /usr/local/lib/python3.7/dist-packages (from transformers->mit-news-classify) (3.6.0)\n",
            "Requirement already satisfied: tokenizers!=0.11.3,<0.13,>=0.11.1 in /usr/local/lib/python3.7/dist-packages (from transformers->mit-news-classify) (0.12.1)\n",
            "Requirement already satisfied: regex!=2019.12.17 in /usr/local/lib/python3.7/dist-packages (from transformers->mit-news-classify) (2019.12.20)\n",
            "Requirement already satisfied: packaging>=20.0 in /usr/local/lib/python3.7/dist-packages (from transformers->mit-news-classify) (21.3)\n",
            "Requirement already satisfied: pyparsing!=3.0.5,>=2.0.2 in /usr/local/lib/python3.7/dist-packages (from packaging>=20.0->transformers->mit-news-classify) (3.0.8)\n",
            "Requirement already satisfied: click in /usr/local/lib/python3.7/dist-packages (from sacremoses->transformers->mit-news-classify) (7.1.2)\n"
          ]
        }
      ]
    },
    {
      "cell_type": "code",
      "source": [
        "import nltk\n",
        "nltk.download('stopwords')\n",
        "nltk.download('punkt')\n",
        "nltk.download('wordnet')"
      ],
      "metadata": {
        "colab": {
          "base_uri": "https://localhost:8080/"
        },
        "id": "O6xgXvxSrX69",
        "outputId": "c36b682e-8100-4a62-f326-aef539054a07"
      },
      "execution_count": 2,
      "outputs": [
        {
          "output_type": "stream",
          "name": "stdout",
          "text": [
            "[nltk_data] Downloading package stopwords to /root/nltk_data...\n",
            "[nltk_data]   Package stopwords is already up-to-date!\n",
            "[nltk_data] Downloading package punkt to /root/nltk_data...\n",
            "[nltk_data]   Package punkt is already up-to-date!\n",
            "[nltk_data] Downloading package wordnet to /root/nltk_data...\n",
            "[nltk_data]   Package wordnet is already up-to-date!\n"
          ]
        },
        {
          "output_type": "execute_result",
          "data": {
            "text/plain": [
              "True"
            ]
          },
          "metadata": {},
          "execution_count": 2
        }
      ]
    },
    {
      "cell_type": "code",
      "source": [
        "import pandas as pd\n",
        "import re\n",
        "import numpy as np\n",
        "import tensorflow as tf\n",
        "from tensorflow import keras\n",
        "from tensorflow.keras import layers\n",
        "from tensorflow.keras.models import Sequential\n",
        "from tensorflow.keras.layers import Dense, Dropout, Embedding\n",
        "from tensorflow.keras.optimizers import Adam\n",
        "import pickle\n",
        "from mitnewsclassify import tfidf as mitx\n",
        "from nltk.corpus import stopwords\n",
        "from tqdm import tqdm\n",
        "from nltk.util import ngrams\n",
        "from nltk.tokenize import word_tokenize\n",
        "from nltk.stem import WordNetLemmatizer,PorterStemmer\n",
        "from sklearn.feature_extraction.text import CountVectorizer\n",
        "from collections import defaultdict,Counter\n",
        "import matplotlib.pyplot as plt\n",
        "import seaborn as sns"
      ],
      "metadata": {
        "id": "BsMsKhNBBJCl"
      },
      "execution_count": 3,
      "outputs": []
    },
    {
      "cell_type": "code",
      "source": [
        "from google.colab import drive\n",
        "drive.mount('/content/drive')"
      ],
      "metadata": {
        "colab": {
          "base_uri": "https://localhost:8080/"
        },
        "id": "gC_JSPXdAyp1",
        "outputId": "943c66d5-bdad-4438-e35d-c4481eec67a9"
      },
      "execution_count": 4,
      "outputs": [
        {
          "output_type": "stream",
          "name": "stdout",
          "text": [
            "Drive already mounted at /content/drive; to attempt to forcibly remount, call drive.mount(\"/content/drive\", force_remount=True).\n"
          ]
        }
      ]
    },
    {
      "cell_type": "code",
      "execution_count": 5,
      "metadata": {
        "colab": {
          "base_uri": "https://localhost:8080/"
        },
        "id": "PYF67UFaAwFU",
        "outputId": "f590bdc6-586f-457a-b781-1ffe9bca6ac5"
      },
      "outputs": [
        {
          "output_type": "stream",
          "name": "stdout",
          "text": [
            "/content/drive/MyDrive/project_data\n"
          ]
        }
      ],
      "source": [
        "cd /content/drive/MyDrive/project_data"
      ]
    },
    {
      "cell_type": "markdown",
      "source": [
        "# MODEL\n"
      ],
      "metadata": {
        "id": "E_B96BAQgjgi"
      }
    },
    {
      "cell_type": "code",
      "source": [
        "infile = open('/content/drive/MyDrive/project_data/clean_data.pkl','rb')\n",
        "df = pickle.load(infile)"
      ],
      "metadata": {
        "id": "1YASdkn5qPSl"
      },
      "execution_count": 6,
      "outputs": []
    },
    {
      "cell_type": "code",
      "source": [
        "df"
      ],
      "metadata": {
        "id": "1zOV7gxpWttb",
        "colab": {
          "base_uri": "https://localhost:8080/",
          "height": 1000
        },
        "outputId": "b8206897-5ac7-4b22-b472-bf313191686f"
      },
      "execution_count": 7,
      "outputs": [
        {
          "output_type": "execute_result",
          "data": {
            "text/plain": [
              "                                                   text  \\\n",
              "0     Army Officer, 4 Others Killed In Encounter In ...   \n",
              "1     #AryanKhan Case: No Bail For Him Today, Next H...   \n",
              "2     RT @ndtvfeed: Ex-National Conference Leaders D...   \n",
              "3     RT @ndtvfeed: US Has Lost AI Battle To China, ...   \n",
              "4     RT @ndtvfeed: A Look At Inspiring Messages On ...   \n",
              "...                                                 ...   \n",
              "2145  Kerala HC quashes state govt order of reducing...   \n",
              "2146  Lakhimpur Kheri violence: Yogi Adityanath hold...   \n",
              "2147  IPL 2021: Know how KKR, PBKS, RR, &amp; MI can...   \n",
              "2148  Lakhimpur clash: Priyanka Gandhi protests deta...   \n",
              "2149  Lakhimpur Kheri violence | UP Govt denies perm...   \n",
              "\n",
              "                                                    url  \\\n",
              "0     https://www.ndtv.com/india-news/army-officer-4...   \n",
              "1     https://ndtv.com/india-news/mumbai-drug-bust-c...   \n",
              "2     https://www.ndtv.com/india-news/after-resignin...   \n",
              "3     https://www.ndtv.com/world-news/us-has-lost-ar...   \n",
              "4     https://www.ndtv.com/india-news/on-internation...   \n",
              "...                                                 ...   \n",
              "2145  https://www.republicworld.com/india-news/law-a...   \n",
              "2146  https://www.republicworld.com/india-news/gener...   \n",
              "2147  https://www.republicworld.com/sports-news/cric...   \n",
              "2148  https://www.republicworld.com/india-news/polit...   \n",
              "2149  https://www.republicworld.com/india-news/gener...   \n",
              "\n",
              "                                                  title  \\\n",
              "0     Army Officer, 4 Personnel Killed In Encounter ...   \n",
              "1     Aryan Khan Case: No Bail For Him Today, Next H...   \n",
              "2     Ex-National Conference Leaders Devender Rana, ...   \n",
              "3     US Has Lost AI Battle To China, Pentagon's Ex-...   \n",
              "4     International Day Of The Girl Child 2021: Lead...   \n",
              "...                                                 ...   \n",
              "2145  Kerala HC Quashes State Govt Order Of Reducing...   \n",
              "2146  Lakhimpur Kheri Violence: Yogi Adityanath Hold...   \n",
              "2147  IPL 2021: Know How KKR, PBKS, RR, & MI Can Qua...   \n",
              "2148  Lakhimpur Clash: Priyanka Gandhi Protests Deta...   \n",
              "2149  Lakhimpur Kheri Violence | UP Govt Denies Perm...   \n",
              "\n",
              "                                                content  bias  retweet_count  \\\n",
              "0     an army officer and four other personnel were ...     3            9.0   \n",
              "1     aryan khan did not get bail today for the thir...     3            5.0   \n",
              "2     a day after resigning from the national confer...     1            2.0   \n",
              "3     china has won the artificial intelligence batt...     0            5.0   \n",
              "4     various world leaders and un agencies posted w...     3            3.0   \n",
              "...                                                 ...   ...            ...   \n",
              "2145  the kerala high court quashed the state govern...     3            4.0   \n",
              "2146  chief minister yogi adityanath on monday held ...     1            7.0   \n",
              "2147  the ongoing edition of the indian premier leag...     3            4.0   \n",
              "2148  in a mark of silent protest, congress general ...     0            4.0   \n",
              "2149  punjab chief minister charanjit singh channi o...     3            7.0   \n",
              "\n",
              "      favorite_count source_name  source  \\\n",
              "0               63.0        ndtv       0   \n",
              "1               44.0        ndtv       0   \n",
              "2                0.0        ndtv       0   \n",
              "3                0.0        ndtv       0   \n",
              "4                0.0        ndtv       0   \n",
              "...              ...         ...     ...   \n",
              "2145            21.0  republictv       1   \n",
              "2146            72.0  republictv       1   \n",
              "2147            20.0  republictv       1   \n",
              "2148            24.0  republictv       1   \n",
              "2149            47.0  republictv       1   \n",
              "\n",
              "                                          clean_content  \\\n",
              "0     army officer personnel killed action encounter...   \n",
              "1     aryan khan bail time arrest week ago drugs cru...   \n",
              "2     resigning national conference devender rana he...   \n",
              "3     china artificial intelligence battle united st...   \n",
              "4     various world leaders agencies posted wishes m...   \n",
              "...                                                 ...   \n",
              "2145  kerala high court quashed government order mon...   \n",
              "2146  chief minister yogi adityanath monday held eme...   \n",
              "2147  ongoing edition indian premier league currentl...   \n",
              "2148  mark silent protest congress general secretary...   \n",
              "2149  punjab chief minister charanjit singh channi m...   \n",
              "\n",
              "                                        text_lemmatized  \\\n",
              "0     [army, officer, personnel, killed, action, enc...   \n",
              "1     [aryan, khan, bail, time, arrest, week, ago, d...   \n",
              "2     [resigning, national, conference, devender, ra...   \n",
              "3     [china, artificial, intelligence, battle, unit...   \n",
              "4     [various, world, leader, agency, posted, wish,...   \n",
              "...                                                 ...   \n",
              "2145  [kerala, high, court, quashed, government, ord...   \n",
              "2146  [chief, minister, yogi, adityanath, monday, he...   \n",
              "2147  [ongoing, edition, indian, premier, league, cu...   \n",
              "2148  [mark, silent, protest, congress, general, sec...   \n",
              "2149  [punjab, chief, minister, charanjit, singh, ch...   \n",
              "\n",
              "                                  clean_text_lemmatized  \\\n",
              "0     [army, officer, personnel, killed, action, enc...   \n",
              "1     [aryan, khan, bail, time, arrest, week, ago, d...   \n",
              "2     [resigning, national, conference, devender, ra...   \n",
              "3     [china, artificial, intelligence, battle, unit...   \n",
              "4     [various, world, leader, agency, posted, wish,...   \n",
              "...                                                 ...   \n",
              "2145  [kerala, high, court, quashed, government, ord...   \n",
              "2146  [chief, minister, yogi, adityanath, monday, he...   \n",
              "2147  [ongoing, edition, indian, premier, league, cu...   \n",
              "2148  [mark, silent, protest, congress, general, sec...   \n",
              "2149  [punjab, chief, minister, charanjit, singh, ch...   \n",
              "\n",
              "                           clean_content_with_Stopwords  \n",
              "0     an army officer and four other personnel were ...  \n",
              "1     aryan khan did not get bail today for the thir...  \n",
              "2     a day after resigning from the national confer...  \n",
              "3     china has won the artificial intelligence batt...  \n",
              "4     various world leaders and un agencies posted w...  \n",
              "...                                                 ...  \n",
              "2145  the kerala high court quashed the state govern...  \n",
              "2146  chief minister yogi adityanath on monday held ...  \n",
              "2147  the ongoing edition of the indian premier leag...  \n",
              "2148  in a mark of silent protest, congress general ...  \n",
              "2149  punjab chief minister charanjit singh channi o...  \n",
              "\n",
              "[2150 rows x 13 columns]"
            ],
            "text/html": [
              "\n",
              "  <div id=\"df-6f19bee0-5de9-4104-8eb3-105489e0e6d8\">\n",
              "    <div class=\"colab-df-container\">\n",
              "      <div>\n",
              "<style scoped>\n",
              "    .dataframe tbody tr th:only-of-type {\n",
              "        vertical-align: middle;\n",
              "    }\n",
              "\n",
              "    .dataframe tbody tr th {\n",
              "        vertical-align: top;\n",
              "    }\n",
              "\n",
              "    .dataframe thead th {\n",
              "        text-align: right;\n",
              "    }\n",
              "</style>\n",
              "<table border=\"1\" class=\"dataframe\">\n",
              "  <thead>\n",
              "    <tr style=\"text-align: right;\">\n",
              "      <th></th>\n",
              "      <th>text</th>\n",
              "      <th>url</th>\n",
              "      <th>title</th>\n",
              "      <th>content</th>\n",
              "      <th>bias</th>\n",
              "      <th>retweet_count</th>\n",
              "      <th>favorite_count</th>\n",
              "      <th>source_name</th>\n",
              "      <th>source</th>\n",
              "      <th>clean_content</th>\n",
              "      <th>text_lemmatized</th>\n",
              "      <th>clean_text_lemmatized</th>\n",
              "      <th>clean_content_with_Stopwords</th>\n",
              "    </tr>\n",
              "  </thead>\n",
              "  <tbody>\n",
              "    <tr>\n",
              "      <th>0</th>\n",
              "      <td>Army Officer, 4 Others Killed In Encounter In ...</td>\n",
              "      <td>https://www.ndtv.com/india-news/army-officer-4...</td>\n",
              "      <td>Army Officer, 4 Personnel Killed In Encounter ...</td>\n",
              "      <td>an army officer and four other personnel were ...</td>\n",
              "      <td>3</td>\n",
              "      <td>9.0</td>\n",
              "      <td>63.0</td>\n",
              "      <td>ndtv</td>\n",
              "      <td>0</td>\n",
              "      <td>army officer personnel killed action encounter...</td>\n",
              "      <td>[army, officer, personnel, killed, action, enc...</td>\n",
              "      <td>[army, officer, personnel, killed, action, enc...</td>\n",
              "      <td>an army officer and four other personnel were ...</td>\n",
              "    </tr>\n",
              "    <tr>\n",
              "      <th>1</th>\n",
              "      <td>#AryanKhan Case: No Bail For Him Today, Next H...</td>\n",
              "      <td>https://ndtv.com/india-news/mumbai-drug-bust-c...</td>\n",
              "      <td>Aryan Khan Case: No Bail For Him Today, Next H...</td>\n",
              "      <td>aryan khan did not get bail today for the thir...</td>\n",
              "      <td>3</td>\n",
              "      <td>5.0</td>\n",
              "      <td>44.0</td>\n",
              "      <td>ndtv</td>\n",
              "      <td>0</td>\n",
              "      <td>aryan khan bail time arrest week ago drugs cru...</td>\n",
              "      <td>[aryan, khan, bail, time, arrest, week, ago, d...</td>\n",
              "      <td>[aryan, khan, bail, time, arrest, week, ago, d...</td>\n",
              "      <td>aryan khan did not get bail today for the thir...</td>\n",
              "    </tr>\n",
              "    <tr>\n",
              "      <th>2</th>\n",
              "      <td>RT @ndtvfeed: Ex-National Conference Leaders D...</td>\n",
              "      <td>https://www.ndtv.com/india-news/after-resignin...</td>\n",
              "      <td>Ex-National Conference Leaders Devender Rana, ...</td>\n",
              "      <td>a day after resigning from the national confer...</td>\n",
              "      <td>1</td>\n",
              "      <td>2.0</td>\n",
              "      <td>0.0</td>\n",
              "      <td>ndtv</td>\n",
              "      <td>0</td>\n",
              "      <td>resigning national conference devender rana he...</td>\n",
              "      <td>[resigning, national, conference, devender, ra...</td>\n",
              "      <td>[resigning, national, conference, devender, ra...</td>\n",
              "      <td>a day after resigning from the national confer...</td>\n",
              "    </tr>\n",
              "    <tr>\n",
              "      <th>3</th>\n",
              "      <td>RT @ndtvfeed: US Has Lost AI Battle To China, ...</td>\n",
              "      <td>https://www.ndtv.com/world-news/us-has-lost-ar...</td>\n",
              "      <td>US Has Lost AI Battle To China, Pentagon's Ex-...</td>\n",
              "      <td>china has won the artificial intelligence batt...</td>\n",
              "      <td>0</td>\n",
              "      <td>5.0</td>\n",
              "      <td>0.0</td>\n",
              "      <td>ndtv</td>\n",
              "      <td>0</td>\n",
              "      <td>china artificial intelligence battle united st...</td>\n",
              "      <td>[china, artificial, intelligence, battle, unit...</td>\n",
              "      <td>[china, artificial, intelligence, battle, unit...</td>\n",
              "      <td>china has won the artificial intelligence batt...</td>\n",
              "    </tr>\n",
              "    <tr>\n",
              "      <th>4</th>\n",
              "      <td>RT @ndtvfeed: A Look At Inspiring Messages On ...</td>\n",
              "      <td>https://www.ndtv.com/india-news/on-internation...</td>\n",
              "      <td>International Day Of The Girl Child 2021: Lead...</td>\n",
              "      <td>various world leaders and un agencies posted w...</td>\n",
              "      <td>3</td>\n",
              "      <td>3.0</td>\n",
              "      <td>0.0</td>\n",
              "      <td>ndtv</td>\n",
              "      <td>0</td>\n",
              "      <td>various world leaders agencies posted wishes m...</td>\n",
              "      <td>[various, world, leader, agency, posted, wish,...</td>\n",
              "      <td>[various, world, leader, agency, posted, wish,...</td>\n",
              "      <td>various world leaders and un agencies posted w...</td>\n",
              "    </tr>\n",
              "    <tr>\n",
              "      <th>...</th>\n",
              "      <td>...</td>\n",
              "      <td>...</td>\n",
              "      <td>...</td>\n",
              "      <td>...</td>\n",
              "      <td>...</td>\n",
              "      <td>...</td>\n",
              "      <td>...</td>\n",
              "      <td>...</td>\n",
              "      <td>...</td>\n",
              "      <td>...</td>\n",
              "      <td>...</td>\n",
              "      <td>...</td>\n",
              "      <td>...</td>\n",
              "    </tr>\n",
              "    <tr>\n",
              "      <th>2145</th>\n",
              "      <td>Kerala HC quashes state govt order of reducing...</td>\n",
              "      <td>https://www.republicworld.com/india-news/law-a...</td>\n",
              "      <td>Kerala HC Quashes State Govt Order Of Reducing...</td>\n",
              "      <td>the kerala high court quashed the state govern...</td>\n",
              "      <td>3</td>\n",
              "      <td>4.0</td>\n",
              "      <td>21.0</td>\n",
              "      <td>republictv</td>\n",
              "      <td>1</td>\n",
              "      <td>kerala high court quashed government order mon...</td>\n",
              "      <td>[kerala, high, court, quashed, government, ord...</td>\n",
              "      <td>[kerala, high, court, quashed, government, ord...</td>\n",
              "      <td>the kerala high court quashed the state govern...</td>\n",
              "    </tr>\n",
              "    <tr>\n",
              "      <th>2146</th>\n",
              "      <td>Lakhimpur Kheri violence: Yogi Adityanath hold...</td>\n",
              "      <td>https://www.republicworld.com/india-news/gener...</td>\n",
              "      <td>Lakhimpur Kheri Violence: Yogi Adityanath Hold...</td>\n",
              "      <td>chief minister yogi adityanath on monday held ...</td>\n",
              "      <td>1</td>\n",
              "      <td>7.0</td>\n",
              "      <td>72.0</td>\n",
              "      <td>republictv</td>\n",
              "      <td>1</td>\n",
              "      <td>chief minister yogi adityanath monday held eme...</td>\n",
              "      <td>[chief, minister, yogi, adityanath, monday, he...</td>\n",
              "      <td>[chief, minister, yogi, adityanath, monday, he...</td>\n",
              "      <td>chief minister yogi adityanath on monday held ...</td>\n",
              "    </tr>\n",
              "    <tr>\n",
              "      <th>2147</th>\n",
              "      <td>IPL 2021: Know how KKR, PBKS, RR, &amp;amp; MI can...</td>\n",
              "      <td>https://www.republicworld.com/sports-news/cric...</td>\n",
              "      <td>IPL 2021: Know How KKR, PBKS, RR, &amp; MI Can Qua...</td>\n",
              "      <td>the ongoing edition of the indian premier leag...</td>\n",
              "      <td>3</td>\n",
              "      <td>4.0</td>\n",
              "      <td>20.0</td>\n",
              "      <td>republictv</td>\n",
              "      <td>1</td>\n",
              "      <td>ongoing edition indian premier league currentl...</td>\n",
              "      <td>[ongoing, edition, indian, premier, league, cu...</td>\n",
              "      <td>[ongoing, edition, indian, premier, league, cu...</td>\n",
              "      <td>the ongoing edition of the indian premier leag...</td>\n",
              "    </tr>\n",
              "    <tr>\n",
              "      <th>2148</th>\n",
              "      <td>Lakhimpur clash: Priyanka Gandhi protests deta...</td>\n",
              "      <td>https://www.republicworld.com/india-news/polit...</td>\n",
              "      <td>Lakhimpur Clash: Priyanka Gandhi Protests Deta...</td>\n",
              "      <td>in a mark of silent protest, congress general ...</td>\n",
              "      <td>0</td>\n",
              "      <td>4.0</td>\n",
              "      <td>24.0</td>\n",
              "      <td>republictv</td>\n",
              "      <td>1</td>\n",
              "      <td>mark silent protest congress general secretary...</td>\n",
              "      <td>[mark, silent, protest, congress, general, sec...</td>\n",
              "      <td>[mark, silent, protest, congress, general, sec...</td>\n",
              "      <td>in a mark of silent protest, congress general ...</td>\n",
              "    </tr>\n",
              "    <tr>\n",
              "      <th>2149</th>\n",
              "      <td>Lakhimpur Kheri violence | UP Govt denies perm...</td>\n",
              "      <td>https://www.republicworld.com/india-news/gener...</td>\n",
              "      <td>Lakhimpur Kheri Violence | UP Govt Denies Perm...</td>\n",
              "      <td>punjab chief minister charanjit singh channi o...</td>\n",
              "      <td>3</td>\n",
              "      <td>7.0</td>\n",
              "      <td>47.0</td>\n",
              "      <td>republictv</td>\n",
              "      <td>1</td>\n",
              "      <td>punjab chief minister charanjit singh channi m...</td>\n",
              "      <td>[punjab, chief, minister, charanjit, singh, ch...</td>\n",
              "      <td>[punjab, chief, minister, charanjit, singh, ch...</td>\n",
              "      <td>punjab chief minister charanjit singh channi o...</td>\n",
              "    </tr>\n",
              "  </tbody>\n",
              "</table>\n",
              "<p>2150 rows × 13 columns</p>\n",
              "</div>\n",
              "      <button class=\"colab-df-convert\" onclick=\"convertToInteractive('df-6f19bee0-5de9-4104-8eb3-105489e0e6d8')\"\n",
              "              title=\"Convert this dataframe to an interactive table.\"\n",
              "              style=\"display:none;\">\n",
              "        \n",
              "  <svg xmlns=\"http://www.w3.org/2000/svg\" height=\"24px\"viewBox=\"0 0 24 24\"\n",
              "       width=\"24px\">\n",
              "    <path d=\"M0 0h24v24H0V0z\" fill=\"none\"/>\n",
              "    <path d=\"M18.56 5.44l.94 2.06.94-2.06 2.06-.94-2.06-.94-.94-2.06-.94 2.06-2.06.94zm-11 1L8.5 8.5l.94-2.06 2.06-.94-2.06-.94L8.5 2.5l-.94 2.06-2.06.94zm10 10l.94 2.06.94-2.06 2.06-.94-2.06-.94-.94-2.06-.94 2.06-2.06.94z\"/><path d=\"M17.41 7.96l-1.37-1.37c-.4-.4-.92-.59-1.43-.59-.52 0-1.04.2-1.43.59L10.3 9.45l-7.72 7.72c-.78.78-.78 2.05 0 2.83L4 21.41c.39.39.9.59 1.41.59.51 0 1.02-.2 1.41-.59l7.78-7.78 2.81-2.81c.8-.78.8-2.07 0-2.86zM5.41 20L4 18.59l7.72-7.72 1.47 1.35L5.41 20z\"/>\n",
              "  </svg>\n",
              "      </button>\n",
              "      \n",
              "  <style>\n",
              "    .colab-df-container {\n",
              "      display:flex;\n",
              "      flex-wrap:wrap;\n",
              "      gap: 12px;\n",
              "    }\n",
              "\n",
              "    .colab-df-convert {\n",
              "      background-color: #E8F0FE;\n",
              "      border: none;\n",
              "      border-radius: 50%;\n",
              "      cursor: pointer;\n",
              "      display: none;\n",
              "      fill: #1967D2;\n",
              "      height: 32px;\n",
              "      padding: 0 0 0 0;\n",
              "      width: 32px;\n",
              "    }\n",
              "\n",
              "    .colab-df-convert:hover {\n",
              "      background-color: #E2EBFA;\n",
              "      box-shadow: 0px 1px 2px rgba(60, 64, 67, 0.3), 0px 1px 3px 1px rgba(60, 64, 67, 0.15);\n",
              "      fill: #174EA6;\n",
              "    }\n",
              "\n",
              "    [theme=dark] .colab-df-convert {\n",
              "      background-color: #3B4455;\n",
              "      fill: #D2E3FC;\n",
              "    }\n",
              "\n",
              "    [theme=dark] .colab-df-convert:hover {\n",
              "      background-color: #434B5C;\n",
              "      box-shadow: 0px 1px 3px 1px rgba(0, 0, 0, 0.15);\n",
              "      filter: drop-shadow(0px 1px 2px rgba(0, 0, 0, 0.3));\n",
              "      fill: #FFFFFF;\n",
              "    }\n",
              "  </style>\n",
              "\n",
              "      <script>\n",
              "        const buttonEl =\n",
              "          document.querySelector('#df-6f19bee0-5de9-4104-8eb3-105489e0e6d8 button.colab-df-convert');\n",
              "        buttonEl.style.display =\n",
              "          google.colab.kernel.accessAllowed ? 'block' : 'none';\n",
              "\n",
              "        async function convertToInteractive(key) {\n",
              "          const element = document.querySelector('#df-6f19bee0-5de9-4104-8eb3-105489e0e6d8');\n",
              "          const dataTable =\n",
              "            await google.colab.kernel.invokeFunction('convertToInteractive',\n",
              "                                                     [key], {});\n",
              "          if (!dataTable) return;\n",
              "\n",
              "          const docLinkHtml = 'Like what you see? Visit the ' +\n",
              "            '<a target=\"_blank\" href=https://colab.research.google.com/notebooks/data_table.ipynb>data table notebook</a>'\n",
              "            + ' to learn more about interactive tables.';\n",
              "          element.innerHTML = '';\n",
              "          dataTable['output_type'] = 'display_data';\n",
              "          await google.colab.output.renderOutput(dataTable, element);\n",
              "          const docLink = document.createElement('div');\n",
              "          docLink.innerHTML = docLinkHtml;\n",
              "          element.appendChild(docLink);\n",
              "        }\n",
              "      </script>\n",
              "    </div>\n",
              "  </div>\n",
              "  "
            ]
          },
          "metadata": {},
          "execution_count": 7
        }
      ]
    },
    {
      "cell_type": "code",
      "source": [
        "df['clean_content']=\"\"\n",
        "for i in tqdm(range(len(df['clean_text_lemmatized']))):\n",
        "    x=df['clean_text_lemmatized'][i]\n",
        "    review=\" \".join(x)\n",
        "    df['clean_content'][i] = review"
      ],
      "metadata": {
        "colab": {
          "base_uri": "https://localhost:8080/"
        },
        "id": "swI2tvndNbiA",
        "outputId": "434b430e-ca76-4657-e48d-18b302022d9c"
      },
      "execution_count": 8,
      "outputs": [
        {
          "output_type": "stream",
          "name": "stderr",
          "text": [
            "  0%|          | 0/2150 [00:00<?, ?it/s]/usr/local/lib/python3.7/dist-packages/ipykernel_launcher.py:5: SettingWithCopyWarning: \n",
            "A value is trying to be set on a copy of a slice from a DataFrame\n",
            "\n",
            "See the caveats in the documentation: https://pandas.pydata.org/pandas-docs/stable/user_guide/indexing.html#returning-a-view-versus-a-copy\n",
            "  \"\"\"\n",
            "100%|██████████| 2150/2150 [00:01<00:00, 1723.74it/s]\n"
          ]
        }
      ]
    },
    {
      "cell_type": "code",
      "source": [
        "df"
      ],
      "metadata": {
        "colab": {
          "base_uri": "https://localhost:8080/",
          "height": 1000
        },
        "id": "EsRro7OANl13",
        "outputId": "0df1eb96-6966-4bb8-df48-e0384af9ea15"
      },
      "execution_count": 9,
      "outputs": [
        {
          "output_type": "execute_result",
          "data": {
            "text/plain": [
              "                                                   text  \\\n",
              "0     Army Officer, 4 Others Killed In Encounter In ...   \n",
              "1     #AryanKhan Case: No Bail For Him Today, Next H...   \n",
              "2     RT @ndtvfeed: Ex-National Conference Leaders D...   \n",
              "3     RT @ndtvfeed: US Has Lost AI Battle To China, ...   \n",
              "4     RT @ndtvfeed: A Look At Inspiring Messages On ...   \n",
              "...                                                 ...   \n",
              "2145  Kerala HC quashes state govt order of reducing...   \n",
              "2146  Lakhimpur Kheri violence: Yogi Adityanath hold...   \n",
              "2147  IPL 2021: Know how KKR, PBKS, RR, &amp; MI can...   \n",
              "2148  Lakhimpur clash: Priyanka Gandhi protests deta...   \n",
              "2149  Lakhimpur Kheri violence | UP Govt denies perm...   \n",
              "\n",
              "                                                    url  \\\n",
              "0     https://www.ndtv.com/india-news/army-officer-4...   \n",
              "1     https://ndtv.com/india-news/mumbai-drug-bust-c...   \n",
              "2     https://www.ndtv.com/india-news/after-resignin...   \n",
              "3     https://www.ndtv.com/world-news/us-has-lost-ar...   \n",
              "4     https://www.ndtv.com/india-news/on-internation...   \n",
              "...                                                 ...   \n",
              "2145  https://www.republicworld.com/india-news/law-a...   \n",
              "2146  https://www.republicworld.com/india-news/gener...   \n",
              "2147  https://www.republicworld.com/sports-news/cric...   \n",
              "2148  https://www.republicworld.com/india-news/polit...   \n",
              "2149  https://www.republicworld.com/india-news/gener...   \n",
              "\n",
              "                                                  title  \\\n",
              "0     Army Officer, 4 Personnel Killed In Encounter ...   \n",
              "1     Aryan Khan Case: No Bail For Him Today, Next H...   \n",
              "2     Ex-National Conference Leaders Devender Rana, ...   \n",
              "3     US Has Lost AI Battle To China, Pentagon's Ex-...   \n",
              "4     International Day Of The Girl Child 2021: Lead...   \n",
              "...                                                 ...   \n",
              "2145  Kerala HC Quashes State Govt Order Of Reducing...   \n",
              "2146  Lakhimpur Kheri Violence: Yogi Adityanath Hold...   \n",
              "2147  IPL 2021: Know How KKR, PBKS, RR, & MI Can Qua...   \n",
              "2148  Lakhimpur Clash: Priyanka Gandhi Protests Deta...   \n",
              "2149  Lakhimpur Kheri Violence | UP Govt Denies Perm...   \n",
              "\n",
              "                                                content  bias  retweet_count  \\\n",
              "0     an army officer and four other personnel were ...     3            9.0   \n",
              "1     aryan khan did not get bail today for the thir...     3            5.0   \n",
              "2     a day after resigning from the national confer...     1            2.0   \n",
              "3     china has won the artificial intelligence batt...     0            5.0   \n",
              "4     various world leaders and un agencies posted w...     3            3.0   \n",
              "...                                                 ...   ...            ...   \n",
              "2145  the kerala high court quashed the state govern...     3            4.0   \n",
              "2146  chief minister yogi adityanath on monday held ...     1            7.0   \n",
              "2147  the ongoing edition of the indian premier leag...     3            4.0   \n",
              "2148  in a mark of silent protest, congress general ...     0            4.0   \n",
              "2149  punjab chief minister charanjit singh channi o...     3            7.0   \n",
              "\n",
              "      favorite_count source_name  source  \\\n",
              "0               63.0        ndtv       0   \n",
              "1               44.0        ndtv       0   \n",
              "2                0.0        ndtv       0   \n",
              "3                0.0        ndtv       0   \n",
              "4                0.0        ndtv       0   \n",
              "...              ...         ...     ...   \n",
              "2145            21.0  republictv       1   \n",
              "2146            72.0  republictv       1   \n",
              "2147            20.0  republictv       1   \n",
              "2148            24.0  republictv       1   \n",
              "2149            47.0  republictv       1   \n",
              "\n",
              "                                          clean_content  \\\n",
              "0     army officer personnel killed action encounter...   \n",
              "1     aryan khan bail time arrest week ago drug crui...   \n",
              "2     resigning national conference devender rana he...   \n",
              "3     china artificial intelligence battle united he...   \n",
              "4     various world leader agency posted wish messag...   \n",
              "...                                                 ...   \n",
              "2145  kerala high court quashed government order mon...   \n",
              "2146  chief minister yogi adityanath monday held eme...   \n",
              "2147  ongoing edition indian premier league currentl...   \n",
              "2148  mark silent protest congress general secretary...   \n",
              "2149  punjab chief minister charanjit singh channi m...   \n",
              "\n",
              "                                        text_lemmatized  \\\n",
              "0     [army, officer, personnel, killed, action, enc...   \n",
              "1     [aryan, khan, bail, time, arrest, week, ago, d...   \n",
              "2     [resigning, national, conference, devender, ra...   \n",
              "3     [china, artificial, intelligence, battle, unit...   \n",
              "4     [various, world, leader, agency, posted, wish,...   \n",
              "...                                                 ...   \n",
              "2145  [kerala, high, court, quashed, government, ord...   \n",
              "2146  [chief, minister, yogi, adityanath, monday, he...   \n",
              "2147  [ongoing, edition, indian, premier, league, cu...   \n",
              "2148  [mark, silent, protest, congress, general, sec...   \n",
              "2149  [punjab, chief, minister, charanjit, singh, ch...   \n",
              "\n",
              "                                  clean_text_lemmatized  \\\n",
              "0     [army, officer, personnel, killed, action, enc...   \n",
              "1     [aryan, khan, bail, time, arrest, week, ago, d...   \n",
              "2     [resigning, national, conference, devender, ra...   \n",
              "3     [china, artificial, intelligence, battle, unit...   \n",
              "4     [various, world, leader, agency, posted, wish,...   \n",
              "...                                                 ...   \n",
              "2145  [kerala, high, court, quashed, government, ord...   \n",
              "2146  [chief, minister, yogi, adityanath, monday, he...   \n",
              "2147  [ongoing, edition, indian, premier, league, cu...   \n",
              "2148  [mark, silent, protest, congress, general, sec...   \n",
              "2149  [punjab, chief, minister, charanjit, singh, ch...   \n",
              "\n",
              "                           clean_content_with_Stopwords  \n",
              "0     an army officer and four other personnel were ...  \n",
              "1     aryan khan did not get bail today for the thir...  \n",
              "2     a day after resigning from the national confer...  \n",
              "3     china has won the artificial intelligence batt...  \n",
              "4     various world leaders and un agencies posted w...  \n",
              "...                                                 ...  \n",
              "2145  the kerala high court quashed the state govern...  \n",
              "2146  chief minister yogi adityanath on monday held ...  \n",
              "2147  the ongoing edition of the indian premier leag...  \n",
              "2148  in a mark of silent protest, congress general ...  \n",
              "2149  punjab chief minister charanjit singh channi o...  \n",
              "\n",
              "[2150 rows x 13 columns]"
            ],
            "text/html": [
              "\n",
              "  <div id=\"df-7cee9a90-fcb0-4634-a243-23c5ea55a293\">\n",
              "    <div class=\"colab-df-container\">\n",
              "      <div>\n",
              "<style scoped>\n",
              "    .dataframe tbody tr th:only-of-type {\n",
              "        vertical-align: middle;\n",
              "    }\n",
              "\n",
              "    .dataframe tbody tr th {\n",
              "        vertical-align: top;\n",
              "    }\n",
              "\n",
              "    .dataframe thead th {\n",
              "        text-align: right;\n",
              "    }\n",
              "</style>\n",
              "<table border=\"1\" class=\"dataframe\">\n",
              "  <thead>\n",
              "    <tr style=\"text-align: right;\">\n",
              "      <th></th>\n",
              "      <th>text</th>\n",
              "      <th>url</th>\n",
              "      <th>title</th>\n",
              "      <th>content</th>\n",
              "      <th>bias</th>\n",
              "      <th>retweet_count</th>\n",
              "      <th>favorite_count</th>\n",
              "      <th>source_name</th>\n",
              "      <th>source</th>\n",
              "      <th>clean_content</th>\n",
              "      <th>text_lemmatized</th>\n",
              "      <th>clean_text_lemmatized</th>\n",
              "      <th>clean_content_with_Stopwords</th>\n",
              "    </tr>\n",
              "  </thead>\n",
              "  <tbody>\n",
              "    <tr>\n",
              "      <th>0</th>\n",
              "      <td>Army Officer, 4 Others Killed In Encounter In ...</td>\n",
              "      <td>https://www.ndtv.com/india-news/army-officer-4...</td>\n",
              "      <td>Army Officer, 4 Personnel Killed In Encounter ...</td>\n",
              "      <td>an army officer and four other personnel were ...</td>\n",
              "      <td>3</td>\n",
              "      <td>9.0</td>\n",
              "      <td>63.0</td>\n",
              "      <td>ndtv</td>\n",
              "      <td>0</td>\n",
              "      <td>army officer personnel killed action encounter...</td>\n",
              "      <td>[army, officer, personnel, killed, action, enc...</td>\n",
              "      <td>[army, officer, personnel, killed, action, enc...</td>\n",
              "      <td>an army officer and four other personnel were ...</td>\n",
              "    </tr>\n",
              "    <tr>\n",
              "      <th>1</th>\n",
              "      <td>#AryanKhan Case: No Bail For Him Today, Next H...</td>\n",
              "      <td>https://ndtv.com/india-news/mumbai-drug-bust-c...</td>\n",
              "      <td>Aryan Khan Case: No Bail For Him Today, Next H...</td>\n",
              "      <td>aryan khan did not get bail today for the thir...</td>\n",
              "      <td>3</td>\n",
              "      <td>5.0</td>\n",
              "      <td>44.0</td>\n",
              "      <td>ndtv</td>\n",
              "      <td>0</td>\n",
              "      <td>aryan khan bail time arrest week ago drug crui...</td>\n",
              "      <td>[aryan, khan, bail, time, arrest, week, ago, d...</td>\n",
              "      <td>[aryan, khan, bail, time, arrest, week, ago, d...</td>\n",
              "      <td>aryan khan did not get bail today for the thir...</td>\n",
              "    </tr>\n",
              "    <tr>\n",
              "      <th>2</th>\n",
              "      <td>RT @ndtvfeed: Ex-National Conference Leaders D...</td>\n",
              "      <td>https://www.ndtv.com/india-news/after-resignin...</td>\n",
              "      <td>Ex-National Conference Leaders Devender Rana, ...</td>\n",
              "      <td>a day after resigning from the national confer...</td>\n",
              "      <td>1</td>\n",
              "      <td>2.0</td>\n",
              "      <td>0.0</td>\n",
              "      <td>ndtv</td>\n",
              "      <td>0</td>\n",
              "      <td>resigning national conference devender rana he...</td>\n",
              "      <td>[resigning, national, conference, devender, ra...</td>\n",
              "      <td>[resigning, national, conference, devender, ra...</td>\n",
              "      <td>a day after resigning from the national confer...</td>\n",
              "    </tr>\n",
              "    <tr>\n",
              "      <th>3</th>\n",
              "      <td>RT @ndtvfeed: US Has Lost AI Battle To China, ...</td>\n",
              "      <td>https://www.ndtv.com/world-news/us-has-lost-ar...</td>\n",
              "      <td>US Has Lost AI Battle To China, Pentagon's Ex-...</td>\n",
              "      <td>china has won the artificial intelligence batt...</td>\n",
              "      <td>0</td>\n",
              "      <td>5.0</td>\n",
              "      <td>0.0</td>\n",
              "      <td>ndtv</td>\n",
              "      <td>0</td>\n",
              "      <td>china artificial intelligence battle united he...</td>\n",
              "      <td>[china, artificial, intelligence, battle, unit...</td>\n",
              "      <td>[china, artificial, intelligence, battle, unit...</td>\n",
              "      <td>china has won the artificial intelligence batt...</td>\n",
              "    </tr>\n",
              "    <tr>\n",
              "      <th>4</th>\n",
              "      <td>RT @ndtvfeed: A Look At Inspiring Messages On ...</td>\n",
              "      <td>https://www.ndtv.com/india-news/on-internation...</td>\n",
              "      <td>International Day Of The Girl Child 2021: Lead...</td>\n",
              "      <td>various world leaders and un agencies posted w...</td>\n",
              "      <td>3</td>\n",
              "      <td>3.0</td>\n",
              "      <td>0.0</td>\n",
              "      <td>ndtv</td>\n",
              "      <td>0</td>\n",
              "      <td>various world leader agency posted wish messag...</td>\n",
              "      <td>[various, world, leader, agency, posted, wish,...</td>\n",
              "      <td>[various, world, leader, agency, posted, wish,...</td>\n",
              "      <td>various world leaders and un agencies posted w...</td>\n",
              "    </tr>\n",
              "    <tr>\n",
              "      <th>...</th>\n",
              "      <td>...</td>\n",
              "      <td>...</td>\n",
              "      <td>...</td>\n",
              "      <td>...</td>\n",
              "      <td>...</td>\n",
              "      <td>...</td>\n",
              "      <td>...</td>\n",
              "      <td>...</td>\n",
              "      <td>...</td>\n",
              "      <td>...</td>\n",
              "      <td>...</td>\n",
              "      <td>...</td>\n",
              "      <td>...</td>\n",
              "    </tr>\n",
              "    <tr>\n",
              "      <th>2145</th>\n",
              "      <td>Kerala HC quashes state govt order of reducing...</td>\n",
              "      <td>https://www.republicworld.com/india-news/law-a...</td>\n",
              "      <td>Kerala HC Quashes State Govt Order Of Reducing...</td>\n",
              "      <td>the kerala high court quashed the state govern...</td>\n",
              "      <td>3</td>\n",
              "      <td>4.0</td>\n",
              "      <td>21.0</td>\n",
              "      <td>republictv</td>\n",
              "      <td>1</td>\n",
              "      <td>kerala high court quashed government order mon...</td>\n",
              "      <td>[kerala, high, court, quashed, government, ord...</td>\n",
              "      <td>[kerala, high, court, quashed, government, ord...</td>\n",
              "      <td>the kerala high court quashed the state govern...</td>\n",
              "    </tr>\n",
              "    <tr>\n",
              "      <th>2146</th>\n",
              "      <td>Lakhimpur Kheri violence: Yogi Adityanath hold...</td>\n",
              "      <td>https://www.republicworld.com/india-news/gener...</td>\n",
              "      <td>Lakhimpur Kheri Violence: Yogi Adityanath Hold...</td>\n",
              "      <td>chief minister yogi adityanath on monday held ...</td>\n",
              "      <td>1</td>\n",
              "      <td>7.0</td>\n",
              "      <td>72.0</td>\n",
              "      <td>republictv</td>\n",
              "      <td>1</td>\n",
              "      <td>chief minister yogi adityanath monday held eme...</td>\n",
              "      <td>[chief, minister, yogi, adityanath, monday, he...</td>\n",
              "      <td>[chief, minister, yogi, adityanath, monday, he...</td>\n",
              "      <td>chief minister yogi adityanath on monday held ...</td>\n",
              "    </tr>\n",
              "    <tr>\n",
              "      <th>2147</th>\n",
              "      <td>IPL 2021: Know how KKR, PBKS, RR, &amp;amp; MI can...</td>\n",
              "      <td>https://www.republicworld.com/sports-news/cric...</td>\n",
              "      <td>IPL 2021: Know How KKR, PBKS, RR, &amp; MI Can Qua...</td>\n",
              "      <td>the ongoing edition of the indian premier leag...</td>\n",
              "      <td>3</td>\n",
              "      <td>4.0</td>\n",
              "      <td>20.0</td>\n",
              "      <td>republictv</td>\n",
              "      <td>1</td>\n",
              "      <td>ongoing edition indian premier league currentl...</td>\n",
              "      <td>[ongoing, edition, indian, premier, league, cu...</td>\n",
              "      <td>[ongoing, edition, indian, premier, league, cu...</td>\n",
              "      <td>the ongoing edition of the indian premier leag...</td>\n",
              "    </tr>\n",
              "    <tr>\n",
              "      <th>2148</th>\n",
              "      <td>Lakhimpur clash: Priyanka Gandhi protests deta...</td>\n",
              "      <td>https://www.republicworld.com/india-news/polit...</td>\n",
              "      <td>Lakhimpur Clash: Priyanka Gandhi Protests Deta...</td>\n",
              "      <td>in a mark of silent protest, congress general ...</td>\n",
              "      <td>0</td>\n",
              "      <td>4.0</td>\n",
              "      <td>24.0</td>\n",
              "      <td>republictv</td>\n",
              "      <td>1</td>\n",
              "      <td>mark silent protest congress general secretary...</td>\n",
              "      <td>[mark, silent, protest, congress, general, sec...</td>\n",
              "      <td>[mark, silent, protest, congress, general, sec...</td>\n",
              "      <td>in a mark of silent protest, congress general ...</td>\n",
              "    </tr>\n",
              "    <tr>\n",
              "      <th>2149</th>\n",
              "      <td>Lakhimpur Kheri violence | UP Govt denies perm...</td>\n",
              "      <td>https://www.republicworld.com/india-news/gener...</td>\n",
              "      <td>Lakhimpur Kheri Violence | UP Govt Denies Perm...</td>\n",
              "      <td>punjab chief minister charanjit singh channi o...</td>\n",
              "      <td>3</td>\n",
              "      <td>7.0</td>\n",
              "      <td>47.0</td>\n",
              "      <td>republictv</td>\n",
              "      <td>1</td>\n",
              "      <td>punjab chief minister charanjit singh channi m...</td>\n",
              "      <td>[punjab, chief, minister, charanjit, singh, ch...</td>\n",
              "      <td>[punjab, chief, minister, charanjit, singh, ch...</td>\n",
              "      <td>punjab chief minister charanjit singh channi o...</td>\n",
              "    </tr>\n",
              "  </tbody>\n",
              "</table>\n",
              "<p>2150 rows × 13 columns</p>\n",
              "</div>\n",
              "      <button class=\"colab-df-convert\" onclick=\"convertToInteractive('df-7cee9a90-fcb0-4634-a243-23c5ea55a293')\"\n",
              "              title=\"Convert this dataframe to an interactive table.\"\n",
              "              style=\"display:none;\">\n",
              "        \n",
              "  <svg xmlns=\"http://www.w3.org/2000/svg\" height=\"24px\"viewBox=\"0 0 24 24\"\n",
              "       width=\"24px\">\n",
              "    <path d=\"M0 0h24v24H0V0z\" fill=\"none\"/>\n",
              "    <path d=\"M18.56 5.44l.94 2.06.94-2.06 2.06-.94-2.06-.94-.94-2.06-.94 2.06-2.06.94zm-11 1L8.5 8.5l.94-2.06 2.06-.94-2.06-.94L8.5 2.5l-.94 2.06-2.06.94zm10 10l.94 2.06.94-2.06 2.06-.94-2.06-.94-.94-2.06-.94 2.06-2.06.94z\"/><path d=\"M17.41 7.96l-1.37-1.37c-.4-.4-.92-.59-1.43-.59-.52 0-1.04.2-1.43.59L10.3 9.45l-7.72 7.72c-.78.78-.78 2.05 0 2.83L4 21.41c.39.39.9.59 1.41.59.51 0 1.02-.2 1.41-.59l7.78-7.78 2.81-2.81c.8-.78.8-2.07 0-2.86zM5.41 20L4 18.59l7.72-7.72 1.47 1.35L5.41 20z\"/>\n",
              "  </svg>\n",
              "      </button>\n",
              "      \n",
              "  <style>\n",
              "    .colab-df-container {\n",
              "      display:flex;\n",
              "      flex-wrap:wrap;\n",
              "      gap: 12px;\n",
              "    }\n",
              "\n",
              "    .colab-df-convert {\n",
              "      background-color: #E8F0FE;\n",
              "      border: none;\n",
              "      border-radius: 50%;\n",
              "      cursor: pointer;\n",
              "      display: none;\n",
              "      fill: #1967D2;\n",
              "      height: 32px;\n",
              "      padding: 0 0 0 0;\n",
              "      width: 32px;\n",
              "    }\n",
              "\n",
              "    .colab-df-convert:hover {\n",
              "      background-color: #E2EBFA;\n",
              "      box-shadow: 0px 1px 2px rgba(60, 64, 67, 0.3), 0px 1px 3px 1px rgba(60, 64, 67, 0.15);\n",
              "      fill: #174EA6;\n",
              "    }\n",
              "\n",
              "    [theme=dark] .colab-df-convert {\n",
              "      background-color: #3B4455;\n",
              "      fill: #D2E3FC;\n",
              "    }\n",
              "\n",
              "    [theme=dark] .colab-df-convert:hover {\n",
              "      background-color: #434B5C;\n",
              "      box-shadow: 0px 1px 3px 1px rgba(0, 0, 0, 0.15);\n",
              "      filter: drop-shadow(0px 1px 2px rgba(0, 0, 0, 0.3));\n",
              "      fill: #FFFFFF;\n",
              "    }\n",
              "  </style>\n",
              "\n",
              "      <script>\n",
              "        const buttonEl =\n",
              "          document.querySelector('#df-7cee9a90-fcb0-4634-a243-23c5ea55a293 button.colab-df-convert');\n",
              "        buttonEl.style.display =\n",
              "          google.colab.kernel.accessAllowed ? 'block' : 'none';\n",
              "\n",
              "        async function convertToInteractive(key) {\n",
              "          const element = document.querySelector('#df-7cee9a90-fcb0-4634-a243-23c5ea55a293');\n",
              "          const dataTable =\n",
              "            await google.colab.kernel.invokeFunction('convertToInteractive',\n",
              "                                                     [key], {});\n",
              "          if (!dataTable) return;\n",
              "\n",
              "          const docLinkHtml = 'Like what you see? Visit the ' +\n",
              "            '<a target=\"_blank\" href=https://colab.research.google.com/notebooks/data_table.ipynb>data table notebook</a>'\n",
              "            + ' to learn more about interactive tables.';\n",
              "          element.innerHTML = '';\n",
              "          dataTable['output_type'] = 'display_data';\n",
              "          await google.colab.output.renderOutput(dataTable, element);\n",
              "          const docLink = document.createElement('div');\n",
              "          docLink.innerHTML = docLinkHtml;\n",
              "          element.appendChild(docLink);\n",
              "        }\n",
              "      </script>\n",
              "    </div>\n",
              "  </div>\n",
              "  "
            ]
          },
          "metadata": {},
          "execution_count": 9
        }
      ]
    },
    {
      "cell_type": "code",
      "source": [
        "# from keras.preprocessing.sequence import pad_sequences\n",
        "# max_features = 30000\n",
        "# maxlen = 25\n",
        "# X = df['clean_text_lemmatized']\n",
        "# X = pad_sequences(X, maxlen = maxlen)\n",
        "# y=df['bias']"
      ],
      "metadata": {
        "id": "nIhLwiQwrnFJ"
      },
      "execution_count": 10,
      "outputs": []
    },
    {
      "cell_type": "code",
      "source": [
        "for x in df['clean_text_lemmatized'][2]:\n",
        "   if(x=='day'):\n",
        "      print(x)"
      ],
      "metadata": {
        "id": "KIOgL6bacY1d"
      },
      "execution_count": 11,
      "outputs": []
    },
    {
      "cell_type": "code",
      "source": [
        "for i in range(len(df)):\n",
        "  for x in df['clean_text_lemmatized'][i]:\n",
        "    if x=='wa':\n",
        "      print(i)\n",
        "      \n"
      ],
      "metadata": {
        "id": "C1-h_eeN9C10"
      },
      "execution_count": 12,
      "outputs": []
    },
    {
      "cell_type": "code",
      "source": [
        "df['content'][0]"
      ],
      "metadata": {
        "colab": {
          "base_uri": "https://localhost:8080/",
          "height": 122
        },
        "id": "xgQm_7aORUMh",
        "outputId": "db909ee0-4cb0-4549-e60f-5e690f099047"
      },
      "execution_count": 13,
      "outputs": [
        {
          "output_type": "execute_result",
          "data": {
            "text/plain": [
              "\"an army officer and four other personnel were killed in action during an encounter between security forces and terrorists in jammu and kashmir's poonch district on monday, officials said. an anti-insurgency operation was launched in a village close to dera ki gali in surankote in the early hours following intelligence inputs about the presence of heavily-armed terrorists there, they said. the hiding terrorists fired on the search parties resulting in fierce gunfight and critical injuries to a junior commissioned officer or jco and four other soldiers. they died from their injuries. the encounter with the terrorists was going on and further details are awaited, a defence spokesperson said. officials said there were reports about the presence of a group of heavily-armed terrorists in the chamrer forest, after they managed to sneak from across the line of control (loc). reinforcements have been rushed to the area to plug all escape routes of the terrorists, they said. (with inputs from pti)\""
            ],
            "application/vnd.google.colaboratory.intrinsic+json": {
              "type": "string"
            }
          },
          "metadata": {},
          "execution_count": 13
        }
      ]
    },
    {
      "cell_type": "code",
      "source": [
        "#df['clean_text_lemmatized'][0]"
      ],
      "metadata": {
        "id": "pgrRoY1fRLyx"
      },
      "execution_count": 14,
      "outputs": []
    },
    {
      "cell_type": "code",
      "source": [
        "//"
      ],
      "metadata": {
        "colab": {
          "base_uri": "https://localhost:8080/",
          "height": 130
        },
        "id": "u63LlRHQUjCp",
        "outputId": "eaf864db-1c68-4dc4-adaa-49389373eb4e"
      },
      "execution_count": 15,
      "outputs": [
        {
          "output_type": "error",
          "ename": "SyntaxError",
          "evalue": "ignored",
          "traceback": [
            "\u001b[0;36m  File \u001b[0;32m\"<ipython-input-15-6648892c9bac>\"\u001b[0;36m, line \u001b[0;32m1\u001b[0m\n\u001b[0;31m    (/)\u001b[0m\n\u001b[0m     ^\u001b[0m\n\u001b[0;31mSyntaxError\u001b[0m\u001b[0;31m:\u001b[0m invalid syntax\n"
          ]
        }
      ]
    },
    {
      "cell_type": "code",
      "source": [
        "for i in range(len(df)):\n",
        "  for x in df['clean_text_lemmatized'][i]:\n",
        "    if str(x)=='said':\n",
        "      print('here',i)\n"
      ],
      "metadata": {
        "id": "gG9XN1kVr8cH"
      },
      "execution_count": 18,
      "outputs": []
    },
    {
      "cell_type": "code",
      "source": [
        "center_with_bias_words = df.loc[df['content'].str.contains('shiv sena|shivsena|aap|bjp|congress', case=False)]\n",
        "center_without_bias_words = df.loc[~df['content'].str.contains('shiv sena|shivsena|aap|bjp|congress', case=False)]\n",
        "\n",
        "center_without_bias_words = center_without_bias_words.loc[center_without_bias_words['bias']==3]\n",
        "\n",
        "center_with_bias_words = center_with_bias_words.loc[center_with_bias_words['bias']==3]\n",
        "right = df.loc[df['bias']==1]\n",
        "left = df.loc[df['bias']==0]\n",
        "#center = df.loc[df['bias']==3]\n",
        "\n",
        "#df2=pd.concat([left,right,center_with_bias_words])\n"
      ],
      "metadata": {
        "id": "4UhtgRVNwTTa"
      },
      "execution_count": 19,
      "outputs": []
    },
    {
      "cell_type": "code",
      "source": [
        "print('right',len(right))\n",
        "print('left',len(left))\n",
        "print('center_without_bias_words',len(center_without_bias_words))\n",
        "print('center_with_bias_words',len(center_with_bias_words))\n",
        "\n"
      ],
      "metadata": {
        "colab": {
          "base_uri": "https://localhost:8080/"
        },
        "id": "tP4NYeAn5kAR",
        "outputId": "fb41b610-0d2e-40fa-b77a-012f60463f65"
      },
      "execution_count": 20,
      "outputs": [
        {
          "output_type": "stream",
          "name": "stdout",
          "text": [
            "right 184\n",
            "left 263\n",
            "center_without_bias_words 1466\n",
            "center_with_bias_words 237\n"
          ]
        }
      ]
    },
    {
      "cell_type": "code",
      "source": [
        "left=left.head(190)"
      ],
      "metadata": {
        "id": "aGGPa2mrDvit"
      },
      "execution_count": 21,
      "outputs": []
    },
    {
      "cell_type": "code",
      "source": [
        "center_with_bias_words=center_with_bias_words.head(200)"
      ],
      "metadata": {
        "id": "Wm0tfqCI5suM"
      },
      "execution_count": 22,
      "outputs": []
    },
    {
      "cell_type": "code",
      "source": [
        "center_without_bias_words=center_without_bias_words.head(800)\n"
      ],
      "metadata": {
        "id": "sFmDhL0R5xpb"
      },
      "execution_count": 23,
      "outputs": []
    },
    {
      "cell_type": "code",
      "source": [
        "print('right',len(right))\n",
        "print('left',len(left))\n",
        "print('center_without_bias_words',len(center_without_bias_words))\n",
        "print('center_with_bias_words',len(center_with_bias_words))\n",
        "\n"
      ],
      "metadata": {
        "colab": {
          "base_uri": "https://localhost:8080/"
        },
        "id": "wxKmiT5T0xV3",
        "outputId": "c863ed32-8c0a-4335-95f6-daa00f83d96d"
      },
      "execution_count": 24,
      "outputs": [
        {
          "output_type": "stream",
          "name": "stdout",
          "text": [
            "right 184\n",
            "left 190\n",
            "center_without_bias_words 800\n",
            "center_with_bias_words 200\n"
          ]
        }
      ]
    },
    {
      "cell_type": "code",
      "source": [
        "right['clean_content'][2]"
      ],
      "metadata": {
        "colab": {
          "base_uri": "https://localhost:8080/",
          "height": 105
        },
        "id": "mgr7FvL3oAV2",
        "outputId": "d1ba13a6-de1e-4383-813d-5fcf1fe85a31"
      },
      "execution_count": 25,
      "outputs": [
        {
          "output_type": "execute_result",
          "data": {
            "text/plain": [
              "'resigning national conference devender rana head jammu division party leader surjit singh slathia joined bjp monday mr rana mr slathia joined bjp headquarters new delhi presence union minister dharmendra pradhan hardeep singh puri jitendra singh mr rana mla younger brother union minister jitendra singh served political advisor jammu kashmir chief minister national conference nc leader omar abdullah bjp general secretary charge jammu kashmir tarun chugh jammu kashmir unit chief ravinder raina welcomed party mr rana advocating jammu declaration joint declaration political social business organisation primarily demanding restoration statehood jammu region jammu kashmir centre revoked erstwhile jammu kashmir special status bifurcated union territory jammu kashmir ladakh'"
            ],
            "application/vnd.google.colaboratory.intrinsic+json": {
              "type": "string"
            }
          },
          "metadata": {},
          "execution_count": 25
        }
      ]
    },
    {
      "cell_type": "code",
      "source": [
        ""
      ],
      "metadata": {
        "id": "D-rYJBmZoNFg"
      },
      "execution_count": 25,
      "outputs": []
    },
    {
      "cell_type": "code",
      "source": [
        "df2=pd.concat([left,right,center_without_bias_words])#,center_with_bias_words\n"
      ],
      "metadata": {
        "id": "q8ieMSDL52p8"
      },
      "execution_count": 26,
      "outputs": []
    },
    {
      "cell_type": "code",
      "source": [
        ""
      ],
      "metadata": {
        "id": "eDZilzjkql4a"
      },
      "execution_count": 26,
      "outputs": []
    },
    {
      "cell_type": "code",
      "source": [
        "#REINDEXING\n",
        "indx=[]\n",
        "for i in range(len(df2)):\n",
        "  indx.append(i)\n",
        "df2.index=indx"
      ],
      "metadata": {
        "id": "9ZUz9GPg6Rgc"
      },
      "execution_count": 27,
      "outputs": []
    },
    {
      "cell_type": "code",
      "source": [
        "# ## Divide the dataset into Train and Test\n",
        "# from sklearn.model_selection import train_test_split\n",
        "# X_train, X_test, y_train, y_test = train_test_split(X, y, test_size=0.4, random_state=2)"
      ],
      "metadata": {
        "id": "x3Dnkfj4UYmW"
      },
      "execution_count": 28,
      "outputs": []
    },
    {
      "cell_type": "code",
      "source": [
        "######NaiiveBayes without Feature Selection\n",
        "from sklearn.feature_extraction.text import CountVectorizer\n",
        "from sklearn.feature_extraction.text import TfidfTransformer\n",
        "from sklearn.naive_bayes import MultinomialNB\n",
        "from sklearn.metrics import f1_score,classification_report,accuracy_score,confusion_matrix\n",
        "from sklearn.naive_bayes import GaussianNB\n",
        "## TFidf Vectorizer\n",
        "from sklearn.feature_extraction.text import TfidfVectorizer\n",
        "from sklearn.feature_extraction.text import CountVectorizer\n",
        "from sklearn.ensemble import RandomForestClassifier"
      ],
      "metadata": {
        "id": "XfV8niqPk9NW"
      },
      "execution_count": 29,
      "outputs": []
    },
    {
      "cell_type": "code",
      "source": [
        "X = df2['clean_content']\n",
        "y=df2['bias']\n"
      ],
      "metadata": {
        "id": "6Srl2Kj8r0pM"
      },
      "execution_count": 30,
      "outputs": []
    },
    {
      "cell_type": "code",
      "source": [
        "from nltk.tokenize import word_tokenize\n",
        "all_words = []\n",
        "for message in df2['clean_content']:\n",
        "      words = word_tokenize(message)\n",
        "      for w in words:\n",
        "          all_words.append(w)\n",
        "all_words = nltk.FreqDist(all_words)"
      ],
      "metadata": {
        "id": "xfDwrrtFqnWi"
      },
      "execution_count": 31,
      "outputs": []
    },
    {
      "cell_type": "code",
      "source": [
        "# print the total number of words and the 15 most common words\n",
        "print('Number of words: {}'.format(len(all_words)))\n",
        "print('Most common words: {}'.format(all_words.most_common(15)))"
      ],
      "metadata": {
        "colab": {
          "base_uri": "https://localhost:8080/"
        },
        "id": "enKYjwzpq_cC",
        "outputId": "dd8aeb5f-606f-4f03-f4dd-caa4559c8943"
      },
      "execution_count": 32,
      "outputs": [
        {
          "output_type": "stream",
          "name": "stdout",
          "text": [
            "Number of words: 17452\n",
            "Most common words: [('minister', 1340), ('government', 1240), ('people', 1185), ('farmer', 1108), ('police', 1015), ('mr', 924), ('court', 827), ('chief', 809), ('country', 794), ('party', 751), ('case', 741), ('congress', 714), ('modi', 708), ('leader', 692), ('bjp', 663)]\n"
          ]
        }
      ]
    },
    {
      "cell_type": "code",
      "source": [
        ""
      ],
      "metadata": {
        "id": "0Kb-4HQPwVF4"
      },
      "execution_count": null,
      "outputs": []
    },
    {
      "cell_type": "code",
      "source": [
        "///"
      ],
      "metadata": {
        "id": "ZQ3XXTe6tle4"
      },
      "execution_count": null,
      "outputs": []
    },
    {
      "cell_type": "code",
      "source": [
        "## TFidf Vectorizer\n",
        "from sklearn.feature_extraction.text import TfidfVectorizer\n",
        "tfidf_v=TfidfVectorizer(max_features=35,ngram_range=(1,4))"
      ],
      "metadata": {
        "id": "eskTkU0ct8nk"
      },
      "execution_count": 80,
      "outputs": []
    },
    {
      "cell_type": "code",
      "source": [
        "X=tfidf_v.fit_transform(df2['clean_content']).toarray()\n"
      ],
      "metadata": {
        "id": "QrCdCNArsV28"
      },
      "execution_count": 81,
      "outputs": []
    },
    {
      "cell_type": "code",
      "source": [
        "X"
      ],
      "metadata": {
        "colab": {
          "base_uri": "https://localhost:8080/"
        },
        "id": "14SbBl8wFRl8",
        "outputId": "18aa537c-a122-4225-d993-0af97acbafa5"
      },
      "execution_count": 82,
      "outputs": [
        {
          "output_type": "execute_result",
          "data": {
            "text/plain": [
              "array([[0.        , 0.        , 0.53795109, ..., 0.27512482, 0.57218265,\n",
              "        0.        ],\n",
              "       [0.        , 0.        , 0.        , ..., 0.        , 0.        ,\n",
              "        0.24035146],\n",
              "       [0.25787541, 0.        , 0.        , ..., 0.        , 0.        ,\n",
              "        0.        ],\n",
              "       ...,\n",
              "       [0.        , 0.        , 0.        , ..., 0.        , 0.        ,\n",
              "        0.        ],\n",
              "       [0.        , 0.        , 0.        , ..., 1.        , 0.        ,\n",
              "        0.        ],\n",
              "       [0.        , 0.50659823, 0.        , ..., 0.        , 0.        ,\n",
              "        0.52668961]])"
            ]
          },
          "metadata": {},
          "execution_count": 82
        }
      ]
    },
    {
      "cell_type": "code",
      "source": [
        "## Divide the dataset into Train and Test\n",
        "from sklearn.model_selection import train_test_split\n",
        "X_train, X_test, y_train, y_test = train_test_split(X, y, test_size=0.33 ,random_state=50)"
      ],
      "metadata": {
        "id": "fAzYTEGHuHFD"
      },
      "execution_count": 83,
      "outputs": []
    },
    {
      "cell_type": "code",
      "source": [
        "count_df = pd.DataFrame(X_train, columns=tfidf_v.get_feature_names())\n",
        "count_df.head()"
      ],
      "metadata": {
        "colab": {
          "base_uri": "https://localhost:8080/",
          "height": 290
        },
        "id": "jQGMuUtrBOe1",
        "outputId": "e145591d-4b9d-4658-cbdc-b56715e59278"
      },
      "execution_count": 84,
      "outputs": [
        {
          "output_type": "stream",
          "name": "stderr",
          "text": [
            "/usr/local/lib/python3.7/dist-packages/sklearn/utils/deprecation.py:87: FutureWarning: Function get_feature_names is deprecated; get_feature_names is deprecated in 1.0 and will be removed in 1.2. Please use get_feature_names_out instead.\n",
            "  warnings.warn(msg, category=FutureWarning)\n"
          ]
        },
        {
          "output_type": "execute_result",
          "data": {
            "text/plain": [
              "   bjp      case     chief  chief minister  congress   country     court  \\\n",
              "0  0.0  0.245496  0.000000             0.0       0.0  0.236553  0.000000   \n",
              "1  0.0  0.000000  0.291925             0.0       0.0  0.000000  0.747274   \n",
              "2  0.0  0.000000  0.000000             0.0       0.0  0.312822  0.000000   \n",
              "3  0.0  0.000000  0.455895             0.0       0.0  0.459888  0.000000   \n",
              "4  0.0  0.000000  0.000000             0.0       0.0  0.000000  0.921777   \n",
              "\n",
              "   covid  delhi    farmer  ...    people    police  power   pradesh  singh  \\\n",
              "0    0.0    0.0  0.000000  ...  0.189366  0.504235    0.0  0.000000    0.0   \n",
              "1    0.0    0.0  0.000000  ...  0.235740  0.000000    0.0  0.000000    0.0   \n",
              "2    0.0    0.0  0.000000  ...  0.000000  0.000000    0.0  0.380414    0.0   \n",
              "3    0.0    0.0  0.594029  ...  0.000000  0.000000    0.0  0.000000    0.0   \n",
              "4    0.0    0.0  0.000000  ...  0.387720  0.000000    0.0  0.000000    0.0   \n",
              "\n",
              "        son    sunday  time      told  union  \n",
              "0  0.000000  0.000000   0.0  0.000000    0.0  \n",
              "1  0.353494  0.000000   0.0  0.310501    0.0  \n",
              "2  0.000000  0.640098   0.0  0.000000    0.0  \n",
              "3  0.000000  0.000000   0.0  0.000000    0.0  \n",
              "4  0.000000  0.000000   0.0  0.000000    0.0  \n",
              "\n",
              "[5 rows x 35 columns]"
            ],
            "text/html": [
              "\n",
              "  <div id=\"df-ba74ab32-13a9-4b43-b1b4-a452556ba2d4\">\n",
              "    <div class=\"colab-df-container\">\n",
              "      <div>\n",
              "<style scoped>\n",
              "    .dataframe tbody tr th:only-of-type {\n",
              "        vertical-align: middle;\n",
              "    }\n",
              "\n",
              "    .dataframe tbody tr th {\n",
              "        vertical-align: top;\n",
              "    }\n",
              "\n",
              "    .dataframe thead th {\n",
              "        text-align: right;\n",
              "    }\n",
              "</style>\n",
              "<table border=\"1\" class=\"dataframe\">\n",
              "  <thead>\n",
              "    <tr style=\"text-align: right;\">\n",
              "      <th></th>\n",
              "      <th>bjp</th>\n",
              "      <th>case</th>\n",
              "      <th>chief</th>\n",
              "      <th>chief minister</th>\n",
              "      <th>congress</th>\n",
              "      <th>country</th>\n",
              "      <th>court</th>\n",
              "      <th>covid</th>\n",
              "      <th>delhi</th>\n",
              "      <th>farmer</th>\n",
              "      <th>...</th>\n",
              "      <th>people</th>\n",
              "      <th>police</th>\n",
              "      <th>power</th>\n",
              "      <th>pradesh</th>\n",
              "      <th>singh</th>\n",
              "      <th>son</th>\n",
              "      <th>sunday</th>\n",
              "      <th>time</th>\n",
              "      <th>told</th>\n",
              "      <th>union</th>\n",
              "    </tr>\n",
              "  </thead>\n",
              "  <tbody>\n",
              "    <tr>\n",
              "      <th>0</th>\n",
              "      <td>0.0</td>\n",
              "      <td>0.245496</td>\n",
              "      <td>0.000000</td>\n",
              "      <td>0.0</td>\n",
              "      <td>0.0</td>\n",
              "      <td>0.236553</td>\n",
              "      <td>0.000000</td>\n",
              "      <td>0.0</td>\n",
              "      <td>0.0</td>\n",
              "      <td>0.000000</td>\n",
              "      <td>...</td>\n",
              "      <td>0.189366</td>\n",
              "      <td>0.504235</td>\n",
              "      <td>0.0</td>\n",
              "      <td>0.000000</td>\n",
              "      <td>0.0</td>\n",
              "      <td>0.000000</td>\n",
              "      <td>0.000000</td>\n",
              "      <td>0.0</td>\n",
              "      <td>0.000000</td>\n",
              "      <td>0.0</td>\n",
              "    </tr>\n",
              "    <tr>\n",
              "      <th>1</th>\n",
              "      <td>0.0</td>\n",
              "      <td>0.000000</td>\n",
              "      <td>0.291925</td>\n",
              "      <td>0.0</td>\n",
              "      <td>0.0</td>\n",
              "      <td>0.000000</td>\n",
              "      <td>0.747274</td>\n",
              "      <td>0.0</td>\n",
              "      <td>0.0</td>\n",
              "      <td>0.000000</td>\n",
              "      <td>...</td>\n",
              "      <td>0.235740</td>\n",
              "      <td>0.000000</td>\n",
              "      <td>0.0</td>\n",
              "      <td>0.000000</td>\n",
              "      <td>0.0</td>\n",
              "      <td>0.353494</td>\n",
              "      <td>0.000000</td>\n",
              "      <td>0.0</td>\n",
              "      <td>0.310501</td>\n",
              "      <td>0.0</td>\n",
              "    </tr>\n",
              "    <tr>\n",
              "      <th>2</th>\n",
              "      <td>0.0</td>\n",
              "      <td>0.000000</td>\n",
              "      <td>0.000000</td>\n",
              "      <td>0.0</td>\n",
              "      <td>0.0</td>\n",
              "      <td>0.312822</td>\n",
              "      <td>0.000000</td>\n",
              "      <td>0.0</td>\n",
              "      <td>0.0</td>\n",
              "      <td>0.000000</td>\n",
              "      <td>...</td>\n",
              "      <td>0.000000</td>\n",
              "      <td>0.000000</td>\n",
              "      <td>0.0</td>\n",
              "      <td>0.380414</td>\n",
              "      <td>0.0</td>\n",
              "      <td>0.000000</td>\n",
              "      <td>0.640098</td>\n",
              "      <td>0.0</td>\n",
              "      <td>0.000000</td>\n",
              "      <td>0.0</td>\n",
              "    </tr>\n",
              "    <tr>\n",
              "      <th>3</th>\n",
              "      <td>0.0</td>\n",
              "      <td>0.000000</td>\n",
              "      <td>0.455895</td>\n",
              "      <td>0.0</td>\n",
              "      <td>0.0</td>\n",
              "      <td>0.459888</td>\n",
              "      <td>0.000000</td>\n",
              "      <td>0.0</td>\n",
              "      <td>0.0</td>\n",
              "      <td>0.594029</td>\n",
              "      <td>...</td>\n",
              "      <td>0.000000</td>\n",
              "      <td>0.000000</td>\n",
              "      <td>0.0</td>\n",
              "      <td>0.000000</td>\n",
              "      <td>0.0</td>\n",
              "      <td>0.000000</td>\n",
              "      <td>0.000000</td>\n",
              "      <td>0.0</td>\n",
              "      <td>0.000000</td>\n",
              "      <td>0.0</td>\n",
              "    </tr>\n",
              "    <tr>\n",
              "      <th>4</th>\n",
              "      <td>0.0</td>\n",
              "      <td>0.000000</td>\n",
              "      <td>0.000000</td>\n",
              "      <td>0.0</td>\n",
              "      <td>0.0</td>\n",
              "      <td>0.000000</td>\n",
              "      <td>0.921777</td>\n",
              "      <td>0.0</td>\n",
              "      <td>0.0</td>\n",
              "      <td>0.000000</td>\n",
              "      <td>...</td>\n",
              "      <td>0.387720</td>\n",
              "      <td>0.000000</td>\n",
              "      <td>0.0</td>\n",
              "      <td>0.000000</td>\n",
              "      <td>0.0</td>\n",
              "      <td>0.000000</td>\n",
              "      <td>0.000000</td>\n",
              "      <td>0.0</td>\n",
              "      <td>0.000000</td>\n",
              "      <td>0.0</td>\n",
              "    </tr>\n",
              "  </tbody>\n",
              "</table>\n",
              "<p>5 rows × 35 columns</p>\n",
              "</div>\n",
              "      <button class=\"colab-df-convert\" onclick=\"convertToInteractive('df-ba74ab32-13a9-4b43-b1b4-a452556ba2d4')\"\n",
              "              title=\"Convert this dataframe to an interactive table.\"\n",
              "              style=\"display:none;\">\n",
              "        \n",
              "  <svg xmlns=\"http://www.w3.org/2000/svg\" height=\"24px\"viewBox=\"0 0 24 24\"\n",
              "       width=\"24px\">\n",
              "    <path d=\"M0 0h24v24H0V0z\" fill=\"none\"/>\n",
              "    <path d=\"M18.56 5.44l.94 2.06.94-2.06 2.06-.94-2.06-.94-.94-2.06-.94 2.06-2.06.94zm-11 1L8.5 8.5l.94-2.06 2.06-.94-2.06-.94L8.5 2.5l-.94 2.06-2.06.94zm10 10l.94 2.06.94-2.06 2.06-.94-2.06-.94-.94-2.06-.94 2.06-2.06.94z\"/><path d=\"M17.41 7.96l-1.37-1.37c-.4-.4-.92-.59-1.43-.59-.52 0-1.04.2-1.43.59L10.3 9.45l-7.72 7.72c-.78.78-.78 2.05 0 2.83L4 21.41c.39.39.9.59 1.41.59.51 0 1.02-.2 1.41-.59l7.78-7.78 2.81-2.81c.8-.78.8-2.07 0-2.86zM5.41 20L4 18.59l7.72-7.72 1.47 1.35L5.41 20z\"/>\n",
              "  </svg>\n",
              "      </button>\n",
              "      \n",
              "  <style>\n",
              "    .colab-df-container {\n",
              "      display:flex;\n",
              "      flex-wrap:wrap;\n",
              "      gap: 12px;\n",
              "    }\n",
              "\n",
              "    .colab-df-convert {\n",
              "      background-color: #E8F0FE;\n",
              "      border: none;\n",
              "      border-radius: 50%;\n",
              "      cursor: pointer;\n",
              "      display: none;\n",
              "      fill: #1967D2;\n",
              "      height: 32px;\n",
              "      padding: 0 0 0 0;\n",
              "      width: 32px;\n",
              "    }\n",
              "\n",
              "    .colab-df-convert:hover {\n",
              "      background-color: #E2EBFA;\n",
              "      box-shadow: 0px 1px 2px rgba(60, 64, 67, 0.3), 0px 1px 3px 1px rgba(60, 64, 67, 0.15);\n",
              "      fill: #174EA6;\n",
              "    }\n",
              "\n",
              "    [theme=dark] .colab-df-convert {\n",
              "      background-color: #3B4455;\n",
              "      fill: #D2E3FC;\n",
              "    }\n",
              "\n",
              "    [theme=dark] .colab-df-convert:hover {\n",
              "      background-color: #434B5C;\n",
              "      box-shadow: 0px 1px 3px 1px rgba(0, 0, 0, 0.15);\n",
              "      filter: drop-shadow(0px 1px 2px rgba(0, 0, 0, 0.3));\n",
              "      fill: #FFFFFF;\n",
              "    }\n",
              "  </style>\n",
              "\n",
              "      <script>\n",
              "        const buttonEl =\n",
              "          document.querySelector('#df-ba74ab32-13a9-4b43-b1b4-a452556ba2d4 button.colab-df-convert');\n",
              "        buttonEl.style.display =\n",
              "          google.colab.kernel.accessAllowed ? 'block' : 'none';\n",
              "\n",
              "        async function convertToInteractive(key) {\n",
              "          const element = document.querySelector('#df-ba74ab32-13a9-4b43-b1b4-a452556ba2d4');\n",
              "          const dataTable =\n",
              "            await google.colab.kernel.invokeFunction('convertToInteractive',\n",
              "                                                     [key], {});\n",
              "          if (!dataTable) return;\n",
              "\n",
              "          const docLinkHtml = 'Like what you see? Visit the ' +\n",
              "            '<a target=\"_blank\" href=https://colab.research.google.com/notebooks/data_table.ipynb>data table notebook</a>'\n",
              "            + ' to learn more about interactive tables.';\n",
              "          element.innerHTML = '';\n",
              "          dataTable['output_type'] = 'display_data';\n",
              "          await google.colab.output.renderOutput(dataTable, element);\n",
              "          const docLink = document.createElement('div');\n",
              "          docLink.innerHTML = docLinkHtml;\n",
              "          element.appendChild(docLink);\n",
              "        }\n",
              "      </script>\n",
              "    </div>\n",
              "  </div>\n",
              "  "
            ]
          },
          "metadata": {},
          "execution_count": 84
        }
      ]
    },
    {
      "cell_type": "code",
      "source": [
        "y_train.value_counts()"
      ],
      "metadata": {
        "colab": {
          "base_uri": "https://localhost:8080/"
        },
        "id": "ziJ2tNuOubgR",
        "outputId": "f3855fb4-ef87-4cdd-d02b-51b29aeb0770"
      },
      "execution_count": 85,
      "outputs": [
        {
          "output_type": "execute_result",
          "data": {
            "text/plain": [
              "3    530\n",
              "0    129\n",
              "1    127\n",
              "Name: bias, dtype: int64"
            ]
          },
          "metadata": {},
          "execution_count": 85
        }
      ]
    },
    {
      "cell_type": "code",
      "source": [
        "y_test.value_counts()\n"
      ],
      "metadata": {
        "colab": {
          "base_uri": "https://localhost:8080/"
        },
        "id": "sbv1asYau3EA",
        "outputId": "979f7ea0-6bfb-465e-a06b-c4499217f689"
      },
      "execution_count": 86,
      "outputs": [
        {
          "output_type": "execute_result",
          "data": {
            "text/plain": [
              "3    270\n",
              "0     61\n",
              "1     57\n",
              "Name: bias, dtype: int64"
            ]
          },
          "metadata": {},
          "execution_count": 86
        }
      ]
    },
    {
      "cell_type": "code",
      "source": [
        "//"
      ],
      "metadata": {
        "id": "TS30FMdbx_xM",
        "colab": {
          "base_uri": "https://localhost:8080/",
          "height": 130
        },
        "outputId": "48e036e1-8ba7-49ae-cdb1-29b484e477ce"
      },
      "execution_count": 87,
      "outputs": [
        {
          "output_type": "error",
          "ename": "SyntaxError",
          "evalue": "ignored",
          "traceback": [
            "\u001b[0;36m  File \u001b[0;32m\"<ipython-input-87-6648892c9bac>\"\u001b[0;36m, line \u001b[0;32m1\u001b[0m\n\u001b[0;31m    (/)\u001b[0m\n\u001b[0m     ^\u001b[0m\n\u001b[0;31mSyntaxError\u001b[0m\u001b[0;31m:\u001b[0m invalid syntax\n"
          ]
        }
      ]
    },
    {
      "cell_type": "code",
      "source": [
        "y_test.value_counts()"
      ],
      "metadata": {
        "colab": {
          "base_uri": "https://localhost:8080/"
        },
        "id": "kI4gV9xSleN4",
        "outputId": "31a92664-f25a-460e-c4ae-d6590bfe4c83"
      },
      "execution_count": 89,
      "outputs": [
        {
          "output_type": "execute_result",
          "data": {
            "text/plain": [
              "3    270\n",
              "0     61\n",
              "1     57\n",
              "Name: bias, dtype: int64"
            ]
          },
          "metadata": {},
          "execution_count": 89
        }
      ]
    },
    {
      "cell_type": "code",
      "source": [
        "from sklearn import model_selection, naive_bayes, svm\n",
        "# fit the training dataset on the NB classifier\n",
        "Naive = naive_bayes.MultinomialNB()\n",
        "Naive.fit(X_train,y_train)\n",
        "# predict the labels on validation dataset\n",
        "predictions_NB = Naive.predict(X_test)\n",
        "# Use accuracy_score function to get the accuracy\n",
        "print(\"Naive Bayes Accuracy Score -> \",accuracy_score(predictions_NB, y_test)*100)\n",
        "print(classification_report(y_test,predictions_NB))"
      ],
      "metadata": {
        "colab": {
          "base_uri": "https://localhost:8080/"
        },
        "id": "Cj4-_oOLn0d-",
        "outputId": "0d527221-37ac-4b41-c4b9-c290e5ef3857"
      },
      "execution_count": 88,
      "outputs": [
        {
          "output_type": "stream",
          "name": "stdout",
          "text": [
            "Naive Bayes Accuracy Score ->  82.9896907216495\n",
            "              precision    recall  f1-score   support\n",
            "\n",
            "           0       0.59      0.70      0.64        61\n",
            "           1       0.83      0.35      0.49        57\n",
            "           3       0.89      0.96      0.92       270\n",
            "\n",
            "    accuracy                           0.83       388\n",
            "   macro avg       0.77      0.67      0.69       388\n",
            "weighted avg       0.83      0.83      0.82       388\n",
            "\n"
          ]
        }
      ]
    },
    {
      "cell_type": "code",
      "source": [
        "rf_classifier=RandomForestClassifier( max_features='auto', min_samples_leaf=4, min_samples_split=5, n_estimators=1000).fit(X_train,y_train)\n",
        "prediction=rf_classifier.predict(X_test)\n",
        "y.value_counts()\n",
        "from sklearn.metrics import confusion_matrix,classification_report,accuracy_score\n",
        "print(confusion_matrix(y_test,prediction))\n",
        "print(accuracy_score(y_test,prediction))\n",
        "print(classification_report(y_test,prediction))\n"
      ],
      "metadata": {
        "colab": {
          "base_uri": "https://localhost:8080/"
        },
        "id": "kGOmCZPxattD",
        "outputId": "93f0e32b-8523-44a9-e222-1bbf59494497"
      },
      "execution_count": 90,
      "outputs": [
        {
          "output_type": "stream",
          "name": "stdout",
          "text": [
            "[[ 41  11   9]\n",
            " [ 16  25  16]\n",
            " [  6   1 263]]\n",
            "0.8479381443298969\n",
            "              precision    recall  f1-score   support\n",
            "\n",
            "           0       0.65      0.67      0.66        61\n",
            "           1       0.68      0.44      0.53        57\n",
            "           3       0.91      0.97      0.94       270\n",
            "\n",
            "    accuracy                           0.85       388\n",
            "   macro avg       0.75      0.69      0.71       388\n",
            "weighted avg       0.84      0.85      0.84       388\n",
            "\n"
          ]
        }
      ]
    },
    {
      "cell_type": "code",
      "source": [
        "from sklearn.ensemble import RandomForestClassifier\n",
        "rf_classifier=RandomForestClassifier(n_estimators=300).fit(X_train,y_train)\n",
        "prediction=rf_classifier.predict(X_test)\n",
        "y.value_counts()\n",
        "from sklearn.metrics import confusion_matrix,classification_report,accuracy_score\n",
        "print(confusion_matrix(y_test,prediction))\n",
        "print(accuracy_score(y_test,prediction))\n",
        "print(classification_report(y_test,prediction))\n"
      ],
      "metadata": {
        "colab": {
          "base_uri": "https://localhost:8080/"
        },
        "id": "IRWZ_ooRBtUt",
        "outputId": "f58793f9-9727-4a2c-b14b-e98760e7d866"
      },
      "execution_count": 91,
      "outputs": [
        {
          "output_type": "stream",
          "name": "stdout",
          "text": [
            "[[ 42  14   5]\n",
            " [ 14  31  12]\n",
            " [  4   6 260]]\n",
            "0.8582474226804123\n",
            "              precision    recall  f1-score   support\n",
            "\n",
            "           0       0.70      0.69      0.69        61\n",
            "           1       0.61      0.54      0.57        57\n",
            "           3       0.94      0.96      0.95       270\n",
            "\n",
            "    accuracy                           0.86       388\n",
            "   macro avg       0.75      0.73      0.74       388\n",
            "weighted avg       0.85      0.86      0.86       388\n",
            "\n"
          ]
        }
      ]
    },
    {
      "cell_type": "markdown",
      "source": [
        "# RF  Manual Hyperparameter Tuning"
      ],
      "metadata": {
        "id": "kRClOrW3CWTu"
      }
    },
    {
      "cell_type": "code",
      "source": [
        "### Manual Hyperparameter Tuning\n",
        "# {'criterion': 'entropy',\n",
        "#  'max_depth': 100,\n",
        "#  'max_features': 'sqrt',\n",
        "#  'min_samples_leaf': 1,\n",
        "#  'min_samples_split': 2,\n",
        "#  'n_estimators': 600}\n",
        "model=RandomForestClassifier(n_estimators=900,criterion='entropy',\n",
        "                             max_features='sqrt',min_samples_leaf=1,min_samples_split=2,random_state=100).fit(X_train,y_train)\n",
        "predictions=model.predict(X_test)\n",
        "print(confusion_matrix(y_test,predictions))\n",
        "print(accuracy_score(y_test,predictions))\n",
        "print(classification_report(y_test,predictions))"
      ],
      "metadata": {
        "id": "XSq8mL7bBwSM"
      },
      "execution_count": null,
      "outputs": []
    },
    {
      "cell_type": "code",
      "source": [
        "//"
      ],
      "metadata": {
        "id": "d2St00oqqUSq"
      },
      "execution_count": null,
      "outputs": []
    },
    {
      "cell_type": "markdown",
      "source": [
        "#RF WITH RANDOMSEARCH CV"
      ],
      "metadata": {
        "id": "F3n29_YBCT8p"
      }
    },
    {
      "cell_type": "markdown",
      "source": [
        "RF WITH RANDOMSEARCH CV"
      ],
      "metadata": {
        "id": "TkbZtRh0CIaI"
      }
    },
    {
      "cell_type": "code",
      "source": [
        "import numpy as np\n",
        "from sklearn.model_selection import RandomizedSearchCV\n",
        "# Number of trees in random forest\n",
        "n_estimators = [int(x) for x in np.linspace(start = 200, stop = 2000, num = 10)]\n",
        "# Number of features to consider at every split\n",
        "max_features = ['auto', 'sqrt','log2']\n",
        "# Maximum number of levels in tree\n",
        "max_depth = [int(x) for x in np.linspace(50, 500,10)]\n",
        "# Minimum number of samples required to split a node\n",
        "min_samples_split = [2, 5, 10,14]\n",
        "# Minimum number of samples required at each leaf node\n",
        "min_samples_leaf = [1, 2, 4,6,8]\n",
        "# Create the random grid\n",
        "random_grid = {'n_estimators': n_estimators,\n",
        "               'max_features': max_features,\n",
        "               'max_depth': max_depth,\n",
        "               'min_samples_split': min_samples_split,\n",
        "               'min_samples_leaf': min_samples_leaf,\n",
        "              'criterion':['entropy','gini']}\n",
        "print(random_grid)"
      ],
      "metadata": {
        "id": "K-tGuuB9Bzs8"
      },
      "execution_count": null,
      "outputs": []
    },
    {
      "cell_type": "code",
      "source": [
        "rf=RandomForestClassifier()\n",
        "rf_randomcv=RandomizedSearchCV(estimator=rf,param_distributions=random_grid,n_iter=10,cv=3,verbose=2,\n",
        "                               random_state=50,n_jobs=-1)\n",
        "### fit the randomized model\n",
        "rf_randomcv.fit(X_train,y_train)"
      ],
      "metadata": {
        "id": "ra9U6zclB19G"
      },
      "execution_count": null,
      "outputs": []
    },
    {
      "cell_type": "code",
      "source": [
        "rf_randomcv.best_params_"
      ],
      "metadata": {
        "id": "iQeTNCchB3Q0"
      },
      "execution_count": null,
      "outputs": []
    },
    {
      "cell_type": "code",
      "source": [
        "best_random_grid=rf_randomcv.best_estimator_\n",
        "from sklearn.metrics import accuracy_score\n",
        "y_pred=best_random_grid.predict(X_test)\n",
        "print(confusion_matrix(y_test,y_pred))\n",
        "print(\"Accuracy Score {}\".format(accuracy_score(y_test,y_pred)))\n",
        "print(\"Classification report: \\n {}\".format(classification_report(y_test,y_pred)))"
      ],
      "metadata": {
        "id": "KzPlQxeqB5y9"
      },
      "execution_count": null,
      "outputs": []
    },
    {
      "cell_type": "markdown",
      "source": [
        "#RF WITH GridSearchCV\n"
      ],
      "metadata": {
        "id": "DFVEVXH4CPvU"
      }
    },
    {
      "cell_type": "markdown",
      "source": [
        "RF WITH GridSearchCV\n"
      ],
      "metadata": {
        "id": "HLVqyw_FCNF2"
      }
    },
    {
      "cell_type": "code",
      "source": [
        "from sklearn.model_selection import GridSearchCV\n",
        "\n",
        "param_grid = {\n",
        "    'criterion': [rf_randomcv.best_params_['criterion']],\n",
        "    'max_depth': [rf_randomcv.best_params_['max_depth']],\n",
        "    'max_features': [rf_randomcv.best_params_['max_features']],\n",
        "    'min_samples_leaf': [rf_randomcv.best_params_['min_samples_leaf'], \n",
        "                         rf_randomcv.best_params_['min_samples_leaf']+2, \n",
        "                         rf_randomcv.best_params_['min_samples_leaf'] + 4],\n",
        "    'min_samples_split': [rf_randomcv.best_params_['min_samples_split'] - 2,\n",
        "                          rf_randomcv.best_params_['min_samples_split'] - 1,\n",
        "                          rf_randomcv.best_params_['min_samples_split'], \n",
        "                          rf_randomcv.best_params_['min_samples_split'] +1,\n",
        "                          rf_randomcv.best_params_['min_samples_split'] + 2],\n",
        "    'n_estimators': [rf_randomcv.best_params_['n_estimators'] - 200, rf_randomcv.best_params_['n_estimators'] - 100, \n",
        "                     rf_randomcv.best_params_['n_estimators'], \n",
        "                     rf_randomcv.best_params_['n_estimators'] + 100, rf_randomcv.best_params_['n_estimators'] + 200]\n",
        "}\n",
        "\n",
        "print(param_grid)\n",
        "#### Fit the grid_search to the data\n",
        "rf=RandomForestClassifier()\n",
        "grid_search=GridSearchCV(estimator=rf,param_grid=param_grid,cv=10,n_jobs=-1,verbose=2)\n",
        "grid_search.fit(X_train,y_train)\n"
      ],
      "metadata": {
        "id": "iX0aeDzaCMCE"
      },
      "execution_count": null,
      "outputs": []
    },
    {
      "cell_type": "code",
      "source": [
        "//"
      ],
      "metadata": {
        "id": "dAhiSMhtrJih"
      },
      "execution_count": null,
      "outputs": []
    },
    {
      "cell_type": "markdown",
      "source": [
        "# RF with RandomizedSearchCV"
      ],
      "metadata": {
        "id": "wLEW1X3qrEVE"
      }
    },
    {
      "cell_type": "code",
      "source": [
        "import numpy as np\n",
        "from sklearn.model_selection import RandomizedSearchCV\n",
        "# Number of trees in random forest\n",
        "n_estimators = [int(x) for x in np.linspace(start = 200, stop = 2000, num = 10)]\n",
        "# Number of features to consider at every split\n",
        "max_features = ['auto', 'sqrt','log2']\n",
        "# Maximum number of levels in tree\n",
        "max_depth = [int(x) for x in np.linspace(10, 1000,10)]\n",
        "# Minimum number of samples required to split a node\n",
        "min_samples_split = [2, 5, 10,14]\n",
        "# Minimum number of samples required at each leaf node\n",
        "min_samples_leaf = [1, 2, 4,6,8]\n",
        "# Create the random grid\n",
        "param = {'n_estimators': n_estimators,\n",
        "               'max_features': max_features,\n",
        "               'max_depth': max_depth,\n",
        "               'min_samples_split': min_samples_split,\n",
        "               'min_samples_leaf': min_samples_leaf,\n",
        "              'criterion':['entropy','gini']}\n",
        "print(param)"
      ],
      "metadata": {
        "id": "brb2mWAqJevk"
      },
      "execution_count": null,
      "outputs": []
    },
    {
      "cell_type": "code",
      "source": [
        ""
      ],
      "metadata": {
        "id": "A_yA1ug426PO"
      },
      "execution_count": null,
      "outputs": []
    },
    {
      "cell_type": "markdown",
      "source": [
        "# RF WITH TPOT OPTIMIZATION"
      ],
      "metadata": {
        "id": "gPn6Fxzy26f7"
      }
    },
    {
      "cell_type": "code",
      "source": [
        "pip install tpot\n"
      ],
      "metadata": {
        "id": "wPLR8hUUMuv0"
      },
      "execution_count": null,
      "outputs": []
    },
    {
      "cell_type": "code",
      "source": [
        "from tpot import TPOTClassifier\n",
        "\n",
        "tpot_classifier = TPOTClassifier(generations= 3, population_size= 30, offspring_size= 10,\n",
        "                                 verbosity= 2, early_stop= 12,\n",
        "                                 config_dict={'sklearn.ensemble.RandomForestClassifier':param}, \n",
        "                                 cv = 4, scoring = ['accuracy','recall','precision'])\n",
        "tpot_classifier.fit(X_train,y_train)"
      ],
      "metadata": {
        "id": "_7QEpxwxLYql"
      },
      "execution_count": null,
      "outputs": []
    },
    {
      "cell_type": "code",
      "source": [
        "### Manual Hyperparameter Tuning\n",
        "# {'criterion': 'entropy',\n",
        "#  'max_depth': 100,\n",
        "#  'max_features': 'sqrt',\n",
        "#  'min_samples_leaf': 1,\n",
        "#  'min_samples_split': 2,\n",
        "#  'n_estimators': 600}\n",
        "#model=RandomForestClassifier( criterion='gini', max_depth=340, max_features='auto', min_samples_leaf=2, min_samples_split=5, n_estimators=2000).fit(X_train,y_train)\n",
        "model=RandomForestClassifier(criterion='entropy', max_depth=780, max_features='auto', min_samples_leaf=4, min_samples_split=5, n_estimators=1000).fit(X_train,y_train)\n",
        "predictions=model.predict(X_test)\n",
        "print(confusion_matrix(y_test,predictions))\n",
        "print(accuracy_score(y_test,predictions))\n",
        "print(classification_report(y_test,predictions))"
      ],
      "metadata": {
        "id": "amDFD8dBfbyR"
      },
      "execution_count": null,
      "outputs": []
    },
    {
      "cell_type": "code",
      "source": [
        "pip install optuna\n"
      ],
      "metadata": {
        "id": "3CqmZdypNHZX"
      },
      "execution_count": null,
      "outputs": []
    },
    {
      "cell_type": "code",
      "source": [
        "import optuna\n",
        "import sklearn.svm\n",
        "def objective(trial):\n",
        "\n",
        "    classifier = trial.suggest_categorical('classifier', ['RandomForest', 'SVC'])\n",
        "    \n",
        "    if classifier == 'RandomForest':\n",
        "        n_estimators = trial.suggest_int('n_estimators', 200, 2000,10)\n",
        "        max_depth = int(trial.suggest_float('max_depth', 10, 100, log=True))\n",
        "\n",
        "        clf = sklearn.ensemble.RandomForestClassifier(\n",
        "            n_estimators=n_estimators, max_depth=max_depth)\n",
        "    else:\n",
        "        c = trial.suggest_float('svc_c', 1e-10, 1e10, log=True)\n",
        "        \n",
        "        clf = sklearn.svm.SVC(C=c, gamma='auto')\n",
        "\n",
        "    return sklearn.model_selection.cross_val_score(\n",
        "        clf,X_train,y_train, n_jobs=-1, cv=3).mean()"
      ],
      "metadata": {
        "id": "EkpUsHpvM9YP"
      },
      "execution_count": null,
      "outputs": []
    },
    {
      "cell_type": "code",
      "source": [
        "study = optuna.create_study(direction='maximize')\n",
        "study.optimize(objective, n_trials=100)\n",
        "\n",
        "trial = study.best_trial\n",
        "\n",
        "print('Accuracy: {}'.format(trial.value))\n",
        "print(\"Best hyperparameters: {}\".format(trial.params))"
      ],
      "metadata": {
        "id": "nIyFlviSM_UY"
      },
      "execution_count": null,
      "outputs": []
    },
    {
      "cell_type": "code",
      "source": [
        "rf=RandomForestClassifier(n_estimators=330,max_depth=30)\n",
        "rf.fit(X_train,y_train)"
      ],
      "metadata": {
        "id": "FZLjJ7QfNDAT"
      },
      "execution_count": null,
      "outputs": []
    },
    {
      "cell_type": "code",
      "source": [
        "y_pred=rf.predict(X_test)\n",
        "print(confusion_matrix(y_test,y_pred))\n",
        "print(accuracy_score(y_test,y_pred))\n",
        "print(classification_report(y_test,y_pred))"
      ],
      "metadata": {
        "id": "s8DelnF9NGCY"
      },
      "execution_count": null,
      "outputs": []
    },
    {
      "cell_type": "markdown",
      "source": [
        ""
      ],
      "metadata": {
        "id": "2qDwTw3bNv1S"
      }
    },
    {
      "cell_type": "markdown",
      "source": [
        ""
      ],
      "metadata": {
        "id": "MegH8fYBNvzc"
      }
    },
    {
      "cell_type": "markdown",
      "source": [
        ""
      ],
      "metadata": {
        "id": "uplpzifzNvxh"
      }
    },
    {
      "cell_type": "code",
      "source": [
        "from sklearn.naive_bayes import MultinomialNB\n",
        "clf = MultinomialNB().fit(X_train, y_train)"
      ],
      "metadata": {
        "id": "uCKaKkSlNwRd"
      },
      "execution_count": null,
      "outputs": []
    },
    {
      "cell_type": "code",
      "source": [
        "from sklearn.pipeline import Pipeline\n",
        "text_clf = Pipeline([('vect', CountVectorizer()),\n",
        "                     ('tfidf', TfidfTransformer()),\n",
        "                     ('clf', MultinomialNB())])\n",
        "text_clf = text_clf.fit(X_train, y_train)"
      ],
      "metadata": {
        "id": "kh-NNrNhN1DT"
      },
      "execution_count": null,
      "outputs": []
    },
    {
      "cell_type": "code",
      "source": [
        "from sklearn.metrics import accuracy_score\n",
        "y_pred=text_clf.predict(X_test)\n",
        "print(confusion_matrix(y_test,y_pred))\n",
        "print(\"Accuracy Score {}\".format(accuracy_score(y_test,y_pred)))\n",
        "print(\"Classification report: \\n {}\".format(classification_report(y_test,y_pred)))"
      ],
      "metadata": {
        "id": "L6Z5m_3hOP2g"
      },
      "execution_count": null,
      "outputs": []
    },
    {
      "cell_type": "code",
      "source": [
        ""
      ],
      "metadata": {
        "id": "2jkOLQQ90LZa"
      },
      "execution_count": null,
      "outputs": []
    },
    {
      "cell_type": "code",
      "source": [
        ""
      ],
      "metadata": {
        "id": "cu8JzY70nTif"
      },
      "execution_count": null,
      "outputs": []
    },
    {
      "cell_type": "code",
      "source": [
        ""
      ],
      "metadata": {
        "id": "Jg_nqM5znXCA"
      },
      "execution_count": null,
      "outputs": []
    },
    {
      "cell_type": "markdown",
      "source": [
        "# New Section"
      ],
      "metadata": {
        "id": "6S-ZEMg2nXop"
      }
    }
  ]
}