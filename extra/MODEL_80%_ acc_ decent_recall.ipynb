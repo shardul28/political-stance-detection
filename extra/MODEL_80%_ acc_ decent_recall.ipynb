{
  "nbformat": 4,
  "nbformat_minor": 0,
  "metadata": {
    "colab": {
      "name": "MODE.ipynb",
      "provenance": [],
      "toc_visible": true,
      "collapsed_sections": [],
      "authorship_tag": "ABX9TyOfnNEqiWWeB5Ecq+NdA6M8",
      "include_colab_link": true
    },
    "kernelspec": {
      "name": "python3",
      "display_name": "Python 3"
    },
    "language_info": {
      "name": "python"
    },
    "accelerator": "GPU"
  },
  "cells": [
    {
      "cell_type": "markdown",
      "metadata": {
        "id": "view-in-github",
        "colab_type": "text"
      },
      "source": [
        "<a href=\"https://colab.research.google.com/github/shardul28/political-stance-detection/blob/Mscproject/MODEL_80%25_%20acc_%20decent_recall.ipynb\" target=\"_parent\"><img src=\"https://colab.research.google.com/assets/colab-badge.svg\" alt=\"Open In Colab\"/></a>"
      ]
    },
    {
      "cell_type": "markdown",
      "source": [
        ""
      ],
      "metadata": {
        "id": "w5OjDLKBMAf2"
      }
    },
    {
      "cell_type": "markdown",
      "source": [
        "# Imports"
      ],
      "metadata": {
        "id": "i-TN0VVvMA-K"
      }
    },
    {
      "cell_type": "code",
      "source": [
        "!pip install mit-news-classify\n"
      ],
      "metadata": {
        "id": "EOg_7LK-L8De",
        "colab": {
          "base_uri": "https://localhost:8080/"
        },
        "outputId": "92c2ba23-7ebb-4f2b-ca5c-e9c689e7afb5"
      },
      "execution_count": null,
      "outputs": [
        {
          "output_type": "stream",
          "name": "stdout",
          "text": [
            "Requirement already satisfied: mit-news-classify in /usr/local/lib/python3.7/dist-packages (0.10.1.3)\n",
            "Requirement already satisfied: transformers in /usr/local/lib/python3.7/dist-packages (from mit-news-classify) (4.18.0)\n",
            "Requirement already satisfied: torch in /usr/local/lib/python3.7/dist-packages (from mit-news-classify) (1.10.0+cu111)\n",
            "Requirement already satisfied: tensorflow>=2.1 in /usr/local/lib/python3.7/dist-packages (from mit-news-classify) (2.8.0)\n",
            "Requirement already satisfied: sklearn in /usr/local/lib/python3.7/dist-packages (from mit-news-classify) (0.0)\n",
            "Requirement already satisfied: tqdm in /usr/local/lib/python3.7/dist-packages (from mit-news-classify) (4.64.0)\n",
            "Requirement already satisfied: gensim==3.8.3 in /usr/local/lib/python3.7/dist-packages (from mit-news-classify) (3.8.3)\n",
            "Requirement already satisfied: numpy in /usr/local/lib/python3.7/dist-packages (from mit-news-classify) (1.21.5)\n",
            "Requirement already satisfied: smart-open>=1.8.1 in /usr/local/lib/python3.7/dist-packages (from gensim==3.8.3->mit-news-classify) (5.2.1)\n",
            "Requirement already satisfied: six>=1.5.0 in /usr/local/lib/python3.7/dist-packages (from gensim==3.8.3->mit-news-classify) (1.15.0)\n",
            "Requirement already satisfied: scipy>=0.18.1 in /usr/local/lib/python3.7/dist-packages (from gensim==3.8.3->mit-news-classify) (1.4.1)\n",
            "Requirement already satisfied: wrapt>=1.11.0 in /usr/local/lib/python3.7/dist-packages (from tensorflow>=2.1->mit-news-classify) (1.14.0)\n",
            "Requirement already satisfied: gast>=0.2.1 in /usr/local/lib/python3.7/dist-packages (from tensorflow>=2.1->mit-news-classify) (0.5.3)\n",
            "Requirement already satisfied: absl-py>=0.4.0 in /usr/local/lib/python3.7/dist-packages (from tensorflow>=2.1->mit-news-classify) (1.0.0)\n",
            "Requirement already satisfied: opt-einsum>=2.3.2 in /usr/local/lib/python3.7/dist-packages (from tensorflow>=2.1->mit-news-classify) (3.3.0)\n",
            "Requirement already satisfied: keras<2.9,>=2.8.0rc0 in /usr/local/lib/python3.7/dist-packages (from tensorflow>=2.1->mit-news-classify) (2.8.0)\n",
            "Requirement already satisfied: astunparse>=1.6.0 in /usr/local/lib/python3.7/dist-packages (from tensorflow>=2.1->mit-news-classify) (1.6.3)\n",
            "Requirement already satisfied: libclang>=9.0.1 in /usr/local/lib/python3.7/dist-packages (from tensorflow>=2.1->mit-news-classify) (13.0.0)\n",
            "Requirement already satisfied: setuptools in /usr/local/lib/python3.7/dist-packages (from tensorflow>=2.1->mit-news-classify) (57.4.0)\n",
            "Requirement already satisfied: google-pasta>=0.1.1 in /usr/local/lib/python3.7/dist-packages (from tensorflow>=2.1->mit-news-classify) (0.2.0)\n",
            "Requirement already satisfied: flatbuffers>=1.12 in /usr/local/lib/python3.7/dist-packages (from tensorflow>=2.1->mit-news-classify) (2.0)\n",
            "Requirement already satisfied: tensorflow-io-gcs-filesystem>=0.23.1 in /usr/local/lib/python3.7/dist-packages (from tensorflow>=2.1->mit-news-classify) (0.24.0)\n",
            "Requirement already satisfied: keras-preprocessing>=1.1.1 in /usr/local/lib/python3.7/dist-packages (from tensorflow>=2.1->mit-news-classify) (1.1.2)\n",
            "Requirement already satisfied: tensorboard<2.9,>=2.8 in /usr/local/lib/python3.7/dist-packages (from tensorflow>=2.1->mit-news-classify) (2.8.0)\n",
            "Requirement already satisfied: protobuf>=3.9.2 in /usr/local/lib/python3.7/dist-packages (from tensorflow>=2.1->mit-news-classify) (3.17.3)\n",
            "Requirement already satisfied: termcolor>=1.1.0 in /usr/local/lib/python3.7/dist-packages (from tensorflow>=2.1->mit-news-classify) (1.1.0)\n",
            "Requirement already satisfied: grpcio<2.0,>=1.24.3 in /usr/local/lib/python3.7/dist-packages (from tensorflow>=2.1->mit-news-classify) (1.44.0)\n",
            "Requirement already satisfied: tf-estimator-nightly==2.8.0.dev2021122109 in /usr/local/lib/python3.7/dist-packages (from tensorflow>=2.1->mit-news-classify) (2.8.0.dev2021122109)\n",
            "Requirement already satisfied: h5py>=2.9.0 in /usr/local/lib/python3.7/dist-packages (from tensorflow>=2.1->mit-news-classify) (3.1.0)\n",
            "Requirement already satisfied: typing-extensions>=3.6.6 in /usr/local/lib/python3.7/dist-packages (from tensorflow>=2.1->mit-news-classify) (4.1.1)\n",
            "Requirement already satisfied: wheel<1.0,>=0.23.0 in /usr/local/lib/python3.7/dist-packages (from astunparse>=1.6.0->tensorflow>=2.1->mit-news-classify) (0.37.1)\n",
            "Requirement already satisfied: cached-property in /usr/local/lib/python3.7/dist-packages (from h5py>=2.9.0->tensorflow>=2.1->mit-news-classify) (1.5.2)\n",
            "Requirement already satisfied: tensorboard-data-server<0.7.0,>=0.6.0 in /usr/local/lib/python3.7/dist-packages (from tensorboard<2.9,>=2.8->tensorflow>=2.1->mit-news-classify) (0.6.1)\n",
            "Requirement already satisfied: markdown>=2.6.8 in /usr/local/lib/python3.7/dist-packages (from tensorboard<2.9,>=2.8->tensorflow>=2.1->mit-news-classify) (3.3.6)\n",
            "Requirement already satisfied: tensorboard-plugin-wit>=1.6.0 in /usr/local/lib/python3.7/dist-packages (from tensorboard<2.9,>=2.8->tensorflow>=2.1->mit-news-classify) (1.8.1)\n",
            "Requirement already satisfied: google-auth-oauthlib<0.5,>=0.4.1 in /usr/local/lib/python3.7/dist-packages (from tensorboard<2.9,>=2.8->tensorflow>=2.1->mit-news-classify) (0.4.6)\n",
            "Requirement already satisfied: werkzeug>=0.11.15 in /usr/local/lib/python3.7/dist-packages (from tensorboard<2.9,>=2.8->tensorflow>=2.1->mit-news-classify) (1.0.1)\n",
            "Requirement already satisfied: google-auth<3,>=1.6.3 in /usr/local/lib/python3.7/dist-packages (from tensorboard<2.9,>=2.8->tensorflow>=2.1->mit-news-classify) (1.35.0)\n",
            "Requirement already satisfied: requests<3,>=2.21.0 in /usr/local/lib/python3.7/dist-packages (from tensorboard<2.9,>=2.8->tensorflow>=2.1->mit-news-classify) (2.23.0)\n",
            "Requirement already satisfied: cachetools<5.0,>=2.0.0 in /usr/local/lib/python3.7/dist-packages (from google-auth<3,>=1.6.3->tensorboard<2.9,>=2.8->tensorflow>=2.1->mit-news-classify) (4.2.4)\n",
            "Requirement already satisfied: rsa<5,>=3.1.4 in /usr/local/lib/python3.7/dist-packages (from google-auth<3,>=1.6.3->tensorboard<2.9,>=2.8->tensorflow>=2.1->mit-news-classify) (4.8)\n",
            "Requirement already satisfied: pyasn1-modules>=0.2.1 in /usr/local/lib/python3.7/dist-packages (from google-auth<3,>=1.6.3->tensorboard<2.9,>=2.8->tensorflow>=2.1->mit-news-classify) (0.2.8)\n",
            "Requirement already satisfied: requests-oauthlib>=0.7.0 in /usr/local/lib/python3.7/dist-packages (from google-auth-oauthlib<0.5,>=0.4.1->tensorboard<2.9,>=2.8->tensorflow>=2.1->mit-news-classify) (1.3.1)\n",
            "Requirement already satisfied: importlib-metadata>=4.4 in /usr/local/lib/python3.7/dist-packages (from markdown>=2.6.8->tensorboard<2.9,>=2.8->tensorflow>=2.1->mit-news-classify) (4.11.3)\n",
            "Requirement already satisfied: zipp>=0.5 in /usr/local/lib/python3.7/dist-packages (from importlib-metadata>=4.4->markdown>=2.6.8->tensorboard<2.9,>=2.8->tensorflow>=2.1->mit-news-classify) (3.8.0)\n",
            "Requirement already satisfied: pyasn1<0.5.0,>=0.4.6 in /usr/local/lib/python3.7/dist-packages (from pyasn1-modules>=0.2.1->google-auth<3,>=1.6.3->tensorboard<2.9,>=2.8->tensorflow>=2.1->mit-news-classify) (0.4.8)\n",
            "Requirement already satisfied: chardet<4,>=3.0.2 in /usr/local/lib/python3.7/dist-packages (from requests<3,>=2.21.0->tensorboard<2.9,>=2.8->tensorflow>=2.1->mit-news-classify) (3.0.4)\n",
            "Requirement already satisfied: certifi>=2017.4.17 in /usr/local/lib/python3.7/dist-packages (from requests<3,>=2.21.0->tensorboard<2.9,>=2.8->tensorflow>=2.1->mit-news-classify) (2021.10.8)\n",
            "Requirement already satisfied: urllib3!=1.25.0,!=1.25.1,<1.26,>=1.21.1 in /usr/local/lib/python3.7/dist-packages (from requests<3,>=2.21.0->tensorboard<2.9,>=2.8->tensorflow>=2.1->mit-news-classify) (1.24.3)\n",
            "Requirement already satisfied: idna<3,>=2.5 in /usr/local/lib/python3.7/dist-packages (from requests<3,>=2.21.0->tensorboard<2.9,>=2.8->tensorflow>=2.1->mit-news-classify) (2.10)\n",
            "Requirement already satisfied: oauthlib>=3.0.0 in /usr/local/lib/python3.7/dist-packages (from requests-oauthlib>=0.7.0->google-auth-oauthlib<0.5,>=0.4.1->tensorboard<2.9,>=2.8->tensorflow>=2.1->mit-news-classify) (3.2.0)\n",
            "Requirement already satisfied: scikit-learn in /usr/local/lib/python3.7/dist-packages (from sklearn->mit-news-classify) (1.0.2)\n",
            "Requirement already satisfied: joblib>=0.11 in /usr/local/lib/python3.7/dist-packages (from scikit-learn->sklearn->mit-news-classify) (1.1.0)\n",
            "Requirement already satisfied: threadpoolctl>=2.0.0 in /usr/local/lib/python3.7/dist-packages (from scikit-learn->sklearn->mit-news-classify) (3.1.0)\n",
            "Requirement already satisfied: packaging>=20.0 in /usr/local/lib/python3.7/dist-packages (from transformers->mit-news-classify) (21.3)\n",
            "Requirement already satisfied: filelock in /usr/local/lib/python3.7/dist-packages (from transformers->mit-news-classify) (3.6.0)\n",
            "Requirement already satisfied: huggingface-hub<1.0,>=0.1.0 in /usr/local/lib/python3.7/dist-packages (from transformers->mit-news-classify) (0.5.1)\n",
            "Requirement already satisfied: tokenizers!=0.11.3,<0.13,>=0.11.1 in /usr/local/lib/python3.7/dist-packages (from transformers->mit-news-classify) (0.12.1)\n",
            "Requirement already satisfied: sacremoses in /usr/local/lib/python3.7/dist-packages (from transformers->mit-news-classify) (0.0.49)\n",
            "Requirement already satisfied: regex!=2019.12.17 in /usr/local/lib/python3.7/dist-packages (from transformers->mit-news-classify) (2019.12.20)\n",
            "Requirement already satisfied: pyyaml>=5.1 in /usr/local/lib/python3.7/dist-packages (from transformers->mit-news-classify) (6.0)\n",
            "Requirement already satisfied: pyparsing!=3.0.5,>=2.0.2 in /usr/local/lib/python3.7/dist-packages (from packaging>=20.0->transformers->mit-news-classify) (3.0.8)\n",
            "Requirement already satisfied: click in /usr/local/lib/python3.7/dist-packages (from sacremoses->transformers->mit-news-classify) (7.1.2)\n"
          ]
        }
      ]
    },
    {
      "cell_type": "code",
      "source": [
        "import nltk\n",
        "nltk.download('stopwords')\n",
        "nltk.download('punkt')\n",
        "nltk.download('wordnet')"
      ],
      "metadata": {
        "colab": {
          "base_uri": "https://localhost:8080/"
        },
        "id": "O6xgXvxSrX69",
        "outputId": "f848d7e6-99d6-47f9-ac7f-5ce543caf63f"
      },
      "execution_count": null,
      "outputs": [
        {
          "output_type": "stream",
          "name": "stdout",
          "text": [
            "[nltk_data] Downloading package stopwords to /root/nltk_data...\n",
            "[nltk_data]   Package stopwords is already up-to-date!\n",
            "[nltk_data] Downloading package punkt to /root/nltk_data...\n",
            "[nltk_data]   Package punkt is already up-to-date!\n",
            "[nltk_data] Downloading package wordnet to /root/nltk_data...\n",
            "[nltk_data]   Package wordnet is already up-to-date!\n"
          ]
        },
        {
          "output_type": "execute_result",
          "data": {
            "text/plain": [
              "True"
            ]
          },
          "metadata": {},
          "execution_count": 2
        }
      ]
    },
    {
      "cell_type": "code",
      "source": [
        "import pandas as pd\n",
        "import re\n",
        "import numpy as np\n",
        "import tensorflow as tf\n",
        "from tensorflow import keras\n",
        "from tensorflow.keras import layers\n",
        "from tensorflow.keras.models import Sequential\n",
        "from tensorflow.keras.layers import Dense, Dropout, Embedding\n",
        "from tensorflow.keras.optimizers import Adam\n",
        "import pickle\n",
        "from mitnewsclassify import tfidf as mitx\n",
        "from nltk.corpus import stopwords\n",
        "from tqdm import tqdm\n",
        "from nltk.util import ngrams\n",
        "from nltk.tokenize import word_tokenize\n",
        "from nltk.stem import WordNetLemmatizer,PorterStemmer\n",
        "from sklearn.feature_extraction.text import CountVectorizer\n",
        "from collections import defaultdict,Counter\n",
        "import matplotlib.pyplot as plt\n",
        "import seaborn as sns"
      ],
      "metadata": {
        "id": "BsMsKhNBBJCl"
      },
      "execution_count": null,
      "outputs": []
    },
    {
      "cell_type": "code",
      "source": [
        "from google.colab import drive\n",
        "drive.mount('/content/drive')"
      ],
      "metadata": {
        "colab": {
          "base_uri": "https://localhost:8080/"
        },
        "id": "gC_JSPXdAyp1",
        "outputId": "b6a399a1-1ae8-4b86-d7e6-44db297c22ce"
      },
      "execution_count": null,
      "outputs": [
        {
          "output_type": "stream",
          "name": "stdout",
          "text": [
            "Drive already mounted at /content/drive; to attempt to forcibly remount, call drive.mount(\"/content/drive\", force_remount=True).\n"
          ]
        }
      ]
    },
    {
      "cell_type": "code",
      "execution_count": null,
      "metadata": {
        "colab": {
          "base_uri": "https://localhost:8080/"
        },
        "id": "PYF67UFaAwFU",
        "outputId": "a43f6221-76af-4e61-e661-26557491ce99"
      },
      "outputs": [
        {
          "output_type": "stream",
          "name": "stdout",
          "text": [
            "/content/drive/MyDrive/project_data\n"
          ]
        }
      ],
      "source": [
        "cd /content/drive/MyDrive/project_data"
      ]
    },
    {
      "cell_type": "markdown",
      "source": [
        "# MODEL\n"
      ],
      "metadata": {
        "id": "E_B96BAQgjgi"
      }
    },
    {
      "cell_type": "code",
      "source": [
        "infile = open('/content/drive/MyDrive/project_data/clean_data.pkl','rb')\n",
        "df = pickle.load(infile)"
      ],
      "metadata": {
        "id": "1YASdkn5qPSl"
      },
      "execution_count": null,
      "outputs": []
    },
    {
      "cell_type": "code",
      "source": [
        "df.head()"
      ],
      "metadata": {
        "id": "1zOV7gxpWttb",
        "colab": {
          "base_uri": "https://localhost:8080/",
          "height": 669
        },
        "outputId": "e9ab54a3-9b9a-4d48-a7d7-b693a5c5bdd3"
      },
      "execution_count": null,
      "outputs": [
        {
          "output_type": "execute_result",
          "data": {
            "text/plain": [
              "                                                text  \\\n",
              "0  Army Officer, 4 Others Killed In Encounter In ...   \n",
              "1  #AryanKhan Case: No Bail For Him Today, Next H...   \n",
              "2  RT @ndtvfeed: Ex-National Conference Leaders D...   \n",
              "3  RT @ndtvfeed: US Has Lost AI Battle To China, ...   \n",
              "4  RT @ndtvfeed: A Look At Inspiring Messages On ...   \n",
              "\n",
              "                                                 url  \\\n",
              "0  https://www.ndtv.com/india-news/army-officer-4...   \n",
              "1  https://ndtv.com/india-news/mumbai-drug-bust-c...   \n",
              "2  https://www.ndtv.com/india-news/after-resignin...   \n",
              "3  https://www.ndtv.com/world-news/us-has-lost-ar...   \n",
              "4  https://www.ndtv.com/india-news/on-internation...   \n",
              "\n",
              "                                               title  \\\n",
              "0  Army Officer, 4 Personnel Killed In Encounter ...   \n",
              "1  Aryan Khan Case: No Bail For Him Today, Next H...   \n",
              "2  Ex-National Conference Leaders Devender Rana, ...   \n",
              "3  US Has Lost AI Battle To China, Pentagon's Ex-...   \n",
              "4  International Day Of The Girl Child 2021: Lead...   \n",
              "\n",
              "                                             content  bias  retweet_count  \\\n",
              "0  an army officer and four other personnel were ...     3            9.0   \n",
              "1  aryan khan did not get bail today for the thir...     3            5.0   \n",
              "2  a day after resigning from the national confer...     1            2.0   \n",
              "3  china has won the artificial intelligence batt...     0            5.0   \n",
              "4  various world leaders and un agencies posted w...     3            3.0   \n",
              "\n",
              "   favorite_count source_name  source  \\\n",
              "0            63.0        ndtv       0   \n",
              "1            44.0        ndtv       0   \n",
              "2             0.0        ndtv       0   \n",
              "3             0.0        ndtv       0   \n",
              "4             0.0        ndtv       0   \n",
              "\n",
              "                                       clean_content  \\\n",
              "0  army officer personnel killed action encounter...   \n",
              "1  aryan khan bail arrest week ago drugs cruise c...   \n",
              "2  resigning national conference devender rana he...   \n",
              "3  china artificial intelligence battle united st...   \n",
              "4  various world leaders agencies posted wishes m...   \n",
              "\n",
              "                                     text_lemmatized  \\\n",
              "0  [army, officer, personnel, killed, action, enc...   \n",
              "1  [aryan, khan, bail, arrest, week, ago, drug, c...   \n",
              "2  [resigning, national, conference, devender, ra...   \n",
              "3  [china, artificial, intelligence, battle, unit...   \n",
              "4  [various, world, leader, agency, posted, wish,...   \n",
              "\n",
              "                               clean_text_lemmatized  \\\n",
              "0  [army, officer, personnel, killed, action, enc...   \n",
              "1  [aryan, khan, bail, arrest, week, ago, drug, c...   \n",
              "2  [resigning, national, conference, devender, ra...   \n",
              "3  [china, artificial, intelligence, battle, unit...   \n",
              "4  [various, world, agency, posted, wish, message...   \n",
              "\n",
              "                        clean_content_with_Stopwords  \n",
              "0  an army officer and four other personnel were ...  \n",
              "1  aryan khan did not get bail today for the thir...  \n",
              "2  a day after resigning from the national confer...  \n",
              "3  china has won the artificial intelligence batt...  \n",
              "4  various world leaders and un agencies posted w...  "
            ],
            "text/html": [
              "\n",
              "  <div id=\"df-60e1787b-93f0-49a8-9fab-546bb8f52e83\">\n",
              "    <div class=\"colab-df-container\">\n",
              "      <div>\n",
              "<style scoped>\n",
              "    .dataframe tbody tr th:only-of-type {\n",
              "        vertical-align: middle;\n",
              "    }\n",
              "\n",
              "    .dataframe tbody tr th {\n",
              "        vertical-align: top;\n",
              "    }\n",
              "\n",
              "    .dataframe thead th {\n",
              "        text-align: right;\n",
              "    }\n",
              "</style>\n",
              "<table border=\"1\" class=\"dataframe\">\n",
              "  <thead>\n",
              "    <tr style=\"text-align: right;\">\n",
              "      <th></th>\n",
              "      <th>text</th>\n",
              "      <th>url</th>\n",
              "      <th>title</th>\n",
              "      <th>content</th>\n",
              "      <th>bias</th>\n",
              "      <th>retweet_count</th>\n",
              "      <th>favorite_count</th>\n",
              "      <th>source_name</th>\n",
              "      <th>source</th>\n",
              "      <th>clean_content</th>\n",
              "      <th>text_lemmatized</th>\n",
              "      <th>clean_text_lemmatized</th>\n",
              "      <th>clean_content_with_Stopwords</th>\n",
              "    </tr>\n",
              "  </thead>\n",
              "  <tbody>\n",
              "    <tr>\n",
              "      <th>0</th>\n",
              "      <td>Army Officer, 4 Others Killed In Encounter In ...</td>\n",
              "      <td>https://www.ndtv.com/india-news/army-officer-4...</td>\n",
              "      <td>Army Officer, 4 Personnel Killed In Encounter ...</td>\n",
              "      <td>an army officer and four other personnel were ...</td>\n",
              "      <td>3</td>\n",
              "      <td>9.0</td>\n",
              "      <td>63.0</td>\n",
              "      <td>ndtv</td>\n",
              "      <td>0</td>\n",
              "      <td>army officer personnel killed action encounter...</td>\n",
              "      <td>[army, officer, personnel, killed, action, enc...</td>\n",
              "      <td>[army, officer, personnel, killed, action, enc...</td>\n",
              "      <td>an army officer and four other personnel were ...</td>\n",
              "    </tr>\n",
              "    <tr>\n",
              "      <th>1</th>\n",
              "      <td>#AryanKhan Case: No Bail For Him Today, Next H...</td>\n",
              "      <td>https://ndtv.com/india-news/mumbai-drug-bust-c...</td>\n",
              "      <td>Aryan Khan Case: No Bail For Him Today, Next H...</td>\n",
              "      <td>aryan khan did not get bail today for the thir...</td>\n",
              "      <td>3</td>\n",
              "      <td>5.0</td>\n",
              "      <td>44.0</td>\n",
              "      <td>ndtv</td>\n",
              "      <td>0</td>\n",
              "      <td>aryan khan bail arrest week ago drugs cruise c...</td>\n",
              "      <td>[aryan, khan, bail, arrest, week, ago, drug, c...</td>\n",
              "      <td>[aryan, khan, bail, arrest, week, ago, drug, c...</td>\n",
              "      <td>aryan khan did not get bail today for the thir...</td>\n",
              "    </tr>\n",
              "    <tr>\n",
              "      <th>2</th>\n",
              "      <td>RT @ndtvfeed: Ex-National Conference Leaders D...</td>\n",
              "      <td>https://www.ndtv.com/india-news/after-resignin...</td>\n",
              "      <td>Ex-National Conference Leaders Devender Rana, ...</td>\n",
              "      <td>a day after resigning from the national confer...</td>\n",
              "      <td>1</td>\n",
              "      <td>2.0</td>\n",
              "      <td>0.0</td>\n",
              "      <td>ndtv</td>\n",
              "      <td>0</td>\n",
              "      <td>resigning national conference devender rana he...</td>\n",
              "      <td>[resigning, national, conference, devender, ra...</td>\n",
              "      <td>[resigning, national, conference, devender, ra...</td>\n",
              "      <td>a day after resigning from the national confer...</td>\n",
              "    </tr>\n",
              "    <tr>\n",
              "      <th>3</th>\n",
              "      <td>RT @ndtvfeed: US Has Lost AI Battle To China, ...</td>\n",
              "      <td>https://www.ndtv.com/world-news/us-has-lost-ar...</td>\n",
              "      <td>US Has Lost AI Battle To China, Pentagon's Ex-...</td>\n",
              "      <td>china has won the artificial intelligence batt...</td>\n",
              "      <td>0</td>\n",
              "      <td>5.0</td>\n",
              "      <td>0.0</td>\n",
              "      <td>ndtv</td>\n",
              "      <td>0</td>\n",
              "      <td>china artificial intelligence battle united st...</td>\n",
              "      <td>[china, artificial, intelligence, battle, unit...</td>\n",
              "      <td>[china, artificial, intelligence, battle, unit...</td>\n",
              "      <td>china has won the artificial intelligence batt...</td>\n",
              "    </tr>\n",
              "    <tr>\n",
              "      <th>4</th>\n",
              "      <td>RT @ndtvfeed: A Look At Inspiring Messages On ...</td>\n",
              "      <td>https://www.ndtv.com/india-news/on-internation...</td>\n",
              "      <td>International Day Of The Girl Child 2021: Lead...</td>\n",
              "      <td>various world leaders and un agencies posted w...</td>\n",
              "      <td>3</td>\n",
              "      <td>3.0</td>\n",
              "      <td>0.0</td>\n",
              "      <td>ndtv</td>\n",
              "      <td>0</td>\n",
              "      <td>various world leaders agencies posted wishes m...</td>\n",
              "      <td>[various, world, leader, agency, posted, wish,...</td>\n",
              "      <td>[various, world, agency, posted, wish, message...</td>\n",
              "      <td>various world leaders and un agencies posted w...</td>\n",
              "    </tr>\n",
              "  </tbody>\n",
              "</table>\n",
              "</div>\n",
              "      <button class=\"colab-df-convert\" onclick=\"convertToInteractive('df-60e1787b-93f0-49a8-9fab-546bb8f52e83')\"\n",
              "              title=\"Convert this dataframe to an interactive table.\"\n",
              "              style=\"display:none;\">\n",
              "        \n",
              "  <svg xmlns=\"http://www.w3.org/2000/svg\" height=\"24px\"viewBox=\"0 0 24 24\"\n",
              "       width=\"24px\">\n",
              "    <path d=\"M0 0h24v24H0V0z\" fill=\"none\"/>\n",
              "    <path d=\"M18.56 5.44l.94 2.06.94-2.06 2.06-.94-2.06-.94-.94-2.06-.94 2.06-2.06.94zm-11 1L8.5 8.5l.94-2.06 2.06-.94-2.06-.94L8.5 2.5l-.94 2.06-2.06.94zm10 10l.94 2.06.94-2.06 2.06-.94-2.06-.94-.94-2.06-.94 2.06-2.06.94z\"/><path d=\"M17.41 7.96l-1.37-1.37c-.4-.4-.92-.59-1.43-.59-.52 0-1.04.2-1.43.59L10.3 9.45l-7.72 7.72c-.78.78-.78 2.05 0 2.83L4 21.41c.39.39.9.59 1.41.59.51 0 1.02-.2 1.41-.59l7.78-7.78 2.81-2.81c.8-.78.8-2.07 0-2.86zM5.41 20L4 18.59l7.72-7.72 1.47 1.35L5.41 20z\"/>\n",
              "  </svg>\n",
              "      </button>\n",
              "      \n",
              "  <style>\n",
              "    .colab-df-container {\n",
              "      display:flex;\n",
              "      flex-wrap:wrap;\n",
              "      gap: 12px;\n",
              "    }\n",
              "\n",
              "    .colab-df-convert {\n",
              "      background-color: #E8F0FE;\n",
              "      border: none;\n",
              "      border-radius: 50%;\n",
              "      cursor: pointer;\n",
              "      display: none;\n",
              "      fill: #1967D2;\n",
              "      height: 32px;\n",
              "      padding: 0 0 0 0;\n",
              "      width: 32px;\n",
              "    }\n",
              "\n",
              "    .colab-df-convert:hover {\n",
              "      background-color: #E2EBFA;\n",
              "      box-shadow: 0px 1px 2px rgba(60, 64, 67, 0.3), 0px 1px 3px 1px rgba(60, 64, 67, 0.15);\n",
              "      fill: #174EA6;\n",
              "    }\n",
              "\n",
              "    [theme=dark] .colab-df-convert {\n",
              "      background-color: #3B4455;\n",
              "      fill: #D2E3FC;\n",
              "    }\n",
              "\n",
              "    [theme=dark] .colab-df-convert:hover {\n",
              "      background-color: #434B5C;\n",
              "      box-shadow: 0px 1px 3px 1px rgba(0, 0, 0, 0.15);\n",
              "      filter: drop-shadow(0px 1px 2px rgba(0, 0, 0, 0.3));\n",
              "      fill: #FFFFFF;\n",
              "    }\n",
              "  </style>\n",
              "\n",
              "      <script>\n",
              "        const buttonEl =\n",
              "          document.querySelector('#df-60e1787b-93f0-49a8-9fab-546bb8f52e83 button.colab-df-convert');\n",
              "        buttonEl.style.display =\n",
              "          google.colab.kernel.accessAllowed ? 'block' : 'none';\n",
              "\n",
              "        async function convertToInteractive(key) {\n",
              "          const element = document.querySelector('#df-60e1787b-93f0-49a8-9fab-546bb8f52e83');\n",
              "          const dataTable =\n",
              "            await google.colab.kernel.invokeFunction('convertToInteractive',\n",
              "                                                     [key], {});\n",
              "          if (!dataTable) return;\n",
              "\n",
              "          const docLinkHtml = 'Like what you see? Visit the ' +\n",
              "            '<a target=\"_blank\" href=https://colab.research.google.com/notebooks/data_table.ipynb>data table notebook</a>'\n",
              "            + ' to learn more about interactive tables.';\n",
              "          element.innerHTML = '';\n",
              "          dataTable['output_type'] = 'display_data';\n",
              "          await google.colab.output.renderOutput(dataTable, element);\n",
              "          const docLink = document.createElement('div');\n",
              "          docLink.innerHTML = docLinkHtml;\n",
              "          element.appendChild(docLink);\n",
              "        }\n",
              "      </script>\n",
              "    </div>\n",
              "  </div>\n",
              "  "
            ]
          },
          "metadata": {},
          "execution_count": 7
        }
      ]
    },
    {
      "cell_type": "code",
      "source": [
        "df['clean_content']=\"\"\n",
        "for i in tqdm(range(len(df['clean_text_lemmatized']))):\n",
        "    x=df['clean_text_lemmatized'][i]\n",
        "    review=\" \".join(x)\n",
        "    df['clean_content'][i] = review"
      ],
      "metadata": {
        "colab": {
          "base_uri": "https://localhost:8080/"
        },
        "id": "swI2tvndNbiA",
        "outputId": "8f5d2fac-9b46-4fd3-f532-0f6bbb8aecd3"
      },
      "execution_count": null,
      "outputs": [
        {
          "output_type": "stream",
          "name": "stderr",
          "text": [
            "  0%|          | 0/2150 [00:00<?, ?it/s]/usr/local/lib/python3.7/dist-packages/ipykernel_launcher.py:5: SettingWithCopyWarning: \n",
            "A value is trying to be set on a copy of a slice from a DataFrame\n",
            "\n",
            "See the caveats in the documentation: https://pandas.pydata.org/pandas-docs/stable/user_guide/indexing.html#returning-a-view-versus-a-copy\n",
            "  \"\"\"\n",
            "100%|██████████| 2150/2150 [00:02<00:00, 963.03it/s]\n"
          ]
        }
      ]
    },
    {
      "cell_type": "code",
      "source": [
        "df.head()"
      ],
      "metadata": {
        "colab": {
          "base_uri": "https://localhost:8080/",
          "height": 669
        },
        "id": "EsRro7OANl13",
        "outputId": "4ed43773-84e3-4dfc-cd76-8aff1406d4cc"
      },
      "execution_count": null,
      "outputs": [
        {
          "output_type": "execute_result",
          "data": {
            "text/plain": [
              "                                                text  \\\n",
              "0  Army Officer, 4 Others Killed In Encounter In ...   \n",
              "1  #AryanKhan Case: No Bail For Him Today, Next H...   \n",
              "2  RT @ndtvfeed: Ex-National Conference Leaders D...   \n",
              "3  RT @ndtvfeed: US Has Lost AI Battle To China, ...   \n",
              "4  RT @ndtvfeed: A Look At Inspiring Messages On ...   \n",
              "\n",
              "                                                 url  \\\n",
              "0  https://www.ndtv.com/india-news/army-officer-4...   \n",
              "1  https://ndtv.com/india-news/mumbai-drug-bust-c...   \n",
              "2  https://www.ndtv.com/india-news/after-resignin...   \n",
              "3  https://www.ndtv.com/world-news/us-has-lost-ar...   \n",
              "4  https://www.ndtv.com/india-news/on-internation...   \n",
              "\n",
              "                                               title  \\\n",
              "0  Army Officer, 4 Personnel Killed In Encounter ...   \n",
              "1  Aryan Khan Case: No Bail For Him Today, Next H...   \n",
              "2  Ex-National Conference Leaders Devender Rana, ...   \n",
              "3  US Has Lost AI Battle To China, Pentagon's Ex-...   \n",
              "4  International Day Of The Girl Child 2021: Lead...   \n",
              "\n",
              "                                             content  bias  retweet_count  \\\n",
              "0  an army officer and four other personnel were ...     3            9.0   \n",
              "1  aryan khan did not get bail today for the thir...     3            5.0   \n",
              "2  a day after resigning from the national confer...     1            2.0   \n",
              "3  china has won the artificial intelligence batt...     0            5.0   \n",
              "4  various world leaders and un agencies posted w...     3            3.0   \n",
              "\n",
              "   favorite_count source_name  source  \\\n",
              "0            63.0        ndtv       0   \n",
              "1            44.0        ndtv       0   \n",
              "2             0.0        ndtv       0   \n",
              "3             0.0        ndtv       0   \n",
              "4             0.0        ndtv       0   \n",
              "\n",
              "                                       clean_content  \\\n",
              "0  army officer personnel killed action encounter...   \n",
              "1  aryan khan bail arrest week ago drug cruise ca...   \n",
              "2  resigning national conference devender rana he...   \n",
              "3  china artificial intelligence battle united he...   \n",
              "4  various world agency posted wish message socia...   \n",
              "\n",
              "                                     text_lemmatized  \\\n",
              "0  [army, officer, personnel, killed, action, enc...   \n",
              "1  [aryan, khan, bail, arrest, week, ago, drug, c...   \n",
              "2  [resigning, national, conference, devender, ra...   \n",
              "3  [china, artificial, intelligence, battle, unit...   \n",
              "4  [various, world, leader, agency, posted, wish,...   \n",
              "\n",
              "                               clean_text_lemmatized  \\\n",
              "0  [army, officer, personnel, killed, action, enc...   \n",
              "1  [aryan, khan, bail, arrest, week, ago, drug, c...   \n",
              "2  [resigning, national, conference, devender, ra...   \n",
              "3  [china, artificial, intelligence, battle, unit...   \n",
              "4  [various, world, agency, posted, wish, message...   \n",
              "\n",
              "                        clean_content_with_Stopwords  \n",
              "0  an army officer and four other personnel were ...  \n",
              "1  aryan khan did not get bail today for the thir...  \n",
              "2  a day after resigning from the national confer...  \n",
              "3  china has won the artificial intelligence batt...  \n",
              "4  various world leaders and un agencies posted w...  "
            ],
            "text/html": [
              "\n",
              "  <div id=\"df-12bde3f1-09f6-4c4f-a205-ffe4457f9900\">\n",
              "    <div class=\"colab-df-container\">\n",
              "      <div>\n",
              "<style scoped>\n",
              "    .dataframe tbody tr th:only-of-type {\n",
              "        vertical-align: middle;\n",
              "    }\n",
              "\n",
              "    .dataframe tbody tr th {\n",
              "        vertical-align: top;\n",
              "    }\n",
              "\n",
              "    .dataframe thead th {\n",
              "        text-align: right;\n",
              "    }\n",
              "</style>\n",
              "<table border=\"1\" class=\"dataframe\">\n",
              "  <thead>\n",
              "    <tr style=\"text-align: right;\">\n",
              "      <th></th>\n",
              "      <th>text</th>\n",
              "      <th>url</th>\n",
              "      <th>title</th>\n",
              "      <th>content</th>\n",
              "      <th>bias</th>\n",
              "      <th>retweet_count</th>\n",
              "      <th>favorite_count</th>\n",
              "      <th>source_name</th>\n",
              "      <th>source</th>\n",
              "      <th>clean_content</th>\n",
              "      <th>text_lemmatized</th>\n",
              "      <th>clean_text_lemmatized</th>\n",
              "      <th>clean_content_with_Stopwords</th>\n",
              "    </tr>\n",
              "  </thead>\n",
              "  <tbody>\n",
              "    <tr>\n",
              "      <th>0</th>\n",
              "      <td>Army Officer, 4 Others Killed In Encounter In ...</td>\n",
              "      <td>https://www.ndtv.com/india-news/army-officer-4...</td>\n",
              "      <td>Army Officer, 4 Personnel Killed In Encounter ...</td>\n",
              "      <td>an army officer and four other personnel were ...</td>\n",
              "      <td>3</td>\n",
              "      <td>9.0</td>\n",
              "      <td>63.0</td>\n",
              "      <td>ndtv</td>\n",
              "      <td>0</td>\n",
              "      <td>army officer personnel killed action encounter...</td>\n",
              "      <td>[army, officer, personnel, killed, action, enc...</td>\n",
              "      <td>[army, officer, personnel, killed, action, enc...</td>\n",
              "      <td>an army officer and four other personnel were ...</td>\n",
              "    </tr>\n",
              "    <tr>\n",
              "      <th>1</th>\n",
              "      <td>#AryanKhan Case: No Bail For Him Today, Next H...</td>\n",
              "      <td>https://ndtv.com/india-news/mumbai-drug-bust-c...</td>\n",
              "      <td>Aryan Khan Case: No Bail For Him Today, Next H...</td>\n",
              "      <td>aryan khan did not get bail today for the thir...</td>\n",
              "      <td>3</td>\n",
              "      <td>5.0</td>\n",
              "      <td>44.0</td>\n",
              "      <td>ndtv</td>\n",
              "      <td>0</td>\n",
              "      <td>aryan khan bail arrest week ago drug cruise ca...</td>\n",
              "      <td>[aryan, khan, bail, arrest, week, ago, drug, c...</td>\n",
              "      <td>[aryan, khan, bail, arrest, week, ago, drug, c...</td>\n",
              "      <td>aryan khan did not get bail today for the thir...</td>\n",
              "    </tr>\n",
              "    <tr>\n",
              "      <th>2</th>\n",
              "      <td>RT @ndtvfeed: Ex-National Conference Leaders D...</td>\n",
              "      <td>https://www.ndtv.com/india-news/after-resignin...</td>\n",
              "      <td>Ex-National Conference Leaders Devender Rana, ...</td>\n",
              "      <td>a day after resigning from the national confer...</td>\n",
              "      <td>1</td>\n",
              "      <td>2.0</td>\n",
              "      <td>0.0</td>\n",
              "      <td>ndtv</td>\n",
              "      <td>0</td>\n",
              "      <td>resigning national conference devender rana he...</td>\n",
              "      <td>[resigning, national, conference, devender, ra...</td>\n",
              "      <td>[resigning, national, conference, devender, ra...</td>\n",
              "      <td>a day after resigning from the national confer...</td>\n",
              "    </tr>\n",
              "    <tr>\n",
              "      <th>3</th>\n",
              "      <td>RT @ndtvfeed: US Has Lost AI Battle To China, ...</td>\n",
              "      <td>https://www.ndtv.com/world-news/us-has-lost-ar...</td>\n",
              "      <td>US Has Lost AI Battle To China, Pentagon's Ex-...</td>\n",
              "      <td>china has won the artificial intelligence batt...</td>\n",
              "      <td>0</td>\n",
              "      <td>5.0</td>\n",
              "      <td>0.0</td>\n",
              "      <td>ndtv</td>\n",
              "      <td>0</td>\n",
              "      <td>china artificial intelligence battle united he...</td>\n",
              "      <td>[china, artificial, intelligence, battle, unit...</td>\n",
              "      <td>[china, artificial, intelligence, battle, unit...</td>\n",
              "      <td>china has won the artificial intelligence batt...</td>\n",
              "    </tr>\n",
              "    <tr>\n",
              "      <th>4</th>\n",
              "      <td>RT @ndtvfeed: A Look At Inspiring Messages On ...</td>\n",
              "      <td>https://www.ndtv.com/india-news/on-internation...</td>\n",
              "      <td>International Day Of The Girl Child 2021: Lead...</td>\n",
              "      <td>various world leaders and un agencies posted w...</td>\n",
              "      <td>3</td>\n",
              "      <td>3.0</td>\n",
              "      <td>0.0</td>\n",
              "      <td>ndtv</td>\n",
              "      <td>0</td>\n",
              "      <td>various world agency posted wish message socia...</td>\n",
              "      <td>[various, world, leader, agency, posted, wish,...</td>\n",
              "      <td>[various, world, agency, posted, wish, message...</td>\n",
              "      <td>various world leaders and un agencies posted w...</td>\n",
              "    </tr>\n",
              "  </tbody>\n",
              "</table>\n",
              "</div>\n",
              "      <button class=\"colab-df-convert\" onclick=\"convertToInteractive('df-12bde3f1-09f6-4c4f-a205-ffe4457f9900')\"\n",
              "              title=\"Convert this dataframe to an interactive table.\"\n",
              "              style=\"display:none;\">\n",
              "        \n",
              "  <svg xmlns=\"http://www.w3.org/2000/svg\" height=\"24px\"viewBox=\"0 0 24 24\"\n",
              "       width=\"24px\">\n",
              "    <path d=\"M0 0h24v24H0V0z\" fill=\"none\"/>\n",
              "    <path d=\"M18.56 5.44l.94 2.06.94-2.06 2.06-.94-2.06-.94-.94-2.06-.94 2.06-2.06.94zm-11 1L8.5 8.5l.94-2.06 2.06-.94-2.06-.94L8.5 2.5l-.94 2.06-2.06.94zm10 10l.94 2.06.94-2.06 2.06-.94-2.06-.94-.94-2.06-.94 2.06-2.06.94z\"/><path d=\"M17.41 7.96l-1.37-1.37c-.4-.4-.92-.59-1.43-.59-.52 0-1.04.2-1.43.59L10.3 9.45l-7.72 7.72c-.78.78-.78 2.05 0 2.83L4 21.41c.39.39.9.59 1.41.59.51 0 1.02-.2 1.41-.59l7.78-7.78 2.81-2.81c.8-.78.8-2.07 0-2.86zM5.41 20L4 18.59l7.72-7.72 1.47 1.35L5.41 20z\"/>\n",
              "  </svg>\n",
              "      </button>\n",
              "      \n",
              "  <style>\n",
              "    .colab-df-container {\n",
              "      display:flex;\n",
              "      flex-wrap:wrap;\n",
              "      gap: 12px;\n",
              "    }\n",
              "\n",
              "    .colab-df-convert {\n",
              "      background-color: #E8F0FE;\n",
              "      border: none;\n",
              "      border-radius: 50%;\n",
              "      cursor: pointer;\n",
              "      display: none;\n",
              "      fill: #1967D2;\n",
              "      height: 32px;\n",
              "      padding: 0 0 0 0;\n",
              "      width: 32px;\n",
              "    }\n",
              "\n",
              "    .colab-df-convert:hover {\n",
              "      background-color: #E2EBFA;\n",
              "      box-shadow: 0px 1px 2px rgba(60, 64, 67, 0.3), 0px 1px 3px 1px rgba(60, 64, 67, 0.15);\n",
              "      fill: #174EA6;\n",
              "    }\n",
              "\n",
              "    [theme=dark] .colab-df-convert {\n",
              "      background-color: #3B4455;\n",
              "      fill: #D2E3FC;\n",
              "    }\n",
              "\n",
              "    [theme=dark] .colab-df-convert:hover {\n",
              "      background-color: #434B5C;\n",
              "      box-shadow: 0px 1px 3px 1px rgba(0, 0, 0, 0.15);\n",
              "      filter: drop-shadow(0px 1px 2px rgba(0, 0, 0, 0.3));\n",
              "      fill: #FFFFFF;\n",
              "    }\n",
              "  </style>\n",
              "\n",
              "      <script>\n",
              "        const buttonEl =\n",
              "          document.querySelector('#df-12bde3f1-09f6-4c4f-a205-ffe4457f9900 button.colab-df-convert');\n",
              "        buttonEl.style.display =\n",
              "          google.colab.kernel.accessAllowed ? 'block' : 'none';\n",
              "\n",
              "        async function convertToInteractive(key) {\n",
              "          const element = document.querySelector('#df-12bde3f1-09f6-4c4f-a205-ffe4457f9900');\n",
              "          const dataTable =\n",
              "            await google.colab.kernel.invokeFunction('convertToInteractive',\n",
              "                                                     [key], {});\n",
              "          if (!dataTable) return;\n",
              "\n",
              "          const docLinkHtml = 'Like what you see? Visit the ' +\n",
              "            '<a target=\"_blank\" href=https://colab.research.google.com/notebooks/data_table.ipynb>data table notebook</a>'\n",
              "            + ' to learn more about interactive tables.';\n",
              "          element.innerHTML = '';\n",
              "          dataTable['output_type'] = 'display_data';\n",
              "          await google.colab.output.renderOutput(dataTable, element);\n",
              "          const docLink = document.createElement('div');\n",
              "          docLink.innerHTML = docLinkHtml;\n",
              "          element.appendChild(docLink);\n",
              "        }\n",
              "      </script>\n",
              "    </div>\n",
              "  </div>\n",
              "  "
            ]
          },
          "metadata": {},
          "execution_count": 9
        }
      ]
    },
    {
      "cell_type": "code",
      "source": [
        "# from keras.preprocessing.sequence import pad_sequences\n",
        "# max_features = 30000\n",
        "# maxlen = 25\n",
        "# X = df['clean_text_lemmatized']\n",
        "# X = pad_sequences(X, maxlen = maxlen)\n",
        "# y=df['bias']"
      ],
      "metadata": {
        "id": "nIhLwiQwrnFJ"
      },
      "execution_count": null,
      "outputs": []
    },
    {
      "cell_type": "code",
      "source": [
        "for x in df['clean_text_lemmatized'][2]:\n",
        "   if(x=='day'):\n",
        "      print(x)"
      ],
      "metadata": {
        "id": "KIOgL6bacY1d"
      },
      "execution_count": null,
      "outputs": []
    },
    {
      "cell_type": "code",
      "source": [
        "for i in range(len(df)):\n",
        "  for x in df['clean_text_lemmatized'][i]:\n",
        "    if x=='wa':\n",
        "      print(i)\n",
        "      \n"
      ],
      "metadata": {
        "id": "C1-h_eeN9C10"
      },
      "execution_count": null,
      "outputs": []
    },
    {
      "cell_type": "code",
      "source": [
        "df['content'][0]"
      ],
      "metadata": {
        "colab": {
          "base_uri": "https://localhost:8080/",
          "height": 122
        },
        "id": "xgQm_7aORUMh",
        "outputId": "2364cc6e-ca5d-4625-bd0d-fec6da1a2210"
      },
      "execution_count": null,
      "outputs": [
        {
          "output_type": "execute_result",
          "data": {
            "text/plain": [
              "\"an army officer and four other personnel were killed in action during an encounter between security forces and terrorists in jammu and kashmir's poonch district on monday, officials said. an anti-insurgency operation was launched in a village close to dera ki gali in surankote in the early hours following intelligence inputs about the presence of heavily-armed terrorists there, they said. the hiding terrorists fired on the search parties resulting in fierce gunfight and critical injuries to a junior commissioned officer or jco and four other soldiers. they died from their injuries. the encounter with the terrorists was going on and further details are awaited, a defence spokesperson said. officials said there were reports about the presence of a group of heavily-armed terrorists in the chamrer forest, after they managed to sneak from across the line of control (loc). reinforcements have been rushed to the area to plug all escape routes of the terrorists, they said. (with inputs from pti)\""
            ],
            "application/vnd.google.colaboratory.intrinsic+json": {
              "type": "string"
            }
          },
          "metadata": {},
          "execution_count": 13
        }
      ]
    },
    {
      "cell_type": "code",
      "source": [
        "#df['clean_text_lemmatized'][0]"
      ],
      "metadata": {
        "id": "pgrRoY1fRLyx"
      },
      "execution_count": null,
      "outputs": []
    },
    {
      "cell_type": "code",
      "source": [
        "#//"
      ],
      "metadata": {
        "id": "u63LlRHQUjCp"
      },
      "execution_count": null,
      "outputs": []
    },
    {
      "cell_type": "code",
      "source": [
        "for i in range(len(df)):\n",
        "  for x in df['clean_text_lemmatized'][i]:\n",
        "    if str(x)=='said':\n",
        "      print('here',i)\n"
      ],
      "metadata": {
        "id": "gG9XN1kVr8cH"
      },
      "execution_count": null,
      "outputs": []
    },
    {
      "cell_type": "code",
      "source": [
        "center_with_bias_words = df.loc[df['content'].str.contains('shiv sena|shivsena|aap|bjp|congress|modi|gandhi', case=False)]\n",
        "center_without_bias_words = df.loc[~df['content'].str.contains('sena|shivsena|aap|bjp|congress|modi|gandhi|minister|aam|government|aadmi', case=False)]\n",
        "\n",
        "center_without_bias_words = center_without_bias_words.loc[center_without_bias_words['bias']==3]\n",
        "\n",
        "center_with_bias_words = center_with_bias_words.loc[center_with_bias_words['bias']==3]\n",
        "right = df.loc[df['bias']==1]\n",
        "left = df.loc[df['bias']==0]\n",
        "#center = df.loc[df['bias']==3]\n",
        "#df2=pd.concat([left,right,center_with_bias_words])\n"
      ],
      "metadata": {
        "id": "4UhtgRVNwTTa"
      },
      "execution_count": null,
      "outputs": []
    },
    {
      "cell_type": "code",
      "source": [
        "print('right',len(right))\n",
        "print('left',len(left))\n",
        "print('center_without_bias_words',len(center_without_bias_words))\n",
        "print('center_with_bias_words',len(center_with_bias_words))\n",
        "\n"
      ],
      "metadata": {
        "colab": {
          "base_uri": "https://localhost:8080/"
        },
        "id": "tP4NYeAn5kAR",
        "outputId": "4d0b0c20-4e15-4574-d52f-1a6288192f25"
      },
      "execution_count": null,
      "outputs": [
        {
          "output_type": "stream",
          "name": "stdout",
          "text": [
            "right 184\n",
            "left 263\n",
            "center_without_bias_words 811\n",
            "center_with_bias_words 443\n"
          ]
        }
      ]
    },
    {
      "cell_type": "code",
      "source": [
        "# for xt in all_words.most_common(5000):\n",
        "#   print(xt)###"
      ],
      "metadata": {
        "id": "cNaRtkiAvpNt"
      },
      "execution_count": null,
      "outputs": []
    },
    {
      "cell_type": "code",
      "source": [
        "left.loc[left['clean_content'].str.contains('power')]#, case=False)]\n"
      ],
      "metadata": {
        "colab": {
          "base_uri": "https://localhost:8080/",
          "height": 332
        },
        "id": "uK35e6tZWo24",
        "outputId": "606fd837-b324-421c-9579-ce3e220d147c"
      },
      "execution_count": null,
      "outputs": [
        {
          "output_type": "execute_result",
          "data": {
            "text/plain": [
              "                                                  text  \\\n",
              "162  RT @ndtvfeed: Parliament Panels Reconstituted,...   \n",
              "197  RT @ndtvfeed: Culprits Being Given Flower Bouq...   \n",
              "\n",
              "                                                   url  \\\n",
              "162  https://www.ndtv.com/india-news/parliament-pan...   \n",
              "197  https://www.ndtv.com/india-news/culprits-being...   \n",
              "\n",
              "                                                 title  \\\n",
              "162  Parliament Panels Reconstituted, Congress Lead...   \n",
              "197  Culprits Being Given \"Flower Bouquet\": Akhiles...   \n",
              "\n",
              "                                               content  bias  retweet_count  \\\n",
              "162  congress leaders shashi tharoor, anand sharma ...     0            3.0   \n",
              "197  attacking the uttar pradesh government over th...     0           18.0   \n",
              "\n",
              "     favorite_count source_name  source  \\\n",
              "162             0.0        ndtv       0   \n",
              "197             0.0        ndtv       0   \n",
              "\n",
              "                                         clean_content  \\\n",
              "162  congress shashi tharoor anand sharma jairam ra...   \n",
              "197  attacking uttar pradesh handling probe lakhimp...   \n",
              "\n",
              "                                       text_lemmatized  \\\n",
              "162  [congress, leader, shashi, tharoor, anand, sha...   \n",
              "197  [attacking, uttar, pradesh, handling, probe, l...   \n",
              "\n",
              "                                 clean_text_lemmatized  \\\n",
              "162  [congress, shashi, tharoor, anand, sharma, jai...   \n",
              "197  [attacking, uttar, pradesh, handling, probe, l...   \n",
              "\n",
              "                          clean_content_with_Stopwords  \n",
              "162  congress leaders shashi tharoor, anand sharma ...  \n",
              "197  attacking the uttar pradesh government over th...  "
            ],
            "text/html": [
              "\n",
              "  <div id=\"df-7f9ab0db-bb24-4f70-8611-61aa4adc9592\">\n",
              "    <div class=\"colab-df-container\">\n",
              "      <div>\n",
              "<style scoped>\n",
              "    .dataframe tbody tr th:only-of-type {\n",
              "        vertical-align: middle;\n",
              "    }\n",
              "\n",
              "    .dataframe tbody tr th {\n",
              "        vertical-align: top;\n",
              "    }\n",
              "\n",
              "    .dataframe thead th {\n",
              "        text-align: right;\n",
              "    }\n",
              "</style>\n",
              "<table border=\"1\" class=\"dataframe\">\n",
              "  <thead>\n",
              "    <tr style=\"text-align: right;\">\n",
              "      <th></th>\n",
              "      <th>text</th>\n",
              "      <th>url</th>\n",
              "      <th>title</th>\n",
              "      <th>content</th>\n",
              "      <th>bias</th>\n",
              "      <th>retweet_count</th>\n",
              "      <th>favorite_count</th>\n",
              "      <th>source_name</th>\n",
              "      <th>source</th>\n",
              "      <th>clean_content</th>\n",
              "      <th>text_lemmatized</th>\n",
              "      <th>clean_text_lemmatized</th>\n",
              "      <th>clean_content_with_Stopwords</th>\n",
              "    </tr>\n",
              "  </thead>\n",
              "  <tbody>\n",
              "    <tr>\n",
              "      <th>162</th>\n",
              "      <td>RT @ndtvfeed: Parliament Panels Reconstituted,...</td>\n",
              "      <td>https://www.ndtv.com/india-news/parliament-pan...</td>\n",
              "      <td>Parliament Panels Reconstituted, Congress Lead...</td>\n",
              "      <td>congress leaders shashi tharoor, anand sharma ...</td>\n",
              "      <td>0</td>\n",
              "      <td>3.0</td>\n",
              "      <td>0.0</td>\n",
              "      <td>ndtv</td>\n",
              "      <td>0</td>\n",
              "      <td>congress shashi tharoor anand sharma jairam ra...</td>\n",
              "      <td>[congress, leader, shashi, tharoor, anand, sha...</td>\n",
              "      <td>[congress, shashi, tharoor, anand, sharma, jai...</td>\n",
              "      <td>congress leaders shashi tharoor, anand sharma ...</td>\n",
              "    </tr>\n",
              "    <tr>\n",
              "      <th>197</th>\n",
              "      <td>RT @ndtvfeed: Culprits Being Given Flower Bouq...</td>\n",
              "      <td>https://www.ndtv.com/india-news/culprits-being...</td>\n",
              "      <td>Culprits Being Given \"Flower Bouquet\": Akhiles...</td>\n",
              "      <td>attacking the uttar pradesh government over th...</td>\n",
              "      <td>0</td>\n",
              "      <td>18.0</td>\n",
              "      <td>0.0</td>\n",
              "      <td>ndtv</td>\n",
              "      <td>0</td>\n",
              "      <td>attacking uttar pradesh handling probe lakhimp...</td>\n",
              "      <td>[attacking, uttar, pradesh, handling, probe, l...</td>\n",
              "      <td>[attacking, uttar, pradesh, handling, probe, l...</td>\n",
              "      <td>attacking the uttar pradesh government over th...</td>\n",
              "    </tr>\n",
              "  </tbody>\n",
              "</table>\n",
              "</div>\n",
              "      <button class=\"colab-df-convert\" onclick=\"convertToInteractive('df-7f9ab0db-bb24-4f70-8611-61aa4adc9592')\"\n",
              "              title=\"Convert this dataframe to an interactive table.\"\n",
              "              style=\"display:none;\">\n",
              "        \n",
              "  <svg xmlns=\"http://www.w3.org/2000/svg\" height=\"24px\"viewBox=\"0 0 24 24\"\n",
              "       width=\"24px\">\n",
              "    <path d=\"M0 0h24v24H0V0z\" fill=\"none\"/>\n",
              "    <path d=\"M18.56 5.44l.94 2.06.94-2.06 2.06-.94-2.06-.94-.94-2.06-.94 2.06-2.06.94zm-11 1L8.5 8.5l.94-2.06 2.06-.94-2.06-.94L8.5 2.5l-.94 2.06-2.06.94zm10 10l.94 2.06.94-2.06 2.06-.94-2.06-.94-.94-2.06-.94 2.06-2.06.94z\"/><path d=\"M17.41 7.96l-1.37-1.37c-.4-.4-.92-.59-1.43-.59-.52 0-1.04.2-1.43.59L10.3 9.45l-7.72 7.72c-.78.78-.78 2.05 0 2.83L4 21.41c.39.39.9.59 1.41.59.51 0 1.02-.2 1.41-.59l7.78-7.78 2.81-2.81c.8-.78.8-2.07 0-2.86zM5.41 20L4 18.59l7.72-7.72 1.47 1.35L5.41 20z\"/>\n",
              "  </svg>\n",
              "      </button>\n",
              "      \n",
              "  <style>\n",
              "    .colab-df-container {\n",
              "      display:flex;\n",
              "      flex-wrap:wrap;\n",
              "      gap: 12px;\n",
              "    }\n",
              "\n",
              "    .colab-df-convert {\n",
              "      background-color: #E8F0FE;\n",
              "      border: none;\n",
              "      border-radius: 50%;\n",
              "      cursor: pointer;\n",
              "      display: none;\n",
              "      fill: #1967D2;\n",
              "      height: 32px;\n",
              "      padding: 0 0 0 0;\n",
              "      width: 32px;\n",
              "    }\n",
              "\n",
              "    .colab-df-convert:hover {\n",
              "      background-color: #E2EBFA;\n",
              "      box-shadow: 0px 1px 2px rgba(60, 64, 67, 0.3), 0px 1px 3px 1px rgba(60, 64, 67, 0.15);\n",
              "      fill: #174EA6;\n",
              "    }\n",
              "\n",
              "    [theme=dark] .colab-df-convert {\n",
              "      background-color: #3B4455;\n",
              "      fill: #D2E3FC;\n",
              "    }\n",
              "\n",
              "    [theme=dark] .colab-df-convert:hover {\n",
              "      background-color: #434B5C;\n",
              "      box-shadow: 0px 1px 3px 1px rgba(0, 0, 0, 0.15);\n",
              "      filter: drop-shadow(0px 1px 2px rgba(0, 0, 0, 0.3));\n",
              "      fill: #FFFFFF;\n",
              "    }\n",
              "  </style>\n",
              "\n",
              "      <script>\n",
              "        const buttonEl =\n",
              "          document.querySelector('#df-7f9ab0db-bb24-4f70-8611-61aa4adc9592 button.colab-df-convert');\n",
              "        buttonEl.style.display =\n",
              "          google.colab.kernel.accessAllowed ? 'block' : 'none';\n",
              "\n",
              "        async function convertToInteractive(key) {\n",
              "          const element = document.querySelector('#df-7f9ab0db-bb24-4f70-8611-61aa4adc9592');\n",
              "          const dataTable =\n",
              "            await google.colab.kernel.invokeFunction('convertToInteractive',\n",
              "                                                     [key], {});\n",
              "          if (!dataTable) return;\n",
              "\n",
              "          const docLinkHtml = 'Like what you see? Visit the ' +\n",
              "            '<a target=\"_blank\" href=https://colab.research.google.com/notebooks/data_table.ipynb>data table notebook</a>'\n",
              "            + ' to learn more about interactive tables.';\n",
              "          element.innerHTML = '';\n",
              "          dataTable['output_type'] = 'display_data';\n",
              "          await google.colab.output.renderOutput(dataTable, element);\n",
              "          const docLink = document.createElement('div');\n",
              "          docLink.innerHTML = docLinkHtml;\n",
              "          element.appendChild(docLink);\n",
              "        }\n",
              "      </script>\n",
              "    </div>\n",
              "  </div>\n",
              "  "
            ]
          },
          "metadata": {},
          "execution_count": 20
        }
      ]
    },
    {
      "cell_type": "code",
      "source": [
        "right.loc[right['clean_content'].str.contains('power')]#, case=False)]"
      ],
      "metadata": {
        "colab": {
          "base_uri": "https://localhost:8080/",
          "height": 750
        },
        "id": "hFNqNHSVqRA8",
        "outputId": "de51e798-06d5-49aa-8e2c-699f35a24b7b"
      },
      "execution_count": null,
      "outputs": [
        {
          "output_type": "execute_result",
          "data": {
            "text/plain": [
              "                                                   text  \\\n",
              "503   RT @ndtvfeed: First 7-11 Store Opens In Mumbai...   \n",
              "590   #Opinion: Yogi Does For Priyanka What PK Could...   \n",
              "1122  Karnataka Min Ashwathnarayan lauds NEP, says '...   \n",
              "1145  Maharashtra bandh: BJP warns against forceful ...   \n",
              "1217  FULL INTERVIEW: Amit Shah explains Modi's 20 y...   \n",
              "1296  UP Min Sidharth Nath Singh slams Akhilesh Yada...   \n",
              "1328  Well said': Smriti Irani shares powerful messa...   \n",
              "\n",
              "                                                    url  \\\n",
              "503   https://www.ndtv.com/india-news/first-7-11-sto...   \n",
              "590   https://www.ndtv.com/opinion/opinion-yogi-does...   \n",
              "1122  https://www.republicworld.com/india-news/educa...   \n",
              "1145  https://www.republicworld.com/india-news/gener...   \n",
              "1217  https://www.republicworld.com/india-news/polit...   \n",
              "1296  https://www.republicworld.com/india-news/polit...   \n",
              "1328  https://www.republicworld.com/entertainment-ne...   \n",
              "\n",
              "                                                  title  \\\n",
              "503   Mukesh Ambani Brings 7-Eleven Stores To India,...   \n",
              "590   Opinion: Yogi Does For Priyanka What PK Couldn...   \n",
              "1122  Karnataka Min Ashwathnarayan Lauds NEP, Says '...   \n",
              "1145  Maharashtra Bandh: BJP Warns Against Forceful ...   \n",
              "1217  FULL INTERVIEW: Amit Shah Explains Modi's 20 Y...   \n",
              "1296  A journalist was burnt alive' | UP Min Sidhart...   \n",
              "1328  Well Said': Smriti Irani Shares Powerful Messa...   \n",
              "\n",
              "                                                content  bias  retweet_count  \\\n",
              "503   mukesh ambani, asia's richest man, will bring ...     1           22.0   \n",
              "590   it is a strange world where the man who causes...     1          100.0   \n",
              "1122  karnataka minister for higher education, dr c ...     1            4.0   \n",
              "1145  the maharashtra ruling alliance has called for...     1           25.0   \n",
              "1217  hailing pm modi journey from 3-time gujarat cm...     1            7.0   \n",
              "1296  after former uttar pradesh chief minister and ...     1           19.0   \n",
              "1328  union minister for women and child development...     1            5.0   \n",
              "\n",
              "      favorite_count source_name  source  \\\n",
              "503              0.0        ndtv       0   \n",
              "590            791.0        ndtv       0   \n",
              "1122            28.0  republictv       1   \n",
              "1145           193.0  republictv       1   \n",
              "1217            59.0  republictv       1   \n",
              "1296            94.0  republictv       1   \n",
              "1328            48.0  republictv       1   \n",
              "\n",
              "                                          clean_content  \\\n",
              "503   mukesh ambani asia richest man bring convenien...   \n",
              "590   strange world man cause turnaround priyanka ga...   \n",
              "1122  karnataka minister higher education dr c n ash...   \n",
              "1145  maharashtra ruling alliance called statewide b...   \n",
              "1217  hailing pm modi journey gujarat cm modi union ...   \n",
              "1296  uttar pradesh chief minister samajwadi party s...   \n",
              "1328  union minister woman child development smriti ...   \n",
              "\n",
              "                                        text_lemmatized  \\\n",
              "503   [mukesh, ambani, asia, richest, man, bring, co...   \n",
              "590   [strange, world, man, cause, turnaround, priya...   \n",
              "1122  [karnataka, minister, higher, education, dr, c...   \n",
              "1145  [maharashtra, ruling, alliance, called, statew...   \n",
              "1217  [hailing, pm, modi, journey, gujarat, cm, modi...   \n",
              "1296  [uttar, pradesh, chief, minister, samajwadi, p...   \n",
              "1328  [union, minister, woman, child, development, s...   \n",
              "\n",
              "                                  clean_text_lemmatized  \\\n",
              "503   [mukesh, ambani, asia, richest, man, bring, co...   \n",
              "590   [strange, world, man, cause, turnaround, priya...   \n",
              "1122  [karnataka, minister, higher, education, dr, c...   \n",
              "1145  [maharashtra, ruling, alliance, called, statew...   \n",
              "1217  [hailing, pm, modi, journey, gujarat, cm, modi...   \n",
              "1296  [uttar, pradesh, chief, minister, samajwadi, p...   \n",
              "1328  [union, minister, woman, child, development, s...   \n",
              "\n",
              "                           clean_content_with_Stopwords  \n",
              "503   mukesh ambani, asia's richest man, will bring ...  \n",
              "590   it is a strange world where the man who causes...  \n",
              "1122  karnataka minister for higher education, dr c ...  \n",
              "1145  the maharashtra ruling alliance has called for...  \n",
              "1217  hailing pm modi journey from 3-time gujarat cm...  \n",
              "1296  after former uttar pradesh chief minister and ...  \n",
              "1328  union minister for women and child development...  "
            ],
            "text/html": [
              "\n",
              "  <div id=\"df-aa247f2e-0230-4a74-8859-17e1cada50f1\">\n",
              "    <div class=\"colab-df-container\">\n",
              "      <div>\n",
              "<style scoped>\n",
              "    .dataframe tbody tr th:only-of-type {\n",
              "        vertical-align: middle;\n",
              "    }\n",
              "\n",
              "    .dataframe tbody tr th {\n",
              "        vertical-align: top;\n",
              "    }\n",
              "\n",
              "    .dataframe thead th {\n",
              "        text-align: right;\n",
              "    }\n",
              "</style>\n",
              "<table border=\"1\" class=\"dataframe\">\n",
              "  <thead>\n",
              "    <tr style=\"text-align: right;\">\n",
              "      <th></th>\n",
              "      <th>text</th>\n",
              "      <th>url</th>\n",
              "      <th>title</th>\n",
              "      <th>content</th>\n",
              "      <th>bias</th>\n",
              "      <th>retweet_count</th>\n",
              "      <th>favorite_count</th>\n",
              "      <th>source_name</th>\n",
              "      <th>source</th>\n",
              "      <th>clean_content</th>\n",
              "      <th>text_lemmatized</th>\n",
              "      <th>clean_text_lemmatized</th>\n",
              "      <th>clean_content_with_Stopwords</th>\n",
              "    </tr>\n",
              "  </thead>\n",
              "  <tbody>\n",
              "    <tr>\n",
              "      <th>503</th>\n",
              "      <td>RT @ndtvfeed: First 7-11 Store Opens In Mumbai...</td>\n",
              "      <td>https://www.ndtv.com/india-news/first-7-11-sto...</td>\n",
              "      <td>Mukesh Ambani Brings 7-Eleven Stores To India,...</td>\n",
              "      <td>mukesh ambani, asia's richest man, will bring ...</td>\n",
              "      <td>1</td>\n",
              "      <td>22.0</td>\n",
              "      <td>0.0</td>\n",
              "      <td>ndtv</td>\n",
              "      <td>0</td>\n",
              "      <td>mukesh ambani asia richest man bring convenien...</td>\n",
              "      <td>[mukesh, ambani, asia, richest, man, bring, co...</td>\n",
              "      <td>[mukesh, ambani, asia, richest, man, bring, co...</td>\n",
              "      <td>mukesh ambani, asia's richest man, will bring ...</td>\n",
              "    </tr>\n",
              "    <tr>\n",
              "      <th>590</th>\n",
              "      <td>#Opinion: Yogi Does For Priyanka What PK Could...</td>\n",
              "      <td>https://www.ndtv.com/opinion/opinion-yogi-does...</td>\n",
              "      <td>Opinion: Yogi Does For Priyanka What PK Couldn...</td>\n",
              "      <td>it is a strange world where the man who causes...</td>\n",
              "      <td>1</td>\n",
              "      <td>100.0</td>\n",
              "      <td>791.0</td>\n",
              "      <td>ndtv</td>\n",
              "      <td>0</td>\n",
              "      <td>strange world man cause turnaround priyanka ga...</td>\n",
              "      <td>[strange, world, man, cause, turnaround, priya...</td>\n",
              "      <td>[strange, world, man, cause, turnaround, priya...</td>\n",
              "      <td>it is a strange world where the man who causes...</td>\n",
              "    </tr>\n",
              "    <tr>\n",
              "      <th>1122</th>\n",
              "      <td>Karnataka Min Ashwathnarayan lauds NEP, says '...</td>\n",
              "      <td>https://www.republicworld.com/india-news/educa...</td>\n",
              "      <td>Karnataka Min Ashwathnarayan Lauds NEP, Says '...</td>\n",
              "      <td>karnataka minister for higher education, dr c ...</td>\n",
              "      <td>1</td>\n",
              "      <td>4.0</td>\n",
              "      <td>28.0</td>\n",
              "      <td>republictv</td>\n",
              "      <td>1</td>\n",
              "      <td>karnataka minister higher education dr c n ash...</td>\n",
              "      <td>[karnataka, minister, higher, education, dr, c...</td>\n",
              "      <td>[karnataka, minister, higher, education, dr, c...</td>\n",
              "      <td>karnataka minister for higher education, dr c ...</td>\n",
              "    </tr>\n",
              "    <tr>\n",
              "      <th>1145</th>\n",
              "      <td>Maharashtra bandh: BJP warns against forceful ...</td>\n",
              "      <td>https://www.republicworld.com/india-news/gener...</td>\n",
              "      <td>Maharashtra Bandh: BJP Warns Against Forceful ...</td>\n",
              "      <td>the maharashtra ruling alliance has called for...</td>\n",
              "      <td>1</td>\n",
              "      <td>25.0</td>\n",
              "      <td>193.0</td>\n",
              "      <td>republictv</td>\n",
              "      <td>1</td>\n",
              "      <td>maharashtra ruling alliance called statewide b...</td>\n",
              "      <td>[maharashtra, ruling, alliance, called, statew...</td>\n",
              "      <td>[maharashtra, ruling, alliance, called, statew...</td>\n",
              "      <td>the maharashtra ruling alliance has called for...</td>\n",
              "    </tr>\n",
              "    <tr>\n",
              "      <th>1217</th>\n",
              "      <td>FULL INTERVIEW: Amit Shah explains Modi's 20 y...</td>\n",
              "      <td>https://www.republicworld.com/india-news/polit...</td>\n",
              "      <td>FULL INTERVIEW: Amit Shah Explains Modi's 20 Y...</td>\n",
              "      <td>hailing pm modi journey from 3-time gujarat cm...</td>\n",
              "      <td>1</td>\n",
              "      <td>7.0</td>\n",
              "      <td>59.0</td>\n",
              "      <td>republictv</td>\n",
              "      <td>1</td>\n",
              "      <td>hailing pm modi journey gujarat cm modi union ...</td>\n",
              "      <td>[hailing, pm, modi, journey, gujarat, cm, modi...</td>\n",
              "      <td>[hailing, pm, modi, journey, gujarat, cm, modi...</td>\n",
              "      <td>hailing pm modi journey from 3-time gujarat cm...</td>\n",
              "    </tr>\n",
              "    <tr>\n",
              "      <th>1296</th>\n",
              "      <td>UP Min Sidharth Nath Singh slams Akhilesh Yada...</td>\n",
              "      <td>https://www.republicworld.com/india-news/polit...</td>\n",
              "      <td>A journalist was burnt alive' | UP Min Sidhart...</td>\n",
              "      <td>after former uttar pradesh chief minister and ...</td>\n",
              "      <td>1</td>\n",
              "      <td>19.0</td>\n",
              "      <td>94.0</td>\n",
              "      <td>republictv</td>\n",
              "      <td>1</td>\n",
              "      <td>uttar pradesh chief minister samajwadi party s...</td>\n",
              "      <td>[uttar, pradesh, chief, minister, samajwadi, p...</td>\n",
              "      <td>[uttar, pradesh, chief, minister, samajwadi, p...</td>\n",
              "      <td>after former uttar pradesh chief minister and ...</td>\n",
              "    </tr>\n",
              "    <tr>\n",
              "      <th>1328</th>\n",
              "      <td>Well said': Smriti Irani shares powerful messa...</td>\n",
              "      <td>https://www.republicworld.com/entertainment-ne...</td>\n",
              "      <td>Well Said': Smriti Irani Shares Powerful Messa...</td>\n",
              "      <td>union minister for women and child development...</td>\n",
              "      <td>1</td>\n",
              "      <td>5.0</td>\n",
              "      <td>48.0</td>\n",
              "      <td>republictv</td>\n",
              "      <td>1</td>\n",
              "      <td>union minister woman child development smriti ...</td>\n",
              "      <td>[union, minister, woman, child, development, s...</td>\n",
              "      <td>[union, minister, woman, child, development, s...</td>\n",
              "      <td>union minister for women and child development...</td>\n",
              "    </tr>\n",
              "  </tbody>\n",
              "</table>\n",
              "</div>\n",
              "      <button class=\"colab-df-convert\" onclick=\"convertToInteractive('df-aa247f2e-0230-4a74-8859-17e1cada50f1')\"\n",
              "              title=\"Convert this dataframe to an interactive table.\"\n",
              "              style=\"display:none;\">\n",
              "        \n",
              "  <svg xmlns=\"http://www.w3.org/2000/svg\" height=\"24px\"viewBox=\"0 0 24 24\"\n",
              "       width=\"24px\">\n",
              "    <path d=\"M0 0h24v24H0V0z\" fill=\"none\"/>\n",
              "    <path d=\"M18.56 5.44l.94 2.06.94-2.06 2.06-.94-2.06-.94-.94-2.06-.94 2.06-2.06.94zm-11 1L8.5 8.5l.94-2.06 2.06-.94-2.06-.94L8.5 2.5l-.94 2.06-2.06.94zm10 10l.94 2.06.94-2.06 2.06-.94-2.06-.94-.94-2.06-.94 2.06-2.06.94z\"/><path d=\"M17.41 7.96l-1.37-1.37c-.4-.4-.92-.59-1.43-.59-.52 0-1.04.2-1.43.59L10.3 9.45l-7.72 7.72c-.78.78-.78 2.05 0 2.83L4 21.41c.39.39.9.59 1.41.59.51 0 1.02-.2 1.41-.59l7.78-7.78 2.81-2.81c.8-.78.8-2.07 0-2.86zM5.41 20L4 18.59l7.72-7.72 1.47 1.35L5.41 20z\"/>\n",
              "  </svg>\n",
              "      </button>\n",
              "      \n",
              "  <style>\n",
              "    .colab-df-container {\n",
              "      display:flex;\n",
              "      flex-wrap:wrap;\n",
              "      gap: 12px;\n",
              "    }\n",
              "\n",
              "    .colab-df-convert {\n",
              "      background-color: #E8F0FE;\n",
              "      border: none;\n",
              "      border-radius: 50%;\n",
              "      cursor: pointer;\n",
              "      display: none;\n",
              "      fill: #1967D2;\n",
              "      height: 32px;\n",
              "      padding: 0 0 0 0;\n",
              "      width: 32px;\n",
              "    }\n",
              "\n",
              "    .colab-df-convert:hover {\n",
              "      background-color: #E2EBFA;\n",
              "      box-shadow: 0px 1px 2px rgba(60, 64, 67, 0.3), 0px 1px 3px 1px rgba(60, 64, 67, 0.15);\n",
              "      fill: #174EA6;\n",
              "    }\n",
              "\n",
              "    [theme=dark] .colab-df-convert {\n",
              "      background-color: #3B4455;\n",
              "      fill: #D2E3FC;\n",
              "    }\n",
              "\n",
              "    [theme=dark] .colab-df-convert:hover {\n",
              "      background-color: #434B5C;\n",
              "      box-shadow: 0px 1px 3px 1px rgba(0, 0, 0, 0.15);\n",
              "      filter: drop-shadow(0px 1px 2px rgba(0, 0, 0, 0.3));\n",
              "      fill: #FFFFFF;\n",
              "    }\n",
              "  </style>\n",
              "\n",
              "      <script>\n",
              "        const buttonEl =\n",
              "          document.querySelector('#df-aa247f2e-0230-4a74-8859-17e1cada50f1 button.colab-df-convert');\n",
              "        buttonEl.style.display =\n",
              "          google.colab.kernel.accessAllowed ? 'block' : 'none';\n",
              "\n",
              "        async function convertToInteractive(key) {\n",
              "          const element = document.querySelector('#df-aa247f2e-0230-4a74-8859-17e1cada50f1');\n",
              "          const dataTable =\n",
              "            await google.colab.kernel.invokeFunction('convertToInteractive',\n",
              "                                                     [key], {});\n",
              "          if (!dataTable) return;\n",
              "\n",
              "          const docLinkHtml = 'Like what you see? Visit the ' +\n",
              "            '<a target=\"_blank\" href=https://colab.research.google.com/notebooks/data_table.ipynb>data table notebook</a>'\n",
              "            + ' to learn more about interactive tables.';\n",
              "          element.innerHTML = '';\n",
              "          dataTable['output_type'] = 'display_data';\n",
              "          await google.colab.output.renderOutput(dataTable, element);\n",
              "          const docLink = document.createElement('div');\n",
              "          docLink.innerHTML = docLinkHtml;\n",
              "          element.appendChild(docLink);\n",
              "        }\n",
              "      </script>\n",
              "    </div>\n",
              "  </div>\n",
              "  "
            ]
          },
          "metadata": {},
          "execution_count": 21
        }
      ]
    },
    {
      "cell_type": "code",
      "source": [
        "left=left.head(190)"
      ],
      "metadata": {
        "id": "aGGPa2mrDvit"
      },
      "execution_count": null,
      "outputs": []
    },
    {
      "cell_type": "code",
      "source": [
        "center_with_bias_words=center_with_bias_words.head(200)"
      ],
      "metadata": {
        "id": "Wm0tfqCI5suM"
      },
      "execution_count": null,
      "outputs": []
    },
    {
      "cell_type": "code",
      "source": [
        "center_without_bias_words=center_without_bias_words.head(200)\n"
      ],
      "metadata": {
        "id": "sFmDhL0R5xpb"
      },
      "execution_count": null,
      "outputs": []
    },
    {
      "cell_type": "code",
      "source": [
        "print('right',len(right))\n",
        "print('left',len(left))\n",
        "print('center_without_bias_words',len(center_without_bias_words))\n",
        "print('center_with_bias_words',len(center_with_bias_words))\n",
        "\n"
      ],
      "metadata": {
        "colab": {
          "base_uri": "https://localhost:8080/"
        },
        "id": "wxKmiT5T0xV3",
        "outputId": "c1d80662-f102-41c0-8cca-c8c956e14b78"
      },
      "execution_count": null,
      "outputs": [
        {
          "output_type": "stream",
          "name": "stdout",
          "text": [
            "right 184\n",
            "left 190\n",
            "center_without_bias_words 200\n",
            "center_with_bias_words 200\n"
          ]
        }
      ]
    },
    {
      "cell_type": "code",
      "source": [
        "right['clean_content'][2]"
      ],
      "metadata": {
        "colab": {
          "base_uri": "https://localhost:8080/",
          "height": 87
        },
        "id": "mgr7FvL3oAV2",
        "outputId": "1faa2c8e-dabb-4709-f053-3d5a989faa1e"
      },
      "execution_count": null,
      "outputs": [
        {
          "output_type": "execute_result",
          "data": {
            "text/plain": [
              "'resigning national conference devender rana head jammu division party surjit singh slathia joined bjp monday rana slathia joined bjp headquarters delhi presence union minister dharmendra pradhan hardeep singh puri jitendra singh rana mla younger brother union minister jitendra singh served political advisor jammu kashmir chief minister national conference nc omar abdullah bjp general secretary charge jammu kashmir tarun chugh jammu kashmir unit chief ravinder raina welcomed party rana advocating jammu declaration joint declaration political social business organisation primarily demanding restoration statehood jammu region jammu kashmir centre revoked erstwhile jammu kashmir special status bifurcated union territory jammu kashmir ladakh'"
            ],
            "application/vnd.google.colaboratory.intrinsic+json": {
              "type": "string"
            }
          },
          "metadata": {},
          "execution_count": 26
        }
      ]
    },
    {
      "cell_type": "code",
      "source": [
        "df2=pd.concat([left,right,center_without_bias_words])#,center_with_bias_words\n"
      ],
      "metadata": {
        "id": "q8ieMSDL52p8"
      },
      "execution_count": null,
      "outputs": []
    },
    {
      "cell_type": "code",
      "source": [
        ""
      ],
      "metadata": {
        "id": "eDZilzjkql4a"
      },
      "execution_count": null,
      "outputs": []
    },
    {
      "cell_type": "code",
      "source": [
        "#REINDEXING\n",
        "indx=[]\n",
        "for i in range(len(df2)):\n",
        "  indx.append(i)\n",
        "df2.index=indx"
      ],
      "metadata": {
        "id": "9ZUz9GPg6Rgc"
      },
      "execution_count": null,
      "outputs": []
    },
    {
      "cell_type": "code",
      "source": [
        "# ## Divide the dataset into Train and Test\n",
        "# from sklearn.model_selection import train_test_split\n",
        "# X_train, X_test, y_train, y_test = train_test_split(X, y, test_size=0.4, random_state=2)"
      ],
      "metadata": {
        "id": "x3Dnkfj4UYmW"
      },
      "execution_count": null,
      "outputs": []
    },
    {
      "cell_type": "code",
      "source": [
        "######NaiiveBayes without Feature Selection\n",
        "from sklearn.feature_extraction.text import CountVectorizer\n",
        "from sklearn.feature_extraction.text import TfidfTransformer\n",
        "from sklearn.naive_bayes import MultinomialNB\n",
        "from sklearn.metrics import f1_score,classification_report,accuracy_score,confusion_matrix\n",
        "from sklearn.naive_bayes import GaussianNB\n",
        "## TFidf Vectorizer\n",
        "from sklearn.feature_extraction.text import TfidfVectorizer\n",
        "from sklearn.feature_extraction.text import CountVectorizer\n",
        "from sklearn.ensemble import RandomForestClassifier"
      ],
      "metadata": {
        "id": "XfV8niqPk9NW"
      },
      "execution_count": null,
      "outputs": []
    },
    {
      "cell_type": "code",
      "source": [
        "X = df2['clean_content']\n",
        "y=df2['bias']\n"
      ],
      "metadata": {
        "id": "6Srl2Kj8r0pM"
      },
      "execution_count": null,
      "outputs": []
    },
    {
      "cell_type": "code",
      "source": [
        "from nltk.tokenize import word_tokenize\n",
        "all_words = []\n",
        "for message in df2['clean_content']:\n",
        "      words = word_tokenize(message)\n",
        "      for w in words:\n",
        "          all_words.append(w)\n",
        "all_words = nltk.FreqDist(all_words)"
      ],
      "metadata": {
        "id": "xfDwrrtFqnWi"
      },
      "execution_count": null,
      "outputs": []
    },
    {
      "cell_type": "code",
      "source": [
        "# print the total number of words and the 15 most common words\n",
        "print('Number of words: {}'.format(len(all_words)))\n",
        "print('Most common words: {}'.format(all_words.most_common(15)))"
      ],
      "metadata": {
        "colab": {
          "base_uri": "https://localhost:8080/"
        },
        "id": "enKYjwzpq_cC",
        "outputId": "6272ed22-019f-4333-a7ae-946611fd96aa"
      },
      "execution_count": null,
      "outputs": [
        {
          "output_type": "stream",
          "name": "stdout",
          "text": [
            "Number of words: 11190\n",
            "Most common words: [('minister', 1015), ('congress', 714), ('bjp', 663), ('party', 643), ('chief', 599), ('lakhimpur', 514), ('modi', 513), ('gandhi', 494), ('union', 449), ('mishra', 430), ('kheri', 420), ('pradesh', 382), ('case', 359), ('singh', 358), ('incident', 338)]\n"
          ]
        }
      ]
    },
    {
      "cell_type": "code",
      "source": [
        ""
      ],
      "metadata": {
        "id": "fRfeVmQxbRTi"
      },
      "execution_count": null,
      "outputs": []
    },
    {
      "cell_type": "markdown",
      "source": [
        "# COMMON WORDS TESTING\n"
      ],
      "metadata": {
        "id": "MwdjrNP_bRgG"
      }
    },
    {
      "cell_type": "code",
      "source": [
        "###TESTING\n",
        "from nltk.tokenize import word_tokenize\n",
        "all_words = []\n",
        "for message in right['clean_content']:\n",
        "      words = word_tokenize(message)\n",
        "      for w in words:\n",
        "          all_words.append(w)\n",
        "all_words = nltk.FreqDist(all_words)\n",
        "# print the total number of words and the 15 most common words\n",
        "print('Number of words: {}'.format(len(all_words)))\n",
        "print('Most common words: {}'.format(all_words.most_common(20)))"
      ],
      "metadata": {
        "id": "0Kb-4HQPwVF4",
        "colab": {
          "base_uri": "https://localhost:8080/"
        },
        "outputId": "b32ad510-d557-4e0b-c845-b8d492d2ad81"
      },
      "execution_count": null,
      "outputs": [
        {
          "output_type": "stream",
          "name": "stdout",
          "text": [
            "Number of words: 5973\n",
            "Most common words: [('minister', 422), ('bjp', 356), ('modi', 314), ('party', 290), ('congress', 264), ('union', 223), ('chief', 208), ('singh', 167), ('lakhimpur', 160), ('mishra', 151), ('gandhi', 135), ('pradesh', 130), ('pm', 125), ('kheri', 117), ('incident', 106), ('national', 101), ('uttar', 98), ('crore', 96), ('home', 94), ('election', 89)]\n"
          ]
        }
      ]
    },
    {
      "cell_type": "code",
      "source": [
        ""
      ],
      "metadata": {
        "id": "AioMCS0tZZDR"
      },
      "execution_count": null,
      "outputs": []
    },
    {
      "cell_type": "code",
      "source": [
        "###TESTING\n",
        "from nltk.tokenize import word_tokenize\n",
        "all_words = []\n",
        "for message in left['clean_content']:\n",
        "      words = word_tokenize(message)\n",
        "      for w in words:\n",
        "          all_words.append(w)\n",
        "all_words = nltk.FreqDist(all_words)\n",
        "# print the total number of words and the 15 most common words\n",
        "print('Number of words: {}'.format(len(all_words)))\n",
        "print('Most common words: {}'.format(all_words.most_common(20)))"
      ],
      "metadata": {
        "colab": {
          "base_uri": "https://localhost:8080/"
        },
        "id": "u9igOWrSVPz1",
        "outputId": "78b8576d-9ac3-4207-e88b-71f34d15cb35"
      },
      "execution_count": null,
      "outputs": [
        {
          "output_type": "stream",
          "name": "stdout",
          "text": [
            "Number of words: 5108\n",
            "Most common words: [('minister', 593), ('congress', 450), ('gandhi', 359), ('lakhimpur', 354), ('chief', 322), ('party', 314), ('bjp', 307), ('kheri', 303), ('mishra', 277), ('pradesh', 218), ('union', 215), ('uttar', 207), ('modi', 199), ('priyanka', 195), ('violence', 180), ('incident', 177), ('singh', 159), ('ajay', 151), ('vadra', 147), ('ashish', 145)]\n"
          ]
        }
      ]
    },
    {
      "cell_type": "code",
      "source": [
        "###TESTING\n",
        "from nltk.tokenize import word_tokenize\n",
        "all_words = []\n",
        "for message in center_without_bias_words['clean_content']:\n",
        "      words = word_tokenize(message)\n",
        "      for w in words:\n",
        "          all_words.append(w)\n",
        "all_words = nltk.FreqDist(all_words)\n",
        "# print the total number of words and the 15 most common words\n",
        "print('Number of words: {}'.format(len(all_words)))\n",
        "print('Most common words: {}'.format(all_words.most_common(1500)))"
      ],
      "metadata": {
        "colab": {
          "base_uri": "https://localhost:8080/"
        },
        "id": "qAPs9rpPYuwJ",
        "outputId": "903e3e03-7840-4040-f4fd-ebb844c12a73"
      },
      "execution_count": null,
      "outputs": [
        {
          "output_type": "stream",
          "name": "stdout",
          "text": [
            "Number of words: 6687\n",
            "Most common words: [('case', 197), ('court', 195), ('accused', 143), ('drug', 141), ('khan', 139), ('woman', 134), ('official', 127), ('arrested', 127), ('aryan', 97), ('agency', 96), ('bail', 87), ('mumbai', 82), ('friday', 76), ('high', 74), ('area', 71), ('ncb', 69), ('chief', 69), ('cruise', 68), ('told', 68), ('investigation', 66), ('covid', 66), ('according', 64), ('china', 63), ('person', 59), ('indian', 59), ('anti', 57), ('old', 57), ('added', 57), ('health', 56), ('incident', 55), ('custody', 54), ('week', 53), ('chinese', 53), ('delhi', 53), ('medium', 52), ('control', 51), ('wednesday', 51), ('bureau', 51), ('world', 51), ('saturday', 50), ('justice', 50), ('thursday', 49), ('national', 49), ('place', 48), ('member', 48), ('number', 48), ('russia', 48), ('statement', 47), ('month', 47), ('district', 46), ('company', 46), ('act', 45), ('home', 44), ('social', 44), ('air', 44), ('prize', 44), ('lawyer', 43), ('sent', 43), ('narcotic', 42), ('reported', 42), ('issue', 42), ('gram', 42), ('facebook', 42), ('group', 41), ('child', 41), ('earlier', 41), ('life', 41), ('party', 39), ('took', 39), ('later', 39), ('house', 39), ('ship', 39), ('jail', 38), ('post', 38), ('news', 38), ('mental', 38), ('school', 37), ('monday', 36), ('following', 36), ('crore', 36), ('connection', 36), ('talk', 36), ('point', 36), ('like', 36), ('disorder', 36), ('nobel', 36), ('died', 35), ('team', 35), ('taken', 35), ('judge', 35), ('force', 34), ('pandemic', 34), ('change', 34), ('pradesh', 34), ('man', 34), ('million', 34), ('officer', 33), ('killed', 33), ('hour', 33), ('seven', 33), ('material', 33), ('say', 33), ('september', 33), ('terrorist', 32), ('given', 32), ('used', 32), ('building', 32), ('singh', 32), ('nuclear', 32), ('work', 32), ('service', 31), ('video', 31), ('climate', 31), ('adding', 31), ('murder', 31), ('girl', 31), ('right', 31), ('auto', 30), ('kumar', 30), ('allegedly', 29), ('border', 29), ('bank', 29), ('defence', 28), ('second', 28), ('station', 28), ('raid', 28), ('global', 28), ('military', 28), ('troop', 28), ('study', 28), ('trial', 28), ('committee', 28), ('kashmir', 27), ('actor', 27), ('asked', 27), ('maneshinde', 27), ('death', 27), ('city', 27), ('money', 27), ('senior', 27), ('set', 27), ('university', 27), ('came', 27), ('taiwan', 27), ('user', 27), ('line', 26), ('arrest', 26), ('till', 26), ('claimed', 26), ('cell', 26), ('charge', 26), ('generated', 26), ('policy', 26), ('way', 26), ('international', 26), ('nearly', 26), ('identified', 26), ('shah', 25), ('rukh', 25), ('victim', 25), ('registered', 25), ('alleged', 25), ('president', 25), ('activity', 25), ('percent', 25), ('hospital', 25), ('order', 25), ('student', 25), ('lakh', 25), ('army', 24), ('security', 24), ('denied', 24), ('document', 24), ('central', 24), ('energy', 24), ('public', 24), ('seen', 24), ('list', 24), ('medical', 24), ('united', 24), ('additional', 24), ('men', 24), ('special', 24), ('taking', 23), ('matter', 23), ('seized', 23), ('make', 23), ('near', 23), ('complaint', 23), ('general', 23), ('source', 23), ('factory', 23), ('sector', 23), ('long', 23), ('likely', 23), ('cent', 23), ('saying', 23), ('director', 23), ('condition', 23), ('based', 23), ('war', 23), ('russian', 23), ('moscow', 23), ('resident', 23), ('tesla', 23), ('jammu', 22), ('operation', 22), ('search', 22), ('offence', 22), ('need', 22), ('body', 22), ('include', 22), ('road', 22), ('region', 22), ('local', 22), ('authority', 22), ('afghanistan', 22), ('billion', 22), ('journalist', 22), ('protection', 22), ('instagram', 22), ('village', 21), ('early', 21), ('ago', 21), ('far', 21), ('evidence', 21), ('august', 21), ('held', 21), ('agreement', 21), ('section', 21), ('department', 21), ('called', 21), ('come', 21), ('known', 21), ('nation', 21), ('level', 21), ('recent', 21), ('aircraft', 21), ('ministry', 21), ('wife', 21), ('platform', 21), ('report', 20), ('crime', 20), ('u', 20), ('various', 20), ('judicial', 20), ('price', 20), ('water', 20), ('office', 20), ('ladakh', 20), ('camp', 20), ('attack', 20), ('showed', 20), ('father', 20), ('help', 20), ('disease', 20), ('article', 20), ('went', 20), ('black', 20), ('biden', 20), ('release', 19), ('law', 19), ('related', 19), ('night', 19), ('involved', 19), ('kept', 19), ('non', 19), ('th', 19), ('rate', 19), ('effort', 19), ('major', 19), ('disengagement', 19), ('yesterday', 19), ('total', 19), ('shot', 19), ('press', 19), ('plea', 18), ('late', 18), ('island', 18), ('seizure', 18), ('site', 18), ('plan', 18), ('started', 18), ('exercise', 18), ('human', 18), ('employee', 18), ('deal', 18), ('nia', 18), ('received', 18), ('got', 18), ('outage', 18), ('friend', 17), ('magistrate', 17), ('spot', 17), ('conducted', 17), ('property', 17), ('vaccine', 17), ('future', 17), ('resolution', 17), ('account', 17), ('eastern', 17), ('led', 17), ('killing', 17), ('injured', 17), ('away', 17), ('category', 17), ('isi', 17), ('interrogation', 17), ('claim', 17), ('action', 16), ('injury', 16), ('tax', 16), ('investment', 16), ('kg', 16), ('basis', 16), ('decade', 16), ('session', 16), ('coast', 16), ('emission', 16), ('coal', 16), ('latest', 16), ('north', 16), ('june', 16), ('actual', 16), ('problem', 16), ('flight', 16), ('west', 16), ('phone', 16), ('despite', 16), ('peace', 16), ('capital', 16), ('dead', 16), ('probe', 16), ('whatsapp', 16), ('risk', 16), ('soldier', 15), ('request', 15), ('morning', 15), ('argued', 15), ('epstein', 15), ('husband', 15), ('cash', 15), ('application', 15), ('goa', 15), ('economic', 15), ('fuel', 15), ('increase', 15), ('recovery', 15), ('plant', 15), ('e', 15), ('mother', 15), ('decision', 15), ('support', 15), ('open', 15), ('commissioner', 15), ('afp', 15), ('psychological', 15), ('age', 15), ('individual', 15), ('shared', 15), ('recovered', 15), ('beijing', 15), ('arguing', 14), ('agreed', 14), ('giuffre', 14), ('relationship', 14), ('issued', 14), ('return', 14), ('end', 14), ('good', 14), ('produced', 14), ('use', 14), ('process', 14), ('clear', 14), ('round', 14), ('face', 14), ('run', 14), ('small', 14), ('sign', 14), ('chat', 14), ('concern', 14), ('citizen', 14), ('foreign', 14), ('july', 14), ('recently', 14), ('bench', 14), ('white', 14), ('scientist', 14), ('caught', 14), ('online', 14), ('guard', 14), ('md', 14), ('medicine', 14), ('bear', 14), ('northeast', 14), ('content', 14), ('monsoon', 14), ('close', 13), ('rushed', 13), ('raided', 13), ('look', 13), ('couple', 13), ('land', 13), ('weekend', 13), ('festival', 13), ('event', 13), ('different', 13), ('production', 13), ('pay', 13), ('recorded', 13), ('negotiation', 13), ('pm', 13), ('lac', 13), ('large', 13), ('past', 13), ('decided', 13), ('administration', 13), ('violence', 13), ('want', 13), ('possession', 13), ('period', 13), ('navy', 13), ('infection', 13), ('customer', 13), ('research', 13), ('accident', 13), ('substance', 13), ('abuse', 13), ('pakistan', 13), ('taliban', 13), ('pressure', 13), ('profit', 13), ('specie', 13), ('ed', 13), ('guru', 13), ('park', 13), ('researcher', 13), ('b', 13), ('arthur', 13), ('foreigner', 13), ('critical', 12), ('merchant', 12), ('hearing', 12), ('witness', 12), ('allegation', 12), ('andrew', 12), ('filed', 12), ('released', 12), ('lead', 12), ('maharashtra', 12), ('business', 12), ('trade', 12), ('cordelia', 12), ('gas', 12), ('ahead', 12), ('record', 12), ('finding', 12), ('cost', 12), ('damage', 12), ('meeting', 12), ('ground', 12), ('south', 12), ('lake', 12), ('currently', 12), ('low', 12), ('mission', 12), ('environment', 12), ('driver', 12), ('terror', 12), ('little', 12), ('trust', 12), ('view', 12), ('zone', 12), ('tuesday', 12), ('science', 12), ('treatment', 12), ('revealed', 12), ('cbi', 12), ('normal', 12), ('letter', 12), ('anxiety', 12), ('information', 12), ('iran', 12), ('status', 12), ('direction', 12), ('lodged', 12), ('able', 12), ('missing', 12), ('cocaine', 12), ('chara', 12), ('pill', 12), ('award', 12), ('legal', 12), ('winner', 12), ('diversity', 12), ('development', 12), ('alzheimer', 12), ('guideline', 12), ('nanak', 12), ('bike', 12), ('harm', 11), ('satish', 11), ('conspiracy', 11), ('forced', 11), ('hope', 11), ('running', 11), ('board', 11), ('worth', 11), ('bollywood', 11), ('half', 11), ('sea', 11), ('share', 11), ('natural', 11), ('overall', 11), ('car', 11), ('project', 11), ('role', 11), ('standoff', 11), ('remaining', 11), ('result', 11), ('bilateral', 11), ('fully', 11), ('river', 11), ('construction', 11), ('union', 11), ('living', 11), ('worker', 11), ('reached', 11), ('data', 11), ('evening', 11), ('appear', 11), ('fir', 11), ('missile', 11), ('weapon', 11), ('restriction', 11), ('sanction', 11), ('question', 11), ('message', 11), ('owner', 11), ('red', 11), ('cause', 11), ('stage', 11), ('nature', 11), ('code', 11), ('foot', 11), ('head', 11), ('airline', 11), ('parent', 11), ('financial', 11), ('multiple', 11), ('brother', 11), ('affair', 11), ('left', 11), ('inside', 11), ('independent', 11), ('rajasthan', 11), ('moved', 11), ('product', 11), ('prevention', 11), ('stated', 11), ('truck', 11), ('dozen', 11), ('mdma', 11), ('target', 11), ('american', 11), ('notice', 11), ('nazi', 11), ('schuetz', 11), ('kremlin', 11), ('gene', 11), ('armed', 10), ('going', 10), ('pti', 10), ('influence', 10), ('start', 10), ('present', 10), ('posted', 10), ('follow', 10), ('spokesman', 10), ('think', 10), ('r', 10), ('secretary', 10), ('population', 10), ('continue', 10), ('australia', 10), ('expert', 10), ('hit', 10), ('hold', 10), ('remains', 10), ('growing', 10), ('demand', 10), ('announced', 10), ('commander', 10), ('valley', 10), ('thousand', 10), ('highly', 10), ('japan', 10), ('argument', 10), ('author', 10), ('stand', 10), ('food', 10), ('stop', 10), ('really', 10), ('female', 10), ('history', 10), ('dr', 10), ('carried', 10), ('rule', 10), ('heavy', 10), ('february', 10), ('withdrawal', 10), ('largest', 10), ('impact', 10), ('estate', 10), ('emergency', 10), ('supreme', 10), ('common', 10), ('strong', 10), ('safety', 10), ('lot', 10), ('immediately', 10), ('passenger', 10), ('network', 10), ('nagar', 10), ('term', 10), ('hong', 10), ('kong', 10), ('community', 10), ('km', 10), ('corporation', 10), ('province', 10), ('mohammed', 10), ('environmental', 10), ('prison', 10), ('muratov', 10), ('charged', 10), ('apps', 10), ('young', 10), ('reporter', 10), ('migrant', 10), ('handed', 10), ('submitted', 10), ('iaf', 10), ('novaya', 10), ('gazeta', 10), ('da', 10), ('quarantine', 10), ('formation', 10), ('investor', 10), ('personnel', 9), ('spokesperson', 9), ('forest', 9), ('heard', 9), ('rave', 9), ('reply', 9), ('prince', 9), ('london', 9), ('civil', 9), ('associate', 9), ('private', 9), ('worked', 9), ('fight', 9), ('income', 9), ('fund', 9), ('tamil', 9), ('chennai', 9), ('huge', 9), ('temple', 9), ('navratri', 9), ('mark', 9), ('star', 9), ('mid', 9), ('capacity', 9), ('leading', 9), ('unit', 9), ('big', 9), ('covered', 9), ('expected', 9), ('economy', 9), ('meet', 9), ('provide', 9), ('forward', 9), ('proposal', 9), ('focus', 9), ('gogra', 9), ('tension', 9), ('arunachal', 9), ('returned', 9), ('scale', 9), ('factor', 9), ('oil', 9), ('raised', 9), ('european', 9), ('suffered', 9), ('taxi', 9), ('chance', 9), ('firm', 9), ('soon', 9), ('carry', 9), ('series', 9), ('minute', 9), ('earth', 9), ('cyber', 9), ('corruption', 9), ('freedom', 9), ('cross', 9), ('yes', 9), ('comment', 9), ('agent', 9), ('mobile', 9), ('delta', 9), ('haryana', 9), ('happened', 9), ('journal', 9), ('followed', 9), ('professor', 9), ('assam', 9), ('uttar', 9), ('anticipatory', 9), ('fact', 9), ('criminal', 9), ('rain', 9), ('measure', 9), ('plane', 9), ('physical', 9), ('anil', 9), ('transferred', 9), ('admitted', 9), ('bridge', 9), ('quantity', 9), ('speech', 9), ('taiwanese', 9), ('election', 9), ('current', 9), ('voice', 9), ('response', 9), ('cited', 9), ('heroin', 9), ('port', 9), ('acting', 9), ('musk', 9), ('approval', 9), ('biodiversity', 9), ('prosecutor', 9), ('attempt', 9), ('referring', 9), ('travel', 9), ('rescue', 9), ('achit', 9), ('critic', 9), ('awarded', 9), ('messenger', 9), ('rape', 9), ('newspaper', 9), ('minor', 9), ('rainfall', 9), ('misinformation', 9), ('photo', 9), ('gender', 9), ('amid', 9), ('yadav', 9), ('nato', 9), ('pregnancy', 9), ('bag', 9), ('chakraborty', 9), ('cylinder', 9), ('intelligence', 8), ('ordered', 8), ('instead', 8), ('insisted', 8), ('sex', 8), ('nadu', 8), ('location', 8), ('loan', 8), ('figure', 8), ('regular', 8), ('allowed', 8), ('club', 8), ('vaccinated', 8), ('negative', 8), ('tried', 8), ('practice', 8), ('form', 8), ('victory', 8), ('observed', 8), ('munmun', 8), ('initially', 8), ('wind', 8), ('cut', 8), ('care', 8), ('poor', 8), ('looking', 8), ('maintain', 8), ('relation', 8), ('complete', 8), ('important', 8), ('barahoti', 8), ('uttarakhand', 8), ('spending', 8), ('needed', 8), ('includes', 8), ('germany', 8), ('phase', 8), ('crisis', 8), ('link', 8), ('banned', 8), ('suspected', 8), ('digital', 8), ('lower', 8), ('single', 8), ('twitter', 8), ('origin', 8), ('space', 8), ('madhya', 8), ('khatri', 8), ('leak', 8), ('shukla', 8), ('maritime', 8), ('build', 8), ('firing', 8), ('working', 8), ('included', 8), ('remain', 8), ('completed', 8), ('diplomatic', 8), ('booked', 8), ('ipc', 8), ('reuters', 8), ('northern', 8), ('appearance', 8), ('acre', 8), ('center', 8), ('granting', 8), ('manager', 8), ('image', 8), ('light', 8), ('soviet', 8), ('benefit', 8), ('increased', 8), ('severe', 8), ('required', 8), ('opinion', 8), ('noida', 8), ('sister', 8), ('dispute', 8), ('declared', 8), ('planning', 8), ('threat', 8), ('territory', 8), ('key', 8), ('jagdish', 8), ('mukesh', 8), ('alias', 8), ('karnataka', 8), ('cover', 8), ('google', 8), ('giant', 8), ('gujarat', 8), ('arrived', 8), ('dri', 8), ('course', 8), ('flying', 8), ('date', 8), ('biggest', 8), ('ressa', 8), ('postal', 8), ('fled', 8), ('deputy', 8), ('sought', 8), ('investigating', 8), ('client', 8), ('trump', 8), ('whistleblower', 8), ('guilty', 8), ('gang', 8), ('rock', 8), ('chemistry', 8), ('physic', 8), ('know', 8), ('editor', 8), ('supplied', 8), ('underlined', 8), ('purchase', 8), ('teacher', 8), ('sheikh', 8), ('haya', 8), ('southwest', 8), ('heavily', 7), ('turned', 7), ('tamper', 7), ('review', 7), ('step', 7), ('suicide', 7), ('continues', 7), ('cbdt', 7), ('engaged', 7), ('commission', 7), ('note', 7), ('watch', 7), ('website', 7), ('main', 7), ('durga', 7), ('rejected', 7), ('remanded', 7), ('degree', 7), ('caused', 7), ('shift', 7), ('rising', 7), ('vehicle', 7), ('carbon', 7), ('push', 7), ('provided', 7), ('friction', 7), ('hot', 7), ('pangong', 7), ('essential', 7), ('established', 7), ('transgressed', 7), ('naravane', 7), ('opponent', 7), ('executive', 7), ('blamed', 7), ('surge', 7), ('division', 7), ('fear', 7), ('mohammad', 7), ('detained', 7), ('break', 7), ('society', 7), ('met', 7), ('representative', 7), ('march', 7), ('tweet', 7), ('fell', 7), ('college', 7), ('film', 7), ('jaiswal', 7), ('submarine', 7), ('class', 7), ('indo', 7), ('washington', 7), ('similar', 7), ('disclose', 7), ('movement', 7), ('reach', 7), ('provision', 7), ('variant', 7), ('east', 7), ('personal', 7), ('approach', 7), ('bring', 7), ('confrontation', 7), ('opening', 7), ('spanish', 7), ('la', 7), ('eruption', 7), ('depression', 7), ('particularly', 7), ('penal', 7), ('instruction', 7), ('speak', 7), ('preliminary', 7), ('branch', 7), ('train', 7), ('linked', 7), ('stress', 7), ('dangerous', 7), ('brain', 7), ('expressed', 7), ('bus', 7), ('brought', 7), ('field', 7), ('petrol', 7), ('track', 7), ('emerged', 7), ('unlawful', 7), ('laid', 7), ('fighter', 7), ('leadership', 7), ('position', 7), ('using', 7), ('york', 7), ('airport', 7), ('stopped', 7), ('ngo', 7), ('import', 7), ('ndps', 7), ('tested', 7), ('berlin', 7), ('german', 7), ('europe', 7), ('supply', 7), ('gone', 7), ('promoter', 7), ('custodial', 7), ('confronted', 7), ('informed', 7), ('multi', 7), ('interview', 7), ('outlet', 7), ('cctv', 7), ('boy', 7), ('access', 7), ('kelly', 7), ('complainant', 7), ('ongoing', 7), ('crucial', 7), ('visitor', 7), ('jailed', 7), ('monument', 7), ('grand', 7), ('recipient', 7), ('book', 7), ('scientific', 7), ('haugen', 7), ('alliance', 7), ('putin', 7), ('relief', 7), ('petitioner', 7), ('prisoner', 7), ('convicted', 7), ('oas', 7), ('immune', 7), ('statue', 7), ('bust', 7), ('haul', 7), ('hidden', 7), ('unnamed', 7), ('palestinian', 7), ('c', 7), ('mar', 7), ('lic', 7), ('gangster', 7), ('elephant', 7), ('nooyi', 7), ('shooting', 7), ('input', 6), ('presence', 6), ('awaited', 6), ('sentence', 6), ('try', 6), ('questioned', 6), ('suggest', 6), ('lawsuit', 6), ('sexual', 6), ('procedure', 6), ('manhattan', 6), ('royal', 6), ('regarding', 6), ('unaccounted', 6), ('sale', 6), ('allow', 6), ('supporter', 6), ('wanted', 6), ('game', 6), ('regulation', 6), ('idol', 6), ('traditional', 6), ('celebrated', 6), ('p', 6), ('celebration', 6), ('hear', 6), ('progress', 6), ('limit', 6), ('celsius', 6), ('annual', 6), ('final', 6), ('sold', 6), ('green', 6), ('developing', 6), ('infrastructure', 6), ('emerging', 6), ('situation', 6), ('clean', 6), ('temperature', 6), ('failed', 6), ('western', 6), ('corp', 6), ('depsang', 6), ('tie', 6), ('battle', 6), ('clash', 6), ('attempted', 6), ('standing', 6), ('buy', 6), ('develop', 6), ('debate', 6), ('reason', 6), ('conference', 6), ('cop', 6), ('november', 6), ('falling', 6), ('mass', 6), ('technology', 6), ('civilian', 6), ('opposition', 6), ('consideration', 6), ('rise', 6), ('highest', 6), ('vaccination', 6), ('unidentified', 6), ('blue', 6), ('played', 6), ('making', 6), ('delay', 6), ('helped', 6), ('texas', 6), ('base', 6), ('initial', 6), ('doctor', 6), ('political', 6), ('headed', 6), ('deliberately', 6), ('malabar', 6), ('involving', 6), ('range', 6), ('defense', 6), ('j', 6), ('represented', 6), ('inter', 6), ('advanced', 6), ('free', 6), ('witnessed', 6), ('feel', 6), ('previously', 6), ('imposed', 6), ('gen', 6), ('violent', 6), ('angry', 6), ('blood', 6), ('lockdown', 6), ('room', 6), ('travelling', 6), ('daily', 6), ('paid', 6), ('appeared', 6), ('block', 6), ('institute', 6), ('size', 6), ('spread', 6), ('better', 6), ('seek', 6), ('survivor', 6), ('spoke', 6), ('greater', 6), ('affected', 6), ('depressive', 6), ('facing', 6), ('passed', 6), ('considered', 6), ('flood', 6), ('nearby', 6), ('inflow', 6), ('resource', 6), ('square', 6), ('located', 6), ('interfax', 6), ('scene', 6), ('built', 6), ('modern', 6), ('seeking', 6), ('believe', 6), ('effect', 6), ('mechanism', 6), ('sharing', 6), ('immediate', 6), ('stay', 6), ('himachal', 6), ('inspector', 6), ('struck', 6), ('underway', 6), ('xi', 6), ('goal', 6), ('dialogue', 6), ('supported', 6), ('majority', 6), ('favour', 6), ('reserve', 6), ('operating', 6), ('french', 6), ('inequality', 6), ('swept', 6), ('trying', 6), ('psychotropic', 6), ('consignment', 6), ('stone', 6), ('contraband', 6), ('elevated', 6), ('began', 6), ('ceo', 6), ('protect', 6), ('entire', 6), ('wrote', 6), ('boyfriend', 6), ('laundering', 6), ('identify', 6), ('rohini', 6), ('confirmed', 6), ('continuing', 6), ('suburban', 6), ('dmitry', 6), ('fake', 6), ('threatened', 6), ('pipeline', 6), ('animal', 6), ('flooded', 6), ('commit', 6), ('bound', 6), ('floor', 6), ('cdc', 6), ('joe', 6), ('archaeological', 6), ('ear', 6), ('staircase', 6), ('escalante', 6), ('canyon', 6), ('seamount', 6), ('baby', 6), ('literature', 6), ('david', 6), ('gurnah', 6), ('morgan', 6), ('representation', 6), ('lack', 6), ('assistant', 6), ('changing', 6), ('selection', 6), ('zuckerberg', 6), ('france', 6), ('civic', 6), ('tech', 6), ('juber', 6), ('summit', 6), ('daughter', 6), ('lal', 6), ('compensation', 6), ('noted', 6), ('complicity', 6), ('sachsenhausen', 6), ('movie', 6), ('sensational', 6), ('undercover', 6), ('sailing', 6), ('clothes', 6), ('underwear', 6), ('purse', 6), ('quoting', 6), ('israel', 6), ('discussion', 6), ('tampering', 6), ('diana', 6), ('marshal', 6), ('bangladesh', 6), ('docuseries', 6), ('conduct', 6), ('punishment', 6), ('behera', 6), ('gogi', 6), ('iit', 6), ('dose', 6), ('bhandari', 6), ('tribunal', 6), ('bindroo', 6), ('riot', 6), ('imd', 6), ('dera', 5), ('managed', 5), ('file', 5), ('requested', 5), ('conducting', 5), ('relating', 5), ('queen', 5), ('elizabeth', 5), ('committed', 5), ('enforcement', 5), ('permission', 5), ('domestic', 5), ('neighbour', 5), ('earned', 5), ('santos', 5), ('antibody', 5), ('approached', 5), ('bommai', 5), ('kolu', 5), ('thiruvananthapuram', 5), ('navaratri', 5), ('visit', 5), ('type', 5), ('goddess', 5), ('offer', 5), ('fast', 5), ('believed', 5), ('fall', 5), ('busted', 5), ('paris', 5), ('electricity', 5), ('setting', 5), ('pollution', 5), ('electric', 5), ('effective', 5), ('responsible', 5), ('mean', 5), ('minimum', 5), ('maximum', 5), ('broke', 5), ('protocol', 5), ('lasted', 5), ('spring', 5), ('patrolling', 5), ('ended', 5), ('resulted', 5), ('sensitive', 5), ('tawang', 5), ('necessary', 5), ('create', 5), ('absolutely', 5), ('vital', 5), ('double', 5), ('net', 5), ('reduce', 5), ('industry', 5), ('cab', 5), ('separate', 5), ('let', 5), ('address', 5), ('powerful', 5), ('ask', 5), ('job', 5), ('crossed', 5), ('policeman', 5), ('journey', 5), ('scheduled', 5), ('oldest', 5), ('mile', 5), ('served', 5), ('occurred', 5), ('referred', 5), ('imtiaz', 5), ('bombay', 5), ('ip', 5), ('transfer', 5), ('inquiry', 5), ('regard', 5), ('subsequently', 5), ('guided', 5), ('pacific', 5), ('ocean', 5), ('lift', 5), ('regional', 5), ('actually', 5), ('quoted', 5), ('photograph', 5), ('bar', 5), ('door', 5), ('unprecedented', 5), ('gathering', 5), ('drive', 5), ('ran', 5), ('outside', 5), ('lava', 5), ('palma', 5), ('volcanic', 5), ('volcano', 5), ('collapse', 5), ('evacuated', 5), ('tweeted', 5), ('technical', 5), ('lightning', 5), ('v', 5), ('aware', 5), ('challenge', 5), ('attention', 5), ('campaign', 5), ('surrounding', 5), ('accepted', 5), ('loss', 5), ('existing', 5), ('looked', 5), ('sufficient', 5), ('examined', 5), ('fine', 5), ('dress', 5), ('religious', 5), ('rescued', 5), ('assistance', 5), ('jet', 5), ('tragedy', 5), ('quite', 5), ('medication', 5), ('treated', 5), ('mind', 5), ('task', 5), ('dcp', 5), ('constable', 5), ('player', 5), ('abdul', 5), ('permitted', 5), ('rival', 5), ('railway', 5), ('opened', 5), ('tsai', 5), ('democracy', 5), ('ruled', 5), ('reunification', 5), ('independence', 5), ('warned', 5), ('accept', 5), ('beaten', 5), ('vinod', 5), ('jufri', 5), ('created', 5), ('al', 5), ('id', 5), ('hard', 5), ('aimed', 5), ('k', 5), ('respond', 5), ('circumstance', 5), ('historic', 5), ('count', 5), ('attempting', 5), ('hand', 5), ('solution', 5), ('premise', 5), ('container', 5), ('metre', 5), ('brandenburg', 5), ('endangered', 5), ('fixed', 5), ('chandrasekhar', 5), ('wing', 5), ('infiltration', 5), ('previous', 5), ('africa', 5), ('limited', 5), ('powai', 5), ('cannabis', 5), ('advocate', 5), ('campus', 5), ('formally', 5), ('ruling', 5), ('influential', 5), ('california', 5), ('prevent', 5), ('bengaluru', 5), ('vice', 5), ('market', 5), ('disruption', 5), ('send', 5), ('meme', 5), ('messaging', 5), ('downdetector', 5), ('hate', 5), ('conviction', 5), ('rodgers', 5), ('sexually', 5), ('america', 5), ('criterion', 5), ('britain', 5), ('traced', 5), ('northwest', 5), ('protected', 5), ('restored', 5), ('original', 5), ('expand', 5), ('youtube', 5), ('real', 5), ('gap', 5), ('dedicated', 5), ('male', 5), ('magazine', 5), ('lawmaker', 5), ('eventually', 5), ('luo', 5), ('council', 5), ('healthy', 5), ('vote', 5), ('potential', 5), ('john', 5), ('stalking', 5), ('prosecute', 5), ('vladimir', 5), ('profile', 5), ('sheet', 5), ('aid', 5), ('unless', 5), ('acb', 5), ('accepting', 5), ('january', 5), ('raise', 5), ('ally', 5), ('byculla', 5), ('arbaaz', 5), ('se', 5), ('releasing', 5), ('hamper', 5), ('solicitor', 5), ('connected', 5), ('rhea', 5), ('wiessler', 5)]\n"
          ]
        }
      ]
    },
    {
      "cell_type": "code",
      "source": [
        "#///"
      ],
      "metadata": {
        "id": "ZQ3XXTe6tle4"
      },
      "execution_count": null,
      "outputs": []
    },
    {
      "cell_type": "code",
      "source": [
        "## TFidf Vectorizer\n",
        "from sklearn.feature_extraction.text import TfidfVectorizer\n",
        "tfidf_v=TfidfVectorizer(max_features=25000,ngram_range=(1,3))##35##69"
      ],
      "metadata": {
        "id": "eskTkU0ct8nk"
      },
      "execution_count": null,
      "outputs": []
    },
    {
      "cell_type": "code",
      "source": [
        "X=tfidf_v.fit_transform(df2['clean_content']).toarray()\n"
      ],
      "metadata": {
        "id": "QrCdCNArsV28"
      },
      "execution_count": null,
      "outputs": []
    },
    {
      "cell_type": "code",
      "source": [
        "X"
      ],
      "metadata": {
        "colab": {
          "base_uri": "https://localhost:8080/"
        },
        "id": "14SbBl8wFRl8",
        "outputId": "4d3647c4-521f-4dcd-c77a-bf8d51ca7335"
      },
      "execution_count": null,
      "outputs": [
        {
          "output_type": "execute_result",
          "data": {
            "text/plain": [
              "array([[0., 0., 0., ..., 0., 0., 0.],\n",
              "       [0., 0., 0., ..., 0., 0., 0.],\n",
              "       [0., 0., 0., ..., 0., 0., 0.],\n",
              "       ...,\n",
              "       [0., 0., 0., ..., 0., 0., 0.],\n",
              "       [0., 0., 0., ..., 0., 0., 0.],\n",
              "       [0., 0., 0., ..., 0., 0., 0.]])"
            ]
          },
          "metadata": {},
          "execution_count": 40
        }
      ]
    },
    {
      "cell_type": "code",
      "source": [
        "## Divide the dataset into Train and Test\n",
        "from sklearn.model_selection import train_test_split\n",
        "X_train, X_test, y_train, y_test = train_test_split(X, y, test_size=0.33 ,random_state=42,stratify=y)"
      ],
      "metadata": {
        "id": "fAzYTEGHuHFD"
      },
      "execution_count": null,
      "outputs": []
    },
    {
      "cell_type": "code",
      "source": [
        "count_df = pd.DataFrame(X_train, columns=tfidf_v.get_feature_names())\n",
        "count_df.head()"
      ],
      "metadata": {
        "colab": {
          "base_uri": "https://localhost:8080/",
          "height": 290
        },
        "id": "jQGMuUtrBOe1",
        "outputId": "7e16f338-7f8f-462c-9d32-aef5b3de9d40"
      },
      "execution_count": null,
      "outputs": [
        {
          "output_type": "stream",
          "name": "stderr",
          "text": [
            "/usr/local/lib/python3.7/dist-packages/sklearn/utils/deprecation.py:87: FutureWarning: Function get_feature_names is deprecated; get_feature_names is deprecated in 1.0 and will be removed in 1.2. Please use get_feature_names_out instead.\n",
            "  warnings.warn(msg, category=FutureWarning)\n"
          ]
        },
        {
          "output_type": "execute_result",
          "data": {
            "text/plain": [
              "   aadmi  aadmi party  aam  aam aadmi  aam aadmi party  aap  abdullah  able  \\\n",
              "0    0.0          0.0  0.0        0.0              0.0  0.0       0.0   0.0   \n",
              "1    0.0          0.0  0.0        0.0              0.0  0.0       0.0   0.0   \n",
              "2    0.0          0.0  0.0        0.0              0.0  0.0       0.0   0.0   \n",
              "3    0.0          0.0  0.0        0.0              0.0  0.0       0.0   0.0   \n",
              "4    0.0          0.0  0.0        0.0              0.0  0.0       0.0   0.0   \n",
              "\n",
              "   abuse  accept  ...  yatra       yes  yesterday      yogi  yogi adityanath  \\\n",
              "0    0.0     0.0  ...    0.0  0.000000        0.0  0.000000         0.000000   \n",
              "1    0.0     0.0  ...    0.0  0.092476        0.0  0.064226         0.064988   \n",
              "2    0.0     0.0  ...    0.0  0.000000        0.0  0.000000         0.000000   \n",
              "3    0.0     0.0  ...    0.0  0.000000        0.0  0.000000         0.000000   \n",
              "4    0.0     0.0  ...    0.0  0.000000        0.0  0.000000         0.000000   \n",
              "\n",
              "   yojana     young  younger  youth  zone  \n",
              "0     0.0  0.000000      0.0    0.0   0.0  \n",
              "1     0.0  0.000000      0.0    0.0   0.0  \n",
              "2     0.0  0.034724      0.0    0.0   0.0  \n",
              "3     0.0  0.000000      0.0    0.0   0.0  \n",
              "4     0.0  0.000000      0.0    0.0   0.0  \n",
              "\n",
              "[5 rows x 2500 columns]"
            ],
            "text/html": [
              "\n",
              "  <div id=\"df-66712cb9-5196-43da-a63e-1527269a2b81\">\n",
              "    <div class=\"colab-df-container\">\n",
              "      <div>\n",
              "<style scoped>\n",
              "    .dataframe tbody tr th:only-of-type {\n",
              "        vertical-align: middle;\n",
              "    }\n",
              "\n",
              "    .dataframe tbody tr th {\n",
              "        vertical-align: top;\n",
              "    }\n",
              "\n",
              "    .dataframe thead th {\n",
              "        text-align: right;\n",
              "    }\n",
              "</style>\n",
              "<table border=\"1\" class=\"dataframe\">\n",
              "  <thead>\n",
              "    <tr style=\"text-align: right;\">\n",
              "      <th></th>\n",
              "      <th>aadmi</th>\n",
              "      <th>aadmi party</th>\n",
              "      <th>aam</th>\n",
              "      <th>aam aadmi</th>\n",
              "      <th>aam aadmi party</th>\n",
              "      <th>aap</th>\n",
              "      <th>abdullah</th>\n",
              "      <th>able</th>\n",
              "      <th>abuse</th>\n",
              "      <th>accept</th>\n",
              "      <th>...</th>\n",
              "      <th>yatra</th>\n",
              "      <th>yes</th>\n",
              "      <th>yesterday</th>\n",
              "      <th>yogi</th>\n",
              "      <th>yogi adityanath</th>\n",
              "      <th>yojana</th>\n",
              "      <th>young</th>\n",
              "      <th>younger</th>\n",
              "      <th>youth</th>\n",
              "      <th>zone</th>\n",
              "    </tr>\n",
              "  </thead>\n",
              "  <tbody>\n",
              "    <tr>\n",
              "      <th>0</th>\n",
              "      <td>0.0</td>\n",
              "      <td>0.0</td>\n",
              "      <td>0.0</td>\n",
              "      <td>0.0</td>\n",
              "      <td>0.0</td>\n",
              "      <td>0.0</td>\n",
              "      <td>0.0</td>\n",
              "      <td>0.0</td>\n",
              "      <td>0.0</td>\n",
              "      <td>0.0</td>\n",
              "      <td>...</td>\n",
              "      <td>0.0</td>\n",
              "      <td>0.000000</td>\n",
              "      <td>0.0</td>\n",
              "      <td>0.000000</td>\n",
              "      <td>0.000000</td>\n",
              "      <td>0.0</td>\n",
              "      <td>0.000000</td>\n",
              "      <td>0.0</td>\n",
              "      <td>0.0</td>\n",
              "      <td>0.0</td>\n",
              "    </tr>\n",
              "    <tr>\n",
              "      <th>1</th>\n",
              "      <td>0.0</td>\n",
              "      <td>0.0</td>\n",
              "      <td>0.0</td>\n",
              "      <td>0.0</td>\n",
              "      <td>0.0</td>\n",
              "      <td>0.0</td>\n",
              "      <td>0.0</td>\n",
              "      <td>0.0</td>\n",
              "      <td>0.0</td>\n",
              "      <td>0.0</td>\n",
              "      <td>...</td>\n",
              "      <td>0.0</td>\n",
              "      <td>0.092476</td>\n",
              "      <td>0.0</td>\n",
              "      <td>0.064226</td>\n",
              "      <td>0.064988</td>\n",
              "      <td>0.0</td>\n",
              "      <td>0.000000</td>\n",
              "      <td>0.0</td>\n",
              "      <td>0.0</td>\n",
              "      <td>0.0</td>\n",
              "    </tr>\n",
              "    <tr>\n",
              "      <th>2</th>\n",
              "      <td>0.0</td>\n",
              "      <td>0.0</td>\n",
              "      <td>0.0</td>\n",
              "      <td>0.0</td>\n",
              "      <td>0.0</td>\n",
              "      <td>0.0</td>\n",
              "      <td>0.0</td>\n",
              "      <td>0.0</td>\n",
              "      <td>0.0</td>\n",
              "      <td>0.0</td>\n",
              "      <td>...</td>\n",
              "      <td>0.0</td>\n",
              "      <td>0.000000</td>\n",
              "      <td>0.0</td>\n",
              "      <td>0.000000</td>\n",
              "      <td>0.000000</td>\n",
              "      <td>0.0</td>\n",
              "      <td>0.034724</td>\n",
              "      <td>0.0</td>\n",
              "      <td>0.0</td>\n",
              "      <td>0.0</td>\n",
              "    </tr>\n",
              "    <tr>\n",
              "      <th>3</th>\n",
              "      <td>0.0</td>\n",
              "      <td>0.0</td>\n",
              "      <td>0.0</td>\n",
              "      <td>0.0</td>\n",
              "      <td>0.0</td>\n",
              "      <td>0.0</td>\n",
              "      <td>0.0</td>\n",
              "      <td>0.0</td>\n",
              "      <td>0.0</td>\n",
              "      <td>0.0</td>\n",
              "      <td>...</td>\n",
              "      <td>0.0</td>\n",
              "      <td>0.000000</td>\n",
              "      <td>0.0</td>\n",
              "      <td>0.000000</td>\n",
              "      <td>0.000000</td>\n",
              "      <td>0.0</td>\n",
              "      <td>0.000000</td>\n",
              "      <td>0.0</td>\n",
              "      <td>0.0</td>\n",
              "      <td>0.0</td>\n",
              "    </tr>\n",
              "    <tr>\n",
              "      <th>4</th>\n",
              "      <td>0.0</td>\n",
              "      <td>0.0</td>\n",
              "      <td>0.0</td>\n",
              "      <td>0.0</td>\n",
              "      <td>0.0</td>\n",
              "      <td>0.0</td>\n",
              "      <td>0.0</td>\n",
              "      <td>0.0</td>\n",
              "      <td>0.0</td>\n",
              "      <td>0.0</td>\n",
              "      <td>...</td>\n",
              "      <td>0.0</td>\n",
              "      <td>0.000000</td>\n",
              "      <td>0.0</td>\n",
              "      <td>0.000000</td>\n",
              "      <td>0.000000</td>\n",
              "      <td>0.0</td>\n",
              "      <td>0.000000</td>\n",
              "      <td>0.0</td>\n",
              "      <td>0.0</td>\n",
              "      <td>0.0</td>\n",
              "    </tr>\n",
              "  </tbody>\n",
              "</table>\n",
              "<p>5 rows × 2500 columns</p>\n",
              "</div>\n",
              "      <button class=\"colab-df-convert\" onclick=\"convertToInteractive('df-66712cb9-5196-43da-a63e-1527269a2b81')\"\n",
              "              title=\"Convert this dataframe to an interactive table.\"\n",
              "              style=\"display:none;\">\n",
              "        \n",
              "  <svg xmlns=\"http://www.w3.org/2000/svg\" height=\"24px\"viewBox=\"0 0 24 24\"\n",
              "       width=\"24px\">\n",
              "    <path d=\"M0 0h24v24H0V0z\" fill=\"none\"/>\n",
              "    <path d=\"M18.56 5.44l.94 2.06.94-2.06 2.06-.94-2.06-.94-.94-2.06-.94 2.06-2.06.94zm-11 1L8.5 8.5l.94-2.06 2.06-.94-2.06-.94L8.5 2.5l-.94 2.06-2.06.94zm10 10l.94 2.06.94-2.06 2.06-.94-2.06-.94-.94-2.06-.94 2.06-2.06.94z\"/><path d=\"M17.41 7.96l-1.37-1.37c-.4-.4-.92-.59-1.43-.59-.52 0-1.04.2-1.43.59L10.3 9.45l-7.72 7.72c-.78.78-.78 2.05 0 2.83L4 21.41c.39.39.9.59 1.41.59.51 0 1.02-.2 1.41-.59l7.78-7.78 2.81-2.81c.8-.78.8-2.07 0-2.86zM5.41 20L4 18.59l7.72-7.72 1.47 1.35L5.41 20z\"/>\n",
              "  </svg>\n",
              "      </button>\n",
              "      \n",
              "  <style>\n",
              "    .colab-df-container {\n",
              "      display:flex;\n",
              "      flex-wrap:wrap;\n",
              "      gap: 12px;\n",
              "    }\n",
              "\n",
              "    .colab-df-convert {\n",
              "      background-color: #E8F0FE;\n",
              "      border: none;\n",
              "      border-radius: 50%;\n",
              "      cursor: pointer;\n",
              "      display: none;\n",
              "      fill: #1967D2;\n",
              "      height: 32px;\n",
              "      padding: 0 0 0 0;\n",
              "      width: 32px;\n",
              "    }\n",
              "\n",
              "    .colab-df-convert:hover {\n",
              "      background-color: #E2EBFA;\n",
              "      box-shadow: 0px 1px 2px rgba(60, 64, 67, 0.3), 0px 1px 3px 1px rgba(60, 64, 67, 0.15);\n",
              "      fill: #174EA6;\n",
              "    }\n",
              "\n",
              "    [theme=dark] .colab-df-convert {\n",
              "      background-color: #3B4455;\n",
              "      fill: #D2E3FC;\n",
              "    }\n",
              "\n",
              "    [theme=dark] .colab-df-convert:hover {\n",
              "      background-color: #434B5C;\n",
              "      box-shadow: 0px 1px 3px 1px rgba(0, 0, 0, 0.15);\n",
              "      filter: drop-shadow(0px 1px 2px rgba(0, 0, 0, 0.3));\n",
              "      fill: #FFFFFF;\n",
              "    }\n",
              "  </style>\n",
              "\n",
              "      <script>\n",
              "        const buttonEl =\n",
              "          document.querySelector('#df-66712cb9-5196-43da-a63e-1527269a2b81 button.colab-df-convert');\n",
              "        buttonEl.style.display =\n",
              "          google.colab.kernel.accessAllowed ? 'block' : 'none';\n",
              "\n",
              "        async function convertToInteractive(key) {\n",
              "          const element = document.querySelector('#df-66712cb9-5196-43da-a63e-1527269a2b81');\n",
              "          const dataTable =\n",
              "            await google.colab.kernel.invokeFunction('convertToInteractive',\n",
              "                                                     [key], {});\n",
              "          if (!dataTable) return;\n",
              "\n",
              "          const docLinkHtml = 'Like what you see? Visit the ' +\n",
              "            '<a target=\"_blank\" href=https://colab.research.google.com/notebooks/data_table.ipynb>data table notebook</a>'\n",
              "            + ' to learn more about interactive tables.';\n",
              "          element.innerHTML = '';\n",
              "          dataTable['output_type'] = 'display_data';\n",
              "          await google.colab.output.renderOutput(dataTable, element);\n",
              "          const docLink = document.createElement('div');\n",
              "          docLink.innerHTML = docLinkHtml;\n",
              "          element.appendChild(docLink);\n",
              "        }\n",
              "      </script>\n",
              "    </div>\n",
              "  </div>\n",
              "  "
            ]
          },
          "metadata": {},
          "execution_count": 42
        }
      ]
    },
    {
      "cell_type": "code",
      "source": [
        "y_train.value_counts()"
      ],
      "metadata": {
        "colab": {
          "base_uri": "https://localhost:8080/"
        },
        "id": "ziJ2tNuOubgR",
        "outputId": "314dbe35-dc15-49e3-f80a-8ba5e451e174"
      },
      "execution_count": null,
      "outputs": [
        {
          "output_type": "execute_result",
          "data": {
            "text/plain": [
              "3    134\n",
              "0    127\n",
              "1    123\n",
              "Name: bias, dtype: int64"
            ]
          },
          "metadata": {},
          "execution_count": 43
        }
      ]
    },
    {
      "cell_type": "code",
      "source": [
        "y_test.value_counts()\n"
      ],
      "metadata": {
        "colab": {
          "base_uri": "https://localhost:8080/"
        },
        "id": "sbv1asYau3EA",
        "outputId": "63a3b9f5-3ead-4b98-9fd4-f35c5ff4b430"
      },
      "execution_count": null,
      "outputs": [
        {
          "output_type": "execute_result",
          "data": {
            "text/plain": [
              "3    66\n",
              "0    63\n",
              "1    61\n",
              "Name: bias, dtype: int64"
            ]
          },
          "metadata": {},
          "execution_count": 44
        }
      ]
    },
    {
      "cell_type": "code",
      "source": [
        "y_test.value_counts()"
      ],
      "metadata": {
        "colab": {
          "base_uri": "https://localhost:8080/"
        },
        "id": "kI4gV9xSleN4",
        "outputId": "ad9ca54b-c3ed-4bab-fd81-a75f8519c998"
      },
      "execution_count": null,
      "outputs": [
        {
          "output_type": "execute_result",
          "data": {
            "text/plain": [
              "3    66\n",
              "0    63\n",
              "1    61\n",
              "Name: bias, dtype: int64"
            ]
          },
          "metadata": {},
          "execution_count": 45
        }
      ]
    },
    {
      "cell_type": "code",
      "source": [
        "#///"
      ],
      "metadata": {
        "id": "p8yKZzzC4fWo"
      },
      "execution_count": null,
      "outputs": []
    },
    {
      "cell_type": "code",
      "source": [
        "from sklearn import model_selection, naive_bayes, svm\n",
        "# fit the training dataset on the NB classifier\n",
        "Naive = naive_bayes.MultinomialNB()\n",
        "Naive.fit(X_train,y_train)\n",
        "# predict the labels on validation dataset\n",
        "predictions_NB = Naive.predict(X_test)\n",
        "# Use accuracy_score function to get the accuracy\n",
        "print(\"Naive Bayes Accuracy Score -> \",accuracy_score(predictions_NB, y_test)*100)\n",
        "print(classification_report(y_test,predictions_NB))"
      ],
      "metadata": {
        "colab": {
          "base_uri": "https://localhost:8080/"
        },
        "id": "Cj4-_oOLn0d-",
        "outputId": "c4e3f0d7-d1fb-4fe9-bb09-33e755749f8c"
      },
      "execution_count": null,
      "outputs": [
        {
          "output_type": "stream",
          "name": "stdout",
          "text": [
            "Naive Bayes Accuracy Score ->  80.52631578947368\n",
            "              precision    recall  f1-score   support\n",
            "\n",
            "           0       0.72      0.86      0.78        63\n",
            "           1       0.92      0.56      0.69        61\n",
            "           3       0.83      0.98      0.90        66\n",
            "\n",
            "    accuracy                           0.81       190\n",
            "   macro avg       0.82      0.80      0.79       190\n",
            "weighted avg       0.82      0.81      0.80       190\n",
            "\n"
          ]
        }
      ]
    },
    {
      "cell_type": "code",
      "source": [
        "rf_classifier=RandomForestClassifier().fit(X_train,y_train)\n",
        "prediction=rf_classifier.predict(X_test)\n",
        "y.value_counts()\n",
        "from sklearn.metrics import confusion_matrix,classification_report,accuracy_score\n",
        "print(confusion_matrix(y_test,prediction))\n",
        "print(accuracy_score(y_test,prediction))\n",
        "print(classification_report(y_test,prediction))\n"
      ],
      "metadata": {
        "colab": {
          "base_uri": "https://localhost:8080/"
        },
        "id": "687Dqme2uO1j",
        "outputId": "e63f08b3-5386-41a1-ebc8-01ec768dc515"
      },
      "execution_count": null,
      "outputs": [
        {
          "output_type": "stream",
          "name": "stdout",
          "text": [
            "[[44 13  6]\n",
            " [14 46  1]\n",
            " [ 0  0 66]]\n",
            "0.8210526315789474\n",
            "              precision    recall  f1-score   support\n",
            "\n",
            "           0       0.76      0.70      0.73        63\n",
            "           1       0.78      0.75      0.77        61\n",
            "           3       0.90      1.00      0.95        66\n",
            "\n",
            "    accuracy                           0.82       190\n",
            "   macro avg       0.81      0.82      0.81       190\n",
            "weighted avg       0.82      0.82      0.82       190\n",
            "\n"
          ]
        }
      ]
    },
    {
      "cell_type": "code",
      "source": [
        "rf_classifier=RandomForestClassifier( max_features='auto', min_samples_leaf=4, min_samples_split=5, n_estimators=1000).fit(X_train,y_train)\n",
        "prediction=rf_classifier.predict(X_test)\n",
        "y.value_counts()\n",
        "from sklearn.metrics import confusion_matrix,classification_report,accuracy_score\n",
        "print(confusion_matrix(y_test,prediction))\n",
        "print(accuracy_score(y_test,prediction))\n",
        "print(classification_report(y_test,prediction))\n"
      ],
      "metadata": {
        "colab": {
          "base_uri": "https://localhost:8080/"
        },
        "id": "kGOmCZPxattD",
        "outputId": "e04a8f61-ae11-4765-87b7-f0b60e74bd57"
      },
      "execution_count": null,
      "outputs": [
        {
          "output_type": "stream",
          "name": "stdout",
          "text": [
            "[[48  8  7]\n",
            " [20 35  6]\n",
            " [ 0  0 66]]\n",
            "0.7842105263157895\n",
            "              precision    recall  f1-score   support\n",
            "\n",
            "           0       0.71      0.76      0.73        63\n",
            "           1       0.81      0.57      0.67        61\n",
            "           3       0.84      1.00      0.91        66\n",
            "\n",
            "    accuracy                           0.78       190\n",
            "   macro avg       0.79      0.78      0.77       190\n",
            "weighted avg       0.79      0.78      0.78       190\n",
            "\n"
          ]
        }
      ]
    },
    {
      "cell_type": "code",
      "source": [
        "from sklearn.ensemble import RandomForestClassifier\n",
        "rf_classifier=RandomForestClassifier(n_estimators=300).fit(X_train,y_train)\n",
        "prediction=rf_classifier.predict(X_test)\n",
        "y.value_counts()\n",
        "from sklearn.metrics import confusion_matrix,classification_report,accuracy_score\n",
        "print(confusion_matrix(y_test,prediction))\n",
        "print(accuracy_score(y_test,prediction))\n",
        "print(classification_report(y_test,prediction))\n"
      ],
      "metadata": {
        "colab": {
          "base_uri": "https://localhost:8080/"
        },
        "id": "IRWZ_ooRBtUt",
        "outputId": "865b647c-5c7c-4a62-dec9-73ca0424628e"
      },
      "execution_count": null,
      "outputs": [
        {
          "output_type": "stream",
          "name": "stdout",
          "text": [
            "[[47  9  7]\n",
            " [19 40  2]\n",
            " [ 0  1 65]]\n",
            "0.8\n",
            "              precision    recall  f1-score   support\n",
            "\n",
            "           0       0.71      0.75      0.73        63\n",
            "           1       0.80      0.66      0.72        61\n",
            "           3       0.88      0.98      0.93        66\n",
            "\n",
            "    accuracy                           0.80       190\n",
            "   macro avg       0.80      0.80      0.79       190\n",
            "weighted avg       0.80      0.80      0.80       190\n",
            "\n"
          ]
        }
      ]
    },
    {
      "cell_type": "code",
      "source": [
        "//"
      ],
      "metadata": {
        "colab": {
          "base_uri": "https://localhost:8080/",
          "height": 130
        },
        "id": "7-8lQ5DZPToN",
        "outputId": "99af3d46-2dab-473c-9610-d396405bdb02"
      },
      "execution_count": null,
      "outputs": [
        {
          "output_type": "error",
          "ename": "SyntaxError",
          "evalue": "ignored",
          "traceback": [
            "\u001b[0;36m  File \u001b[0;32m\"<ipython-input-51-6648892c9bac>\"\u001b[0;36m, line \u001b[0;32m1\u001b[0m\n\u001b[0;31m    (/)\u001b[0m\n\u001b[0m     ^\u001b[0m\n\u001b[0;31mSyntaxError\u001b[0m\u001b[0;31m:\u001b[0m invalid syntax\n"
          ]
        }
      ]
    },
    {
      "cell_type": "markdown",
      "source": [
        "# RF  Manual Hyperparameter Tuning"
      ],
      "metadata": {
        "id": "kRClOrW3CWTu"
      }
    },
    {
      "cell_type": "code",
      "source": [
        "### Manual Hyperparameter Tuning\n",
        "# {'criterion': 'entropy',\n",
        "#  'max_depth': 100,\n",
        "#  'max_features': 'sqrt',\n",
        "#  'min_samples_leaf': 1,\n",
        "#  'min_samples_split': 2,\n",
        "#  'n_estimators': 600}\n",
        "model=RandomForestClassifier(n_estimators=900,criterion='entropy',\n",
        "                             max_features='sqrt',min_samples_leaf=1,min_samples_split=2,random_state=100).fit(X_train,y_train)\n",
        "predictions=model.predict(X_test)\n",
        "print(confusion_matrix(y_test,predictions))\n",
        "print(accuracy_score(y_test,predictions))\n",
        "print(classification_report(y_test,predictions))"
      ],
      "metadata": {
        "id": "XSq8mL7bBwSM"
      },
      "execution_count": null,
      "outputs": []
    },
    {
      "cell_type": "code",
      "source": [
        "//"
      ],
      "metadata": {
        "id": "d2St00oqqUSq"
      },
      "execution_count": null,
      "outputs": []
    },
    {
      "cell_type": "markdown",
      "source": [
        "#RF WITH RANDOMSEARCH CV"
      ],
      "metadata": {
        "id": "F3n29_YBCT8p"
      }
    },
    {
      "cell_type": "markdown",
      "source": [
        "RF WITH RANDOMSEARCH CV"
      ],
      "metadata": {
        "id": "TkbZtRh0CIaI"
      }
    },
    {
      "cell_type": "code",
      "source": [
        "import numpy as np\n",
        "from sklearn.ensemble import RandomForestClassifier\n",
        "from sklearn.model_selection import RandomizedSearchCV\n",
        "# Number of trees in random forest\n",
        "n_estimators = [int(x) for x in np.linspace(start = 200, stop = 2000, num = 10)]\n",
        "# Number of features to consider at every split\n",
        "max_features = ['auto', 'sqrt','log2']\n",
        "# Maximum number of levels in tree\n",
        "max_depth = [int(x) for x in np.linspace(50, 500,10)]\n",
        "# Minimum number of samples required to split a node\n",
        "min_samples_split = [2, 5, 10,14]\n",
        "# Minimum number of samples required at each leaf node\n",
        "min_samples_leaf = [1, 2, 4,6,8]\n",
        "# Create the random grid\n",
        "random_grid = {'n_estimators': n_estimators,\n",
        "               'max_features': max_features,\n",
        "               'max_depth': max_depth,\n",
        "               'min_samples_split': min_samples_split,\n",
        "               'min_samples_leaf': min_samples_leaf,\n",
        "              'criterion':['entropy','gini']}\n",
        "print(random_grid)"
      ],
      "metadata": {
        "id": "K-tGuuB9Bzs8"
      },
      "execution_count": null,
      "outputs": []
    },
    {
      "cell_type": "code",
      "source": [
        "rf=RandomForestClassifier()\n",
        "rf_randomcv=RandomizedSearchCV(estimator=rf,param_distributions=random_grid,n_iter=20,cv=3,verbose=2,\n",
        "                               random_state=50,n_jobs=-1)\n",
        "### fit the randomized model\n",
        "rf_randomcv.fit(X_train,y_train)"
      ],
      "metadata": {
        "id": "ra9U6zclB19G"
      },
      "execution_count": null,
      "outputs": []
    },
    {
      "cell_type": "code",
      "source": [
        "rf_randomcv.best_params_"
      ],
      "metadata": {
        "id": "iQeTNCchB3Q0"
      },
      "execution_count": null,
      "outputs": []
    },
    {
      "cell_type": "code",
      "source": [
        "best_random_grid=rf_randomcv.best_estimator_\n",
        "from sklearn.metrics import accuracy_score\n",
        "y_pred=best_random_grid.predict(X_test)\n",
        "print(confusion_matrix(y_test,y_pred))\n",
        "print(\"Accuracy Score {}\".format(accuracy_score(y_test,y_pred)))\n",
        "print(\"Classification report: \\n {}\".format(classification_report(y_test,y_pred)))"
      ],
      "metadata": {
        "id": "KzPlQxeqB5y9"
      },
      "execution_count": null,
      "outputs": []
    },
    {
      "cell_type": "code",
      "source": [
        "//"
      ],
      "metadata": {
        "id": "0W6OZuPg3Dy-"
      },
      "execution_count": null,
      "outputs": []
    },
    {
      "cell_type": "markdown",
      "source": [
        "#RF WITH GridSearchCV\n"
      ],
      "metadata": {
        "id": "DFVEVXH4CPvU"
      }
    },
    {
      "cell_type": "markdown",
      "source": [
        "RF WITH GridSearchCV\n"
      ],
      "metadata": {
        "id": "HLVqyw_FCNF2"
      }
    },
    {
      "cell_type": "code",
      "source": [
        "from sklearn.model_selection import GridSearchCV\n",
        "\n",
        "param_grid = {\n",
        "    'criterion': [rf_randomcv.best_params_['criterion']],\n",
        "    'max_depth': [rf_randomcv.best_params_['max_depth']],\n",
        "    'max_features': [rf_randomcv.best_params_['max_features']],\n",
        "    'min_samples_leaf': [rf_randomcv.best_params_['min_samples_leaf'], \n",
        "                         rf_randomcv.best_params_['min_samples_leaf']+2, \n",
        "                         rf_randomcv.best_params_['min_samples_leaf'] + 4],\n",
        "    'min_samples_split': [rf_randomcv.best_params_['min_samples_split'] - 2,\n",
        "                          rf_randomcv.best_params_['min_samples_split'] - 1,\n",
        "                          rf_randomcv.best_params_['min_samples_split'], \n",
        "                          rf_randomcv.best_params_['min_samples_split'] +1,\n",
        "                          rf_randomcv.best_params_['min_samples_split'] + 2],\n",
        "    'n_estimators': [rf_randomcv.best_params_['n_estimators'] - 200, rf_randomcv.best_params_['n_estimators'] - 100, \n",
        "                     rf_randomcv.best_params_['n_estimators'], \n",
        "                     rf_randomcv.best_params_['n_estimators'] + 100, rf_randomcv.best_params_['n_estimators'] + 200]\n",
        "}\n",
        "\n",
        "print(param_grid)\n",
        "#### Fit the grid_search to the data\n",
        "rf=RandomForestClassifier()\n",
        "grid_search=GridSearchCV(estimator=rf,param_grid=param_grid,cv=10,n_jobs=-1,verbose=2)\n",
        "grid_search.fit(X_train,y_train)\n"
      ],
      "metadata": {
        "id": "iX0aeDzaCMCE"
      },
      "execution_count": null,
      "outputs": []
    },
    {
      "cell_type": "code",
      "source": [
        "//"
      ],
      "metadata": {
        "id": "dAhiSMhtrJih"
      },
      "execution_count": null,
      "outputs": []
    },
    {
      "cell_type": "markdown",
      "source": [
        "# RF WITH TPOT OPTIMIZATION"
      ],
      "metadata": {
        "id": "gPn6Fxzy26f7"
      }
    },
    {
      "cell_type": "code",
      "source": [
        "pip install tpot\n"
      ],
      "metadata": {
        "id": "wPLR8hUUMuv0"
      },
      "execution_count": null,
      "outputs": []
    },
    {
      "cell_type": "code",
      "source": [
        "from tpot import TPOTClassifier\n",
        "\n",
        "tpot_classifier = TPOTClassifier(generations= 3, population_size= 30, offspring_size= 10,\n",
        "                                 verbosity= 2, early_stop= 12,\n",
        "                                 config_dict={'sklearn.ensemble.RandomForestClassifier':param}, \n",
        "                                 cv = 4, scoring = ['accuracy','recall','precision'])\n",
        "tpot_classifier.fit(X_train,y_train)"
      ],
      "metadata": {
        "id": "_7QEpxwxLYql"
      },
      "execution_count": null,
      "outputs": []
    },
    {
      "cell_type": "code",
      "source": [
        "### Manual Hyperparameter Tuning\n",
        "# {'criterion': 'entropy',\n",
        "#  'max_depth': 100,\n",
        "#  'max_features': 'sqrt',\n",
        "#  'min_samples_leaf': 1,\n",
        "#  'min_samples_split': 2,\n",
        "#  'n_estimators': 600}\n",
        "#model=RandomForestClassifier( criterion='gini', max_depth=340, max_features='auto', min_samples_leaf=2, min_samples_split=5, n_estimators=2000).fit(X_train,y_train)\n",
        "model=RandomForestClassifier(criterion='entropy', max_depth=780, max_features='auto', min_samples_leaf=4, min_samples_split=5, n_estimators=1000).fit(X_train,y_train)\n",
        "predictions=model.predict(X_test)\n",
        "print(confusion_matrix(y_test,predictions))\n",
        "print(accuracy_score(y_test,predictions))\n",
        "print(classification_report(y_test,predictions))"
      ],
      "metadata": {
        "id": "amDFD8dBfbyR"
      },
      "execution_count": null,
      "outputs": []
    },
    {
      "cell_type": "code",
      "source": [
        "pip install optuna\n"
      ],
      "metadata": {
        "id": "3CqmZdypNHZX"
      },
      "execution_count": null,
      "outputs": []
    },
    {
      "cell_type": "code",
      "source": [
        "import optuna\n",
        "import sklearn.svm\n",
        "def objective(trial):\n",
        "\n",
        "    classifier = trial.suggest_categorical('classifier', ['RandomForest', 'SVC'])\n",
        "    \n",
        "    if classifier == 'RandomForest':\n",
        "        n_estimators = trial.suggest_int('n_estimators', 200, 2000,10)\n",
        "        max_depth = int(trial.suggest_float('max_depth', 10, 100, log=True))\n",
        "\n",
        "        clf = sklearn.ensemble.RandomForestClassifier(\n",
        "            n_estimators=n_estimators, max_depth=max_depth)\n",
        "    else:\n",
        "        c = trial.suggest_float('svc_c', 1e-10, 1e10, log=True)\n",
        "        \n",
        "        clf = sklearn.svm.SVC(C=c, gamma='auto')\n",
        "\n",
        "    return sklearn.model_selection.cross_val_score(\n",
        "        clf,X_train,y_train, n_jobs=-1, cv=3).mean()"
      ],
      "metadata": {
        "id": "EkpUsHpvM9YP"
      },
      "execution_count": null,
      "outputs": []
    },
    {
      "cell_type": "code",
      "source": [
        "study = optuna.create_study(direction='maximize')\n",
        "study.optimize(objective, n_trials=100)\n",
        "\n",
        "trial = study.best_trial\n",
        "\n",
        "print('Accuracy: {}'.format(trial.value))\n",
        "print(\"Best hyperparameters: {}\".format(trial.params))"
      ],
      "metadata": {
        "id": "nIyFlviSM_UY"
      },
      "execution_count": null,
      "outputs": []
    },
    {
      "cell_type": "code",
      "source": [
        "rf=RandomForestClassifier(n_estimators=330,max_depth=30)\n",
        "rf.fit(X_train,y_train)"
      ],
      "metadata": {
        "id": "FZLjJ7QfNDAT"
      },
      "execution_count": null,
      "outputs": []
    },
    {
      "cell_type": "code",
      "source": [
        "y_pred=rf.predict(X_test)\n",
        "print(confusion_matrix(y_test,y_pred))\n",
        "print(accuracy_score(y_test,y_pred))\n",
        "print(classification_report(y_test,y_pred))"
      ],
      "metadata": {
        "id": "s8DelnF9NGCY"
      },
      "execution_count": null,
      "outputs": []
    },
    {
      "cell_type": "markdown",
      "source": [
        ""
      ],
      "metadata": {
        "id": "2qDwTw3bNv1S"
      }
    },
    {
      "cell_type": "markdown",
      "source": [
        ""
      ],
      "metadata": {
        "id": "MegH8fYBNvzc"
      }
    },
    {
      "cell_type": "markdown",
      "source": [
        ""
      ],
      "metadata": {
        "id": "uplpzifzNvxh"
      }
    },
    {
      "cell_type": "code",
      "source": [
        "from sklearn.naive_bayes import MultinomialNB\n",
        "clf = MultinomialNB().fit(X_train, y_train)"
      ],
      "metadata": {
        "id": "uCKaKkSlNwRd"
      },
      "execution_count": null,
      "outputs": []
    },
    {
      "cell_type": "code",
      "source": [
        "from sklearn.pipeline import Pipeline\n",
        "text_clf = Pipeline([('vect', CountVectorizer()),\n",
        "                     ('tfidf', TfidfTransformer()),\n",
        "                     ('clf', MultinomialNB())])\n",
        "text_clf = text_clf.fit(X_train, y_train)"
      ],
      "metadata": {
        "id": "kh-NNrNhN1DT"
      },
      "execution_count": null,
      "outputs": []
    },
    {
      "cell_type": "code",
      "source": [
        "from sklearn.metrics import accuracy_score\n",
        "y_pred=text_clf.predict(X_test)\n",
        "print(confusion_matrix(y_test,y_pred))\n",
        "print(\"Accuracy Score {}\".format(accuracy_score(y_test,y_pred)))\n",
        "print(\"Classification report: \\n {}\".format(classification_report(y_test,y_pred)))"
      ],
      "metadata": {
        "id": "L6Z5m_3hOP2g"
      },
      "execution_count": null,
      "outputs": []
    },
    {
      "cell_type": "code",
      "source": [
        ""
      ],
      "metadata": {
        "id": "2jkOLQQ90LZa"
      },
      "execution_count": null,
      "outputs": []
    },
    {
      "cell_type": "code",
      "source": [
        ""
      ],
      "metadata": {
        "id": "cu8JzY70nTif"
      },
      "execution_count": null,
      "outputs": []
    },
    {
      "cell_type": "code",
      "source": [
        ""
      ],
      "metadata": {
        "id": "Jg_nqM5znXCA"
      },
      "execution_count": null,
      "outputs": []
    },
    {
      "cell_type": "markdown",
      "source": [
        "# New Section"
      ],
      "metadata": {
        "id": "6S-ZEMg2nXop"
      }
    }
  ]
}