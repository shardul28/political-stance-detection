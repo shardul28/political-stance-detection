{
  "nbformat": 4,
  "nbformat_minor": 0,
  "metadata": {
    "colab": {
      "name": "proj210322.ipynb",
      "provenance": [],
      "collapsed_sections": [],
      "authorship_tag": "ABX9TyMaWYwQ5Csx9dabB1l5un+k",
      "include_colab_link": true
    },
    "kernelspec": {
      "name": "python3",
      "display_name": "Python 3"
    },
    "language_info": {
      "name": "python"
    }
  },
  "cells": [
    {
      "cell_type": "markdown",
      "metadata": {
        "id": "view-in-github",
        "colab_type": "text"
      },
      "source": [
        "<a href=\"https://colab.research.google.com/github/shardul28/political-stance-detection/blob/Mscproject/proj240322.ipynb\" target=\"_parent\"><img src=\"https://colab.research.google.com/assets/colab-badge.svg\" alt=\"Open In Colab\"/></a>"
      ]
    },
    {
      "cell_type": "code",
      "execution_count": 1,
      "metadata": {
        "id": "IoJ8yC1Ixie-"
      },
      "outputs": [],
      "source": [
        ""
      ]
    },
    {
      "cell_type": "code",
      "source": [
        "from google.colab import drive\n",
        "drive.mount('/content/drive')"
      ],
      "metadata": {
        "colab": {
          "base_uri": "https://localhost:8080/"
        },
        "id": "2NVyxdYgydje",
        "outputId": "f1bb98e1-dc04-493f-8d78-5a1038c60a16"
      },
      "execution_count": 2,
      "outputs": [
        {
          "output_type": "stream",
          "name": "stdout",
          "text": [
            "Drive already mounted at /content/drive; to attempt to forcibly remount, call drive.mount(\"/content/drive\", force_remount=True).\n"
          ]
        }
      ]
    },
    {
      "cell_type": "code",
      "source": [
        "import pandas as pd\n",
        "import numpy as np\n",
        "import tensorflow as tf\n",
        "from tensorflow import keras\n",
        "from tensorflow.keras import layers\n",
        "from tensorflow.keras.models import Sequential\n",
        "from tensorflow.keras.layers import Dense, Dropout, Embedding\n",
        "from tensorflow.keras.optimizers import Adam\n",
        "\n"
      ],
      "metadata": {
        "id": "1x5SdjByyf4M"
      },
      "execution_count": 3,
      "outputs": []
    },
    {
      "cell_type": "code",
      "source": [
        "cd /content/drive/MyDrive/republic ndtv data/testing_data/"
      ],
      "metadata": {
        "colab": {
          "base_uri": "https://localhost:8080/"
        },
        "id": "uySZw32hzaRs",
        "outputId": "df35ffce-d010-4cbf-ebd4-67b8760ce730"
      },
      "execution_count": 4,
      "outputs": [
        {
          "output_type": "stream",
          "name": "stdout",
          "text": [
            "/content/drive/MyDrive/republic ndtv data/testing_data\n"
          ]
        }
      ]
    },
    {
      "cell_type": "code",
      "source": [
        "df=pd.read_csv('/content/drive/MyDrive/republic ndtv data/testing_data/ndtv - Sheet1.csv')"
      ],
      "metadata": {
        "id": "n-xmALXyzUic"
      },
      "execution_count": 5,
      "outputs": []
    },
    {
      "cell_type": "code",
      "source": [
        "df"
      ],
      "metadata": {
        "colab": {
          "base_uri": "https://localhost:8080/",
          "height": 659
        },
        "id": "UUL0Zw5szhRD",
        "outputId": "9419b63d-93a7-4da4-ca40-75532ff99254"
      },
      "execution_count": 6,
      "outputs": [
        {
          "output_type": "execute_result",
          "data": {
            "text/plain": [
              "      Unnamed: 0                            time  \\\n",
              "0              0  Mon Oct 11 07:47:24 +0000 2021   \n",
              "1              1  Mon Oct 11 07:38:49 +0000 2021   \n",
              "2              2  Mon Oct 11 07:31:00 +0000 2021   \n",
              "3              3  Mon Oct 11 07:30:21 +0000 2021   \n",
              "4              4  Mon Oct 11 07:20:48 +0000 2021   \n",
              "...          ...                             ...   \n",
              "1366        1366  Fri Oct 01 02:24:33 +0000 2021   \n",
              "1367        1367  Fri Oct 01 02:12:57 +0000 2021   \n",
              "1368        1368  Fri Oct 01 02:12:52 +0000 2021   \n",
              "1369        1369  Fri Oct 01 02:12:46 +0000 2021   \n",
              "1370        1370  Fri Oct 01 01:38:16 +0000 2021   \n",
              "\n",
              "                                                   text  \\\n",
              "0     Army Officer, 4 Others Killed In Encounter In ...   \n",
              "1     #AryanKhan Case: No Bail For Him Today, Next H...   \n",
              "2     RT @ndtvfeed: Ex-National Conference Leaders D...   \n",
              "3     RT @ndtvfeed: US Has Lost AI Battle To China, ...   \n",
              "4     RT @ndtvfeed: A Look At Inspiring Messages On ...   \n",
              "...                                                 ...   \n",
              "1366  RT @ndtvfeed: On North Korea, Joe Biden's \"No ...   \n",
              "1367  RT @ndtvfeed: \"Very Honest\" About Concerns On ...   \n",
              "1368  RT @ndtvfeed: Iran To Set Date In \"Weeks\" For ...   \n",
              "1369  RT @ndtvfeed: European Union, Australia Trade ...   \n",
              "1370  RT @ndtvfeed: \"Modest Gains\": 2% Or Fewer In M...   \n",
              "\n",
              "                                                    url  retweet_count  \\\n",
              "0     https://www.ndtv.com/india-news/army-officer-4...              9   \n",
              "1     https://ndtv.com/india-news/mumbai-drug-bust-c...              5   \n",
              "2     https://www.ndtv.com/india-news/after-resignin...              2   \n",
              "3     https://www.ndtv.com/world-news/us-has-lost-ar...              5   \n",
              "4     https://www.ndtv.com/india-news/on-internation...              3   \n",
              "...                                                 ...            ...   \n",
              "1366  https://www.ndtv.com/world-news/north-korea-us...              2   \n",
              "1367  https://www.ndtv.com/world-news/us-very-honest...              4   \n",
              "1368  https://www.ndtv.com/world-news/iran-nuclear-t...              3   \n",
              "1369  https://www.ndtv.com/world-news/submarine-row-...              3   \n",
              "1370  https://www.ndtv.com/world-news/coronavirus-2-...              8   \n",
              "\n",
              "      favorite_count  left 0 right 1  \\\n",
              "0                 63             NaN   \n",
              "1                 44             NaN   \n",
              "2                  0             1.0   \n",
              "3                  0             0.0   \n",
              "4                  0             NaN   \n",
              "...              ...             ...   \n",
              "1366               0             NaN   \n",
              "1367               0             NaN   \n",
              "1368               0             NaN   \n",
              "1369               0             NaN   \n",
              "1370               0             NaN   \n",
              "\n",
              "                                                  title  \\\n",
              "0     Army Officer, 4 Personnel Killed In Encounter ...   \n",
              "1     Aryan Khan Case: No Bail For Him Today, Next H...   \n",
              "2     Ex-National Conference Leaders Devender Rana, ...   \n",
              "3     US Has Lost AI Battle To China, Pentagon's Ex-...   \n",
              "4     International Day Of The Girl Child 2021: Lead...   \n",
              "...                                                 ...   \n",
              "1366  On North Korea, Joe Biden's \"No Urgency\" Polic...   \n",
              "1367  \"Been Very Honest About Concerns With Pak\" Ove...   \n",
              "1368  Iran To Set Date In \"Weeks\" To Return To Nucle...   \n",
              "1369  European Union, Australia Trade Talks Postpone...   \n",
              "1370  \"Modest Gains\": 2% Or Fewer In Many African Na...   \n",
              "\n",
              "                                                content  \n",
              "0     an army officer and four other personnel were ...  \n",
              "1     aryan khan did not get bail today for the thir...  \n",
              "2     a day after resigning from the national confer...  \n",
              "3     china has won the artificial intelligence batt...  \n",
              "4     various world leaders and un agencies posted w...  \n",
              "...                                                 ...  \n",
              "1366  during their only meeting, barack obama warned...  \n",
              "1367  the us has been very honest about its concerns...  \n",
              "1368  iran's new government will in the next few wee...  \n",
              "1369  a long-planned round of australia-eu free trad...  \n",
              "1370  just two percent of the population, or fewer, ...  \n",
              "\n",
              "[1371 rows x 9 columns]"
            ],
            "text/html": [
              "\n",
              "  <div id=\"df-bff962b0-351d-47c8-aef1-f3e484dcdf68\">\n",
              "    <div class=\"colab-df-container\">\n",
              "      <div>\n",
              "<style scoped>\n",
              "    .dataframe tbody tr th:only-of-type {\n",
              "        vertical-align: middle;\n",
              "    }\n",
              "\n",
              "    .dataframe tbody tr th {\n",
              "        vertical-align: top;\n",
              "    }\n",
              "\n",
              "    .dataframe thead th {\n",
              "        text-align: right;\n",
              "    }\n",
              "</style>\n",
              "<table border=\"1\" class=\"dataframe\">\n",
              "  <thead>\n",
              "    <tr style=\"text-align: right;\">\n",
              "      <th></th>\n",
              "      <th>Unnamed: 0</th>\n",
              "      <th>time</th>\n",
              "      <th>text</th>\n",
              "      <th>url</th>\n",
              "      <th>retweet_count</th>\n",
              "      <th>favorite_count</th>\n",
              "      <th>left 0 right 1</th>\n",
              "      <th>title</th>\n",
              "      <th>content</th>\n",
              "    </tr>\n",
              "  </thead>\n",
              "  <tbody>\n",
              "    <tr>\n",
              "      <th>0</th>\n",
              "      <td>0</td>\n",
              "      <td>Mon Oct 11 07:47:24 +0000 2021</td>\n",
              "      <td>Army Officer, 4 Others Killed In Encounter In ...</td>\n",
              "      <td>https://www.ndtv.com/india-news/army-officer-4...</td>\n",
              "      <td>9</td>\n",
              "      <td>63</td>\n",
              "      <td>NaN</td>\n",
              "      <td>Army Officer, 4 Personnel Killed In Encounter ...</td>\n",
              "      <td>an army officer and four other personnel were ...</td>\n",
              "    </tr>\n",
              "    <tr>\n",
              "      <th>1</th>\n",
              "      <td>1</td>\n",
              "      <td>Mon Oct 11 07:38:49 +0000 2021</td>\n",
              "      <td>#AryanKhan Case: No Bail For Him Today, Next H...</td>\n",
              "      <td>https://ndtv.com/india-news/mumbai-drug-bust-c...</td>\n",
              "      <td>5</td>\n",
              "      <td>44</td>\n",
              "      <td>NaN</td>\n",
              "      <td>Aryan Khan Case: No Bail For Him Today, Next H...</td>\n",
              "      <td>aryan khan did not get bail today for the thir...</td>\n",
              "    </tr>\n",
              "    <tr>\n",
              "      <th>2</th>\n",
              "      <td>2</td>\n",
              "      <td>Mon Oct 11 07:31:00 +0000 2021</td>\n",
              "      <td>RT @ndtvfeed: Ex-National Conference Leaders D...</td>\n",
              "      <td>https://www.ndtv.com/india-news/after-resignin...</td>\n",
              "      <td>2</td>\n",
              "      <td>0</td>\n",
              "      <td>1.0</td>\n",
              "      <td>Ex-National Conference Leaders Devender Rana, ...</td>\n",
              "      <td>a day after resigning from the national confer...</td>\n",
              "    </tr>\n",
              "    <tr>\n",
              "      <th>3</th>\n",
              "      <td>3</td>\n",
              "      <td>Mon Oct 11 07:30:21 +0000 2021</td>\n",
              "      <td>RT @ndtvfeed: US Has Lost AI Battle To China, ...</td>\n",
              "      <td>https://www.ndtv.com/world-news/us-has-lost-ar...</td>\n",
              "      <td>5</td>\n",
              "      <td>0</td>\n",
              "      <td>0.0</td>\n",
              "      <td>US Has Lost AI Battle To China, Pentagon's Ex-...</td>\n",
              "      <td>china has won the artificial intelligence batt...</td>\n",
              "    </tr>\n",
              "    <tr>\n",
              "      <th>4</th>\n",
              "      <td>4</td>\n",
              "      <td>Mon Oct 11 07:20:48 +0000 2021</td>\n",
              "      <td>RT @ndtvfeed: A Look At Inspiring Messages On ...</td>\n",
              "      <td>https://www.ndtv.com/india-news/on-internation...</td>\n",
              "      <td>3</td>\n",
              "      <td>0</td>\n",
              "      <td>NaN</td>\n",
              "      <td>International Day Of The Girl Child 2021: Lead...</td>\n",
              "      <td>various world leaders and un agencies posted w...</td>\n",
              "    </tr>\n",
              "    <tr>\n",
              "      <th>...</th>\n",
              "      <td>...</td>\n",
              "      <td>...</td>\n",
              "      <td>...</td>\n",
              "      <td>...</td>\n",
              "      <td>...</td>\n",
              "      <td>...</td>\n",
              "      <td>...</td>\n",
              "      <td>...</td>\n",
              "      <td>...</td>\n",
              "    </tr>\n",
              "    <tr>\n",
              "      <th>1366</th>\n",
              "      <td>1366</td>\n",
              "      <td>Fri Oct 01 02:24:33 +0000 2021</td>\n",
              "      <td>RT @ndtvfeed: On North Korea, Joe Biden's \"No ...</td>\n",
              "      <td>https://www.ndtv.com/world-news/north-korea-us...</td>\n",
              "      <td>2</td>\n",
              "      <td>0</td>\n",
              "      <td>NaN</td>\n",
              "      <td>On North Korea, Joe Biden's \"No Urgency\" Polic...</td>\n",
              "      <td>during their only meeting, barack obama warned...</td>\n",
              "    </tr>\n",
              "    <tr>\n",
              "      <th>1367</th>\n",
              "      <td>1367</td>\n",
              "      <td>Fri Oct 01 02:12:57 +0000 2021</td>\n",
              "      <td>RT @ndtvfeed: \"Very Honest\" About Concerns On ...</td>\n",
              "      <td>https://www.ndtv.com/world-news/us-very-honest...</td>\n",
              "      <td>4</td>\n",
              "      <td>0</td>\n",
              "      <td>NaN</td>\n",
              "      <td>\"Been Very Honest About Concerns With Pak\" Ove...</td>\n",
              "      <td>the us has been very honest about its concerns...</td>\n",
              "    </tr>\n",
              "    <tr>\n",
              "      <th>1368</th>\n",
              "      <td>1368</td>\n",
              "      <td>Fri Oct 01 02:12:52 +0000 2021</td>\n",
              "      <td>RT @ndtvfeed: Iran To Set Date In \"Weeks\" For ...</td>\n",
              "      <td>https://www.ndtv.com/world-news/iran-nuclear-t...</td>\n",
              "      <td>3</td>\n",
              "      <td>0</td>\n",
              "      <td>NaN</td>\n",
              "      <td>Iran To Set Date In \"Weeks\" To Return To Nucle...</td>\n",
              "      <td>iran's new government will in the next few wee...</td>\n",
              "    </tr>\n",
              "    <tr>\n",
              "      <th>1369</th>\n",
              "      <td>1369</td>\n",
              "      <td>Fri Oct 01 02:12:46 +0000 2021</td>\n",
              "      <td>RT @ndtvfeed: European Union, Australia Trade ...</td>\n",
              "      <td>https://www.ndtv.com/world-news/submarine-row-...</td>\n",
              "      <td>3</td>\n",
              "      <td>0</td>\n",
              "      <td>NaN</td>\n",
              "      <td>European Union, Australia Trade Talks Postpone...</td>\n",
              "      <td>a long-planned round of australia-eu free trad...</td>\n",
              "    </tr>\n",
              "    <tr>\n",
              "      <th>1370</th>\n",
              "      <td>1370</td>\n",
              "      <td>Fri Oct 01 01:38:16 +0000 2021</td>\n",
              "      <td>RT @ndtvfeed: \"Modest Gains\": 2% Or Fewer In M...</td>\n",
              "      <td>https://www.ndtv.com/world-news/coronavirus-2-...</td>\n",
              "      <td>8</td>\n",
              "      <td>0</td>\n",
              "      <td>NaN</td>\n",
              "      <td>\"Modest Gains\": 2% Or Fewer In Many African Na...</td>\n",
              "      <td>just two percent of the population, or fewer, ...</td>\n",
              "    </tr>\n",
              "  </tbody>\n",
              "</table>\n",
              "<p>1371 rows × 9 columns</p>\n",
              "</div>\n",
              "      <button class=\"colab-df-convert\" onclick=\"convertToInteractive('df-bff962b0-351d-47c8-aef1-f3e484dcdf68')\"\n",
              "              title=\"Convert this dataframe to an interactive table.\"\n",
              "              style=\"display:none;\">\n",
              "        \n",
              "  <svg xmlns=\"http://www.w3.org/2000/svg\" height=\"24px\"viewBox=\"0 0 24 24\"\n",
              "       width=\"24px\">\n",
              "    <path d=\"M0 0h24v24H0V0z\" fill=\"none\"/>\n",
              "    <path d=\"M18.56 5.44l.94 2.06.94-2.06 2.06-.94-2.06-.94-.94-2.06-.94 2.06-2.06.94zm-11 1L8.5 8.5l.94-2.06 2.06-.94-2.06-.94L8.5 2.5l-.94 2.06-2.06.94zm10 10l.94 2.06.94-2.06 2.06-.94-2.06-.94-.94-2.06-.94 2.06-2.06.94z\"/><path d=\"M17.41 7.96l-1.37-1.37c-.4-.4-.92-.59-1.43-.59-.52 0-1.04.2-1.43.59L10.3 9.45l-7.72 7.72c-.78.78-.78 2.05 0 2.83L4 21.41c.39.39.9.59 1.41.59.51 0 1.02-.2 1.41-.59l7.78-7.78 2.81-2.81c.8-.78.8-2.07 0-2.86zM5.41 20L4 18.59l7.72-7.72 1.47 1.35L5.41 20z\"/>\n",
              "  </svg>\n",
              "      </button>\n",
              "      \n",
              "  <style>\n",
              "    .colab-df-container {\n",
              "      display:flex;\n",
              "      flex-wrap:wrap;\n",
              "      gap: 12px;\n",
              "    }\n",
              "\n",
              "    .colab-df-convert {\n",
              "      background-color: #E8F0FE;\n",
              "      border: none;\n",
              "      border-radius: 50%;\n",
              "      cursor: pointer;\n",
              "      display: none;\n",
              "      fill: #1967D2;\n",
              "      height: 32px;\n",
              "      padding: 0 0 0 0;\n",
              "      width: 32px;\n",
              "    }\n",
              "\n",
              "    .colab-df-convert:hover {\n",
              "      background-color: #E2EBFA;\n",
              "      box-shadow: 0px 1px 2px rgba(60, 64, 67, 0.3), 0px 1px 3px 1px rgba(60, 64, 67, 0.15);\n",
              "      fill: #174EA6;\n",
              "    }\n",
              "\n",
              "    [theme=dark] .colab-df-convert {\n",
              "      background-color: #3B4455;\n",
              "      fill: #D2E3FC;\n",
              "    }\n",
              "\n",
              "    [theme=dark] .colab-df-convert:hover {\n",
              "      background-color: #434B5C;\n",
              "      box-shadow: 0px 1px 3px 1px rgba(0, 0, 0, 0.15);\n",
              "      filter: drop-shadow(0px 1px 2px rgba(0, 0, 0, 0.3));\n",
              "      fill: #FFFFFF;\n",
              "    }\n",
              "  </style>\n",
              "\n",
              "      <script>\n",
              "        const buttonEl =\n",
              "          document.querySelector('#df-bff962b0-351d-47c8-aef1-f3e484dcdf68 button.colab-df-convert');\n",
              "        buttonEl.style.display =\n",
              "          google.colab.kernel.accessAllowed ? 'block' : 'none';\n",
              "\n",
              "        async function convertToInteractive(key) {\n",
              "          const element = document.querySelector('#df-bff962b0-351d-47c8-aef1-f3e484dcdf68');\n",
              "          const dataTable =\n",
              "            await google.colab.kernel.invokeFunction('convertToInteractive',\n",
              "                                                     [key], {});\n",
              "          if (!dataTable) return;\n",
              "\n",
              "          const docLinkHtml = 'Like what you see? Visit the ' +\n",
              "            '<a target=\"_blank\" href=https://colab.research.google.com/notebooks/data_table.ipynb>data table notebook</a>'\n",
              "            + ' to learn more about interactive tables.';\n",
              "          element.innerHTML = '';\n",
              "          dataTable['output_type'] = 'display_data';\n",
              "          await google.colab.output.renderOutput(dataTable, element);\n",
              "          const docLink = document.createElement('div');\n",
              "          docLink.innerHTML = docLinkHtml;\n",
              "          element.appendChild(docLink);\n",
              "        }\n",
              "      </script>\n",
              "    </div>\n",
              "  </div>\n",
              "  "
            ]
          },
          "metadata": {},
          "execution_count": 6
        }
      ]
    },
    {
      "cell_type": "code",
      "source": [
        "##CHECKING NULL VALUES\n",
        "print(df.isna().sum())\n"
      ],
      "metadata": {
        "colab": {
          "base_uri": "https://localhost:8080/"
        },
        "id": "zpvHGoYtziob",
        "outputId": "68e8b13f-43c4-40cf-937b-0a93520cad46"
      },
      "execution_count": 7,
      "outputs": [
        {
          "output_type": "stream",
          "name": "stdout",
          "text": [
            "Unnamed: 0           0\n",
            "time                 0\n",
            "text                 0\n",
            "url                  0\n",
            "retweet_count        0\n",
            "favorite_count       0\n",
            "left 0 right 1    1042\n",
            "title                0\n",
            "content              0\n",
            "dtype: int64\n"
          ]
        }
      ]
    },
    {
      "cell_type": "code",
      "source": [
        "df.columns"
      ],
      "metadata": {
        "colab": {
          "base_uri": "https://localhost:8080/"
        },
        "id": "YA653zoK0HkD",
        "outputId": "573af383-f2aa-4e7c-cb70-7ca7c8e9d781"
      },
      "execution_count": 8,
      "outputs": [
        {
          "output_type": "execute_result",
          "data": {
            "text/plain": [
              "Index(['Unnamed: 0', 'time', 'text', 'url', 'retweet_count', 'favorite_count',\n",
              "       'left 0 right 1', 'title', 'content'],\n",
              "      dtype='object')"
            ]
          },
          "metadata": {},
          "execution_count": 8
        }
      ]
    },
    {
      "cell_type": "code",
      "source": [
        "##bias=left 0 right 1 unbiased 3"
      ],
      "metadata": {
        "id": "FGPGaCK10HeT"
      },
      "execution_count": 9,
      "outputs": []
    },
    {
      "cell_type": "code",
      "source": [
        "df.rename(columns = {'left 0 right 1':'bias'}, inplace = True)"
      ],
      "metadata": {
        "id": "7ID7LkESz_b1"
      },
      "execution_count": 10,
      "outputs": []
    },
    {
      "cell_type": "code",
      "source": [
        "df=df.fillna({'bias':3})"
      ],
      "metadata": {
        "id": "eZyMjI8bzter"
      },
      "execution_count": 11,
      "outputs": []
    },
    {
      "cell_type": "code",
      "source": [
        "df['bias']=df['bias'].astype(int)"
      ],
      "metadata": {
        "id": "9HJC7jv40xvj"
      },
      "execution_count": 12,
      "outputs": []
    },
    {
      "cell_type": "code",
      "source": [
        "df.columns"
      ],
      "metadata": {
        "colab": {
          "base_uri": "https://localhost:8080/"
        },
        "id": "82wNfcQi1KnF",
        "outputId": "7ab112f6-9cc7-4a5d-eeb7-3c374469983d"
      },
      "execution_count": 13,
      "outputs": [
        {
          "output_type": "execute_result",
          "data": {
            "text/plain": [
              "Index(['Unnamed: 0', 'time', 'text', 'url', 'retweet_count', 'favorite_count',\n",
              "       'bias', 'title', 'content'],\n",
              "      dtype='object')"
            ]
          },
          "metadata": {},
          "execution_count": 13
        }
      ]
    },
    {
      "cell_type": "code",
      "source": [
        "##REMOVING 'Unnamed: 0', 'time', 'url' \n",
        "df=df[['text','retweet_count', 'favorite_count',\n",
        "       'bias', 'title', 'content']]"
      ],
      "metadata": {
        "id": "DQINpOR_1QK1"
      },
      "execution_count": 14,
      "outputs": []
    },
    {
      "cell_type": "code",
      "source": [
        "df"
      ],
      "metadata": {
        "colab": {
          "base_uri": "https://localhost:8080/",
          "height": 424
        },
        "id": "1eZm-5r71dBT",
        "outputId": "221d6e46-4997-42a3-dff3-51e34dfe5996"
      },
      "execution_count": 15,
      "outputs": [
        {
          "output_type": "execute_result",
          "data": {
            "text/plain": [
              "                                                   text  retweet_count  \\\n",
              "0     Army Officer, 4 Others Killed In Encounter In ...              9   \n",
              "1     #AryanKhan Case: No Bail For Him Today, Next H...              5   \n",
              "2     RT @ndtvfeed: Ex-National Conference Leaders D...              2   \n",
              "3     RT @ndtvfeed: US Has Lost AI Battle To China, ...              5   \n",
              "4     RT @ndtvfeed: A Look At Inspiring Messages On ...              3   \n",
              "...                                                 ...            ...   \n",
              "1366  RT @ndtvfeed: On North Korea, Joe Biden's \"No ...              2   \n",
              "1367  RT @ndtvfeed: \"Very Honest\" About Concerns On ...              4   \n",
              "1368  RT @ndtvfeed: Iran To Set Date In \"Weeks\" For ...              3   \n",
              "1369  RT @ndtvfeed: European Union, Australia Trade ...              3   \n",
              "1370  RT @ndtvfeed: \"Modest Gains\": 2% Or Fewer In M...              8   \n",
              "\n",
              "      favorite_count  bias                                              title  \\\n",
              "0                 63     3  Army Officer, 4 Personnel Killed In Encounter ...   \n",
              "1                 44     3  Aryan Khan Case: No Bail For Him Today, Next H...   \n",
              "2                  0     1  Ex-National Conference Leaders Devender Rana, ...   \n",
              "3                  0     0  US Has Lost AI Battle To China, Pentagon's Ex-...   \n",
              "4                  0     3  International Day Of The Girl Child 2021: Lead...   \n",
              "...              ...   ...                                                ...   \n",
              "1366               0     3  On North Korea, Joe Biden's \"No Urgency\" Polic...   \n",
              "1367               0     3  \"Been Very Honest About Concerns With Pak\" Ove...   \n",
              "1368               0     3  Iran To Set Date In \"Weeks\" To Return To Nucle...   \n",
              "1369               0     3  European Union, Australia Trade Talks Postpone...   \n",
              "1370               0     3  \"Modest Gains\": 2% Or Fewer In Many African Na...   \n",
              "\n",
              "                                                content  \n",
              "0     an army officer and four other personnel were ...  \n",
              "1     aryan khan did not get bail today for the thir...  \n",
              "2     a day after resigning from the national confer...  \n",
              "3     china has won the artificial intelligence batt...  \n",
              "4     various world leaders and un agencies posted w...  \n",
              "...                                                 ...  \n",
              "1366  during their only meeting, barack obama warned...  \n",
              "1367  the us has been very honest about its concerns...  \n",
              "1368  iran's new government will in the next few wee...  \n",
              "1369  a long-planned round of australia-eu free trad...  \n",
              "1370  just two percent of the population, or fewer, ...  \n",
              "\n",
              "[1371 rows x 6 columns]"
            ],
            "text/html": [
              "\n",
              "  <div id=\"df-d3beb81f-e760-4b04-9403-d0bb9c377545\">\n",
              "    <div class=\"colab-df-container\">\n",
              "      <div>\n",
              "<style scoped>\n",
              "    .dataframe tbody tr th:only-of-type {\n",
              "        vertical-align: middle;\n",
              "    }\n",
              "\n",
              "    .dataframe tbody tr th {\n",
              "        vertical-align: top;\n",
              "    }\n",
              "\n",
              "    .dataframe thead th {\n",
              "        text-align: right;\n",
              "    }\n",
              "</style>\n",
              "<table border=\"1\" class=\"dataframe\">\n",
              "  <thead>\n",
              "    <tr style=\"text-align: right;\">\n",
              "      <th></th>\n",
              "      <th>text</th>\n",
              "      <th>retweet_count</th>\n",
              "      <th>favorite_count</th>\n",
              "      <th>bias</th>\n",
              "      <th>title</th>\n",
              "      <th>content</th>\n",
              "    </tr>\n",
              "  </thead>\n",
              "  <tbody>\n",
              "    <tr>\n",
              "      <th>0</th>\n",
              "      <td>Army Officer, 4 Others Killed In Encounter In ...</td>\n",
              "      <td>9</td>\n",
              "      <td>63</td>\n",
              "      <td>3</td>\n",
              "      <td>Army Officer, 4 Personnel Killed In Encounter ...</td>\n",
              "      <td>an army officer and four other personnel were ...</td>\n",
              "    </tr>\n",
              "    <tr>\n",
              "      <th>1</th>\n",
              "      <td>#AryanKhan Case: No Bail For Him Today, Next H...</td>\n",
              "      <td>5</td>\n",
              "      <td>44</td>\n",
              "      <td>3</td>\n",
              "      <td>Aryan Khan Case: No Bail For Him Today, Next H...</td>\n",
              "      <td>aryan khan did not get bail today for the thir...</td>\n",
              "    </tr>\n",
              "    <tr>\n",
              "      <th>2</th>\n",
              "      <td>RT @ndtvfeed: Ex-National Conference Leaders D...</td>\n",
              "      <td>2</td>\n",
              "      <td>0</td>\n",
              "      <td>1</td>\n",
              "      <td>Ex-National Conference Leaders Devender Rana, ...</td>\n",
              "      <td>a day after resigning from the national confer...</td>\n",
              "    </tr>\n",
              "    <tr>\n",
              "      <th>3</th>\n",
              "      <td>RT @ndtvfeed: US Has Lost AI Battle To China, ...</td>\n",
              "      <td>5</td>\n",
              "      <td>0</td>\n",
              "      <td>0</td>\n",
              "      <td>US Has Lost AI Battle To China, Pentagon's Ex-...</td>\n",
              "      <td>china has won the artificial intelligence batt...</td>\n",
              "    </tr>\n",
              "    <tr>\n",
              "      <th>4</th>\n",
              "      <td>RT @ndtvfeed: A Look At Inspiring Messages On ...</td>\n",
              "      <td>3</td>\n",
              "      <td>0</td>\n",
              "      <td>3</td>\n",
              "      <td>International Day Of The Girl Child 2021: Lead...</td>\n",
              "      <td>various world leaders and un agencies posted w...</td>\n",
              "    </tr>\n",
              "    <tr>\n",
              "      <th>...</th>\n",
              "      <td>...</td>\n",
              "      <td>...</td>\n",
              "      <td>...</td>\n",
              "      <td>...</td>\n",
              "      <td>...</td>\n",
              "      <td>...</td>\n",
              "    </tr>\n",
              "    <tr>\n",
              "      <th>1366</th>\n",
              "      <td>RT @ndtvfeed: On North Korea, Joe Biden's \"No ...</td>\n",
              "      <td>2</td>\n",
              "      <td>0</td>\n",
              "      <td>3</td>\n",
              "      <td>On North Korea, Joe Biden's \"No Urgency\" Polic...</td>\n",
              "      <td>during their only meeting, barack obama warned...</td>\n",
              "    </tr>\n",
              "    <tr>\n",
              "      <th>1367</th>\n",
              "      <td>RT @ndtvfeed: \"Very Honest\" About Concerns On ...</td>\n",
              "      <td>4</td>\n",
              "      <td>0</td>\n",
              "      <td>3</td>\n",
              "      <td>\"Been Very Honest About Concerns With Pak\" Ove...</td>\n",
              "      <td>the us has been very honest about its concerns...</td>\n",
              "    </tr>\n",
              "    <tr>\n",
              "      <th>1368</th>\n",
              "      <td>RT @ndtvfeed: Iran To Set Date In \"Weeks\" For ...</td>\n",
              "      <td>3</td>\n",
              "      <td>0</td>\n",
              "      <td>3</td>\n",
              "      <td>Iran To Set Date In \"Weeks\" To Return To Nucle...</td>\n",
              "      <td>iran's new government will in the next few wee...</td>\n",
              "    </tr>\n",
              "    <tr>\n",
              "      <th>1369</th>\n",
              "      <td>RT @ndtvfeed: European Union, Australia Trade ...</td>\n",
              "      <td>3</td>\n",
              "      <td>0</td>\n",
              "      <td>3</td>\n",
              "      <td>European Union, Australia Trade Talks Postpone...</td>\n",
              "      <td>a long-planned round of australia-eu free trad...</td>\n",
              "    </tr>\n",
              "    <tr>\n",
              "      <th>1370</th>\n",
              "      <td>RT @ndtvfeed: \"Modest Gains\": 2% Or Fewer In M...</td>\n",
              "      <td>8</td>\n",
              "      <td>0</td>\n",
              "      <td>3</td>\n",
              "      <td>\"Modest Gains\": 2% Or Fewer In Many African Na...</td>\n",
              "      <td>just two percent of the population, or fewer, ...</td>\n",
              "    </tr>\n",
              "  </tbody>\n",
              "</table>\n",
              "<p>1371 rows × 6 columns</p>\n",
              "</div>\n",
              "      <button class=\"colab-df-convert\" onclick=\"convertToInteractive('df-d3beb81f-e760-4b04-9403-d0bb9c377545')\"\n",
              "              title=\"Convert this dataframe to an interactive table.\"\n",
              "              style=\"display:none;\">\n",
              "        \n",
              "  <svg xmlns=\"http://www.w3.org/2000/svg\" height=\"24px\"viewBox=\"0 0 24 24\"\n",
              "       width=\"24px\">\n",
              "    <path d=\"M0 0h24v24H0V0z\" fill=\"none\"/>\n",
              "    <path d=\"M18.56 5.44l.94 2.06.94-2.06 2.06-.94-2.06-.94-.94-2.06-.94 2.06-2.06.94zm-11 1L8.5 8.5l.94-2.06 2.06-.94-2.06-.94L8.5 2.5l-.94 2.06-2.06.94zm10 10l.94 2.06.94-2.06 2.06-.94-2.06-.94-.94-2.06-.94 2.06-2.06.94z\"/><path d=\"M17.41 7.96l-1.37-1.37c-.4-.4-.92-.59-1.43-.59-.52 0-1.04.2-1.43.59L10.3 9.45l-7.72 7.72c-.78.78-.78 2.05 0 2.83L4 21.41c.39.39.9.59 1.41.59.51 0 1.02-.2 1.41-.59l7.78-7.78 2.81-2.81c.8-.78.8-2.07 0-2.86zM5.41 20L4 18.59l7.72-7.72 1.47 1.35L5.41 20z\"/>\n",
              "  </svg>\n",
              "      </button>\n",
              "      \n",
              "  <style>\n",
              "    .colab-df-container {\n",
              "      display:flex;\n",
              "      flex-wrap:wrap;\n",
              "      gap: 12px;\n",
              "    }\n",
              "\n",
              "    .colab-df-convert {\n",
              "      background-color: #E8F0FE;\n",
              "      border: none;\n",
              "      border-radius: 50%;\n",
              "      cursor: pointer;\n",
              "      display: none;\n",
              "      fill: #1967D2;\n",
              "      height: 32px;\n",
              "      padding: 0 0 0 0;\n",
              "      width: 32px;\n",
              "    }\n",
              "\n",
              "    .colab-df-convert:hover {\n",
              "      background-color: #E2EBFA;\n",
              "      box-shadow: 0px 1px 2px rgba(60, 64, 67, 0.3), 0px 1px 3px 1px rgba(60, 64, 67, 0.15);\n",
              "      fill: #174EA6;\n",
              "    }\n",
              "\n",
              "    [theme=dark] .colab-df-convert {\n",
              "      background-color: #3B4455;\n",
              "      fill: #D2E3FC;\n",
              "    }\n",
              "\n",
              "    [theme=dark] .colab-df-convert:hover {\n",
              "      background-color: #434B5C;\n",
              "      box-shadow: 0px 1px 3px 1px rgba(0, 0, 0, 0.15);\n",
              "      filter: drop-shadow(0px 1px 2px rgba(0, 0, 0, 0.3));\n",
              "      fill: #FFFFFF;\n",
              "    }\n",
              "  </style>\n",
              "\n",
              "      <script>\n",
              "        const buttonEl =\n",
              "          document.querySelector('#df-d3beb81f-e760-4b04-9403-d0bb9c377545 button.colab-df-convert');\n",
              "        buttonEl.style.display =\n",
              "          google.colab.kernel.accessAllowed ? 'block' : 'none';\n",
              "\n",
              "        async function convertToInteractive(key) {\n",
              "          const element = document.querySelector('#df-d3beb81f-e760-4b04-9403-d0bb9c377545');\n",
              "          const dataTable =\n",
              "            await google.colab.kernel.invokeFunction('convertToInteractive',\n",
              "                                                     [key], {});\n",
              "          if (!dataTable) return;\n",
              "\n",
              "          const docLinkHtml = 'Like what you see? Visit the ' +\n",
              "            '<a target=\"_blank\" href=https://colab.research.google.com/notebooks/data_table.ipynb>data table notebook</a>'\n",
              "            + ' to learn more about interactive tables.';\n",
              "          element.innerHTML = '';\n",
              "          dataTable['output_type'] = 'display_data';\n",
              "          await google.colab.output.renderOutput(dataTable, element);\n",
              "          const docLink = document.createElement('div');\n",
              "          docLink.innerHTML = docLinkHtml;\n",
              "          element.appendChild(docLink);\n",
              "        }\n",
              "      </script>\n",
              "    </div>\n",
              "  </div>\n",
              "  "
            ]
          },
          "metadata": {},
          "execution_count": 15
        }
      ]
    },
    {
      "cell_type": "code",
      "source": [
        "print(df.shape)"
      ],
      "metadata": {
        "colab": {
          "base_uri": "https://localhost:8080/"
        },
        "id": "CC0fxgo01sFT",
        "outputId": "6afd9d0f-0abd-402d-9bfe-a502e5e69a2c"
      },
      "execution_count": 16,
      "outputs": [
        {
          "output_type": "stream",
          "name": "stdout",
          "text": [
            "(1371, 6)\n"
          ]
        }
      ]
    },
    {
      "cell_type": "code",
      "source": [
        "df.info()"
      ],
      "metadata": {
        "colab": {
          "base_uri": "https://localhost:8080/"
        },
        "id": "BhN4ITRl1wAz",
        "outputId": "6bdb4820-da98-4d21-b04b-c679360ff76b"
      },
      "execution_count": 17,
      "outputs": [
        {
          "output_type": "stream",
          "name": "stdout",
          "text": [
            "<class 'pandas.core.frame.DataFrame'>\n",
            "RangeIndex: 1371 entries, 0 to 1370\n",
            "Data columns (total 6 columns):\n",
            " #   Column          Non-Null Count  Dtype \n",
            "---  ------          --------------  ----- \n",
            " 0   text            1371 non-null   object\n",
            " 1   retweet_count   1371 non-null   int64 \n",
            " 2   favorite_count  1371 non-null   int64 \n",
            " 3   bias            1371 non-null   int64 \n",
            " 4   title           1371 non-null   object\n",
            " 5   content         1371 non-null   object\n",
            "dtypes: int64(3), object(3)\n",
            "memory usage: 64.4+ KB\n"
          ]
        }
      ]
    },
    {
      "cell_type": "code",
      "source": [
        "df.bias.unique()"
      ],
      "metadata": {
        "colab": {
          "base_uri": "https://localhost:8080/"
        },
        "id": "dFLR9yaG19-T",
        "outputId": "4b6814e3-4df7-430c-a045-1a15073ee236"
      },
      "execution_count": 18,
      "outputs": [
        {
          "output_type": "execute_result",
          "data": {
            "text/plain": [
              "array([3, 1, 0])"
            ]
          },
          "metadata": {},
          "execution_count": 18
        }
      ]
    },
    {
      "cell_type": "code",
      "source": [
        "df.bias.value_counts()\n"
      ],
      "metadata": {
        "colab": {
          "base_uri": "https://localhost:8080/"
        },
        "id": "av2imsR03VAa",
        "outputId": "4c53d8b2-02a9-4fde-b4a2-73e4ccab3415"
      },
      "execution_count": 19,
      "outputs": [
        {
          "output_type": "execute_result",
          "data": {
            "text/plain": [
              "3    1042\n",
              "0     198\n",
              "1     131\n",
              "Name: bias, dtype: int64"
            ]
          },
          "metadata": {},
          "execution_count": 19
        }
      ]
    },
    {
      "cell_type": "code",
      "source": [
        "list(df.bias.value_counts())"
      ],
      "metadata": {
        "colab": {
          "base_uri": "https://localhost:8080/"
        },
        "id": "zKixfNEN4LNS",
        "outputId": "846c9c6f-25f8-4e0e-d364-86f8c20f913a"
      },
      "execution_count": 20,
      "outputs": [
        {
          "output_type": "execute_result",
          "data": {
            "text/plain": [
              "[1042, 198, 131]"
            ]
          },
          "metadata": {},
          "execution_count": 20
        }
      ]
    },
    {
      "cell_type": "code",
      "source": [
        "##bias=left 0 right 1 unbiased 3\n",
        "df.bias.value_counts()"
      ],
      "metadata": {
        "colab": {
          "base_uri": "https://localhost:8080/"
        },
        "id": "yd4T-UnE4jkq",
        "outputId": "7f3f9e7c-7d18-45a8-a9ad-9e963fcadfc2"
      },
      "execution_count": 21,
      "outputs": [
        {
          "output_type": "execute_result",
          "data": {
            "text/plain": [
              "3    1042\n",
              "0     198\n",
              "1     131\n",
              "Name: bias, dtype: int64"
            ]
          },
          "metadata": {},
          "execution_count": 21
        }
      ]
    },
    {
      "cell_type": "code",
      "source": [
        "import matplotlib.pyplot as plt\n",
        "\n",
        "plt.figure()\n",
        "plt.bar(('unbiased','right','left'),[1042, 198, 131])\n",
        "plt.show()"
      ],
      "metadata": {
        "colab": {
          "base_uri": "https://localhost:8080/",
          "height": 265
        },
        "id": "JB33HH483Yji",
        "outputId": "6ff32e8d-8927-4da0-8179-5797a04a6185"
      },
      "execution_count": 22,
      "outputs": [
        {
          "output_type": "display_data",
          "data": {
            "text/plain": [
              "<Figure size 432x288 with 1 Axes>"
            ],
            "image/png": "[encoded data removed]"
          },
          "metadata": {
            "needs_background": "light"
          }
        }
      ]
    },
    {
      "cell_type": "code",
      "source": [
        "df['content'][0]"
      ],
      "metadata": {
        "colab": {
          "base_uri": "https://localhost:8080/",
          "height": 105
        },
        "id": "AOVR1Sr-6m6h",
        "outputId": "18280e94-0d50-4f60-f071-b6a79a38fe48"
      },
      "execution_count": 23,
      "outputs": [
        {
          "output_type": "execute_result",
          "data": {
            "text/plain": [
              "\"an army officer and four other personnel were killed in action during an encounter between security forces and terrorists in jammu and kashmir's poonch district on monday, officials said. an anti-insurgency operation was launched in a village close to dera ki gali in surankote in the early hours following intelligence inputs about the presence of heavily-armed terrorists there, they said. the hiding terrorists fired on the search parties resulting in fierce gunfight and critical injuries to a junior commissioned officer or jco and four other soldiers. they died from their injuries. the encounter with the terrorists was going on and further details are awaited, a defence spokesperson said. officials said there were reports about the presence of a group of heavily-armed terrorists in the chamrer forest, after they managed to sneak from across the line of control (loc). reinforcements have been rushed to the area to plug all escape routes of the terrorists, they said. (with inputs from pti)\""
            ],
            "application/vnd.google.colaboratory.intrinsic+json": {
              "type": "string"
            }
          },
          "metadata": {},
          "execution_count": 23
        }
      ]
    },
    {
      "cell_type": "code",
      "source": [
        "df['content'][2]\n"
      ],
      "metadata": {
        "colab": {
          "base_uri": "https://localhost:8080/",
          "height": 105
        },
        "id": "Upu0dKI66z9i",
        "outputId": "fb265420-0cfb-4474-c5b4-6698ec165a43"
      },
      "execution_count": 24,
      "outputs": [
        {
          "output_type": "execute_result",
          "data": {
            "text/plain": [
              "\"a day after resigning from the national conference, devender rana, the former head of its jammu division, along with another party leader surjit singh slathia joined the bjp on monday. mr rana and mr slathia joined the bjp at its headquarters in new delhi in the presence of union ministers dharmendra pradhan, hardeep singh puri and jitendra singh. mr rana, who is a former mla and the younger brother of union minister jitendra singh, has also served as a political advisor to former jammu and kashmir chief minister and national conference (nc) leader omar abdullah. bjp general secretary in-charge for jammu and kashmir tarun chugh and its jammu and kashmir unit chief ravinder raina welcomed them in the party. mr rana has been advocating for the jammu declaration - a joint declaration of several political, social and business organisations, primarily demanding restoration of statehood for the jammu region and not for the whole jammu and kashmir. in 2019, the centre had revoked the erstwhile state of jammu and kashmir's special status and bifurcated it into union territories of jammu and kashmir and ladakh. (except for the headline, this story has not been edited by ndtv staff and is published from a syndicated feed.)\""
            ],
            "application/vnd.google.colaboratory.intrinsic+json": {
              "type": "string"
            }
          },
          "metadata": {},
          "execution_count": 24
        }
      ]
    },
    {
      "cell_type": "code",
      "source": [
        "df['content_lower']=df['content'].str.lower()\n",
        "df['content_lower']=df['content_lower'].str.replace('[^\\w\\s]','')"
      ],
      "metadata": {
        "id": "I_bJ99nM62Q7",
        "colab": {
          "base_uri": "https://localhost:8080/"
        },
        "outputId": "c2cdd219-5f8b-49a3-aac9-3b239f6bebe6"
      },
      "execution_count": 25,
      "outputs": [
        {
          "output_type": "stream",
          "name": "stderr",
          "text": [
            "/usr/local/lib/python3.7/dist-packages/ipykernel_launcher.py:2: FutureWarning: The default value of regex will change from True to False in a future version.\n",
            "  \n"
          ]
        }
      ]
    },
    {
      "cell_type": "code",
      "source": [
        "unbiased_with_bias_words = df.loc[df['content_lower'].str.contains('shiv sena|shivsena|aap|bjp|congress', case=False)]"
      ],
      "metadata": {
        "id": "lt7ap3zg4sSa"
      },
      "execution_count": 26,
      "outputs": []
    },
    {
      "cell_type": "code",
      "source": [
        "unbiased_with_bias_words = unbiased_with_bias_words.loc[unbiased_with_bias_words['bias']==3]\n"
      ],
      "metadata": {
        "id": "1plxSj3v6cIZ"
      },
      "execution_count": 27,
      "outputs": []
    },
    {
      "cell_type": "code",
      "source": [
        "unbiased_with_bias_words"
      ],
      "metadata": {
        "colab": {
          "base_uri": "https://localhost:8080/",
          "height": 424
        },
        "id": "w4K_kAiv7Pkh",
        "outputId": "ba0cfeb3-b725-45e8-bd5a-e441b9073e88"
      },
      "execution_count": 28,
      "outputs": [
        {
          "output_type": "execute_result",
          "data": {
            "text/plain": [
              "                                                   text  retweet_count  \\\n",
              "4     RT @ndtvfeed: A Look At Inspiring Messages On ...              3   \n",
              "42    RT @ndtvfeed: Centre Cares About Optics Rather...              7   \n",
              "57    Blackout Warning For Delhi If Coal Supply Not ...             20   \n",
              "74    RT @ndtvfeed: Key Accused In Rajasthan Teacher...              3   \n",
              "83    Will Raise Move To Evict Shillong Sikhs With C...              7   \n",
              "...                                                 ...            ...   \n",
              "1332  RT @ndtvfeed: Maoist Activity In Jharkhand, Lo...              5   \n",
              "1333  In #Haryana, Cops Fire Water Cannons At Protes...             11   \n",
              "1335  Video: In Haryana, Cops Fire Water Cannons At ...              8   \n",
              "1336  RT @ndtvfeed: Extortion Racket Link Behind UP ...              9   \n",
              "1352  Ex Boxer Philippine Icon Manny Pacquiao Enters...              1   \n",
              "\n",
              "      favorite_count  bias                                              title  \\\n",
              "4                  0     3  International Day Of The Girl Child 2021: Lead...   \n",
              "42                 0     3  \"Under Guise Of Coal Shortage...\": Congress Le...   \n",
              "57               163     3  Blackout Warning For Delhi If Coal Supply Not ...   \n",
              "74                 0     3  Key Accused In Rajasthan Teachers' Recruitment...   \n",
              "83                61     3  Will Raise With Centre Move To Evict Shillong ...   \n",
              "...              ...   ...                                                ...   \n",
              "1332               0     3  Rise In Maoist Activities In Jharkhand, Loot O...   \n",
              "1333              68     3  Water Cannons Used As Protesting Farmers Clash...   \n",
              "1335              48     3  Water Cannons Used As Protesting Farmers Clash...   \n",
              "1336               0     3  Extortion Racket Link Behind UP Businessman Ki...   \n",
              "1352              29     3  Ex-Boxer Philippine Icon Manny Pacquiao Enters...   \n",
              "\n",
              "                                                content  \\\n",
              "4     various world leaders and un agencies posted w...   \n",
              "42    congress leader gourav vallabh on sunday alleg...   \n",
              "57    there could be a blackout in the national capi...   \n",
              "74    the alleged mastermind behind the rajasthan el...   \n",
              "83    punjab deputy chief minister sukhjinder singh ...   \n",
              "...                                                 ...   \n",
              "1332  union minister for heavy industries mahendra n...   \n",
              "1333  farmers and security personnel clashed yet aga...   \n",
              "1335  farmers and security personnel clashed yet aga...   \n",
              "1336  samajwadi party national president akhilesh ya...   \n",
              "1352  newly retired boxing icon manny pacquiao was t...   \n",
              "\n",
              "                                          content_lower  \n",
              "4     various world leaders and un agencies posted w...  \n",
              "42    congress leader gourav vallabh on sunday alleg...  \n",
              "57    there could be a blackout in the national capi...  \n",
              "74    the alleged mastermind behind the rajasthan el...  \n",
              "83    punjab deputy chief minister sukhjinder singh ...  \n",
              "...                                                 ...  \n",
              "1332  union minister for heavy industries mahendra n...  \n",
              "1333  farmers and security personnel clashed yet aga...  \n",
              "1335  farmers and security personnel clashed yet aga...  \n",
              "1336  samajwadi party national president akhilesh ya...  \n",
              "1352  newly retired boxing icon manny pacquiao was t...  \n",
              "\n",
              "[144 rows x 7 columns]"
            ],
            "text/html": [
              "\n",
              "  <div id=\"df-895f2a42-f46f-4527-b25d-e7abce2b0651\">\n",
              "    <div class=\"colab-df-container\">\n",
              "      <div>\n",
              "<style scoped>\n",
              "    .dataframe tbody tr th:only-of-type {\n",
              "        vertical-align: middle;\n",
              "    }\n",
              "\n",
              "    .dataframe tbody tr th {\n",
              "        vertical-align: top;\n",
              "    }\n",
              "\n",
              "    .dataframe thead th {\n",
              "        text-align: right;\n",
              "    }\n",
              "</style>\n",
              "<table border=\"1\" class=\"dataframe\">\n",
              "  <thead>\n",
              "    <tr style=\"text-align: right;\">\n",
              "      <th></th>\n",
              "      <th>text</th>\n",
              "      <th>retweet_count</th>\n",
              "      <th>favorite_count</th>\n",
              "      <th>bias</th>\n",
              "      <th>title</th>\n",
              "      <th>content</th>\n",
              "      <th>content_lower</th>\n",
              "    </tr>\n",
              "  </thead>\n",
              "  <tbody>\n",
              "    <tr>\n",
              "      <th>4</th>\n",
              "      <td>RT @ndtvfeed: A Look At Inspiring Messages On ...</td>\n",
              "      <td>3</td>\n",
              "      <td>0</td>\n",
              "      <td>3</td>\n",
              "      <td>International Day Of The Girl Child 2021: Lead...</td>\n",
              "      <td>various world leaders and un agencies posted w...</td>\n",
              "      <td>various world leaders and un agencies posted w...</td>\n",
              "    </tr>\n",
              "    <tr>\n",
              "      <th>42</th>\n",
              "      <td>RT @ndtvfeed: Centre Cares About Optics Rather...</td>\n",
              "      <td>7</td>\n",
              "      <td>0</td>\n",
              "      <td>3</td>\n",
              "      <td>\"Under Guise Of Coal Shortage...\": Congress Le...</td>\n",
              "      <td>congress leader gourav vallabh on sunday alleg...</td>\n",
              "      <td>congress leader gourav vallabh on sunday alleg...</td>\n",
              "    </tr>\n",
              "    <tr>\n",
              "      <th>57</th>\n",
              "      <td>Blackout Warning For Delhi If Coal Supply Not ...</td>\n",
              "      <td>20</td>\n",
              "      <td>163</td>\n",
              "      <td>3</td>\n",
              "      <td>Blackout Warning For Delhi If Coal Supply Not ...</td>\n",
              "      <td>there could be a blackout in the national capi...</td>\n",
              "      <td>there could be a blackout in the national capi...</td>\n",
              "    </tr>\n",
              "    <tr>\n",
              "      <th>74</th>\n",
              "      <td>RT @ndtvfeed: Key Accused In Rajasthan Teacher...</td>\n",
              "      <td>3</td>\n",
              "      <td>0</td>\n",
              "      <td>3</td>\n",
              "      <td>Key Accused In Rajasthan Teachers' Recruitment...</td>\n",
              "      <td>the alleged mastermind behind the rajasthan el...</td>\n",
              "      <td>the alleged mastermind behind the rajasthan el...</td>\n",
              "    </tr>\n",
              "    <tr>\n",
              "      <th>83</th>\n",
              "      <td>Will Raise Move To Evict Shillong Sikhs With C...</td>\n",
              "      <td>7</td>\n",
              "      <td>61</td>\n",
              "      <td>3</td>\n",
              "      <td>Will Raise With Centre Move To Evict Shillong ...</td>\n",
              "      <td>punjab deputy chief minister sukhjinder singh ...</td>\n",
              "      <td>punjab deputy chief minister sukhjinder singh ...</td>\n",
              "    </tr>\n",
              "    <tr>\n",
              "      <th>...</th>\n",
              "      <td>...</td>\n",
              "      <td>...</td>\n",
              "      <td>...</td>\n",
              "      <td>...</td>\n",
              "      <td>...</td>\n",
              "      <td>...</td>\n",
              "      <td>...</td>\n",
              "    </tr>\n",
              "    <tr>\n",
              "      <th>1332</th>\n",
              "      <td>RT @ndtvfeed: Maoist Activity In Jharkhand, Lo...</td>\n",
              "      <td>5</td>\n",
              "      <td>0</td>\n",
              "      <td>3</td>\n",
              "      <td>Rise In Maoist Activities In Jharkhand, Loot O...</td>\n",
              "      <td>union minister for heavy industries mahendra n...</td>\n",
              "      <td>union minister for heavy industries mahendra n...</td>\n",
              "    </tr>\n",
              "    <tr>\n",
              "      <th>1333</th>\n",
              "      <td>In #Haryana, Cops Fire Water Cannons At Protes...</td>\n",
              "      <td>11</td>\n",
              "      <td>68</td>\n",
              "      <td>3</td>\n",
              "      <td>Water Cannons Used As Protesting Farmers Clash...</td>\n",
              "      <td>farmers and security personnel clashed yet aga...</td>\n",
              "      <td>farmers and security personnel clashed yet aga...</td>\n",
              "    </tr>\n",
              "    <tr>\n",
              "      <th>1335</th>\n",
              "      <td>Video: In Haryana, Cops Fire Water Cannons At ...</td>\n",
              "      <td>8</td>\n",
              "      <td>48</td>\n",
              "      <td>3</td>\n",
              "      <td>Water Cannons Used As Protesting Farmers Clash...</td>\n",
              "      <td>farmers and security personnel clashed yet aga...</td>\n",
              "      <td>farmers and security personnel clashed yet aga...</td>\n",
              "    </tr>\n",
              "    <tr>\n",
              "      <th>1336</th>\n",
              "      <td>RT @ndtvfeed: Extortion Racket Link Behind UP ...</td>\n",
              "      <td>9</td>\n",
              "      <td>0</td>\n",
              "      <td>3</td>\n",
              "      <td>Extortion Racket Link Behind UP Businessman Ki...</td>\n",
              "      <td>samajwadi party national president akhilesh ya...</td>\n",
              "      <td>samajwadi party national president akhilesh ya...</td>\n",
              "    </tr>\n",
              "    <tr>\n",
              "      <th>1352</th>\n",
              "      <td>Ex Boxer Philippine Icon Manny Pacquiao Enters...</td>\n",
              "      <td>1</td>\n",
              "      <td>29</td>\n",
              "      <td>3</td>\n",
              "      <td>Ex-Boxer Philippine Icon Manny Pacquiao Enters...</td>\n",
              "      <td>newly retired boxing icon manny pacquiao was t...</td>\n",
              "      <td>newly retired boxing icon manny pacquiao was t...</td>\n",
              "    </tr>\n",
              "  </tbody>\n",
              "</table>\n",
              "<p>144 rows × 7 columns</p>\n",
              "</div>\n",
              "      <button class=\"colab-df-convert\" onclick=\"convertToInteractive('df-895f2a42-f46f-4527-b25d-e7abce2b0651')\"\n",
              "              title=\"Convert this dataframe to an interactive table.\"\n",
              "              style=\"display:none;\">\n",
              "        \n",
              "  <svg xmlns=\"http://www.w3.org/2000/svg\" height=\"24px\"viewBox=\"0 0 24 24\"\n",
              "       width=\"24px\">\n",
              "    <path d=\"M0 0h24v24H0V0z\" fill=\"none\"/>\n",
              "    <path d=\"M18.56 5.44l.94 2.06.94-2.06 2.06-.94-2.06-.94-.94-2.06-.94 2.06-2.06.94zm-11 1L8.5 8.5l.94-2.06 2.06-.94-2.06-.94L8.5 2.5l-.94 2.06-2.06.94zm10 10l.94 2.06.94-2.06 2.06-.94-2.06-.94-.94-2.06-.94 2.06-2.06.94z\"/><path d=\"M17.41 7.96l-1.37-1.37c-.4-.4-.92-.59-1.43-.59-.52 0-1.04.2-1.43.59L10.3 9.45l-7.72 7.72c-.78.78-.78 2.05 0 2.83L4 21.41c.39.39.9.59 1.41.59.51 0 1.02-.2 1.41-.59l7.78-7.78 2.81-2.81c.8-.78.8-2.07 0-2.86zM5.41 20L4 18.59l7.72-7.72 1.47 1.35L5.41 20z\"/>\n",
              "  </svg>\n",
              "      </button>\n",
              "      \n",
              "  <style>\n",
              "    .colab-df-container {\n",
              "      display:flex;\n",
              "      flex-wrap:wrap;\n",
              "      gap: 12px;\n",
              "    }\n",
              "\n",
              "    .colab-df-convert {\n",
              "      background-color: #E8F0FE;\n",
              "      border: none;\n",
              "      border-radius: 50%;\n",
              "      cursor: pointer;\n",
              "      display: none;\n",
              "      fill: #1967D2;\n",
              "      height: 32px;\n",
              "      padding: 0 0 0 0;\n",
              "      width: 32px;\n",
              "    }\n",
              "\n",
              "    .colab-df-convert:hover {\n",
              "      background-color: #E2EBFA;\n",
              "      box-shadow: 0px 1px 2px rgba(60, 64, 67, 0.3), 0px 1px 3px 1px rgba(60, 64, 67, 0.15);\n",
              "      fill: #174EA6;\n",
              "    }\n",
              "\n",
              "    [theme=dark] .colab-df-convert {\n",
              "      background-color: #3B4455;\n",
              "      fill: #D2E3FC;\n",
              "    }\n",
              "\n",
              "    [theme=dark] .colab-df-convert:hover {\n",
              "      background-color: #434B5C;\n",
              "      box-shadow: 0px 1px 3px 1px rgba(0, 0, 0, 0.15);\n",
              "      filter: drop-shadow(0px 1px 2px rgba(0, 0, 0, 0.3));\n",
              "      fill: #FFFFFF;\n",
              "    }\n",
              "  </style>\n",
              "\n",
              "      <script>\n",
              "        const buttonEl =\n",
              "          document.querySelector('#df-895f2a42-f46f-4527-b25d-e7abce2b0651 button.colab-df-convert');\n",
              "        buttonEl.style.display =\n",
              "          google.colab.kernel.accessAllowed ? 'block' : 'none';\n",
              "\n",
              "        async function convertToInteractive(key) {\n",
              "          const element = document.querySelector('#df-895f2a42-f46f-4527-b25d-e7abce2b0651');\n",
              "          const dataTable =\n",
              "            await google.colab.kernel.invokeFunction('convertToInteractive',\n",
              "                                                     [key], {});\n",
              "          if (!dataTable) return;\n",
              "\n",
              "          const docLinkHtml = 'Like what you see? Visit the ' +\n",
              "            '<a target=\"_blank\" href=https://colab.research.google.com/notebooks/data_table.ipynb>data table notebook</a>'\n",
              "            + ' to learn more about interactive tables.';\n",
              "          element.innerHTML = '';\n",
              "          dataTable['output_type'] = 'display_data';\n",
              "          await google.colab.output.renderOutput(dataTable, element);\n",
              "          const docLink = document.createElement('div');\n",
              "          docLink.innerHTML = docLinkHtml;\n",
              "          element.appendChild(docLink);\n",
              "        }\n",
              "      </script>\n",
              "    </div>\n",
              "  </div>\n",
              "  "
            ]
          },
          "metadata": {},
          "execution_count": 28
        }
      ]
    },
    {
      "cell_type": "code",
      "source": [
        "##bias=left 0 right 1 unbiased 3\n",
        "unbiased = df.loc[df['bias']==3]\n",
        "right = df.loc[df['bias']==1]\n",
        "left = df.loc[df['bias']==0]"
      ],
      "metadata": {
        "id": "F4Ji0Cgs7pR4"
      },
      "execution_count": 29,
      "outputs": []
    },
    {
      "cell_type": "code",
      "source": [
        "unbiased.head()"
      ],
      "metadata": {
        "colab": {
          "base_uri": "https://localhost:8080/",
          "height": 206
        },
        "id": "MFSDFEh09YyI",
        "outputId": "c4b6de01-ced3-46f7-9b7c-733149d8acb8"
      },
      "execution_count": 30,
      "outputs": [
        {
          "output_type": "execute_result",
          "data": {
            "text/plain": [
              "                                                text  retweet_count  \\\n",
              "0  Army Officer, 4 Others Killed In Encounter In ...              9   \n",
              "1  #AryanKhan Case: No Bail For Him Today, Next H...              5   \n",
              "4  RT @ndtvfeed: A Look At Inspiring Messages On ...              3   \n",
              "6  RT @ndtvfeed: No Further Action In US Sexual A...              2   \n",
              "8  RT @ndtvfeed: Woman Gang-Raped In Mumbai-Bound...              8   \n",
              "\n",
              "   favorite_count  bias                                              title  \\\n",
              "0              63     3  Army Officer, 4 Personnel Killed In Encounter ...   \n",
              "1              44     3  Aryan Khan Case: No Bail For Him Today, Next H...   \n",
              "4               0     3  International Day Of The Girl Child 2021: Lead...   \n",
              "6               0     3  No Further Action In US Sexual Assault Case On...   \n",
              "8               0     3  Woman Gang-Raped In Mumbai-Bound Train: All 8 ...   \n",
              "\n",
              "                                             content  \\\n",
              "0  an army officer and four other personnel were ...   \n",
              "1  aryan khan did not get bail today for the thir...   \n",
              "4  various world leaders and un agencies posted w...   \n",
              "6  british police said on monday they would be ta...   \n",
              "8  the government railway police have arrested al...   \n",
              "\n",
              "                                       content_lower  \n",
              "0  an army officer and four other personnel were ...  \n",
              "1  aryan khan did not get bail today for the thir...  \n",
              "4  various world leaders and un agencies posted w...  \n",
              "6  british police said on monday they would be ta...  \n",
              "8  the government railway police have arrested al...  "
            ],
            "text/html": [
              "\n",
              "  <div id=\"df-232f53be-c1bd-4bb7-9e06-8ce4baa582b5\">\n",
              "    <div class=\"colab-df-container\">\n",
              "      <div>\n",
              "<style scoped>\n",
              "    .dataframe tbody tr th:only-of-type {\n",
              "        vertical-align: middle;\n",
              "    }\n",
              "\n",
              "    .dataframe tbody tr th {\n",
              "        vertical-align: top;\n",
              "    }\n",
              "\n",
              "    .dataframe thead th {\n",
              "        text-align: right;\n",
              "    }\n",
              "</style>\n",
              "<table border=\"1\" class=\"dataframe\">\n",
              "  <thead>\n",
              "    <tr style=\"text-align: right;\">\n",
              "      <th></th>\n",
              "      <th>text</th>\n",
              "      <th>retweet_count</th>\n",
              "      <th>favorite_count</th>\n",
              "      <th>bias</th>\n",
              "      <th>title</th>\n",
              "      <th>content</th>\n",
              "      <th>content_lower</th>\n",
              "    </tr>\n",
              "  </thead>\n",
              "  <tbody>\n",
              "    <tr>\n",
              "      <th>0</th>\n",
              "      <td>Army Officer, 4 Others Killed In Encounter In ...</td>\n",
              "      <td>9</td>\n",
              "      <td>63</td>\n",
              "      <td>3</td>\n",
              "      <td>Army Officer, 4 Personnel Killed In Encounter ...</td>\n",
              "      <td>an army officer and four other personnel were ...</td>\n",
              "      <td>an army officer and four other personnel were ...</td>\n",
              "    </tr>\n",
              "    <tr>\n",
              "      <th>1</th>\n",
              "      <td>#AryanKhan Case: No Bail For Him Today, Next H...</td>\n",
              "      <td>5</td>\n",
              "      <td>44</td>\n",
              "      <td>3</td>\n",
              "      <td>Aryan Khan Case: No Bail For Him Today, Next H...</td>\n",
              "      <td>aryan khan did not get bail today for the thir...</td>\n",
              "      <td>aryan khan did not get bail today for the thir...</td>\n",
              "    </tr>\n",
              "    <tr>\n",
              "      <th>4</th>\n",
              "      <td>RT @ndtvfeed: A Look At Inspiring Messages On ...</td>\n",
              "      <td>3</td>\n",
              "      <td>0</td>\n",
              "      <td>3</td>\n",
              "      <td>International Day Of The Girl Child 2021: Lead...</td>\n",
              "      <td>various world leaders and un agencies posted w...</td>\n",
              "      <td>various world leaders and un agencies posted w...</td>\n",
              "    </tr>\n",
              "    <tr>\n",
              "      <th>6</th>\n",
              "      <td>RT @ndtvfeed: No Further Action In US Sexual A...</td>\n",
              "      <td>2</td>\n",
              "      <td>0</td>\n",
              "      <td>3</td>\n",
              "      <td>No Further Action In US Sexual Assault Case On...</td>\n",
              "      <td>british police said on monday they would be ta...</td>\n",
              "      <td>british police said on monday they would be ta...</td>\n",
              "    </tr>\n",
              "    <tr>\n",
              "      <th>8</th>\n",
              "      <td>RT @ndtvfeed: Woman Gang-Raped In Mumbai-Bound...</td>\n",
              "      <td>8</td>\n",
              "      <td>0</td>\n",
              "      <td>3</td>\n",
              "      <td>Woman Gang-Raped In Mumbai-Bound Train: All 8 ...</td>\n",
              "      <td>the government railway police have arrested al...</td>\n",
              "      <td>the government railway police have arrested al...</td>\n",
              "    </tr>\n",
              "  </tbody>\n",
              "</table>\n",
              "</div>\n",
              "      <button class=\"colab-df-convert\" onclick=\"convertToInteractive('df-232f53be-c1bd-4bb7-9e06-8ce4baa582b5')\"\n",
              "              title=\"Convert this dataframe to an interactive table.\"\n",
              "              style=\"display:none;\">\n",
              "        \n",
              "  <svg xmlns=\"http://www.w3.org/2000/svg\" height=\"24px\"viewBox=\"0 0 24 24\"\n",
              "       width=\"24px\">\n",
              "    <path d=\"M0 0h24v24H0V0z\" fill=\"none\"/>\n",
              "    <path d=\"M18.56 5.44l.94 2.06.94-2.06 2.06-.94-2.06-.94-.94-2.06-.94 2.06-2.06.94zm-11 1L8.5 8.5l.94-2.06 2.06-.94-2.06-.94L8.5 2.5l-.94 2.06-2.06.94zm10 10l.94 2.06.94-2.06 2.06-.94-2.06-.94-.94-2.06-.94 2.06-2.06.94z\"/><path d=\"M17.41 7.96l-1.37-1.37c-.4-.4-.92-.59-1.43-.59-.52 0-1.04.2-1.43.59L10.3 9.45l-7.72 7.72c-.78.78-.78 2.05 0 2.83L4 21.41c.39.39.9.59 1.41.59.51 0 1.02-.2 1.41-.59l7.78-7.78 2.81-2.81c.8-.78.8-2.07 0-2.86zM5.41 20L4 18.59l7.72-7.72 1.47 1.35L5.41 20z\"/>\n",
              "  </svg>\n",
              "      </button>\n",
              "      \n",
              "  <style>\n",
              "    .colab-df-container {\n",
              "      display:flex;\n",
              "      flex-wrap:wrap;\n",
              "      gap: 12px;\n",
              "    }\n",
              "\n",
              "    .colab-df-convert {\n",
              "      background-color: #E8F0FE;\n",
              "      border: none;\n",
              "      border-radius: 50%;\n",
              "      cursor: pointer;\n",
              "      display: none;\n",
              "      fill: #1967D2;\n",
              "      height: 32px;\n",
              "      padding: 0 0 0 0;\n",
              "      width: 32px;\n",
              "    }\n",
              "\n",
              "    .colab-df-convert:hover {\n",
              "      background-color: #E2EBFA;\n",
              "      box-shadow: 0px 1px 2px rgba(60, 64, 67, 0.3), 0px 1px 3px 1px rgba(60, 64, 67, 0.15);\n",
              "      fill: #174EA6;\n",
              "    }\n",
              "\n",
              "    [theme=dark] .colab-df-convert {\n",
              "      background-color: #3B4455;\n",
              "      fill: #D2E3FC;\n",
              "    }\n",
              "\n",
              "    [theme=dark] .colab-df-convert:hover {\n",
              "      background-color: #434B5C;\n",
              "      box-shadow: 0px 1px 3px 1px rgba(0, 0, 0, 0.15);\n",
              "      filter: drop-shadow(0px 1px 2px rgba(0, 0, 0, 0.3));\n",
              "      fill: #FFFFFF;\n",
              "    }\n",
              "  </style>\n",
              "\n",
              "      <script>\n",
              "        const buttonEl =\n",
              "          document.querySelector('#df-232f53be-c1bd-4bb7-9e06-8ce4baa582b5 button.colab-df-convert');\n",
              "        buttonEl.style.display =\n",
              "          google.colab.kernel.accessAllowed ? 'block' : 'none';\n",
              "\n",
              "        async function convertToInteractive(key) {\n",
              "          const element = document.querySelector('#df-232f53be-c1bd-4bb7-9e06-8ce4baa582b5');\n",
              "          const dataTable =\n",
              "            await google.colab.kernel.invokeFunction('convertToInteractive',\n",
              "                                                     [key], {});\n",
              "          if (!dataTable) return;\n",
              "\n",
              "          const docLinkHtml = 'Like what you see? Visit the ' +\n",
              "            '<a target=\"_blank\" href=https://colab.research.google.com/notebooks/data_table.ipynb>data table notebook</a>'\n",
              "            + ' to learn more about interactive tables.';\n",
              "          element.innerHTML = '';\n",
              "          dataTable['output_type'] = 'display_data';\n",
              "          await google.colab.output.renderOutput(dataTable, element);\n",
              "          const docLink = document.createElement('div');\n",
              "          docLink.innerHTML = docLinkHtml;\n",
              "          element.appendChild(docLink);\n",
              "        }\n",
              "      </script>\n",
              "    </div>\n",
              "  </div>\n",
              "  "
            ]
          },
          "metadata": {},
          "execution_count": 30
        }
      ]
    },
    {
      "cell_type": "code",
      "source": [
        "right.head()"
      ],
      "metadata": {
        "colab": {
          "base_uri": "https://localhost:8080/",
          "height": 206
        },
        "id": "TURFxEW39e44",
        "outputId": "0e01de73-a2d0-4f0c-9cf3-51a733ac30b5"
      },
      "execution_count": 31,
      "outputs": [
        {
          "output_type": "execute_result",
          "data": {
            "text/plain": [
              "                                                 text  retweet_count  \\\n",
              "2   RT @ndtvfeed: Ex-National Conference Leaders D...              2   \n",
              "5   RT @ndtvfeed: India Never Had More Decisive Go...              2   \n",
              "7   India Never Had More Decisive Government: PM A...              7   \n",
              "18  RT @ndtvfeed: Over 58 Crore Samples Tested For...              4   \n",
              "22  RT @ndtvfeed: \"How Do Conversions happen?...Th...              3   \n",
              "\n",
              "    favorite_count  bias                                              title  \\\n",
              "2                0     1  Ex-National Conference Leaders Devender Rana, ...   \n",
              "5                0     1  India Never Had More Decisive Government: PM M...   \n",
              "7               27     1  India Never Had More Decisive Government: PM M...   \n",
              "18               0     1  Over 58 Crore Samples Tested For COVID-19 In I...   \n",
              "22               0     1  \"How Do Conversions Happen?...Those Doing It A...   \n",
              "\n",
              "                                              content  \\\n",
              "2   a day after resigning from the national confer...   \n",
              "5   modi modi today launched indian space associat...   \n",
              "7   modi modi today launched indian space associat...   \n",
              "18  the testing capacity has been ramped up extens...   \n",
              "22  rashtriya swayamsevak sangh (rss) chief mohan ...   \n",
              "\n",
              "                                        content_lower  \n",
              "2   a day after resigning from the national confer...  \n",
              "5   modi modi today launched indian space associat...  \n",
              "7   modi modi today launched indian space associat...  \n",
              "18  the testing capacity has been ramped up extens...  \n",
              "22  rashtriya swayamsevak sangh rss chief mohan bh...  "
            ],
            "text/html": [
              "\n",
              "  <div id=\"df-1aae6861-8514-48b6-af83-1a6a354bb66c\">\n",
              "    <div class=\"colab-df-container\">\n",
              "      <div>\n",
              "<style scoped>\n",
              "    .dataframe tbody tr th:only-of-type {\n",
              "        vertical-align: middle;\n",
              "    }\n",
              "\n",
              "    .dataframe tbody tr th {\n",
              "        vertical-align: top;\n",
              "    }\n",
              "\n",
              "    .dataframe thead th {\n",
              "        text-align: right;\n",
              "    }\n",
              "</style>\n",
              "<table border=\"1\" class=\"dataframe\">\n",
              "  <thead>\n",
              "    <tr style=\"text-align: right;\">\n",
              "      <th></th>\n",
              "      <th>text</th>\n",
              "      <th>retweet_count</th>\n",
              "      <th>favorite_count</th>\n",
              "      <th>bias</th>\n",
              "      <th>title</th>\n",
              "      <th>content</th>\n",
              "      <th>content_lower</th>\n",
              "    </tr>\n",
              "  </thead>\n",
              "  <tbody>\n",
              "    <tr>\n",
              "      <th>2</th>\n",
              "      <td>RT @ndtvfeed: Ex-National Conference Leaders D...</td>\n",
              "      <td>2</td>\n",
              "      <td>0</td>\n",
              "      <td>1</td>\n",
              "      <td>Ex-National Conference Leaders Devender Rana, ...</td>\n",
              "      <td>a day after resigning from the national confer...</td>\n",
              "      <td>a day after resigning from the national confer...</td>\n",
              "    </tr>\n",
              "    <tr>\n",
              "      <th>5</th>\n",
              "      <td>RT @ndtvfeed: India Never Had More Decisive Go...</td>\n",
              "      <td>2</td>\n",
              "      <td>0</td>\n",
              "      <td>1</td>\n",
              "      <td>India Never Had More Decisive Government: PM M...</td>\n",
              "      <td>modi modi today launched indian space associat...</td>\n",
              "      <td>modi modi today launched indian space associat...</td>\n",
              "    </tr>\n",
              "    <tr>\n",
              "      <th>7</th>\n",
              "      <td>India Never Had More Decisive Government: PM A...</td>\n",
              "      <td>7</td>\n",
              "      <td>27</td>\n",
              "      <td>1</td>\n",
              "      <td>India Never Had More Decisive Government: PM M...</td>\n",
              "      <td>modi modi today launched indian space associat...</td>\n",
              "      <td>modi modi today launched indian space associat...</td>\n",
              "    </tr>\n",
              "    <tr>\n",
              "      <th>18</th>\n",
              "      <td>RT @ndtvfeed: Over 58 Crore Samples Tested For...</td>\n",
              "      <td>4</td>\n",
              "      <td>0</td>\n",
              "      <td>1</td>\n",
              "      <td>Over 58 Crore Samples Tested For COVID-19 In I...</td>\n",
              "      <td>the testing capacity has been ramped up extens...</td>\n",
              "      <td>the testing capacity has been ramped up extens...</td>\n",
              "    </tr>\n",
              "    <tr>\n",
              "      <th>22</th>\n",
              "      <td>RT @ndtvfeed: \"How Do Conversions happen?...Th...</td>\n",
              "      <td>3</td>\n",
              "      <td>0</td>\n",
              "      <td>1</td>\n",
              "      <td>\"How Do Conversions Happen?...Those Doing It A...</td>\n",
              "      <td>rashtriya swayamsevak sangh (rss) chief mohan ...</td>\n",
              "      <td>rashtriya swayamsevak sangh rss chief mohan bh...</td>\n",
              "    </tr>\n",
              "  </tbody>\n",
              "</table>\n",
              "</div>\n",
              "      <button class=\"colab-df-convert\" onclick=\"convertToInteractive('df-1aae6861-8514-48b6-af83-1a6a354bb66c')\"\n",
              "              title=\"Convert this dataframe to an interactive table.\"\n",
              "              style=\"display:none;\">\n",
              "        \n",
              "  <svg xmlns=\"http://www.w3.org/2000/svg\" height=\"24px\"viewBox=\"0 0 24 24\"\n",
              "       width=\"24px\">\n",
              "    <path d=\"M0 0h24v24H0V0z\" fill=\"none\"/>\n",
              "    <path d=\"M18.56 5.44l.94 2.06.94-2.06 2.06-.94-2.06-.94-.94-2.06-.94 2.06-2.06.94zm-11 1L8.5 8.5l.94-2.06 2.06-.94-2.06-.94L8.5 2.5l-.94 2.06-2.06.94zm10 10l.94 2.06.94-2.06 2.06-.94-2.06-.94-.94-2.06-.94 2.06-2.06.94z\"/><path d=\"M17.41 7.96l-1.37-1.37c-.4-.4-.92-.59-1.43-.59-.52 0-1.04.2-1.43.59L10.3 9.45l-7.72 7.72c-.78.78-.78 2.05 0 2.83L4 21.41c.39.39.9.59 1.41.59.51 0 1.02-.2 1.41-.59l7.78-7.78 2.81-2.81c.8-.78.8-2.07 0-2.86zM5.41 20L4 18.59l7.72-7.72 1.47 1.35L5.41 20z\"/>\n",
              "  </svg>\n",
              "      </button>\n",
              "      \n",
              "  <style>\n",
              "    .colab-df-container {\n",
              "      display:flex;\n",
              "      flex-wrap:wrap;\n",
              "      gap: 12px;\n",
              "    }\n",
              "\n",
              "    .colab-df-convert {\n",
              "      background-color: #E8F0FE;\n",
              "      border: none;\n",
              "      border-radius: 50%;\n",
              "      cursor: pointer;\n",
              "      display: none;\n",
              "      fill: #1967D2;\n",
              "      height: 32px;\n",
              "      padding: 0 0 0 0;\n",
              "      width: 32px;\n",
              "    }\n",
              "\n",
              "    .colab-df-convert:hover {\n",
              "      background-color: #E2EBFA;\n",
              "      box-shadow: 0px 1px 2px rgba(60, 64, 67, 0.3), 0px 1px 3px 1px rgba(60, 64, 67, 0.15);\n",
              "      fill: #174EA6;\n",
              "    }\n",
              "\n",
              "    [theme=dark] .colab-df-convert {\n",
              "      background-color: #3B4455;\n",
              "      fill: #D2E3FC;\n",
              "    }\n",
              "\n",
              "    [theme=dark] .colab-df-convert:hover {\n",
              "      background-color: #434B5C;\n",
              "      box-shadow: 0px 1px 3px 1px rgba(0, 0, 0, 0.15);\n",
              "      filter: drop-shadow(0px 1px 2px rgba(0, 0, 0, 0.3));\n",
              "      fill: #FFFFFF;\n",
              "    }\n",
              "  </style>\n",
              "\n",
              "      <script>\n",
              "        const buttonEl =\n",
              "          document.querySelector('#df-1aae6861-8514-48b6-af83-1a6a354bb66c button.colab-df-convert');\n",
              "        buttonEl.style.display =\n",
              "          google.colab.kernel.accessAllowed ? 'block' : 'none';\n",
              "\n",
              "        async function convertToInteractive(key) {\n",
              "          const element = document.querySelector('#df-1aae6861-8514-48b6-af83-1a6a354bb66c');\n",
              "          const dataTable =\n",
              "            await google.colab.kernel.invokeFunction('convertToInteractive',\n",
              "                                                     [key], {});\n",
              "          if (!dataTable) return;\n",
              "\n",
              "          const docLinkHtml = 'Like what you see? Visit the ' +\n",
              "            '<a target=\"_blank\" href=https://colab.research.google.com/notebooks/data_table.ipynb>data table notebook</a>'\n",
              "            + ' to learn more about interactive tables.';\n",
              "          element.innerHTML = '';\n",
              "          dataTable['output_type'] = 'display_data';\n",
              "          await google.colab.output.renderOutput(dataTable, element);\n",
              "          const docLink = document.createElement('div');\n",
              "          docLink.innerHTML = docLinkHtml;\n",
              "          element.appendChild(docLink);\n",
              "        }\n",
              "      </script>\n",
              "    </div>\n",
              "  </div>\n",
              "  "
            ]
          },
          "metadata": {},
          "execution_count": 31
        }
      ]
    },
    {
      "cell_type": "code",
      "source": [
        "left.head()"
      ],
      "metadata": {
        "colab": {
          "base_uri": "https://localhost:8080/",
          "height": 206
        },
        "id": "GH4Gs5T-9hmH",
        "outputId": "a2c3aaf5-61f1-4893-9757-95aa70370939"
      },
      "execution_count": 32,
      "outputs": [
        {
          "output_type": "execute_result",
          "data": {
            "text/plain": [
              "                                                 text  retweet_count  \\\n",
              "3   RT @ndtvfeed: US Has Lost AI Battle To China, ...              5   \n",
              "14  Karnataka Minister's Bizarre Remarks On \"Moder...             13   \n",
              "15  Agitation Will Continue Till Demands Are Met: ...             23   \n",
              "27  Petrol, Diesel Prices Hit New Highs https://t....             17   \n",
              "34  #MaharashtraBandh Today In Solidarity With Far...             21   \n",
              "\n",
              "    favorite_count  bias                                              title  \\\n",
              "3                0     0  US Has Lost AI Battle To China, Pentagon's Ex-...   \n",
              "14              71     0  Karnataka Minister's Bizarre Remarks On \"Moder...   \n",
              "15             257     0  Agitation Will Continue Till Demands Are Met: ...   \n",
              "27             119     0  Petrol, Diesel Prices Hit New Highs. Check Lat...   \n",
              "34              78     0  Maharashtra Bandh Live Updates: Bus Services A...   \n",
              "\n",
              "                                              content  \\\n",
              "3   china has won the artificial intelligence batt...   \n",
              "14  karnataka health minister dr k sudhakar on sun...   \n",
              "15  the farmers' agitation will continue till all ...   \n",
              "27  petrol, diesel price today: petrol prices touc...   \n",
              "34  bus services were affected across maharashtra ...   \n",
              "\n",
              "                                        content_lower  \n",
              "3   china has won the artificial intelligence batt...  \n",
              "14  karnataka health minister dr k sudhakar on sun...  \n",
              "15  the farmers agitation will continue till all d...  \n",
              "27  petrol diesel price today petrol prices touche...  \n",
              "34  bus services were affected across maharashtra ...  "
            ],
            "text/html": [
              "\n",
              "  <div id=\"df-c9a4dd9c-b33e-4b4b-af04-86f6c6f4889f\">\n",
              "    <div class=\"colab-df-container\">\n",
              "      <div>\n",
              "<style scoped>\n",
              "    .dataframe tbody tr th:only-of-type {\n",
              "        vertical-align: middle;\n",
              "    }\n",
              "\n",
              "    .dataframe tbody tr th {\n",
              "        vertical-align: top;\n",
              "    }\n",
              "\n",
              "    .dataframe thead th {\n",
              "        text-align: right;\n",
              "    }\n",
              "</style>\n",
              "<table border=\"1\" class=\"dataframe\">\n",
              "  <thead>\n",
              "    <tr style=\"text-align: right;\">\n",
              "      <th></th>\n",
              "      <th>text</th>\n",
              "      <th>retweet_count</th>\n",
              "      <th>favorite_count</th>\n",
              "      <th>bias</th>\n",
              "      <th>title</th>\n",
              "      <th>content</th>\n",
              "      <th>content_lower</th>\n",
              "    </tr>\n",
              "  </thead>\n",
              "  <tbody>\n",
              "    <tr>\n",
              "      <th>3</th>\n",
              "      <td>RT @ndtvfeed: US Has Lost AI Battle To China, ...</td>\n",
              "      <td>5</td>\n",
              "      <td>0</td>\n",
              "      <td>0</td>\n",
              "      <td>US Has Lost AI Battle To China, Pentagon's Ex-...</td>\n",
              "      <td>china has won the artificial intelligence batt...</td>\n",
              "      <td>china has won the artificial intelligence batt...</td>\n",
              "    </tr>\n",
              "    <tr>\n",
              "      <th>14</th>\n",
              "      <td>Karnataka Minister's Bizarre Remarks On \"Moder...</td>\n",
              "      <td>13</td>\n",
              "      <td>71</td>\n",
              "      <td>0</td>\n",
              "      <td>Karnataka Minister's Bizarre Remarks On \"Moder...</td>\n",
              "      <td>karnataka health minister dr k sudhakar on sun...</td>\n",
              "      <td>karnataka health minister dr k sudhakar on sun...</td>\n",
              "    </tr>\n",
              "    <tr>\n",
              "      <th>15</th>\n",
              "      <td>Agitation Will Continue Till Demands Are Met: ...</td>\n",
              "      <td>23</td>\n",
              "      <td>257</td>\n",
              "      <td>0</td>\n",
              "      <td>Agitation Will Continue Till Demands Are Met: ...</td>\n",
              "      <td>the farmers' agitation will continue till all ...</td>\n",
              "      <td>the farmers agitation will continue till all d...</td>\n",
              "    </tr>\n",
              "    <tr>\n",
              "      <th>27</th>\n",
              "      <td>Petrol, Diesel Prices Hit New Highs https://t....</td>\n",
              "      <td>17</td>\n",
              "      <td>119</td>\n",
              "      <td>0</td>\n",
              "      <td>Petrol, Diesel Prices Hit New Highs. Check Lat...</td>\n",
              "      <td>petrol, diesel price today: petrol prices touc...</td>\n",
              "      <td>petrol diesel price today petrol prices touche...</td>\n",
              "    </tr>\n",
              "    <tr>\n",
              "      <th>34</th>\n",
              "      <td>#MaharashtraBandh Today In Solidarity With Far...</td>\n",
              "      <td>21</td>\n",
              "      <td>78</td>\n",
              "      <td>0</td>\n",
              "      <td>Maharashtra Bandh Live Updates: Bus Services A...</td>\n",
              "      <td>bus services were affected across maharashtra ...</td>\n",
              "      <td>bus services were affected across maharashtra ...</td>\n",
              "    </tr>\n",
              "  </tbody>\n",
              "</table>\n",
              "</div>\n",
              "      <button class=\"colab-df-convert\" onclick=\"convertToInteractive('df-c9a4dd9c-b33e-4b4b-af04-86f6c6f4889f')\"\n",
              "              title=\"Convert this dataframe to an interactive table.\"\n",
              "              style=\"display:none;\">\n",
              "        \n",
              "  <svg xmlns=\"http://www.w3.org/2000/svg\" height=\"24px\"viewBox=\"0 0 24 24\"\n",
              "       width=\"24px\">\n",
              "    <path d=\"M0 0h24v24H0V0z\" fill=\"none\"/>\n",
              "    <path d=\"M18.56 5.44l.94 2.06.94-2.06 2.06-.94-2.06-.94-.94-2.06-.94 2.06-2.06.94zm-11 1L8.5 8.5l.94-2.06 2.06-.94-2.06-.94L8.5 2.5l-.94 2.06-2.06.94zm10 10l.94 2.06.94-2.06 2.06-.94-2.06-.94-.94-2.06-.94 2.06-2.06.94z\"/><path d=\"M17.41 7.96l-1.37-1.37c-.4-.4-.92-.59-1.43-.59-.52 0-1.04.2-1.43.59L10.3 9.45l-7.72 7.72c-.78.78-.78 2.05 0 2.83L4 21.41c.39.39.9.59 1.41.59.51 0 1.02-.2 1.41-.59l7.78-7.78 2.81-2.81c.8-.78.8-2.07 0-2.86zM5.41 20L4 18.59l7.72-7.72 1.47 1.35L5.41 20z\"/>\n",
              "  </svg>\n",
              "      </button>\n",
              "      \n",
              "  <style>\n",
              "    .colab-df-container {\n",
              "      display:flex;\n",
              "      flex-wrap:wrap;\n",
              "      gap: 12px;\n",
              "    }\n",
              "\n",
              "    .colab-df-convert {\n",
              "      background-color: #E8F0FE;\n",
              "      border: none;\n",
              "      border-radius: 50%;\n",
              "      cursor: pointer;\n",
              "      display: none;\n",
              "      fill: #1967D2;\n",
              "      height: 32px;\n",
              "      padding: 0 0 0 0;\n",
              "      width: 32px;\n",
              "    }\n",
              "\n",
              "    .colab-df-convert:hover {\n",
              "      background-color: #E2EBFA;\n",
              "      box-shadow: 0px 1px 2px rgba(60, 64, 67, 0.3), 0px 1px 3px 1px rgba(60, 64, 67, 0.15);\n",
              "      fill: #174EA6;\n",
              "    }\n",
              "\n",
              "    [theme=dark] .colab-df-convert {\n",
              "      background-color: #3B4455;\n",
              "      fill: #D2E3FC;\n",
              "    }\n",
              "\n",
              "    [theme=dark] .colab-df-convert:hover {\n",
              "      background-color: #434B5C;\n",
              "      box-shadow: 0px 1px 3px 1px rgba(0, 0, 0, 0.15);\n",
              "      filter: drop-shadow(0px 1px 2px rgba(0, 0, 0, 0.3));\n",
              "      fill: #FFFFFF;\n",
              "    }\n",
              "  </style>\n",
              "\n",
              "      <script>\n",
              "        const buttonEl =\n",
              "          document.querySelector('#df-c9a4dd9c-b33e-4b4b-af04-86f6c6f4889f button.colab-df-convert');\n",
              "        buttonEl.style.display =\n",
              "          google.colab.kernel.accessAllowed ? 'block' : 'none';\n",
              "\n",
              "        async function convertToInteractive(key) {\n",
              "          const element = document.querySelector('#df-c9a4dd9c-b33e-4b4b-af04-86f6c6f4889f');\n",
              "          const dataTable =\n",
              "            await google.colab.kernel.invokeFunction('convertToInteractive',\n",
              "                                                     [key], {});\n",
              "          if (!dataTable) return;\n",
              "\n",
              "          const docLinkHtml = 'Like what you see? Visit the ' +\n",
              "            '<a target=\"_blank\" href=https://colab.research.google.com/notebooks/data_table.ipynb>data table notebook</a>'\n",
              "            + ' to learn more about interactive tables.';\n",
              "          element.innerHTML = '';\n",
              "          dataTable['output_type'] = 'display_data';\n",
              "          await google.colab.output.renderOutput(dataTable, element);\n",
              "          const docLink = document.createElement('div');\n",
              "          docLink.innerHTML = docLinkHtml;\n",
              "          element.appendChild(docLink);\n",
              "        }\n",
              "      </script>\n",
              "    </div>\n",
              "  </div>\n",
              "  "
            ]
          },
          "metadata": {},
          "execution_count": 32
        }
      ]
    },
    {
      "cell_type": "code",
      "source": [
        "%matplotlib inline\n",
        "\n",
        "import requests\n",
        "import pandas as pd\n",
        "import matplotlib.pyplot as plt\n",
        "from pathlib import Path\n",
        "import numpy as np\n",
        "import nltk\n",
        "nltk.download('wordnet')\n",
        "nltk.download('stopwords')\n",
        "from nltk.tokenize import RegexpTokenizer\n",
        "from nltk.stem import WordNetLemmatizer \n",
        "from nltk.stem.snowball import SnowballStemmer\n",
        "from nltk.corpus import stopwords\n",
        "stop_words = stopwords.words(\"english\")\n",
        "from textblob import TextBlob\n",
        "import collections\n",
        "from sklearn.manifold import TSNE"
      ],
      "metadata": {
        "colab": {
          "base_uri": "https://localhost:8080/"
        },
        "id": "20mK35hdjOzM",
        "outputId": "c170fb69-a1dc-4d39-fcca-ad04c511cdfd"
      },
      "execution_count": 33,
      "outputs": [
        {
          "output_type": "stream",
          "name": "stdout",
          "text": [
            "[nltk_data] Downloading package wordnet to /root/nltk_data...\n",
            "[nltk_data]   Unzipping corpora/wordnet.zip.\n",
            "[nltk_data] Downloading package stopwords to /root/nltk_data...\n",
            "[nltk_data]   Unzipping corpora/stopwords.zip.\n"
          ]
        }
      ]
    },
    {
      "cell_type": "markdown",
      "source": [
        "removing stopwords"
      ],
      "metadata": {
        "id": "Ld7LIP7YwTGi"
      }
    },
    {
      "cell_type": "code",
      "source": [
        "import nltk\n",
        "nltk.download('stopwords')\n",
        "from nltk.corpus import stopwords\n",
        "\n",
        "stop_words = stopwords.words('english')+['shiv sena','shivsena','aap','bjp','congress']\n",
        "print(stop_words)\n",
        "df['clean_content'] = df['content_lower'].apply(lambda x: ' '.join([word for word in x.split() if word not in (stop_words)]))"
      ],
      "metadata": {
        "colab": {
          "base_uri": "https://localhost:8080/"
        },
        "id": "tDreLUScwJ9C",
        "outputId": "9332ce30-e0f2-49b1-c054-81b4200eeae1"
      },
      "execution_count": 34,
      "outputs": [
        {
          "output_type": "stream",
          "name": "stdout",
          "text": [
            "[nltk_data] Downloading package stopwords to /root/nltk_data...\n",
            "[nltk_data]   Package stopwords is already up-to-date!\n",
            "['i', 'me', 'my', 'myself', 'we', 'our', 'ours', 'ourselves', 'you', \"you're\", \"you've\", \"you'll\", \"you'd\", 'your', 'yours', 'yourself', 'yourselves', 'he', 'him', 'his', 'himself', 'she', \"she's\", 'her', 'hers', 'herself', 'it', \"it's\", 'its', 'itself', 'they', 'them', 'their', 'theirs', 'themselves', 'what', 'which', 'who', 'whom', 'this', 'that', \"that'll\", 'these', 'those', 'am', 'is', 'are', 'was', 'were', 'be', 'been', 'being', 'have', 'has', 'had', 'having', 'do', 'does', 'did', 'doing', 'a', 'an', 'the', 'and', 'but', 'if', 'or', 'because', 'as', 'until', 'while', 'of', 'at', 'by', 'for', 'with', 'about', 'against', 'between', 'into', 'through', 'during', 'before', 'after', 'above', 'below', 'to', 'from', 'up', 'down', 'in', 'out', 'on', 'off', 'over', 'under', 'again', 'further', 'then', 'once', 'here', 'there', 'when', 'where', 'why', 'how', 'all', 'any', 'both', 'each', 'few', 'more', 'most', 'other', 'some', 'such', 'no', 'nor', 'not', 'only', 'own', 'same', 'so', 'than', 'too', 'very', 's', 't', 'can', 'will', 'just', 'don', \"don't\", 'should', \"should've\", 'now', 'd', 'll', 'm', 'o', 're', 've', 'y', 'ain', 'aren', \"aren't\", 'couldn', \"couldn't\", 'didn', \"didn't\", 'doesn', \"doesn't\", 'hadn', \"hadn't\", 'hasn', \"hasn't\", 'haven', \"haven't\", 'isn', \"isn't\", 'ma', 'mightn', \"mightn't\", 'mustn', \"mustn't\", 'needn', \"needn't\", 'shan', \"shan't\", 'shouldn', \"shouldn't\", 'wasn', \"wasn't\", 'weren', \"weren't\", 'won', \"won't\", 'wouldn', \"wouldn't\", 'shiv sena', 'shivsena', 'aap', 'bjp', 'congress']\n"
          ]
        }
      ]
    },
    {
      "cell_type": "markdown",
      "source": [
        "tokenization function"
      ],
      "metadata": {
        "id": "KRnUwZvLpYU_"
      }
    },
    {
      "cell_type": "code",
      "source": [
        "nltk.download('punkt')"
      ],
      "metadata": {
        "colab": {
          "base_uri": "https://localhost:8080/"
        },
        "id": "vktfM5Knsr0I",
        "outputId": "7d3f16be-7b85-4a46-c334-45dbb090ef59"
      },
      "execution_count": 35,
      "outputs": [
        {
          "output_type": "stream",
          "name": "stdout",
          "text": [
            "[nltk_data] Downloading package punkt to /root/nltk_data...\n",
            "[nltk_data]   Unzipping tokenizers/punkt.zip.\n"
          ]
        },
        {
          "output_type": "execute_result",
          "data": {
            "text/plain": [
              "True"
            ]
          },
          "metadata": {},
          "execution_count": 35
        }
      ]
    },
    {
      "cell_type": "code",
      "source": [
        "from nltk.corpus import stopwords\n",
        "from nltk.stem.porter import PorterStemmer\n",
        "import re\n",
        "# Tokenizing sentences\n",
        "#sentences = nltk.sent_tokenize(paragraph)\n",
        "# Tokenizing words\n",
        "#words = nltk.word_tokenize(paragraph)"
      ],
      "metadata": {
        "id": "tTyGzhGUq2qA"
      },
      "execution_count": 36,
      "outputs": []
    },
    {
      "cell_type": "code",
      "source": [
        "df2=df"
      ],
      "metadata": {
        "id": "_YJ4cDF4sxc5"
      },
      "execution_count": 37,
      "outputs": []
    },
    {
      "cell_type": "code",
      "source": [
        "df2['tokenized_content']=df.apply(lambda row: nltk.word_tokenize(row['clean_content']), axis=1)"
      ],
      "metadata": {
        "id": "N75hMF5ps2KA"
      },
      "execution_count": 38,
      "outputs": []
    },
    {
      "cell_type": "code",
      "source": [
        "df2.head()"
      ],
      "metadata": {
        "colab": {
          "base_uri": "https://localhost:8080/",
          "height": 337
        },
        "id": "bTs96AJpt5ux",
        "outputId": "9629bd83-8277-4a8c-8937-9ec3391c3f82"
      },
      "execution_count": 39,
      "outputs": [
        {
          "output_type": "execute_result",
          "data": {
            "text/plain": [
              "                                                text  retweet_count  \\\n",
              "0  Army Officer, 4 Others Killed In Encounter In ...              9   \n",
              "1  #AryanKhan Case: No Bail For Him Today, Next H...              5   \n",
              "2  RT @ndtvfeed: Ex-National Conference Leaders D...              2   \n",
              "3  RT @ndtvfeed: US Has Lost AI Battle To China, ...              5   \n",
              "4  RT @ndtvfeed: A Look At Inspiring Messages On ...              3   \n",
              "\n",
              "   favorite_count  bias                                              title  \\\n",
              "0              63     3  Army Officer, 4 Personnel Killed In Encounter ...   \n",
              "1              44     3  Aryan Khan Case: No Bail For Him Today, Next H...   \n",
              "2               0     1  Ex-National Conference Leaders Devender Rana, ...   \n",
              "3               0     0  US Has Lost AI Battle To China, Pentagon's Ex-...   \n",
              "4               0     3  International Day Of The Girl Child 2021: Lead...   \n",
              "\n",
              "                                             content  \\\n",
              "0  an army officer and four other personnel were ...   \n",
              "1  aryan khan did not get bail today for the thir...   \n",
              "2  a day after resigning from the national confer...   \n",
              "3  china has won the artificial intelligence batt...   \n",
              "4  various world leaders and un agencies posted w...   \n",
              "\n",
              "                                       content_lower  \\\n",
              "0  an army officer and four other personnel were ...   \n",
              "1  aryan khan did not get bail today for the thir...   \n",
              "2  a day after resigning from the national confer...   \n",
              "3  china has won the artificial intelligence batt...   \n",
              "4  various world leaders and un agencies posted w...   \n",
              "\n",
              "                                       clean_content  \\\n",
              "0  army officer four personnel killed action enco...   \n",
              "1  aryan khan get bail today third time since arr...   \n",
              "2  day resigning national conference devender ran...   \n",
              "3  china artificial intelligence battle united st...   \n",
              "4  various world leaders un agencies posted wishe...   \n",
              "\n",
              "                                   tokenized_content  \n",
              "0  [army, officer, four, personnel, killed, actio...  \n",
              "1  [aryan, khan, get, bail, today, third, time, s...  \n",
              "2  [day, resigning, national, conference, devende...  \n",
              "3  [china, artificial, intelligence, battle, unit...  \n",
              "4  [various, world, leaders, un, agencies, posted...  "
            ],
            "text/html": [
              "\n",
              "  <div id=\"df-8b9fd989-1ab0-4046-8e0f-a680a7773391\">\n",
              "    <div class=\"colab-df-container\">\n",
              "      <div>\n",
              "<style scoped>\n",
              "    .dataframe tbody tr th:only-of-type {\n",
              "        vertical-align: middle;\n",
              "    }\n",
              "\n",
              "    .dataframe tbody tr th {\n",
              "        vertical-align: top;\n",
              "    }\n",
              "\n",
              "    .dataframe thead th {\n",
              "        text-align: right;\n",
              "    }\n",
              "</style>\n",
              "<table border=\"1\" class=\"dataframe\">\n",
              "  <thead>\n",
              "    <tr style=\"text-align: right;\">\n",
              "      <th></th>\n",
              "      <th>text</th>\n",
              "      <th>retweet_count</th>\n",
              "      <th>favorite_count</th>\n",
              "      <th>bias</th>\n",
              "      <th>title</th>\n",
              "      <th>content</th>\n",
              "      <th>content_lower</th>\n",
              "      <th>clean_content</th>\n",
              "      <th>tokenized_content</th>\n",
              "    </tr>\n",
              "  </thead>\n",
              "  <tbody>\n",
              "    <tr>\n",
              "      <th>0</th>\n",
              "      <td>Army Officer, 4 Others Killed In Encounter In ...</td>\n",
              "      <td>9</td>\n",
              "      <td>63</td>\n",
              "      <td>3</td>\n",
              "      <td>Army Officer, 4 Personnel Killed In Encounter ...</td>\n",
              "      <td>an army officer and four other personnel were ...</td>\n",
              "      <td>an army officer and four other personnel were ...</td>\n",
              "      <td>army officer four personnel killed action enco...</td>\n",
              "      <td>[army, officer, four, personnel, killed, actio...</td>\n",
              "    </tr>\n",
              "    <tr>\n",
              "      <th>1</th>\n",
              "      <td>#AryanKhan Case: No Bail For Him Today, Next H...</td>\n",
              "      <td>5</td>\n",
              "      <td>44</td>\n",
              "      <td>3</td>\n",
              "      <td>Aryan Khan Case: No Bail For Him Today, Next H...</td>\n",
              "      <td>aryan khan did not get bail today for the thir...</td>\n",
              "      <td>aryan khan did not get bail today for the thir...</td>\n",
              "      <td>aryan khan get bail today third time since arr...</td>\n",
              "      <td>[aryan, khan, get, bail, today, third, time, s...</td>\n",
              "    </tr>\n",
              "    <tr>\n",
              "      <th>2</th>\n",
              "      <td>RT @ndtvfeed: Ex-National Conference Leaders D...</td>\n",
              "      <td>2</td>\n",
              "      <td>0</td>\n",
              "      <td>1</td>\n",
              "      <td>Ex-National Conference Leaders Devender Rana, ...</td>\n",
              "      <td>a day after resigning from the national confer...</td>\n",
              "      <td>a day after resigning from the national confer...</td>\n",
              "      <td>day resigning national conference devender ran...</td>\n",
              "      <td>[day, resigning, national, conference, devende...</td>\n",
              "    </tr>\n",
              "    <tr>\n",
              "      <th>3</th>\n",
              "      <td>RT @ndtvfeed: US Has Lost AI Battle To China, ...</td>\n",
              "      <td>5</td>\n",
              "      <td>0</td>\n",
              "      <td>0</td>\n",
              "      <td>US Has Lost AI Battle To China, Pentagon's Ex-...</td>\n",
              "      <td>china has won the artificial intelligence batt...</td>\n",
              "      <td>china has won the artificial intelligence batt...</td>\n",
              "      <td>china artificial intelligence battle united st...</td>\n",
              "      <td>[china, artificial, intelligence, battle, unit...</td>\n",
              "    </tr>\n",
              "    <tr>\n",
              "      <th>4</th>\n",
              "      <td>RT @ndtvfeed: A Look At Inspiring Messages On ...</td>\n",
              "      <td>3</td>\n",
              "      <td>0</td>\n",
              "      <td>3</td>\n",
              "      <td>International Day Of The Girl Child 2021: Lead...</td>\n",
              "      <td>various world leaders and un agencies posted w...</td>\n",
              "      <td>various world leaders and un agencies posted w...</td>\n",
              "      <td>various world leaders un agencies posted wishe...</td>\n",
              "      <td>[various, world, leaders, un, agencies, posted...</td>\n",
              "    </tr>\n",
              "  </tbody>\n",
              "</table>\n",
              "</div>\n",
              "      <button class=\"colab-df-convert\" onclick=\"convertToInteractive('df-8b9fd989-1ab0-4046-8e0f-a680a7773391')\"\n",
              "              title=\"Convert this dataframe to an interactive table.\"\n",
              "              style=\"display:none;\">\n",
              "        \n",
              "  <svg xmlns=\"http://www.w3.org/2000/svg\" height=\"24px\"viewBox=\"0 0 24 24\"\n",
              "       width=\"24px\">\n",
              "    <path d=\"M0 0h24v24H0V0z\" fill=\"none\"/>\n",
              "    <path d=\"M18.56 5.44l.94 2.06.94-2.06 2.06-.94-2.06-.94-.94-2.06-.94 2.06-2.06.94zm-11 1L8.5 8.5l.94-2.06 2.06-.94-2.06-.94L8.5 2.5l-.94 2.06-2.06.94zm10 10l.94 2.06.94-2.06 2.06-.94-2.06-.94-.94-2.06-.94 2.06-2.06.94z\"/><path d=\"M17.41 7.96l-1.37-1.37c-.4-.4-.92-.59-1.43-.59-.52 0-1.04.2-1.43.59L10.3 9.45l-7.72 7.72c-.78.78-.78 2.05 0 2.83L4 21.41c.39.39.9.59 1.41.59.51 0 1.02-.2 1.41-.59l7.78-7.78 2.81-2.81c.8-.78.8-2.07 0-2.86zM5.41 20L4 18.59l7.72-7.72 1.47 1.35L5.41 20z\"/>\n",
              "  </svg>\n",
              "      </button>\n",
              "      \n",
              "  <style>\n",
              "    .colab-df-container {\n",
              "      display:flex;\n",
              "      flex-wrap:wrap;\n",
              "      gap: 12px;\n",
              "    }\n",
              "\n",
              "    .colab-df-convert {\n",
              "      background-color: #E8F0FE;\n",
              "      border: none;\n",
              "      border-radius: 50%;\n",
              "      cursor: pointer;\n",
              "      display: none;\n",
              "      fill: #1967D2;\n",
              "      height: 32px;\n",
              "      padding: 0 0 0 0;\n",
              "      width: 32px;\n",
              "    }\n",
              "\n",
              "    .colab-df-convert:hover {\n",
              "      background-color: #E2EBFA;\n",
              "      box-shadow: 0px 1px 2px rgba(60, 64, 67, 0.3), 0px 1px 3px 1px rgba(60, 64, 67, 0.15);\n",
              "      fill: #174EA6;\n",
              "    }\n",
              "\n",
              "    [theme=dark] .colab-df-convert {\n",
              "      background-color: #3B4455;\n",
              "      fill: #D2E3FC;\n",
              "    }\n",
              "\n",
              "    [theme=dark] .colab-df-convert:hover {\n",
              "      background-color: #434B5C;\n",
              "      box-shadow: 0px 1px 3px 1px rgba(0, 0, 0, 0.15);\n",
              "      filter: drop-shadow(0px 1px 2px rgba(0, 0, 0, 0.3));\n",
              "      fill: #FFFFFF;\n",
              "    }\n",
              "  </style>\n",
              "\n",
              "      <script>\n",
              "        const buttonEl =\n",
              "          document.querySelector('#df-8b9fd989-1ab0-4046-8e0f-a680a7773391 button.colab-df-convert');\n",
              "        buttonEl.style.display =\n",
              "          google.colab.kernel.accessAllowed ? 'block' : 'none';\n",
              "\n",
              "        async function convertToInteractive(key) {\n",
              "          const element = document.querySelector('#df-8b9fd989-1ab0-4046-8e0f-a680a7773391');\n",
              "          const dataTable =\n",
              "            await google.colab.kernel.invokeFunction('convertToInteractive',\n",
              "                                                     [key], {});\n",
              "          if (!dataTable) return;\n",
              "\n",
              "          const docLinkHtml = 'Like what you see? Visit the ' +\n",
              "            '<a target=\"_blank\" href=https://colab.research.google.com/notebooks/data_table.ipynb>data table notebook</a>'\n",
              "            + ' to learn more about interactive tables.';\n",
              "          element.innerHTML = '';\n",
              "          dataTable['output_type'] = 'display_data';\n",
              "          await google.colab.output.renderOutput(dataTable, element);\n",
              "          const docLink = document.createElement('div');\n",
              "          docLink.innerHTML = docLinkHtml;\n",
              "          element.appendChild(docLink);\n",
              "        }\n",
              "      </script>\n",
              "    </div>\n",
              "  </div>\n",
              "  "
            ]
          },
          "metadata": {},
          "execution_count": 39
        }
      ]
    },
    {
      "cell_type": "code",
      "source": [
        "w_tokenizer = nltk.tokenize.WhitespaceTokenizer()\n",
        "lemmatizer = nltk.WordNetLemmatizer()\n",
        "def lemmatize_text(text):\n",
        "    return [lemmatizer.lemmatize(w) for w in w_tokenizer.tokenize(text)]\n",
        "\n",
        "df2['text_lemmatized'] = df.clean_content.apply(lemmatize_text)\n"
      ],
      "metadata": {
        "id": "DLurCblAt-bS"
      },
      "execution_count": 40,
      "outputs": []
    },
    {
      "cell_type": "code",
      "source": [
        "lemmatize_text('feet')"
      ],
      "metadata": {
        "colab": {
          "base_uri": "https://localhost:8080/"
        },
        "id": "imbhekmIvOSx",
        "outputId": "4d9ae3ef-a690-40bc-eff2-7e258ea0a581"
      },
      "execution_count": 41,
      "outputs": [
        {
          "output_type": "execute_result",
          "data": {
            "text/plain": [
              "['foot']"
            ]
          },
          "metadata": {},
          "execution_count": 41
        }
      ]
    },
    {
      "cell_type": "code",
      "source": [
        "df2.head()"
      ],
      "metadata": {
        "colab": {
          "base_uri": "https://localhost:8080/",
          "height": 337
        },
        "id": "t3Xrrf48uasM",
        "outputId": "66f144cd-b518-4657-ad60-c210abc62c19"
      },
      "execution_count": 42,
      "outputs": [
        {
          "output_type": "execute_result",
          "data": {
            "text/plain": [
              "                                                text  retweet_count  \\\n",
              "0  Army Officer, 4 Others Killed In Encounter In ...              9   \n",
              "1  #AryanKhan Case: No Bail For Him Today, Next H...              5   \n",
              "2  RT @ndtvfeed: Ex-National Conference Leaders D...              2   \n",
              "3  RT @ndtvfeed: US Has Lost AI Battle To China, ...              5   \n",
              "4  RT @ndtvfeed: A Look At Inspiring Messages On ...              3   \n",
              "\n",
              "   favorite_count  bias                                              title  \\\n",
              "0              63     3  Army Officer, 4 Personnel Killed In Encounter ...   \n",
              "1              44     3  Aryan Khan Case: No Bail For Him Today, Next H...   \n",
              "2               0     1  Ex-National Conference Leaders Devender Rana, ...   \n",
              "3               0     0  US Has Lost AI Battle To China, Pentagon's Ex-...   \n",
              "4               0     3  International Day Of The Girl Child 2021: Lead...   \n",
              "\n",
              "                                             content  \\\n",
              "0  an army officer and four other personnel were ...   \n",
              "1  aryan khan did not get bail today for the thir...   \n",
              "2  a day after resigning from the national confer...   \n",
              "3  china has won the artificial intelligence batt...   \n",
              "4  various world leaders and un agencies posted w...   \n",
              "\n",
              "                                       content_lower  \\\n",
              "0  an army officer and four other personnel were ...   \n",
              "1  aryan khan did not get bail today for the thir...   \n",
              "2  a day after resigning from the national confer...   \n",
              "3  china has won the artificial intelligence batt...   \n",
              "4  various world leaders and un agencies posted w...   \n",
              "\n",
              "                                       clean_content  \\\n",
              "0  army officer four personnel killed action enco...   \n",
              "1  aryan khan get bail today third time since arr...   \n",
              "2  day resigning national conference devender ran...   \n",
              "3  china artificial intelligence battle united st...   \n",
              "4  various world leaders un agencies posted wishe...   \n",
              "\n",
              "                                   tokenized_content  \\\n",
              "0  [army, officer, four, personnel, killed, actio...   \n",
              "1  [aryan, khan, get, bail, today, third, time, s...   \n",
              "2  [day, resigning, national, conference, devende...   \n",
              "3  [china, artificial, intelligence, battle, unit...   \n",
              "4  [various, world, leaders, un, agencies, posted...   \n",
              "\n",
              "                                     text_lemmatized  \n",
              "0  [army, officer, four, personnel, killed, actio...  \n",
              "1  [aryan, khan, get, bail, today, third, time, s...  \n",
              "2  [day, resigning, national, conference, devende...  \n",
              "3  [china, artificial, intelligence, battle, unit...  \n",
              "4  [various, world, leader, un, agency, posted, w...  "
            ],
            "text/html": [
              "\n",
              "  <div id=\"df-f24f13fe-6eb2-4f71-8b93-3f8004e86b46\">\n",
              "    <div class=\"colab-df-container\">\n",
              "      <div>\n",
              "<style scoped>\n",
              "    .dataframe tbody tr th:only-of-type {\n",
              "        vertical-align: middle;\n",
              "    }\n",
              "\n",
              "    .dataframe tbody tr th {\n",
              "        vertical-align: top;\n",
              "    }\n",
              "\n",
              "    .dataframe thead th {\n",
              "        text-align: right;\n",
              "    }\n",
              "</style>\n",
              "<table border=\"1\" class=\"dataframe\">\n",
              "  <thead>\n",
              "    <tr style=\"text-align: right;\">\n",
              "      <th></th>\n",
              "      <th>text</th>\n",
              "      <th>retweet_count</th>\n",
              "      <th>favorite_count</th>\n",
              "      <th>bias</th>\n",
              "      <th>title</th>\n",
              "      <th>content</th>\n",
              "      <th>content_lower</th>\n",
              "      <th>clean_content</th>\n",
              "      <th>tokenized_content</th>\n",
              "      <th>text_lemmatized</th>\n",
              "    </tr>\n",
              "  </thead>\n",
              "  <tbody>\n",
              "    <tr>\n",
              "      <th>0</th>\n",
              "      <td>Army Officer, 4 Others Killed In Encounter In ...</td>\n",
              "      <td>9</td>\n",
              "      <td>63</td>\n",
              "      <td>3</td>\n",
              "      <td>Army Officer, 4 Personnel Killed In Encounter ...</td>\n",
              "      <td>an army officer and four other personnel were ...</td>\n",
              "      <td>an army officer and four other personnel were ...</td>\n",
              "      <td>army officer four personnel killed action enco...</td>\n",
              "      <td>[army, officer, four, personnel, killed, actio...</td>\n",
              "      <td>[army, officer, four, personnel, killed, actio...</td>\n",
              "    </tr>\n",
              "    <tr>\n",
              "      <th>1</th>\n",
              "      <td>#AryanKhan Case: No Bail For Him Today, Next H...</td>\n",
              "      <td>5</td>\n",
              "      <td>44</td>\n",
              "      <td>3</td>\n",
              "      <td>Aryan Khan Case: No Bail For Him Today, Next H...</td>\n",
              "      <td>aryan khan did not get bail today for the thir...</td>\n",
              "      <td>aryan khan did not get bail today for the thir...</td>\n",
              "      <td>aryan khan get bail today third time since arr...</td>\n",
              "      <td>[aryan, khan, get, bail, today, third, time, s...</td>\n",
              "      <td>[aryan, khan, get, bail, today, third, time, s...</td>\n",
              "    </tr>\n",
              "    <tr>\n",
              "      <th>2</th>\n",
              "      <td>RT @ndtvfeed: Ex-National Conference Leaders D...</td>\n",
              "      <td>2</td>\n",
              "      <td>0</td>\n",
              "      <td>1</td>\n",
              "      <td>Ex-National Conference Leaders Devender Rana, ...</td>\n",
              "      <td>a day after resigning from the national confer...</td>\n",
              "      <td>a day after resigning from the national confer...</td>\n",
              "      <td>day resigning national conference devender ran...</td>\n",
              "      <td>[day, resigning, national, conference, devende...</td>\n",
              "      <td>[day, resigning, national, conference, devende...</td>\n",
              "    </tr>\n",
              "    <tr>\n",
              "      <th>3</th>\n",
              "      <td>RT @ndtvfeed: US Has Lost AI Battle To China, ...</td>\n",
              "      <td>5</td>\n",
              "      <td>0</td>\n",
              "      <td>0</td>\n",
              "      <td>US Has Lost AI Battle To China, Pentagon's Ex-...</td>\n",
              "      <td>china has won the artificial intelligence batt...</td>\n",
              "      <td>china has won the artificial intelligence batt...</td>\n",
              "      <td>china artificial intelligence battle united st...</td>\n",
              "      <td>[china, artificial, intelligence, battle, unit...</td>\n",
              "      <td>[china, artificial, intelligence, battle, unit...</td>\n",
              "    </tr>\n",
              "    <tr>\n",
              "      <th>4</th>\n",
              "      <td>RT @ndtvfeed: A Look At Inspiring Messages On ...</td>\n",
              "      <td>3</td>\n",
              "      <td>0</td>\n",
              "      <td>3</td>\n",
              "      <td>International Day Of The Girl Child 2021: Lead...</td>\n",
              "      <td>various world leaders and un agencies posted w...</td>\n",
              "      <td>various world leaders and un agencies posted w...</td>\n",
              "      <td>various world leaders un agencies posted wishe...</td>\n",
              "      <td>[various, world, leaders, un, agencies, posted...</td>\n",
              "      <td>[various, world, leader, un, agency, posted, w...</td>\n",
              "    </tr>\n",
              "  </tbody>\n",
              "</table>\n",
              "</div>\n",
              "      <button class=\"colab-df-convert\" onclick=\"convertToInteractive('df-f24f13fe-6eb2-4f71-8b93-3f8004e86b46')\"\n",
              "              title=\"Convert this dataframe to an interactive table.\"\n",
              "              style=\"display:none;\">\n",
              "        \n",
              "  <svg xmlns=\"http://www.w3.org/2000/svg\" height=\"24px\"viewBox=\"0 0 24 24\"\n",
              "       width=\"24px\">\n",
              "    <path d=\"M0 0h24v24H0V0z\" fill=\"none\"/>\n",
              "    <path d=\"M18.56 5.44l.94 2.06.94-2.06 2.06-.94-2.06-.94-.94-2.06-.94 2.06-2.06.94zm-11 1L8.5 8.5l.94-2.06 2.06-.94-2.06-.94L8.5 2.5l-.94 2.06-2.06.94zm10 10l.94 2.06.94-2.06 2.06-.94-2.06-.94-.94-2.06-.94 2.06-2.06.94z\"/><path d=\"M17.41 7.96l-1.37-1.37c-.4-.4-.92-.59-1.43-.59-.52 0-1.04.2-1.43.59L10.3 9.45l-7.72 7.72c-.78.78-.78 2.05 0 2.83L4 21.41c.39.39.9.59 1.41.59.51 0 1.02-.2 1.41-.59l7.78-7.78 2.81-2.81c.8-.78.8-2.07 0-2.86zM5.41 20L4 18.59l7.72-7.72 1.47 1.35L5.41 20z\"/>\n",
              "  </svg>\n",
              "      </button>\n",
              "      \n",
              "  <style>\n",
              "    .colab-df-container {\n",
              "      display:flex;\n",
              "      flex-wrap:wrap;\n",
              "      gap: 12px;\n",
              "    }\n",
              "\n",
              "    .colab-df-convert {\n",
              "      background-color: #E8F0FE;\n",
              "      border: none;\n",
              "      border-radius: 50%;\n",
              "      cursor: pointer;\n",
              "      display: none;\n",
              "      fill: #1967D2;\n",
              "      height: 32px;\n",
              "      padding: 0 0 0 0;\n",
              "      width: 32px;\n",
              "    }\n",
              "\n",
              "    .colab-df-convert:hover {\n",
              "      background-color: #E2EBFA;\n",
              "      box-shadow: 0px 1px 2px rgba(60, 64, 67, 0.3), 0px 1px 3px 1px rgba(60, 64, 67, 0.15);\n",
              "      fill: #174EA6;\n",
              "    }\n",
              "\n",
              "    [theme=dark] .colab-df-convert {\n",
              "      background-color: #3B4455;\n",
              "      fill: #D2E3FC;\n",
              "    }\n",
              "\n",
              "    [theme=dark] .colab-df-convert:hover {\n",
              "      background-color: #434B5C;\n",
              "      box-shadow: 0px 1px 3px 1px rgba(0, 0, 0, 0.15);\n",
              "      filter: drop-shadow(0px 1px 2px rgba(0, 0, 0, 0.3));\n",
              "      fill: #FFFFFF;\n",
              "    }\n",
              "  </style>\n",
              "\n",
              "      <script>\n",
              "        const buttonEl =\n",
              "          document.querySelector('#df-f24f13fe-6eb2-4f71-8b93-3f8004e86b46 button.colab-df-convert');\n",
              "        buttonEl.style.display =\n",
              "          google.colab.kernel.accessAllowed ? 'block' : 'none';\n",
              "\n",
              "        async function convertToInteractive(key) {\n",
              "          const element = document.querySelector('#df-f24f13fe-6eb2-4f71-8b93-3f8004e86b46');\n",
              "          const dataTable =\n",
              "            await google.colab.kernel.invokeFunction('convertToInteractive',\n",
              "                                                     [key], {});\n",
              "          if (!dataTable) return;\n",
              "\n",
              "          const docLinkHtml = 'Like what you see? Visit the ' +\n",
              "            '<a target=\"_blank\" href=https://colab.research.google.com/notebooks/data_table.ipynb>data table notebook</a>'\n",
              "            + ' to learn more about interactive tables.';\n",
              "          element.innerHTML = '';\n",
              "          dataTable['output_type'] = 'display_data';\n",
              "          await google.colab.output.renderOutput(dataTable, element);\n",
              "          const docLink = document.createElement('div');\n",
              "          docLink.innerHTML = docLinkHtml;\n",
              "          element.appendChild(docLink);\n",
              "        }\n",
              "      </script>\n",
              "    </div>\n",
              "  </div>\n",
              "  "
            ]
          },
          "metadata": {},
          "execution_count": 42
        }
      ]
    },
    {
      "cell_type": "code",
      "source": [
        "##TESTING\n",
        "x=set(df2['tokenized_content'][0])\n",
        "y=set(df2['text_lemmatized'][0])\n",
        "print(x.intersection(y))\n",
        "print(f'x length{len(x)}')\n",
        "print(f'y length{len(y)}')\n",
        "print(f'xintery length{len(x.intersection(y))}')\n",
        "\n"
      ],
      "metadata": {
        "colab": {
          "base_uri": "https://localhost:8080/"
        },
        "id": "8V_w1qyGwk-i",
        "outputId": "3269543e-1432-4659-8481-cb6a17cccf3f"
      },
      "execution_count": 43,
      "outputs": [
        {
          "output_type": "stream",
          "name": "stdout",
          "text": [
            "{'defence', 'jammu', 'hiding', 'fired', 'security', 'across', 'action', 'said', 'area', 'forest', 'died', 'pti', 'resulting', 'following', 'escape', 'control', 'intelligence', 'heavilyarmed', 'poonch', 'junior', 'army', 'sneak', 'antiinsurgency', 'close', 'village', 'awaited', 'encounter', 'monday', 'four', 'search', 'killed', 'gali', 'officer', 'operation', 'presence', 'district', 'critical', 'commissioned', 'personnel', 'jco', 'plug', 'managed', 'launched', 'early', 'spokesperson', 'going', 'group', 'ki', 'loc', 'dera', 'fierce', 'gunfight', 'surankote', 'rushed', 'chamrer', 'line'}\n",
            "x length69\n",
            "y length69\n",
            "xintery length56\n"
          ]
        }
      ]
    },
    {
      "cell_type": "code",
      "source": [
        "##TESTING\n",
        "x-x.intersection(y)"
      ],
      "metadata": {
        "colab": {
          "base_uri": "https://localhost:8080/"
        },
        "id": "p3NgayibyPDb",
        "outputId": "88429d79-e002-4b9a-d1eb-a4ec62caec95"
      },
      "execution_count": 44,
      "outputs": [
        {
          "output_type": "execute_result",
          "data": {
            "text/plain": [
              "{'details',\n",
              " 'forces',\n",
              " 'hours',\n",
              " 'injuries',\n",
              " 'inputs',\n",
              " 'kashmirs',\n",
              " 'officials',\n",
              " 'parties',\n",
              " 'reinforcements',\n",
              " 'reports',\n",
              " 'routes',\n",
              " 'soldiers',\n",
              " 'terrorists'}"
            ]
          },
          "metadata": {},
          "execution_count": 44
        }
      ]
    },
    {
      "cell_type": "code",
      "source": [
        "#df2['text_lemmatized'][0]"
      ],
      "metadata": {
        "id": "xOCyXAZCx7as"
      },
      "execution_count": 45,
      "outputs": []
    },
    {
      "cell_type": "code",
      "source": [
        "#df2['tokenized_content'][0]"
      ],
      "metadata": {
        "id": "9RyjZ1SDxLcT"
      },
      "execution_count": 46,
      "outputs": []
    },
    {
      "cell_type": "code",
      "source": [
        ""
      ],
      "metadata": {
        "id": "FGYOghN8ybEt"
      },
      "execution_count": 46,
      "outputs": []
    }
  ]
}