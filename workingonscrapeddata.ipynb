{
  "nbformat": 4,
  "nbformat_minor": 0,
  "metadata": {
    "colab": {
      "name": "workingonscrapeddata.ipynb",
      "provenance": [],
      "authorship_tag": "ABX9TyN1RQkm3R2s2tcDepzrda/J",
      "include_colab_link": true
    },
    "kernelspec": {
      "name": "python3",
      "display_name": "Python 3"
    },
    "language_info": {
      "name": "python"
    }
  },
  "cells": [
    {
      "cell_type": "markdown",
      "metadata": {
        "id": "view-in-github",
        "colab_type": "text"
      },
      "source": [
        "<a href=\"https://colab.research.google.com/github/shardul28/political-stance-detection/blob/Mscproject/workingonscrapeddata.ipynb\" target=\"_parent\"><img src=\"https://colab.research.google.com/assets/colab-badge.svg\" alt=\"Open In Colab\"/></a>"
      ]
    },
    {
      "cell_type": "code",
      "execution_count": 194,
      "metadata": {
        "id": "ZZEjVGfQqFZM"
      },
      "outputs": [],
      "source": [
        "##imports\n",
        "import pandas as pd\n",
        "import requests\n",
        "import numpy as np\n",
        "import requests\n",
        "import re\n",
        "import nltk\n",
        "import matplotlib.pyplot as plt \n",
        "from wordcloud import WordCloud"
      ]
    },
    {
      "cell_type": "code",
      "source": [
        "from google.colab import drive\n",
        "drive.mount('/content/drive')"
      ],
      "metadata": {
        "colab": {
          "base_uri": "https://localhost:8080/"
        },
        "id": "z7PTYrcVtc2J",
        "outputId": "bed0b34e-b8c5-4f4f-f1d2-cabf310086ae"
      },
      "execution_count": 195,
      "outputs": [
        {
          "output_type": "stream",
          "name": "stdout",
          "text": [
            "Drive already mounted at /content/drive; to attempt to forcibly remount, call drive.mount(\"/content/drive\", force_remount=True).\n"
          ]
        }
      ]
    },
    {
      "cell_type": "code",
      "source": [
        "cd /content/drive/MyDrive/news media bias datasets/scraped data/"
      ],
      "metadata": {
        "colab": {
          "base_uri": "https://localhost:8080/"
        },
        "id": "GRsmHxqatfOh",
        "outputId": "53f6a816-1f4d-4ef4-b301-693766ce562e"
      },
      "execution_count": 196,
      "outputs": [
        {
          "output_type": "stream",
          "name": "stdout",
          "text": [
            "/content/drive/MyDrive/news media bias datasets/scraped data\n"
          ]
        }
      ]
    },
    {
      "cell_type": "code",
      "source": [
        "import os\n",
        "datalist=os.listdir()"
      ],
      "metadata": {
        "id": "py7GqiPzW7DD"
      },
      "execution_count": 197,
      "outputs": []
    },
    {
      "cell_type": "code",
      "source": [
        "df={}\n",
        "for i in os.listdir():\n",
        "  df[i] = pd.read_csv(i)\n",
        "  print(i)\n"
      ],
      "metadata": {
        "colab": {
          "base_uri": "https://localhost:8080/"
        },
        "id": "iuenRZx5X0F-",
        "outputId": "0d56f2d8-b089-441c-a4fa-bedec6e6d7b5"
      },
      "execution_count": 198,
      "outputs": [
        {
          "output_type": "stream",
          "name": "stdout",
          "text": [
            "newsapi_scrape_final.csv\n",
            "newsapi_scrape3_25-02.csv\n",
            "newsapi_scrape3_25-02 (1).csv\n",
            "newsapi_scrape3_03-01.csv\n",
            "newsapi_scrape3_03-04.csv\n"
          ]
        }
      ]
    },
    {
      "cell_type": "code",
      "source": [
        "# Read in data\n",
        "df= pd.concat(df, axis=0)"
      ],
      "metadata": {
        "id": "XqcTsh-8aTtE"
      },
      "execution_count": 199,
      "outputs": []
    },
    {
      "cell_type": "code",
      "source": [
        "df.info()"
      ],
      "metadata": {
        "colab": {
          "base_uri": "https://localhost:8080/"
        },
        "id": "fnWF1l1TYMvA",
        "outputId": "461bac5a-502b-4cb6-e0b0-719bcad4a1e4"
      },
      "execution_count": 200,
      "outputs": [
        {
          "output_type": "stream",
          "name": "stdout",
          "text": [
            "<class 'pandas.core.frame.DataFrame'>\n",
            "MultiIndex: 16504 entries, ('newsapi_scrape_final.csv', 0) to ('newsapi_scrape3_03-04.csv', 3675)\n",
            "Data columns (total 8 columns):\n",
            " #   Column       Non-Null Count  Dtype \n",
            "---  ------       --------------  ----- \n",
            " 0   source       16504 non-null  object\n",
            " 1   author       16293 non-null  object\n",
            " 2   title        16488 non-null  object\n",
            " 3   description  16169 non-null  object\n",
            " 4   url          16488 non-null  object\n",
            " 5   urlToImage   16349 non-null  object\n",
            " 6   publishedAt  16488 non-null  object\n",
            " 7   content      16452 non-null  object\n",
            "dtypes: object(8)\n",
            "memory usage: 1.2+ MB\n"
          ]
        }
      ]
    },
    {
      "cell_type": "code",
      "source": [
        "# Replace null values\n",
        "Nan = df['content'].isnull().sum()\n",
        "print(f'There are {Nan} news articles that do not have content')\n",
        "\n",
        "print(df.isnull().sum())\n",
        "# Replace Null values with 'None'\n",
        "df.dropna(axis = 0, how ='any', inplace = True)\n",
        "print(df.isnull().sum())\n",
        "\n",
        "df.head()"
      ],
      "metadata": {
        "colab": {
          "base_uri": "https://localhost:8080/",
          "height": 754
        },
        "id": "WmRwDeKWs5px",
        "outputId": "8cf1bfb1-3d79-44a2-ee9f-c770b78fd195"
      },
      "execution_count": 201,
      "outputs": [
        {
          "output_type": "stream",
          "name": "stdout",
          "text": [
            "There are 52 news articles that do not have content\n",
            "source           0\n",
            "author         211\n",
            "title           16\n",
            "description    335\n",
            "url             16\n",
            "urlToImage     155\n",
            "publishedAt     16\n",
            "content         52\n",
            "dtype: int64\n",
            "source         0\n",
            "author         0\n",
            "title          0\n",
            "description    0\n",
            "url            0\n",
            "urlToImage     0\n",
            "publishedAt    0\n",
            "content        0\n",
            "dtype: int64\n"
          ]
        },
        {
          "output_type": "execute_result",
          "data": {
            "text/html": [
              "\n",
              "  <div id=\"df-6008ab5f-25b2-4086-96c1-e3e09dd82935\">\n",
              "    <div class=\"colab-df-container\">\n",
              "      <div>\n",
              "<style scoped>\n",
              "    .dataframe tbody tr th:only-of-type {\n",
              "        vertical-align: middle;\n",
              "    }\n",
              "\n",
              "    .dataframe tbody tr th {\n",
              "        vertical-align: top;\n",
              "    }\n",
              "\n",
              "    .dataframe thead th {\n",
              "        text-align: right;\n",
              "    }\n",
              "</style>\n",
              "<table border=\"1\" class=\"dataframe\">\n",
              "  <thead>\n",
              "    <tr style=\"text-align: right;\">\n",
              "      <th></th>\n",
              "      <th></th>\n",
              "      <th>source</th>\n",
              "      <th>author</th>\n",
              "      <th>title</th>\n",
              "      <th>description</th>\n",
              "      <th>url</th>\n",
              "      <th>urlToImage</th>\n",
              "      <th>publishedAt</th>\n",
              "      <th>content</th>\n",
              "    </tr>\n",
              "  </thead>\n",
              "  <tbody>\n",
              "    <tr>\n",
              "      <th rowspan=\"5\" valign=\"top\">newsapi_scrape_final.csv</th>\n",
              "      <th>0</th>\n",
              "      <td>{'id': 'fox-news', 'name': 'Fox News'}</td>\n",
              "      <td>Nikolas Lanum</td>\n",
              "      <td>NPR labels first Asian-American Boston mayor a...</td>\n",
              "      <td>NPR took heat Tuesday after its report that As...</td>\n",
              "      <td>https://www.foxnews.com/media/npr-slammed-disa...</td>\n",
              "      <td>https://static.foxnews.com/foxnews.com/content...</td>\n",
              "      <td>2021-11-16T20:04:38Z</td>\n",
              "      <td>NPR took heat Tuesday after its report that As...</td>\n",
              "    </tr>\n",
              "    <tr>\n",
              "      <th>1</th>\n",
              "      <td>{'id': 'fox-news', 'name': 'Fox News'}</td>\n",
              "      <td>Brooke Singman</td>\n",
              "      <td>Trump slams Biden's 'surrender' of Afghanistan...</td>\n",
              "      <td>&lt;ol&gt;&lt;li&gt;Trump slams Biden's 'surrender' of Afg...</td>\n",
              "      <td>https://www.foxnews.com/politics/trump-slams-b...</td>\n",
              "      <td>https://cf-images.us-east-1.prod.boltdns.net/v...</td>\n",
              "      <td>2021-11-07T12:11:33Z</td>\n",
              "      <td>EXCLUSIVE: Former President Donald Trump slamm...</td>\n",
              "    </tr>\n",
              "    <tr>\n",
              "      <th>2</th>\n",
              "      <td>{'id': 'fox-news', 'name': 'Fox News'}</td>\n",
              "      <td>Paul Steinhauser</td>\n",
              "      <td>DeSantis, at major Republican gathering, vows ...</td>\n",
              "      <td>&lt;ol&gt;&lt;li&gt;DeSantis, at major Republican gatherin...</td>\n",
              "      <td>https://www.foxnews.com/politics/desantis-at-m...</td>\n",
              "      <td>https://static.foxnews.com/foxnews.com/content...</td>\n",
              "      <td>2021-11-06T22:08:57Z</td>\n",
              "      <td>LAS VEGAS Republican Gov. Ron DeSantis of Flor...</td>\n",
              "    </tr>\n",
              "    <tr>\n",
              "      <th>3</th>\n",
              "      <td>{'id': 'fox-news', 'name': 'Fox News'}</td>\n",
              "      <td>Houston Keene</td>\n",
              "      <td>Democratic California Rep. Jackie Speier will ...</td>\n",
              "      <td>&lt;ol&gt;&lt;li&gt;Democratic California Rep. Jackie Spei...</td>\n",
              "      <td>https://www.foxnews.com/politics/democratic-ca...</td>\n",
              "      <td>https://static.foxnews.com/foxnews.com/content...</td>\n",
              "      <td>2021-11-16T14:40:08Z</td>\n",
              "      <td>Democratic California Rep. Jackie Speier said ...</td>\n",
              "    </tr>\n",
              "    <tr>\n",
              "      <th>4</th>\n",
              "      <td>{'id': 'fox-news', 'name': 'Fox News'}</td>\n",
              "      <td>Michael Lee</td>\n",
              "      <td>Unlikely GOP NJ Senate winner confident electi...</td>\n",
              "      <td>&lt;ol&gt;&lt;li&gt;Unlikely GOP NJ Senate winner confiden...</td>\n",
              "      <td>https://www.foxnews.com/politics/unlikely-nj-g...</td>\n",
              "      <td>https://static.foxnews.com/foxnews.com/content...</td>\n",
              "      <td>2021-11-10T00:04:58Z</td>\n",
              "      <td>Republican New Jersey\\r\\n Senate candidate Edw...</td>\n",
              "    </tr>\n",
              "  </tbody>\n",
              "</table>\n",
              "</div>\n",
              "      <button class=\"colab-df-convert\" onclick=\"convertToInteractive('df-6008ab5f-25b2-4086-96c1-e3e09dd82935')\"\n",
              "              title=\"Convert this dataframe to an interactive table.\"\n",
              "              style=\"display:none;\">\n",
              "        \n",
              "  <svg xmlns=\"http://www.w3.org/2000/svg\" height=\"24px\"viewBox=\"0 0 24 24\"\n",
              "       width=\"24px\">\n",
              "    <path d=\"M0 0h24v24H0V0z\" fill=\"none\"/>\n",
              "    <path d=\"M18.56 5.44l.94 2.06.94-2.06 2.06-.94-2.06-.94-.94-2.06-.94 2.06-2.06.94zm-11 1L8.5 8.5l.94-2.06 2.06-.94-2.06-.94L8.5 2.5l-.94 2.06-2.06.94zm10 10l.94 2.06.94-2.06 2.06-.94-2.06-.94-.94-2.06-.94 2.06-2.06.94z\"/><path d=\"M17.41 7.96l-1.37-1.37c-.4-.4-.92-.59-1.43-.59-.52 0-1.04.2-1.43.59L10.3 9.45l-7.72 7.72c-.78.78-.78 2.05 0 2.83L4 21.41c.39.39.9.59 1.41.59.51 0 1.02-.2 1.41-.59l7.78-7.78 2.81-2.81c.8-.78.8-2.07 0-2.86zM5.41 20L4 18.59l7.72-7.72 1.47 1.35L5.41 20z\"/>\n",
              "  </svg>\n",
              "      </button>\n",
              "      \n",
              "  <style>\n",
              "    .colab-df-container {\n",
              "      display:flex;\n",
              "      flex-wrap:wrap;\n",
              "      gap: 12px;\n",
              "    }\n",
              "\n",
              "    .colab-df-convert {\n",
              "      background-color: #E8F0FE;\n",
              "      border: none;\n",
              "      border-radius: 50%;\n",
              "      cursor: pointer;\n",
              "      display: none;\n",
              "      fill: #1967D2;\n",
              "      height: 32px;\n",
              "      padding: 0 0 0 0;\n",
              "      width: 32px;\n",
              "    }\n",
              "\n",
              "    .colab-df-convert:hover {\n",
              "      background-color: #E2EBFA;\n",
              "      box-shadow: 0px 1px 2px rgba(60, 64, 67, 0.3), 0px 1px 3px 1px rgba(60, 64, 67, 0.15);\n",
              "      fill: #174EA6;\n",
              "    }\n",
              "\n",
              "    [theme=dark] .colab-df-convert {\n",
              "      background-color: #3B4455;\n",
              "      fill: #D2E3FC;\n",
              "    }\n",
              "\n",
              "    [theme=dark] .colab-df-convert:hover {\n",
              "      background-color: #434B5C;\n",
              "      box-shadow: 0px 1px 3px 1px rgba(0, 0, 0, 0.15);\n",
              "      filter: drop-shadow(0px 1px 2px rgba(0, 0, 0, 0.3));\n",
              "      fill: #FFFFFF;\n",
              "    }\n",
              "  </style>\n",
              "\n",
              "      <script>\n",
              "        const buttonEl =\n",
              "          document.querySelector('#df-6008ab5f-25b2-4086-96c1-e3e09dd82935 button.colab-df-convert');\n",
              "        buttonEl.style.display =\n",
              "          google.colab.kernel.accessAllowed ? 'block' : 'none';\n",
              "\n",
              "        async function convertToInteractive(key) {\n",
              "          const element = document.querySelector('#df-6008ab5f-25b2-4086-96c1-e3e09dd82935');\n",
              "          const dataTable =\n",
              "            await google.colab.kernel.invokeFunction('convertToInteractive',\n",
              "                                                     [key], {});\n",
              "          if (!dataTable) return;\n",
              "\n",
              "          const docLinkHtml = 'Like what you see? Visit the ' +\n",
              "            '<a target=\"_blank\" href=https://colab.research.google.com/notebooks/data_table.ipynb>data table notebook</a>'\n",
              "            + ' to learn more about interactive tables.';\n",
              "          element.innerHTML = '';\n",
              "          dataTable['output_type'] = 'display_data';\n",
              "          await google.colab.output.renderOutput(dataTable, element);\n",
              "          const docLink = document.createElement('div');\n",
              "          docLink.innerHTML = docLinkHtml;\n",
              "          element.appendChild(docLink);\n",
              "        }\n",
              "      </script>\n",
              "    </div>\n",
              "  </div>\n",
              "  "
            ],
            "text/plain": [
              "                                                            source  \\\n",
              "newsapi_scrape_final.csv 0  {'id': 'fox-news', 'name': 'Fox News'}   \n",
              "                         1  {'id': 'fox-news', 'name': 'Fox News'}   \n",
              "                         2  {'id': 'fox-news', 'name': 'Fox News'}   \n",
              "                         3  {'id': 'fox-news', 'name': 'Fox News'}   \n",
              "                         4  {'id': 'fox-news', 'name': 'Fox News'}   \n",
              "\n",
              "                                      author  \\\n",
              "newsapi_scrape_final.csv 0     Nikolas Lanum   \n",
              "                         1    Brooke Singman   \n",
              "                         2  Paul Steinhauser   \n",
              "                         3     Houston Keene   \n",
              "                         4       Michael Lee   \n",
              "\n",
              "                                                                        title  \\\n",
              "newsapi_scrape_final.csv 0  NPR labels first Asian-American Boston mayor a...   \n",
              "                         1  Trump slams Biden's 'surrender' of Afghanistan...   \n",
              "                         2  DeSantis, at major Republican gathering, vows ...   \n",
              "                         3  Democratic California Rep. Jackie Speier will ...   \n",
              "                         4  Unlikely GOP NJ Senate winner confident electi...   \n",
              "\n",
              "                                                                  description  \\\n",
              "newsapi_scrape_final.csv 0  NPR took heat Tuesday after its report that As...   \n",
              "                         1  <ol><li>Trump slams Biden's 'surrender' of Afg...   \n",
              "                         2  <ol><li>DeSantis, at major Republican gatherin...   \n",
              "                         3  <ol><li>Democratic California Rep. Jackie Spei...   \n",
              "                         4  <ol><li>Unlikely GOP NJ Senate winner confiden...   \n",
              "\n",
              "                                                                          url  \\\n",
              "newsapi_scrape_final.csv 0  https://www.foxnews.com/media/npr-slammed-disa...   \n",
              "                         1  https://www.foxnews.com/politics/trump-slams-b...   \n",
              "                         2  https://www.foxnews.com/politics/desantis-at-m...   \n",
              "                         3  https://www.foxnews.com/politics/democratic-ca...   \n",
              "                         4  https://www.foxnews.com/politics/unlikely-nj-g...   \n",
              "\n",
              "                                                                   urlToImage  \\\n",
              "newsapi_scrape_final.csv 0  https://static.foxnews.com/foxnews.com/content...   \n",
              "                         1  https://cf-images.us-east-1.prod.boltdns.net/v...   \n",
              "                         2  https://static.foxnews.com/foxnews.com/content...   \n",
              "                         3  https://static.foxnews.com/foxnews.com/content...   \n",
              "                         4  https://static.foxnews.com/foxnews.com/content...   \n",
              "\n",
              "                                     publishedAt  \\\n",
              "newsapi_scrape_final.csv 0  2021-11-16T20:04:38Z   \n",
              "                         1  2021-11-07T12:11:33Z   \n",
              "                         2  2021-11-06T22:08:57Z   \n",
              "                         3  2021-11-16T14:40:08Z   \n",
              "                         4  2021-11-10T00:04:58Z   \n",
              "\n",
              "                                                                      content  \n",
              "newsapi_scrape_final.csv 0  NPR took heat Tuesday after its report that As...  \n",
              "                         1  EXCLUSIVE: Former President Donald Trump slamm...  \n",
              "                         2  LAS VEGAS Republican Gov. Ron DeSantis of Flor...  \n",
              "                         3  Democratic California Rep. Jackie Speier said ...  \n",
              "                         4  Republican New Jersey\\r\\n Senate candidate Edw...  "
            ]
          },
          "metadata": {},
          "execution_count": 201
        }
      ]
    },
    {
      "cell_type": "code",
      "source": [
        "df['source'][1]"
      ],
      "metadata": {
        "colab": {
          "base_uri": "https://localhost:8080/",
          "height": 35
        },
        "id": "CS8I5__ofVLG",
        "outputId": "e84c95f2-4d12-4e02-d779-466fbf8f99d8"
      },
      "execution_count": 202,
      "outputs": [
        {
          "output_type": "execute_result",
          "data": {
            "application/vnd.google.colaboratory.intrinsic+json": {
              "type": "string"
            },
            "text/plain": [
              "\"{'id': 'fox-news', 'name': 'Fox News'}\""
            ]
          },
          "metadata": {},
          "execution_count": 202
        }
      ]
    },
    {
      "cell_type": "code",
      "source": [
        "import json\n",
        "s=df['source'][1].replace(\"'\",'\"')\n",
        "\n",
        "s=json.loads(s)\n",
        "s\n"
      ],
      "metadata": {
        "colab": {
          "base_uri": "https://localhost:8080/"
        },
        "id": "1yZB0nXhfisG",
        "outputId": "27b65ec5-d5ef-45f4-fb2e-d295f5879cb2"
      },
      "execution_count": 203,
      "outputs": [
        {
          "output_type": "execute_result",
          "data": {
            "text/plain": [
              "{'id': 'fox-news', 'name': 'Fox News'}"
            ]
          },
          "metadata": {},
          "execution_count": 203
        }
      ]
    },
    {
      "cell_type": "code",
      "source": [
        "import json\n",
        "source_name=[]\n",
        "for i in range(0,len(df)):\n",
        "  x=json.loads(df['source'][i].replace(\"'\",'\"'))\n",
        "  source_name.append(x['name'])\n",
        "df['source_name']=source_name"
      ],
      "metadata": {
        "id": "Koz7XCmTetTl"
      },
      "execution_count": 204,
      "outputs": []
    },
    {
      "cell_type": "code",
      "source": [
        "df.count()"
      ],
      "metadata": {
        "colab": {
          "base_uri": "https://localhost:8080/"
        },
        "id": "LOdvvZTlulh6",
        "outputId": "cdbb9185-e4d3-40ac-bb52-d63cf13acd2b"
      },
      "execution_count": 205,
      "outputs": [
        {
          "output_type": "execute_result",
          "data": {
            "text/plain": [
              "source         15835\n",
              "author         15835\n",
              "title          15835\n",
              "description    15835\n",
              "url            15835\n",
              "urlToImage     15835\n",
              "publishedAt    15835\n",
              "content        15835\n",
              "source_name    15835\n",
              "dtype: int64"
            ]
          },
          "metadata": {},
          "execution_count": 205
        }
      ]
    },
    {
      "cell_type": "code",
      "source": [
        "df=df.drop_duplicates(subset=['content'])\n",
        "df.count()"
      ],
      "metadata": {
        "colab": {
          "base_uri": "https://localhost:8080/"
        },
        "id": "jpObK6J2kY5e",
        "outputId": "524d5638-9e21-4e0a-baed-1a5f84c262a5"
      },
      "execution_count": 206,
      "outputs": [
        {
          "output_type": "execute_result",
          "data": {
            "text/plain": [
              "source         4908\n",
              "author         4908\n",
              "title          4908\n",
              "description    4908\n",
              "url            4908\n",
              "urlToImage     4908\n",
              "publishedAt    4908\n",
              "content        4908\n",
              "source_name    4908\n",
              "dtype: int64"
            ]
          },
          "metadata": {},
          "execution_count": 206
        }
      ]
    },
    {
      "cell_type": "code",
      "source": [
        "df.isnull().sum()"
      ],
      "metadata": {
        "colab": {
          "base_uri": "https://localhost:8080/"
        },
        "id": "9LWCojJtu0RQ",
        "outputId": "75fcc20d-1f63-470e-8d86-d5319daf128b"
      },
      "execution_count": 207,
      "outputs": [
        {
          "output_type": "execute_result",
          "data": {
            "text/plain": [
              "source         0\n",
              "author         0\n",
              "title          0\n",
              "description    0\n",
              "url            0\n",
              "urlToImage     0\n",
              "publishedAt    0\n",
              "content        0\n",
              "source_name    0\n",
              "dtype: int64"
            ]
          },
          "metadata": {},
          "execution_count": 207
        }
      ]
    },
    {
      "cell_type": "code",
      "source": [
        "source_names = df.source.unique()\n",
        "print(len(source_names))\n",
        "source_names"
      ],
      "metadata": {
        "colab": {
          "base_uri": "https://localhost:8080/"
        },
        "id": "mJWgLYmFxEQI",
        "outputId": "69d1549b-55ab-4726-ffd3-bcf6e35053ae"
      },
      "execution_count": 208,
      "outputs": [
        {
          "output_type": "stream",
          "name": "stdout",
          "text": [
            "10\n"
          ]
        },
        {
          "output_type": "execute_result",
          "data": {
            "text/plain": [
              "array([\"{'id': 'fox-news', 'name': 'Fox News'}\",\n",
              "       \"{'id': 'breitbart-news', 'name': 'Breitbart News'}\",\n",
              "       \"{'id': 'national-review', 'name': 'National Review'}\",\n",
              "       \"{'id': 'the-american-conservative', 'name': 'The American Conservative'}\",\n",
              "       \"{'id': 'the-washington-times', 'name': 'The Washington Times'}\",\n",
              "       \"{'id': 'msnbc', 'name': 'MSNBC'}\",\n",
              "       \"{'id': 'buzzfeed', 'name': 'Buzzfeed'}\",\n",
              "       \"{'id': 'vice-news', 'name': 'Vice News'}\",\n",
              "       \"{'id': 'cnn', 'name': 'CNN'}\",\n",
              "       \"{'id': 'politico', 'name': 'Politico'}\"], dtype=object)"
            ]
          },
          "metadata": {},
          "execution_count": 208
        }
      ]
    },
    {
      "cell_type": "code",
      "source": [
        "source_bias = {'source':source_names, 'bias':[1,1,1,1,1,-1,-1,-1,-1,-1]}\n",
        "source_bias_df = pd.DataFrame(data=source_bias)\n",
        "\n",
        "df = df.merge(source_bias_df, on='source', how='left')\n",
        "df.head(3)"
      ],
      "metadata": {
        "colab": {
          "base_uri": "https://localhost:8080/",
          "height": 240
        },
        "id": "FJo5d5HLw1iR",
        "outputId": "47dc5f3c-f161-4ad2-d8fc-3f5c452b25df"
      },
      "execution_count": 209,
      "outputs": [
        {
          "output_type": "execute_result",
          "data": {
            "text/html": [
              "\n",
              "  <div id=\"df-c603eac8-1810-42e7-b6c3-6299862b37b5\">\n",
              "    <div class=\"colab-df-container\">\n",
              "      <div>\n",
              "<style scoped>\n",
              "    .dataframe tbody tr th:only-of-type {\n",
              "        vertical-align: middle;\n",
              "    }\n",
              "\n",
              "    .dataframe tbody tr th {\n",
              "        vertical-align: top;\n",
              "    }\n",
              "\n",
              "    .dataframe thead th {\n",
              "        text-align: right;\n",
              "    }\n",
              "</style>\n",
              "<table border=\"1\" class=\"dataframe\">\n",
              "  <thead>\n",
              "    <tr style=\"text-align: right;\">\n",
              "      <th></th>\n",
              "      <th>source</th>\n",
              "      <th>author</th>\n",
              "      <th>title</th>\n",
              "      <th>description</th>\n",
              "      <th>url</th>\n",
              "      <th>urlToImage</th>\n",
              "      <th>publishedAt</th>\n",
              "      <th>content</th>\n",
              "      <th>source_name</th>\n",
              "      <th>bias</th>\n",
              "    </tr>\n",
              "  </thead>\n",
              "  <tbody>\n",
              "    <tr>\n",
              "      <th>0</th>\n",
              "      <td>{'id': 'fox-news', 'name': 'Fox News'}</td>\n",
              "      <td>Nikolas Lanum</td>\n",
              "      <td>NPR labels first Asian-American Boston mayor a...</td>\n",
              "      <td>NPR took heat Tuesday after its report that As...</td>\n",
              "      <td>https://www.foxnews.com/media/npr-slammed-disa...</td>\n",
              "      <td>https://static.foxnews.com/foxnews.com/content...</td>\n",
              "      <td>2021-11-16T20:04:38Z</td>\n",
              "      <td>NPR took heat Tuesday after its report that As...</td>\n",
              "      <td>Fox News</td>\n",
              "      <td>1</td>\n",
              "    </tr>\n",
              "    <tr>\n",
              "      <th>1</th>\n",
              "      <td>{'id': 'fox-news', 'name': 'Fox News'}</td>\n",
              "      <td>Brooke Singman</td>\n",
              "      <td>Trump slams Biden's 'surrender' of Afghanistan...</td>\n",
              "      <td>&lt;ol&gt;&lt;li&gt;Trump slams Biden's 'surrender' of Afg...</td>\n",
              "      <td>https://www.foxnews.com/politics/trump-slams-b...</td>\n",
              "      <td>https://cf-images.us-east-1.prod.boltdns.net/v...</td>\n",
              "      <td>2021-11-07T12:11:33Z</td>\n",
              "      <td>EXCLUSIVE: Former President Donald Trump slamm...</td>\n",
              "      <td>Fox News</td>\n",
              "      <td>1</td>\n",
              "    </tr>\n",
              "    <tr>\n",
              "      <th>2</th>\n",
              "      <td>{'id': 'fox-news', 'name': 'Fox News'}</td>\n",
              "      <td>Paul Steinhauser</td>\n",
              "      <td>DeSantis, at major Republican gathering, vows ...</td>\n",
              "      <td>&lt;ol&gt;&lt;li&gt;DeSantis, at major Republican gatherin...</td>\n",
              "      <td>https://www.foxnews.com/politics/desantis-at-m...</td>\n",
              "      <td>https://static.foxnews.com/foxnews.com/content...</td>\n",
              "      <td>2021-11-06T22:08:57Z</td>\n",
              "      <td>LAS VEGAS Republican Gov. Ron DeSantis of Flor...</td>\n",
              "      <td>Fox News</td>\n",
              "      <td>1</td>\n",
              "    </tr>\n",
              "  </tbody>\n",
              "</table>\n",
              "</div>\n",
              "      <button class=\"colab-df-convert\" onclick=\"convertToInteractive('df-c603eac8-1810-42e7-b6c3-6299862b37b5')\"\n",
              "              title=\"Convert this dataframe to an interactive table.\"\n",
              "              style=\"display:none;\">\n",
              "        \n",
              "  <svg xmlns=\"http://www.w3.org/2000/svg\" height=\"24px\"viewBox=\"0 0 24 24\"\n",
              "       width=\"24px\">\n",
              "    <path d=\"M0 0h24v24H0V0z\" fill=\"none\"/>\n",
              "    <path d=\"M18.56 5.44l.94 2.06.94-2.06 2.06-.94-2.06-.94-.94-2.06-.94 2.06-2.06.94zm-11 1L8.5 8.5l.94-2.06 2.06-.94-2.06-.94L8.5 2.5l-.94 2.06-2.06.94zm10 10l.94 2.06.94-2.06 2.06-.94-2.06-.94-.94-2.06-.94 2.06-2.06.94z\"/><path d=\"M17.41 7.96l-1.37-1.37c-.4-.4-.92-.59-1.43-.59-.52 0-1.04.2-1.43.59L10.3 9.45l-7.72 7.72c-.78.78-.78 2.05 0 2.83L4 21.41c.39.39.9.59 1.41.59.51 0 1.02-.2 1.41-.59l7.78-7.78 2.81-2.81c.8-.78.8-2.07 0-2.86zM5.41 20L4 18.59l7.72-7.72 1.47 1.35L5.41 20z\"/>\n",
              "  </svg>\n",
              "      </button>\n",
              "      \n",
              "  <style>\n",
              "    .colab-df-container {\n",
              "      display:flex;\n",
              "      flex-wrap:wrap;\n",
              "      gap: 12px;\n",
              "    }\n",
              "\n",
              "    .colab-df-convert {\n",
              "      background-color: #E8F0FE;\n",
              "      border: none;\n",
              "      border-radius: 50%;\n",
              "      cursor: pointer;\n",
              "      display: none;\n",
              "      fill: #1967D2;\n",
              "      height: 32px;\n",
              "      padding: 0 0 0 0;\n",
              "      width: 32px;\n",
              "    }\n",
              "\n",
              "    .colab-df-convert:hover {\n",
              "      background-color: #E2EBFA;\n",
              "      box-shadow: 0px 1px 2px rgba(60, 64, 67, 0.3), 0px 1px 3px 1px rgba(60, 64, 67, 0.15);\n",
              "      fill: #174EA6;\n",
              "    }\n",
              "\n",
              "    [theme=dark] .colab-df-convert {\n",
              "      background-color: #3B4455;\n",
              "      fill: #D2E3FC;\n",
              "    }\n",
              "\n",
              "    [theme=dark] .colab-df-convert:hover {\n",
              "      background-color: #434B5C;\n",
              "      box-shadow: 0px 1px 3px 1px rgba(0, 0, 0, 0.15);\n",
              "      filter: drop-shadow(0px 1px 2px rgba(0, 0, 0, 0.3));\n",
              "      fill: #FFFFFF;\n",
              "    }\n",
              "  </style>\n",
              "\n",
              "      <script>\n",
              "        const buttonEl =\n",
              "          document.querySelector('#df-c603eac8-1810-42e7-b6c3-6299862b37b5 button.colab-df-convert');\n",
              "        buttonEl.style.display =\n",
              "          google.colab.kernel.accessAllowed ? 'block' : 'none';\n",
              "\n",
              "        async function convertToInteractive(key) {\n",
              "          const element = document.querySelector('#df-c603eac8-1810-42e7-b6c3-6299862b37b5');\n",
              "          const dataTable =\n",
              "            await google.colab.kernel.invokeFunction('convertToInteractive',\n",
              "                                                     [key], {});\n",
              "          if (!dataTable) return;\n",
              "\n",
              "          const docLinkHtml = 'Like what you see? Visit the ' +\n",
              "            '<a target=\"_blank\" href=https://colab.research.google.com/notebooks/data_table.ipynb>data table notebook</a>'\n",
              "            + ' to learn more about interactive tables.';\n",
              "          element.innerHTML = '';\n",
              "          dataTable['output_type'] = 'display_data';\n",
              "          await google.colab.output.renderOutput(dataTable, element);\n",
              "          const docLink = document.createElement('div');\n",
              "          docLink.innerHTML = docLinkHtml;\n",
              "          element.appendChild(docLink);\n",
              "        }\n",
              "      </script>\n",
              "    </div>\n",
              "  </div>\n",
              "  "
            ],
            "text/plain": [
              "                                   source            author  \\\n",
              "0  {'id': 'fox-news', 'name': 'Fox News'}     Nikolas Lanum   \n",
              "1  {'id': 'fox-news', 'name': 'Fox News'}    Brooke Singman   \n",
              "2  {'id': 'fox-news', 'name': 'Fox News'}  Paul Steinhauser   \n",
              "\n",
              "                                               title  \\\n",
              "0  NPR labels first Asian-American Boston mayor a...   \n",
              "1  Trump slams Biden's 'surrender' of Afghanistan...   \n",
              "2  DeSantis, at major Republican gathering, vows ...   \n",
              "\n",
              "                                         description  \\\n",
              "0  NPR took heat Tuesday after its report that As...   \n",
              "1  <ol><li>Trump slams Biden's 'surrender' of Afg...   \n",
              "2  <ol><li>DeSantis, at major Republican gatherin...   \n",
              "\n",
              "                                                 url  \\\n",
              "0  https://www.foxnews.com/media/npr-slammed-disa...   \n",
              "1  https://www.foxnews.com/politics/trump-slams-b...   \n",
              "2  https://www.foxnews.com/politics/desantis-at-m...   \n",
              "\n",
              "                                          urlToImage           publishedAt  \\\n",
              "0  https://static.foxnews.com/foxnews.com/content...  2021-11-16T20:04:38Z   \n",
              "1  https://cf-images.us-east-1.prod.boltdns.net/v...  2021-11-07T12:11:33Z   \n",
              "2  https://static.foxnews.com/foxnews.com/content...  2021-11-06T22:08:57Z   \n",
              "\n",
              "                                             content source_name  bias  \n",
              "0  NPR took heat Tuesday after its report that As...    Fox News     1  \n",
              "1  EXCLUSIVE: Former President Donald Trump slamm...    Fox News     1  \n",
              "2  LAS VEGAS Republican Gov. Ron DeSantis of Flor...    Fox News     1  "
            ]
          },
          "metadata": {},
          "execution_count": 209
        }
      ]
    },
    {
      "cell_type": "code",
      "source": [
        "# conservative 1\n",
        "# liberal -1"
      ],
      "metadata": {
        "id": "YyJVpDuVye-p"
      },
      "execution_count": 210,
      "outputs": []
    },
    {
      "cell_type": "code",
      "source": [
        "right=df.loc[df['bias']==1]\n",
        "left=df.loc[df['bias']==-1]\n"
      ],
      "metadata": {
        "id": "gbtiLCHfwrMx"
      },
      "execution_count": 211,
      "outputs": []
    },
    {
      "cell_type": "code",
      "source": [
        "print(len(right))\n",
        "print(len(left))\n"
      ],
      "metadata": {
        "colab": {
          "base_uri": "https://localhost:8080/"
        },
        "id": "tQP9SA1-6ASi",
        "outputId": "c7508fc4-b8b9-4b53-e82b-278fdf0b5427"
      },
      "execution_count": 212,
      "outputs": [
        {
          "output_type": "stream",
          "name": "stdout",
          "text": [
            "2657\n",
            "2251\n"
          ]
        }
      ]
    },
    {
      "cell_type": "code",
      "source": [
        "ax = df['source_name'].value_counts().plot(kind='bar', fontsize=14, figsize=(10,5),color=['red', 'violet','blue', 'green'])\n",
        "ax.set_title('Article Count\\n', fontsize=15)\n",
        "ax.set_xlabel('Publication', fontsize=15)\n",
        "ax.set_ylabel('Count', fontsize=15);"
      ],
      "metadata": {
        "colab": {
          "base_uri": "https://localhost:8080/",
          "height": 558
        },
        "id": "kqYWXi4KbxeO",
        "outputId": "fe063adf-ac75-4a41-fa46-2da3d3cb0038"
      },
      "execution_count": 213,
      "outputs": [
        {
          "output_type": "display_data",
          "data": {
            "image/png": "[encoded data removed]",
            "text/plain": [
              "<Figure size 720x360 with 1 Axes>"
            ]
          },
          "metadata": {
            "needs_background": "light"
          }
        }
      ]
    },
    {
      "cell_type": "code",
      "source": [
        "##getting all news channels list to remove channel names from content\n",
        "import json\n",
        "for i in source_names:\n",
        "  #print(i)\n",
        "  #print(type(i))\n",
        "  x=json.loads(i.replace(\"\\'\", \"\\\"\"))\n",
        "  #print(x['id'])\n",
        "  print(f\"'{x['id']}','{x['name']}',\")"
      ],
      "metadata": {
        "colab": {
          "base_uri": "https://localhost:8080/"
        },
        "id": "ZzKhLS7R-OVW",
        "outputId": "18724490-871b-413c-bffe-b5239ae56720"
      },
      "execution_count": 237,
      "outputs": [
        {
          "output_type": "stream",
          "name": "stdout",
          "text": [
            "'fox-news','Fox News',\n",
            "'breitbart-news','Breitbart News',\n",
            "'national-review','National Review',\n",
            "'the-american-conservative','The American Conservative',\n",
            "'the-washington-times','The Washington Times',\n",
            "'msnbc','MSNBC',\n",
            "'buzzfeed','Buzzfeed',\n",
            "'vice-news','Vice News',\n",
            "'cnn','CNN',\n",
            "'politico','Politico',\n"
          ]
        }
      ]
    },
    {
      "cell_type": "code",
      "source": [
        "import re\n",
        "import string\n",
        "nltk.download('stopwords')\n",
        "stopwords = nltk.corpus.stopwords.words('english')"
      ],
      "metadata": {
        "colab": {
          "base_uri": "https://localhost:8080/"
        },
        "id": "qR0WaDzW9Uvt",
        "outputId": "146cb3d0-944b-4156-8cb3-fbf242280481"
      },
      "execution_count": 238,
      "outputs": [
        {
          "output_type": "stream",
          "name": "stdout",
          "text": [
            "[nltk_data] Downloading package stopwords to /root/nltk_data...\n",
            "[nltk_data]   Package stopwords is already up-to-date!\n"
          ]
        }
      ]
    },
    {
      "cell_type": "code",
      "source": [
        "\n",
        "def text_prepare(text):\n",
        "    \"\"\"\n",
        "        text: a string\n",
        "        return: modified initial string\n",
        "    \"\"\"\n",
        "    text = text.lower()\n",
        "    text = text.replace('\\n',' ')\n",
        "    \n",
        "    letters = list(string.ascii_lowercase)\n",
        "    numbers = ['0','1','2','3','4','5','6','7','8','9']\n",
        "    banned = [\"’\",\"’\",\"“\",\"—\",\"”\",\"‘\",\"–\",'#','[','/','(',')','{','}','\\\\','[',']','|','@',',',';','+','-']\n",
        "    stopwords2=['fox-news','Fox News',\n",
        "'breitbart-news','Breitbart News',\n",
        "'national-review','National Review',\n",
        "'the-american-conservative','The American Conservative',\n",
        "'the-washington-times','The Washington Times',\n",
        "'msnbc','MSNBC',\n",
        "'buzzfeed','Buzzfeed',\n",
        "'vice-news','Vice News',\n",
        "'cnn','CNN',\n",
        "'politico','Politico']\n",
        "    banned = ''.join(banned) + string.punctuation + ''.join(numbers)\n",
        "    boilerplate = ['  ','https','http','www', '’s', '―', '/', 'playback', 'get', 'mr', 'mrs', 'ms', 'dr', 'prof', 'news', 'report', 'unsubscribe', 'they', 'must', 'share', 'that', 'view', 'hide', 'copy', 'something', 'enlarge', 'reprint', 'read', '_', 'videos', 'autoplay', 'watched', 'press', '’ve', 'toggle', 'around', 'the', 's.', 'said', 'here©', 'ad', '#', 'andhis', 'click', 'r', 'device', 'contributed', 'advertisement', 'the washington', '&', 'follow', 'copyright', 'mrs.', 'photo', 'to', 'also', 'times', 'for', 'however', 'fox', 'this', 'copyright ©', 'ofs', 'just', 'wait', 'n’t', 'told', 'unsupported', 'i', 'caption', 'ms.', '’m', 'paste', '’re', 'replay', 'photos', 'mr.', '©', 'skip', 'watch', '2018', 'cut', 'llc', 'more', 'post', 'embed', 'blog', 'b.', 'associated', 'permission']\n",
        "    stop_list = set(stopwords + boilerplate + letters+stopwords2)\n",
        "    \n",
        "    translation_table = dict.fromkeys(map(ord, banned), ' ')\n",
        "    text = text.translate(translation_table)\n",
        "    text = re.sub(' +',' ',text)\n",
        "    text = ' '.join([word for word in text.split() if word not in stop_list])\n",
        "    return text\n",
        "  "
      ],
      "metadata": {
        "id": "vh_SUMSghj5O"
      },
      "execution_count": 239,
      "outputs": []
    },
    {
      "cell_type": "code",
      "source": [
        "cleantext=[]\n",
        "for i in range(0,len(df)):\n",
        "  x=text_prepare(df['content'][i])\n",
        "  cleantext.append(x)\n",
        "df['clean_content']=cleantext"
      ],
      "metadata": {
        "id": "-Hzis7Gp8yG_"
      },
      "execution_count": 240,
      "outputs": []
    },
    {
      "cell_type": "code",
      "source": [
        "df.head()"
      ],
      "metadata": {
        "colab": {
          "base_uri": "https://localhost:8080/",
          "height": 424
        },
        "id": "GqG1nbzI9DT9",
        "outputId": "0828fcaa-5183-44d1-c52c-548b06897f25"
      },
      "execution_count": 241,
      "outputs": [
        {
          "output_type": "execute_result",
          "data": {
            "text/html": [
              "\n",
              "  <div id=\"df-49efc90b-3c70-4372-b536-006029bdb6c5\">\n",
              "    <div class=\"colab-df-container\">\n",
              "      <div>\n",
              "<style scoped>\n",
              "    .dataframe tbody tr th:only-of-type {\n",
              "        vertical-align: middle;\n",
              "    }\n",
              "\n",
              "    .dataframe tbody tr th {\n",
              "        vertical-align: top;\n",
              "    }\n",
              "\n",
              "    .dataframe thead th {\n",
              "        text-align: right;\n",
              "    }\n",
              "</style>\n",
              "<table border=\"1\" class=\"dataframe\">\n",
              "  <thead>\n",
              "    <tr style=\"text-align: right;\">\n",
              "      <th></th>\n",
              "      <th>source</th>\n",
              "      <th>author</th>\n",
              "      <th>title</th>\n",
              "      <th>description</th>\n",
              "      <th>url</th>\n",
              "      <th>urlToImage</th>\n",
              "      <th>publishedAt</th>\n",
              "      <th>content</th>\n",
              "      <th>source_name</th>\n",
              "      <th>bias</th>\n",
              "      <th>clean_content</th>\n",
              "    </tr>\n",
              "  </thead>\n",
              "  <tbody>\n",
              "    <tr>\n",
              "      <th>0</th>\n",
              "      <td>{'id': 'fox-news', 'name': 'Fox News'}</td>\n",
              "      <td>Nikolas Lanum</td>\n",
              "      <td>NPR labels first Asian-American Boston mayor a...</td>\n",
              "      <td>NPR took heat Tuesday after its report that As...</td>\n",
              "      <td>https://www.foxnews.com/media/npr-slammed-disa...</td>\n",
              "      <td>https://static.foxnews.com/foxnews.com/content...</td>\n",
              "      <td>2021-11-16T20:04:38Z</td>\n",
              "      <td>NPR took heat Tuesday after its report that As...</td>\n",
              "      <td>Fox News</td>\n",
              "      <td>1</td>\n",
              "      <td>npr took heat tuesday asian american michelle ...</td>\n",
              "    </tr>\n",
              "    <tr>\n",
              "      <th>1</th>\n",
              "      <td>{'id': 'fox-news', 'name': 'Fox News'}</td>\n",
              "      <td>Brooke Singman</td>\n",
              "      <td>Trump slams Biden's 'surrender' of Afghanistan...</td>\n",
              "      <td>&lt;ol&gt;&lt;li&gt;Trump slams Biden's 'surrender' of Afg...</td>\n",
              "      <td>https://www.foxnews.com/politics/trump-slams-b...</td>\n",
              "      <td>https://cf-images.us-east-1.prod.boltdns.net/v...</td>\n",
              "      <td>2021-11-07T12:11:33Z</td>\n",
              "      <td>EXCLUSIVE: Former President Donald Trump slamm...</td>\n",
              "      <td>Fox News</td>\n",
              "      <td>1</td>\n",
              "      <td>exclusive former president donald trump slamme...</td>\n",
              "    </tr>\n",
              "    <tr>\n",
              "      <th>2</th>\n",
              "      <td>{'id': 'fox-news', 'name': 'Fox News'}</td>\n",
              "      <td>Paul Steinhauser</td>\n",
              "      <td>DeSantis, at major Republican gathering, vows ...</td>\n",
              "      <td>&lt;ol&gt;&lt;li&gt;DeSantis, at major Republican gatherin...</td>\n",
              "      <td>https://www.foxnews.com/politics/desantis-at-m...</td>\n",
              "      <td>https://static.foxnews.com/foxnews.com/content...</td>\n",
              "      <td>2021-11-06T22:08:57Z</td>\n",
              "      <td>LAS VEGAS Republican Gov. Ron DeSantis of Flor...</td>\n",
              "      <td>Fox News</td>\n",
              "      <td>1</td>\n",
              "      <td>las vegas republican gov ron desantis florida ...</td>\n",
              "    </tr>\n",
              "    <tr>\n",
              "      <th>3</th>\n",
              "      <td>{'id': 'fox-news', 'name': 'Fox News'}</td>\n",
              "      <td>Houston Keene</td>\n",
              "      <td>Democratic California Rep. Jackie Speier will ...</td>\n",
              "      <td>&lt;ol&gt;&lt;li&gt;Democratic California Rep. Jackie Spei...</td>\n",
              "      <td>https://www.foxnews.com/politics/democratic-ca...</td>\n",
              "      <td>https://static.foxnews.com/foxnews.com/content...</td>\n",
              "      <td>2021-11-16T14:40:08Z</td>\n",
              "      <td>Democratic California Rep. Jackie Speier said ...</td>\n",
              "      <td>Fox News</td>\n",
              "      <td>1</td>\n",
              "      <td>democratic california rep jackie speier tuesda...</td>\n",
              "    </tr>\n",
              "    <tr>\n",
              "      <th>4</th>\n",
              "      <td>{'id': 'fox-news', 'name': 'Fox News'}</td>\n",
              "      <td>Michael Lee</td>\n",
              "      <td>Unlikely GOP NJ Senate winner confident electi...</td>\n",
              "      <td>&lt;ol&gt;&lt;li&gt;Unlikely GOP NJ Senate winner confiden...</td>\n",
              "      <td>https://www.foxnews.com/politics/unlikely-nj-g...</td>\n",
              "      <td>https://static.foxnews.com/foxnews.com/content...</td>\n",
              "      <td>2021-11-10T00:04:58Z</td>\n",
              "      <td>Republican New Jersey\\r\\n Senate candidate Edw...</td>\n",
              "      <td>Fox News</td>\n",
              "      <td>1</td>\n",
              "      <td>republican new jersey senate candidate edward ...</td>\n",
              "    </tr>\n",
              "  </tbody>\n",
              "</table>\n",
              "</div>\n",
              "      <button class=\"colab-df-convert\" onclick=\"convertToInteractive('df-49efc90b-3c70-4372-b536-006029bdb6c5')\"\n",
              "              title=\"Convert this dataframe to an interactive table.\"\n",
              "              style=\"display:none;\">\n",
              "        \n",
              "  <svg xmlns=\"http://www.w3.org/2000/svg\" height=\"24px\"viewBox=\"0 0 24 24\"\n",
              "       width=\"24px\">\n",
              "    <path d=\"M0 0h24v24H0V0z\" fill=\"none\"/>\n",
              "    <path d=\"M18.56 5.44l.94 2.06.94-2.06 2.06-.94-2.06-.94-.94-2.06-.94 2.06-2.06.94zm-11 1L8.5 8.5l.94-2.06 2.06-.94-2.06-.94L8.5 2.5l-.94 2.06-2.06.94zm10 10l.94 2.06.94-2.06 2.06-.94-2.06-.94-.94-2.06-.94 2.06-2.06.94z\"/><path d=\"M17.41 7.96l-1.37-1.37c-.4-.4-.92-.59-1.43-.59-.52 0-1.04.2-1.43.59L10.3 9.45l-7.72 7.72c-.78.78-.78 2.05 0 2.83L4 21.41c.39.39.9.59 1.41.59.51 0 1.02-.2 1.41-.59l7.78-7.78 2.81-2.81c.8-.78.8-2.07 0-2.86zM5.41 20L4 18.59l7.72-7.72 1.47 1.35L5.41 20z\"/>\n",
              "  </svg>\n",
              "      </button>\n",
              "      \n",
              "  <style>\n",
              "    .colab-df-container {\n",
              "      display:flex;\n",
              "      flex-wrap:wrap;\n",
              "      gap: 12px;\n",
              "    }\n",
              "\n",
              "    .colab-df-convert {\n",
              "      background-color: #E8F0FE;\n",
              "      border: none;\n",
              "      border-radius: 50%;\n",
              "      cursor: pointer;\n",
              "      display: none;\n",
              "      fill: #1967D2;\n",
              "      height: 32px;\n",
              "      padding: 0 0 0 0;\n",
              "      width: 32px;\n",
              "    }\n",
              "\n",
              "    .colab-df-convert:hover {\n",
              "      background-color: #E2EBFA;\n",
              "      box-shadow: 0px 1px 2px rgba(60, 64, 67, 0.3), 0px 1px 3px 1px rgba(60, 64, 67, 0.15);\n",
              "      fill: #174EA6;\n",
              "    }\n",
              "\n",
              "    [theme=dark] .colab-df-convert {\n",
              "      background-color: #3B4455;\n",
              "      fill: #D2E3FC;\n",
              "    }\n",
              "\n",
              "    [theme=dark] .colab-df-convert:hover {\n",
              "      background-color: #434B5C;\n",
              "      box-shadow: 0px 1px 3px 1px rgba(0, 0, 0, 0.15);\n",
              "      filter: drop-shadow(0px 1px 2px rgba(0, 0, 0, 0.3));\n",
              "      fill: #FFFFFF;\n",
              "    }\n",
              "  </style>\n",
              "\n",
              "      <script>\n",
              "        const buttonEl =\n",
              "          document.querySelector('#df-49efc90b-3c70-4372-b536-006029bdb6c5 button.colab-df-convert');\n",
              "        buttonEl.style.display =\n",
              "          google.colab.kernel.accessAllowed ? 'block' : 'none';\n",
              "\n",
              "        async function convertToInteractive(key) {\n",
              "          const element = document.querySelector('#df-49efc90b-3c70-4372-b536-006029bdb6c5');\n",
              "          const dataTable =\n",
              "            await google.colab.kernel.invokeFunction('convertToInteractive',\n",
              "                                                     [key], {});\n",
              "          if (!dataTable) return;\n",
              "\n",
              "          const docLinkHtml = 'Like what you see? Visit the ' +\n",
              "            '<a target=\"_blank\" href=https://colab.research.google.com/notebooks/data_table.ipynb>data table notebook</a>'\n",
              "            + ' to learn more about interactive tables.';\n",
              "          element.innerHTML = '';\n",
              "          dataTable['output_type'] = 'display_data';\n",
              "          await google.colab.output.renderOutput(dataTable, element);\n",
              "          const docLink = document.createElement('div');\n",
              "          docLink.innerHTML = docLinkHtml;\n",
              "          element.appendChild(docLink);\n",
              "        }\n",
              "      </script>\n",
              "    </div>\n",
              "  </div>\n",
              "  "
            ],
            "text/plain": [
              "                                   source            author  \\\n",
              "0  {'id': 'fox-news', 'name': 'Fox News'}     Nikolas Lanum   \n",
              "1  {'id': 'fox-news', 'name': 'Fox News'}    Brooke Singman   \n",
              "2  {'id': 'fox-news', 'name': 'Fox News'}  Paul Steinhauser   \n",
              "3  {'id': 'fox-news', 'name': 'Fox News'}     Houston Keene   \n",
              "4  {'id': 'fox-news', 'name': 'Fox News'}       Michael Lee   \n",
              "\n",
              "                                               title  \\\n",
              "0  NPR labels first Asian-American Boston mayor a...   \n",
              "1  Trump slams Biden's 'surrender' of Afghanistan...   \n",
              "2  DeSantis, at major Republican gathering, vows ...   \n",
              "3  Democratic California Rep. Jackie Speier will ...   \n",
              "4  Unlikely GOP NJ Senate winner confident electi...   \n",
              "\n",
              "                                         description  \\\n",
              "0  NPR took heat Tuesday after its report that As...   \n",
              "1  <ol><li>Trump slams Biden's 'surrender' of Afg...   \n",
              "2  <ol><li>DeSantis, at major Republican gatherin...   \n",
              "3  <ol><li>Democratic California Rep. Jackie Spei...   \n",
              "4  <ol><li>Unlikely GOP NJ Senate winner confiden...   \n",
              "\n",
              "                                                 url  \\\n",
              "0  https://www.foxnews.com/media/npr-slammed-disa...   \n",
              "1  https://www.foxnews.com/politics/trump-slams-b...   \n",
              "2  https://www.foxnews.com/politics/desantis-at-m...   \n",
              "3  https://www.foxnews.com/politics/democratic-ca...   \n",
              "4  https://www.foxnews.com/politics/unlikely-nj-g...   \n",
              "\n",
              "                                          urlToImage           publishedAt  \\\n",
              "0  https://static.foxnews.com/foxnews.com/content...  2021-11-16T20:04:38Z   \n",
              "1  https://cf-images.us-east-1.prod.boltdns.net/v...  2021-11-07T12:11:33Z   \n",
              "2  https://static.foxnews.com/foxnews.com/content...  2021-11-06T22:08:57Z   \n",
              "3  https://static.foxnews.com/foxnews.com/content...  2021-11-16T14:40:08Z   \n",
              "4  https://static.foxnews.com/foxnews.com/content...  2021-11-10T00:04:58Z   \n",
              "\n",
              "                                             content source_name  bias  \\\n",
              "0  NPR took heat Tuesday after its report that As...    Fox News     1   \n",
              "1  EXCLUSIVE: Former President Donald Trump slamm...    Fox News     1   \n",
              "2  LAS VEGAS Republican Gov. Ron DeSantis of Flor...    Fox News     1   \n",
              "3  Democratic California Rep. Jackie Speier said ...    Fox News     1   \n",
              "4  Republican New Jersey\\r\\n Senate candidate Edw...    Fox News     1   \n",
              "\n",
              "                                       clean_content  \n",
              "0  npr took heat tuesday asian american michelle ...  \n",
              "1  exclusive former president donald trump slamme...  \n",
              "2  las vegas republican gov ron desantis florida ...  \n",
              "3  democratic california rep jackie speier tuesda...  \n",
              "4  republican new jersey senate candidate edward ...  "
            ]
          },
          "metadata": {},
          "execution_count": 241
        }
      ]
    },
    {
      "cell_type": "code",
      "source": [
        ""
      ],
      "metadata": {
        "id": "1IoNYsi19-v-"
      },
      "execution_count": null,
      "outputs": []
    },
    {
      "cell_type": "code",
      "source": [
        ""
      ],
      "metadata": {
        "id": "13WxXQU3hShl"
      },
      "execution_count": 242,
      "outputs": []
    },
    {
      "cell_type": "code",
      "source": [
        ""
      ],
      "metadata": {
        "colab": {
          "base_uri": "https://localhost:8080/"
        },
        "id": "htrAVPjF-QAv",
        "outputId": "8b32e839-e273-4f13-de09-7fe8c5515f31"
      },
      "execution_count": 226,
      "outputs": [
        {
          "output_type": "stream",
          "name": "stdout",
          "text": [
            "[nltk_data] Downloading package stopwords to /root/nltk_data...\n",
            "[nltk_data]   Package stopwords is already up-to-date!\n"
          ]
        },
        {
          "output_type": "execute_result",
          "data": {
            "text/plain": [
              "True"
            ]
          },
          "metadata": {},
          "execution_count": 226
        }
      ]
    },
    {
      "cell_type": "code",
      "source": [
        ""
      ],
      "metadata": {
        "id": "7jFRZbqfBrHx"
      },
      "execution_count": null,
      "outputs": []
    }
  ]
}