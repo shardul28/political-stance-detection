{
  "nbformat": 4,
  "nbformat_minor": 0,
  "metadata": {
    "colab": {
      "name": "getting data.ipynb",
      "provenance": [],
      "toc_visible": true,
      "authorship_tag": "ABX9TyNyIUSDw47iEzf7ULw16Xar",
      "include_colab_link": true
    },
    "kernelspec": {
      "name": "python3",
      "display_name": "Python 3"
    },
    "language_info": {
      "name": "python"
    }
  },
  "cells": [
    {
      "cell_type": "markdown",
      "metadata": {
        "id": "view-in-github",
        "colab_type": "text"
      },
      "source": [
        "<a href=\"https://colab.research.google.com/github/shardul28/political-stance-detection/blob/Mscproject/getting_data_XIX.ipynb\" target=\"_parent\"><img src=\"https://colab.research.google.com/assets/colab-badge.svg\" alt=\"Open In Colab\"/></a>"
      ]
    },
    {
      "cell_type": "markdown",
      "source": [
        ""
      ],
      "metadata": {
        "id": "w5OjDLKBMAf2"
      }
    },
    {
      "cell_type": "markdown",
      "source": [
        "# Imports"
      ],
      "metadata": {
        "id": "i-TN0VVvMA-K"
      }
    },
    {
      "cell_type": "code",
      "source": [
        "!pip install mit-news-classify\n"
      ],
      "metadata": {
        "colab": {
          "base_uri": "https://localhost:8080/"
        },
        "id": "EOg_7LK-L8De",
        "outputId": "7fd2147e-47eb-492c-9efb-93b4c5d47c1b"
      },
      "execution_count": 105,
      "outputs": [
        {
          "output_type": "stream",
          "name": "stdout",
          "text": [
            "Requirement already satisfied: mit-news-classify in /usr/local/lib/python3.7/dist-packages (0.10.1.3)\n",
            "Requirement already satisfied: tqdm in /usr/local/lib/python3.7/dist-packages (from mit-news-classify) (4.63.0)\n",
            "Requirement already satisfied: tensorflow>=2.1 in /usr/local/lib/python3.7/dist-packages (from mit-news-classify) (2.8.0)\n",
            "Requirement already satisfied: sklearn in /usr/local/lib/python3.7/dist-packages (from mit-news-classify) (0.0)\n",
            "Requirement already satisfied: transformers in /usr/local/lib/python3.7/dist-packages (from mit-news-classify) (4.18.0)\n",
            "Requirement already satisfied: torch in /usr/local/lib/python3.7/dist-packages (from mit-news-classify) (1.10.0+cu111)\n",
            "Requirement already satisfied: gensim==3.8.3 in /usr/local/lib/python3.7/dist-packages (from mit-news-classify) (3.8.3)\n",
            "Requirement already satisfied: numpy in /usr/local/lib/python3.7/dist-packages (from mit-news-classify) (1.21.5)\n",
            "Requirement already satisfied: six>=1.5.0 in /usr/local/lib/python3.7/dist-packages (from gensim==3.8.3->mit-news-classify) (1.15.0)\n",
            "Requirement already satisfied: smart-open>=1.8.1 in /usr/local/lib/python3.7/dist-packages (from gensim==3.8.3->mit-news-classify) (5.2.1)\n",
            "Requirement already satisfied: scipy>=0.18.1 in /usr/local/lib/python3.7/dist-packages (from gensim==3.8.3->mit-news-classify) (1.4.1)\n",
            "Requirement already satisfied: astunparse>=1.6.0 in /usr/local/lib/python3.7/dist-packages (from tensorflow>=2.1->mit-news-classify) (1.6.3)\n",
            "Requirement already satisfied: flatbuffers>=1.12 in /usr/local/lib/python3.7/dist-packages (from tensorflow>=2.1->mit-news-classify) (2.0)\n",
            "Requirement already satisfied: absl-py>=0.4.0 in /usr/local/lib/python3.7/dist-packages (from tensorflow>=2.1->mit-news-classify) (1.0.0)\n",
            "Requirement already satisfied: keras-preprocessing>=1.1.1 in /usr/local/lib/python3.7/dist-packages (from tensorflow>=2.1->mit-news-classify) (1.1.2)\n",
            "Requirement already satisfied: opt-einsum>=2.3.2 in /usr/local/lib/python3.7/dist-packages (from tensorflow>=2.1->mit-news-classify) (3.3.0)\n",
            "Requirement already satisfied: tf-estimator-nightly==2.8.0.dev2021122109 in /usr/local/lib/python3.7/dist-packages (from tensorflow>=2.1->mit-news-classify) (2.8.0.dev2021122109)\n",
            "Requirement already satisfied: libclang>=9.0.1 in /usr/local/lib/python3.7/dist-packages (from tensorflow>=2.1->mit-news-classify) (13.0.0)\n",
            "Requirement already satisfied: protobuf>=3.9.2 in /usr/local/lib/python3.7/dist-packages (from tensorflow>=2.1->mit-news-classify) (3.17.3)\n",
            "Requirement already satisfied: tensorboard<2.9,>=2.8 in /usr/local/lib/python3.7/dist-packages (from tensorflow>=2.1->mit-news-classify) (2.8.0)\n",
            "Requirement already satisfied: h5py>=2.9.0 in /usr/local/lib/python3.7/dist-packages (from tensorflow>=2.1->mit-news-classify) (3.1.0)\n",
            "Requirement already satisfied: setuptools in /usr/local/lib/python3.7/dist-packages (from tensorflow>=2.1->mit-news-classify) (57.4.0)\n",
            "Requirement already satisfied: google-pasta>=0.1.1 in /usr/local/lib/python3.7/dist-packages (from tensorflow>=2.1->mit-news-classify) (0.2.0)\n",
            "Requirement already satisfied: tensorflow-io-gcs-filesystem>=0.23.1 in /usr/local/lib/python3.7/dist-packages (from tensorflow>=2.1->mit-news-classify) (0.24.0)\n",
            "Requirement already satisfied: grpcio<2.0,>=1.24.3 in /usr/local/lib/python3.7/dist-packages (from tensorflow>=2.1->mit-news-classify) (1.44.0)\n",
            "Requirement already satisfied: wrapt>=1.11.0 in /usr/local/lib/python3.7/dist-packages (from tensorflow>=2.1->mit-news-classify) (1.14.0)\n",
            "Requirement already satisfied: keras<2.9,>=2.8.0rc0 in /usr/local/lib/python3.7/dist-packages (from tensorflow>=2.1->mit-news-classify) (2.8.0)\n",
            "Requirement already satisfied: termcolor>=1.1.0 in /usr/local/lib/python3.7/dist-packages (from tensorflow>=2.1->mit-news-classify) (1.1.0)\n",
            "Requirement already satisfied: gast>=0.2.1 in /usr/local/lib/python3.7/dist-packages (from tensorflow>=2.1->mit-news-classify) (0.5.3)\n",
            "Requirement already satisfied: typing-extensions>=3.6.6 in /usr/local/lib/python3.7/dist-packages (from tensorflow>=2.1->mit-news-classify) (3.10.0.2)\n",
            "Requirement already satisfied: wheel<1.0,>=0.23.0 in /usr/local/lib/python3.7/dist-packages (from astunparse>=1.6.0->tensorflow>=2.1->mit-news-classify) (0.37.1)\n",
            "Requirement already satisfied: cached-property in /usr/local/lib/python3.7/dist-packages (from h5py>=2.9.0->tensorflow>=2.1->mit-news-classify) (1.5.2)\n",
            "Requirement already satisfied: requests<3,>=2.21.0 in /usr/local/lib/python3.7/dist-packages (from tensorboard<2.9,>=2.8->tensorflow>=2.1->mit-news-classify) (2.23.0)\n",
            "Requirement already satisfied: werkzeug>=0.11.15 in /usr/local/lib/python3.7/dist-packages (from tensorboard<2.9,>=2.8->tensorflow>=2.1->mit-news-classify) (1.0.1)\n",
            "Requirement already satisfied: google-auth-oauthlib<0.5,>=0.4.1 in /usr/local/lib/python3.7/dist-packages (from tensorboard<2.9,>=2.8->tensorflow>=2.1->mit-news-classify) (0.4.6)\n",
            "Requirement already satisfied: tensorboard-data-server<0.7.0,>=0.6.0 in /usr/local/lib/python3.7/dist-packages (from tensorboard<2.9,>=2.8->tensorflow>=2.1->mit-news-classify) (0.6.1)\n",
            "Requirement already satisfied: tensorboard-plugin-wit>=1.6.0 in /usr/local/lib/python3.7/dist-packages (from tensorboard<2.9,>=2.8->tensorflow>=2.1->mit-news-classify) (1.8.1)\n",
            "Requirement already satisfied: markdown>=2.6.8 in /usr/local/lib/python3.7/dist-packages (from tensorboard<2.9,>=2.8->tensorflow>=2.1->mit-news-classify) (3.3.6)\n",
            "Requirement already satisfied: google-auth<3,>=1.6.3 in /usr/local/lib/python3.7/dist-packages (from tensorboard<2.9,>=2.8->tensorflow>=2.1->mit-news-classify) (1.35.0)\n",
            "Requirement already satisfied: pyasn1-modules>=0.2.1 in /usr/local/lib/python3.7/dist-packages (from google-auth<3,>=1.6.3->tensorboard<2.9,>=2.8->tensorflow>=2.1->mit-news-classify) (0.2.8)\n",
            "Requirement already satisfied: rsa<5,>=3.1.4 in /usr/local/lib/python3.7/dist-packages (from google-auth<3,>=1.6.3->tensorboard<2.9,>=2.8->tensorflow>=2.1->mit-news-classify) (4.8)\n",
            "Requirement already satisfied: cachetools<5.0,>=2.0.0 in /usr/local/lib/python3.7/dist-packages (from google-auth<3,>=1.6.3->tensorboard<2.9,>=2.8->tensorflow>=2.1->mit-news-classify) (4.2.4)\n",
            "Requirement already satisfied: requests-oauthlib>=0.7.0 in /usr/local/lib/python3.7/dist-packages (from google-auth-oauthlib<0.5,>=0.4.1->tensorboard<2.9,>=2.8->tensorflow>=2.1->mit-news-classify) (1.3.1)\n",
            "Requirement already satisfied: importlib-metadata>=4.4 in /usr/local/lib/python3.7/dist-packages (from markdown>=2.6.8->tensorboard<2.9,>=2.8->tensorflow>=2.1->mit-news-classify) (4.11.3)\n",
            "Requirement already satisfied: zipp>=0.5 in /usr/local/lib/python3.7/dist-packages (from importlib-metadata>=4.4->markdown>=2.6.8->tensorboard<2.9,>=2.8->tensorflow>=2.1->mit-news-classify) (3.7.0)\n",
            "Requirement already satisfied: pyasn1<0.5.0,>=0.4.6 in /usr/local/lib/python3.7/dist-packages (from pyasn1-modules>=0.2.1->google-auth<3,>=1.6.3->tensorboard<2.9,>=2.8->tensorflow>=2.1->mit-news-classify) (0.4.8)\n",
            "Requirement already satisfied: certifi>=2017.4.17 in /usr/local/lib/python3.7/dist-packages (from requests<3,>=2.21.0->tensorboard<2.9,>=2.8->tensorflow>=2.1->mit-news-classify) (2021.10.8)\n",
            "Requirement already satisfied: chardet<4,>=3.0.2 in /usr/local/lib/python3.7/dist-packages (from requests<3,>=2.21.0->tensorboard<2.9,>=2.8->tensorflow>=2.1->mit-news-classify) (3.0.4)\n",
            "Requirement already satisfied: urllib3!=1.25.0,!=1.25.1,<1.26,>=1.21.1 in /usr/local/lib/python3.7/dist-packages (from requests<3,>=2.21.0->tensorboard<2.9,>=2.8->tensorflow>=2.1->mit-news-classify) (1.24.3)\n",
            "Requirement already satisfied: idna<3,>=2.5 in /usr/local/lib/python3.7/dist-packages (from requests<3,>=2.21.0->tensorboard<2.9,>=2.8->tensorflow>=2.1->mit-news-classify) (2.10)\n",
            "Requirement already satisfied: oauthlib>=3.0.0 in /usr/local/lib/python3.7/dist-packages (from requests-oauthlib>=0.7.0->google-auth-oauthlib<0.5,>=0.4.1->tensorboard<2.9,>=2.8->tensorflow>=2.1->mit-news-classify) (3.2.0)\n",
            "Requirement already satisfied: scikit-learn in /usr/local/lib/python3.7/dist-packages (from sklearn->mit-news-classify) (1.0.2)\n",
            "Requirement already satisfied: joblib>=0.11 in /usr/local/lib/python3.7/dist-packages (from scikit-learn->sklearn->mit-news-classify) (1.1.0)\n",
            "Requirement already satisfied: threadpoolctl>=2.0.0 in /usr/local/lib/python3.7/dist-packages (from scikit-learn->sklearn->mit-news-classify) (3.1.0)\n",
            "Requirement already satisfied: filelock in /usr/local/lib/python3.7/dist-packages (from transformers->mit-news-classify) (3.6.0)\n",
            "Requirement already satisfied: regex!=2019.12.17 in /usr/local/lib/python3.7/dist-packages (from transformers->mit-news-classify) (2019.12.20)\n",
            "Requirement already satisfied: pyyaml>=5.1 in /usr/local/lib/python3.7/dist-packages (from transformers->mit-news-classify) (6.0)\n",
            "Requirement already satisfied: sacremoses in /usr/local/lib/python3.7/dist-packages (from transformers->mit-news-classify) (0.0.49)\n",
            "Requirement already satisfied: huggingface-hub<1.0,>=0.1.0 in /usr/local/lib/python3.7/dist-packages (from transformers->mit-news-classify) (0.5.1)\n",
            "Requirement already satisfied: tokenizers!=0.11.3,<0.13,>=0.11.1 in /usr/local/lib/python3.7/dist-packages (from transformers->mit-news-classify) (0.11.6)\n",
            "Requirement already satisfied: packaging>=20.0 in /usr/local/lib/python3.7/dist-packages (from transformers->mit-news-classify) (21.3)\n",
            "Requirement already satisfied: pyparsing!=3.0.5,>=2.0.2 in /usr/local/lib/python3.7/dist-packages (from packaging>=20.0->transformers->mit-news-classify) (3.0.7)\n",
            "Requirement already satisfied: click in /usr/local/lib/python3.7/dist-packages (from sacremoses->transformers->mit-news-classify) (7.1.2)\n"
          ]
        }
      ]
    },
    {
      "cell_type": "code",
      "source": [
        "import pandas as pd\n",
        "import numpy as np\n",
        "import tensorflow as tf\n",
        "from tensorflow import keras\n",
        "from tensorflow.keras import layers\n",
        "from tensorflow.keras.models import Sequential\n",
        "from tensorflow.keras.layers import Dense, Dropout, Embedding\n",
        "from tensorflow.keras.optimizers import Adam\n",
        "import pickle\n",
        "from mitnewsclassify import tfidf as mitx"
      ],
      "metadata": {
        "id": "BsMsKhNBBJCl"
      },
      "execution_count": 136,
      "outputs": []
    },
    {
      "cell_type": "code",
      "source": [
        "from google.colab import drive\n",
        "drive.mount('/content/drive')"
      ],
      "metadata": {
        "colab": {
          "base_uri": "https://localhost:8080/"
        },
        "id": "gC_JSPXdAyp1",
        "outputId": "e696eb04-5b52-4f5a-bfd8-1ed85bccb146"
      },
      "execution_count": 137,
      "outputs": [
        {
          "output_type": "stream",
          "name": "stdout",
          "text": [
            "Drive already mounted at /content/drive; to attempt to forcibly remount, call drive.mount(\"/content/drive\", force_remount=True).\n"
          ]
        }
      ]
    },
    {
      "cell_type": "code",
      "execution_count": 138,
      "metadata": {
        "colab": {
          "base_uri": "https://localhost:8080/"
        },
        "id": "PYF67UFaAwFU",
        "outputId": "2050f65b-94c7-4c1d-c83d-cecca18c5bbc"
      },
      "outputs": [
        {
          "output_type": "stream",
          "name": "stdout",
          "text": [
            "/content/drive/MyDrive/project_data\n"
          ]
        }
      ],
      "source": [
        "cd /content/drive/MyDrive/project_data"
      ]
    },
    {
      "cell_type": "markdown",
      "source": [
        "# Fetching Data from Drive"
      ],
      "metadata": {
        "id": "9QERr9YdMKUQ"
      }
    },
    {
      "cell_type": "code",
      "source": [
        "infile = open('ndtv_data.pkl','rb')\n",
        "ndtv_df = pickle.load(infile)"
      ],
      "metadata": {
        "id": "f-QA9QyyA-4i"
      },
      "execution_count": 139,
      "outputs": []
    },
    {
      "cell_type": "code",
      "source": [
        "ndtv_df.head()"
      ],
      "metadata": {
        "colab": {
          "base_uri": "https://localhost:8080/",
          "height": 354
        },
        "id": "hHPP1nKHBkd0",
        "outputId": "22344a7f-a66f-4945-81d2-d47c1dd63e60"
      },
      "execution_count": 140,
      "outputs": [
        {
          "output_type": "execute_result",
          "data": {
            "text/plain": [
              "                                                text  \\\n",
              "0  Army Officer, 4 Others Killed In Encounter In ...   \n",
              "1  #AryanKhan Case: No Bail For Him Today, Next H...   \n",
              "2  RT @ndtvfeed: Ex-National Conference Leaders D...   \n",
              "3  RT @ndtvfeed: US Has Lost AI Battle To China, ...   \n",
              "4  RT @ndtvfeed: A Look At Inspiring Messages On ...   \n",
              "\n",
              "                                                 url  \\\n",
              "0  https://www.ndtv.com/india-news/army-officer-4...   \n",
              "1  https://ndtv.com/india-news/mumbai-drug-bust-c...   \n",
              "2  https://www.ndtv.com/india-news/after-resignin...   \n",
              "3  https://www.ndtv.com/world-news/us-has-lost-ar...   \n",
              "4  https://www.ndtv.com/india-news/on-internation...   \n",
              "\n",
              "                                               title  \\\n",
              "0  Army Officer, 4 Personnel Killed In Encounter ...   \n",
              "1  Aryan Khan Case: No Bail For Him Today, Next H...   \n",
              "2  Ex-National Conference Leaders Devender Rana, ...   \n",
              "3  US Has Lost AI Battle To China, Pentagon's Ex-...   \n",
              "4  International Day Of The Girl Child 2021: Lead...   \n",
              "\n",
              "                                             content  left 0 right 1  \\\n",
              "0  an army officer and four other personnel were ...             NaN   \n",
              "1  aryan khan did not get bail today for the thir...             NaN   \n",
              "2  a day after resigning from the national confer...             1.0   \n",
              "3  china has won the artificial intelligence batt...             0.0   \n",
              "4  various world leaders and un agencies posted w...             NaN   \n",
              "\n",
              "   retweet_count  favorite_count source_name  source  \n",
              "0              9              63        ndtv       0  \n",
              "1              5              44        ndtv       0  \n",
              "2              2               0        ndtv       0  \n",
              "3              5               0        ndtv       0  \n",
              "4              3               0        ndtv       0  "
            ],
            "text/html": [
              "\n",
              "  <div id=\"df-69430cc6-2155-403c-8ad3-47dc846a2f48\">\n",
              "    <div class=\"colab-df-container\">\n",
              "      <div>\n",
              "<style scoped>\n",
              "    .dataframe tbody tr th:only-of-type {\n",
              "        vertical-align: middle;\n",
              "    }\n",
              "\n",
              "    .dataframe tbody tr th {\n",
              "        vertical-align: top;\n",
              "    }\n",
              "\n",
              "    .dataframe thead th {\n",
              "        text-align: right;\n",
              "    }\n",
              "</style>\n",
              "<table border=\"1\" class=\"dataframe\">\n",
              "  <thead>\n",
              "    <tr style=\"text-align: right;\">\n",
              "      <th></th>\n",
              "      <th>text</th>\n",
              "      <th>url</th>\n",
              "      <th>title</th>\n",
              "      <th>content</th>\n",
              "      <th>left 0 right 1</th>\n",
              "      <th>retweet_count</th>\n",
              "      <th>favorite_count</th>\n",
              "      <th>source_name</th>\n",
              "      <th>source</th>\n",
              "    </tr>\n",
              "  </thead>\n",
              "  <tbody>\n",
              "    <tr>\n",
              "      <th>0</th>\n",
              "      <td>Army Officer, 4 Others Killed In Encounter In ...</td>\n",
              "      <td>https://www.ndtv.com/india-news/army-officer-4...</td>\n",
              "      <td>Army Officer, 4 Personnel Killed In Encounter ...</td>\n",
              "      <td>an army officer and four other personnel were ...</td>\n",
              "      <td>NaN</td>\n",
              "      <td>9</td>\n",
              "      <td>63</td>\n",
              "      <td>ndtv</td>\n",
              "      <td>0</td>\n",
              "    </tr>\n",
              "    <tr>\n",
              "      <th>1</th>\n",
              "      <td>#AryanKhan Case: No Bail For Him Today, Next H...</td>\n",
              "      <td>https://ndtv.com/india-news/mumbai-drug-bust-c...</td>\n",
              "      <td>Aryan Khan Case: No Bail For Him Today, Next H...</td>\n",
              "      <td>aryan khan did not get bail today for the thir...</td>\n",
              "      <td>NaN</td>\n",
              "      <td>5</td>\n",
              "      <td>44</td>\n",
              "      <td>ndtv</td>\n",
              "      <td>0</td>\n",
              "    </tr>\n",
              "    <tr>\n",
              "      <th>2</th>\n",
              "      <td>RT @ndtvfeed: Ex-National Conference Leaders D...</td>\n",
              "      <td>https://www.ndtv.com/india-news/after-resignin...</td>\n",
              "      <td>Ex-National Conference Leaders Devender Rana, ...</td>\n",
              "      <td>a day after resigning from the national confer...</td>\n",
              "      <td>1.0</td>\n",
              "      <td>2</td>\n",
              "      <td>0</td>\n",
              "      <td>ndtv</td>\n",
              "      <td>0</td>\n",
              "    </tr>\n",
              "    <tr>\n",
              "      <th>3</th>\n",
              "      <td>RT @ndtvfeed: US Has Lost AI Battle To China, ...</td>\n",
              "      <td>https://www.ndtv.com/world-news/us-has-lost-ar...</td>\n",
              "      <td>US Has Lost AI Battle To China, Pentagon's Ex-...</td>\n",
              "      <td>china has won the artificial intelligence batt...</td>\n",
              "      <td>0.0</td>\n",
              "      <td>5</td>\n",
              "      <td>0</td>\n",
              "      <td>ndtv</td>\n",
              "      <td>0</td>\n",
              "    </tr>\n",
              "    <tr>\n",
              "      <th>4</th>\n",
              "      <td>RT @ndtvfeed: A Look At Inspiring Messages On ...</td>\n",
              "      <td>https://www.ndtv.com/india-news/on-internation...</td>\n",
              "      <td>International Day Of The Girl Child 2021: Lead...</td>\n",
              "      <td>various world leaders and un agencies posted w...</td>\n",
              "      <td>NaN</td>\n",
              "      <td>3</td>\n",
              "      <td>0</td>\n",
              "      <td>ndtv</td>\n",
              "      <td>0</td>\n",
              "    </tr>\n",
              "  </tbody>\n",
              "</table>\n",
              "</div>\n",
              "      <button class=\"colab-df-convert\" onclick=\"convertToInteractive('df-69430cc6-2155-403c-8ad3-47dc846a2f48')\"\n",
              "              title=\"Convert this dataframe to an interactive table.\"\n",
              "              style=\"display:none;\">\n",
              "        \n",
              "  <svg xmlns=\"http://www.w3.org/2000/svg\" height=\"24px\"viewBox=\"0 0 24 24\"\n",
              "       width=\"24px\">\n",
              "    <path d=\"M0 0h24v24H0V0z\" fill=\"none\"/>\n",
              "    <path d=\"M18.56 5.44l.94 2.06.94-2.06 2.06-.94-2.06-.94-.94-2.06-.94 2.06-2.06.94zm-11 1L8.5 8.5l.94-2.06 2.06-.94-2.06-.94L8.5 2.5l-.94 2.06-2.06.94zm10 10l.94 2.06.94-2.06 2.06-.94-2.06-.94-.94-2.06-.94 2.06-2.06.94z\"/><path d=\"M17.41 7.96l-1.37-1.37c-.4-.4-.92-.59-1.43-.59-.52 0-1.04.2-1.43.59L10.3 9.45l-7.72 7.72c-.78.78-.78 2.05 0 2.83L4 21.41c.39.39.9.59 1.41.59.51 0 1.02-.2 1.41-.59l7.78-7.78 2.81-2.81c.8-.78.8-2.07 0-2.86zM5.41 20L4 18.59l7.72-7.72 1.47 1.35L5.41 20z\"/>\n",
              "  </svg>\n",
              "      </button>\n",
              "      \n",
              "  <style>\n",
              "    .colab-df-container {\n",
              "      display:flex;\n",
              "      flex-wrap:wrap;\n",
              "      gap: 12px;\n",
              "    }\n",
              "\n",
              "    .colab-df-convert {\n",
              "      background-color: #E8F0FE;\n",
              "      border: none;\n",
              "      border-radius: 50%;\n",
              "      cursor: pointer;\n",
              "      display: none;\n",
              "      fill: #1967D2;\n",
              "      height: 32px;\n",
              "      padding: 0 0 0 0;\n",
              "      width: 32px;\n",
              "    }\n",
              "\n",
              "    .colab-df-convert:hover {\n",
              "      background-color: #E2EBFA;\n",
              "      box-shadow: 0px 1px 2px rgba(60, 64, 67, 0.3), 0px 1px 3px 1px rgba(60, 64, 67, 0.15);\n",
              "      fill: #174EA6;\n",
              "    }\n",
              "\n",
              "    [theme=dark] .colab-df-convert {\n",
              "      background-color: #3B4455;\n",
              "      fill: #D2E3FC;\n",
              "    }\n",
              "\n",
              "    [theme=dark] .colab-df-convert:hover {\n",
              "      background-color: #434B5C;\n",
              "      box-shadow: 0px 1px 3px 1px rgba(0, 0, 0, 0.15);\n",
              "      filter: drop-shadow(0px 1px 2px rgba(0, 0, 0, 0.3));\n",
              "      fill: #FFFFFF;\n",
              "    }\n",
              "  </style>\n",
              "\n",
              "      <script>\n",
              "        const buttonEl =\n",
              "          document.querySelector('#df-69430cc6-2155-403c-8ad3-47dc846a2f48 button.colab-df-convert');\n",
              "        buttonEl.style.display =\n",
              "          google.colab.kernel.accessAllowed ? 'block' : 'none';\n",
              "\n",
              "        async function convertToInteractive(key) {\n",
              "          const element = document.querySelector('#df-69430cc6-2155-403c-8ad3-47dc846a2f48');\n",
              "          const dataTable =\n",
              "            await google.colab.kernel.invokeFunction('convertToInteractive',\n",
              "                                                     [key], {});\n",
              "          if (!dataTable) return;\n",
              "\n",
              "          const docLinkHtml = 'Like what you see? Visit the ' +\n",
              "            '<a target=\"_blank\" href=https://colab.research.google.com/notebooks/data_table.ipynb>data table notebook</a>'\n",
              "            + ' to learn more about interactive tables.';\n",
              "          element.innerHTML = '';\n",
              "          dataTable['output_type'] = 'display_data';\n",
              "          await google.colab.output.renderOutput(dataTable, element);\n",
              "          const docLink = document.createElement('div');\n",
              "          docLink.innerHTML = docLinkHtml;\n",
              "          element.appendChild(docLink);\n",
              "        }\n",
              "      </script>\n",
              "    </div>\n",
              "  </div>\n",
              "  "
            ]
          },
          "metadata": {},
          "execution_count": 140
        }
      ]
    },
    {
      "cell_type": "code",
      "source": [
        "infile2 = open('republic_data.pkl','rb')\n",
        "republic_df = pickle.load(infile2)"
      ],
      "metadata": {
        "id": "4qbWici1BMc3"
      },
      "execution_count": 141,
      "outputs": []
    },
    {
      "cell_type": "code",
      "source": [
        "republic_df.head()"
      ],
      "metadata": {
        "colab": {
          "base_uri": "https://localhost:8080/",
          "height": 354
        },
        "id": "cdJTOj3vB0Sk",
        "outputId": "940b2d31-1e18-4841-a402-8a873d39d09e"
      },
      "execution_count": 142,
      "outputs": [
        {
          "output_type": "execute_result",
          "data": {
            "text/plain": [
              "                                                text  \\\n",
              "0  Why did Kerala have a backlog of 7,000 COVID-1...   \n",
              "1  Kerala artist creates 24-foot-long Theyyam's f...   \n",
              "2  PM Modi launches Indian Space Association, hig...   \n",
              "3  NEET Phase 2 registration 2021 to end today, h...   \n",
              "4  US, UK issue advisory; warn citizens to avoid ...   \n",
              "\n",
              "                                                 url  \\\n",
              "0  https://www.republicworld.com/india-news/gener...   \n",
              "1  https://www.republicworld.com/india-news/city-...   \n",
              "2  https://www.republicworld.com/india-news/gener...   \n",
              "3  https://www.republicworld.com/india-news/educa...   \n",
              "4  https://www.republicworld.com/world-news/rest-...   \n",
              "\n",
              "                                               title  \\\n",
              "0  Why Did Kerala Have A Backlog Of 7,000 COVID-1...   \n",
              "1  Kerala Artist Creates 24-foot-long Theyyam's F...   \n",
              "2  Govt as an enabler..': PM Modi Launches Indian...   \n",
              "3  NEET Phase 2 Registration 2021 To End Today, H...   \n",
              "4  Leave immediately' | US, UK Issue Advisory; Wa...   \n",
              "\n",
              "                                             content  left 0 right 1  \\\n",
              "0  in a recent update to the covid situation in k...             NaN   \n",
              "1  a kerala-based artist created an installation ...             NaN   \n",
              "2  modi modi on monday launched indian space sect...             1.0   \n",
              "3  neet phase 2 registration: national testing ag...             NaN   \n",
              "4  the united states and britain on monday, 11 oc...             NaN   \n",
              "\n",
              "   retweet_count  favorite_count source_name  source  \n",
              "0            3.0             6.0  republictv       1  \n",
              "1            2.0            14.0  republictv       1  \n",
              "2            4.0            27.0  republictv       1  \n",
              "3            1.0             5.0  republictv       1  \n",
              "4            2.0            11.0  republictv       1  "
            ],
            "text/html": [
              "\n",
              "  <div id=\"df-ca1560e3-6739-4c43-954c-994d2cd3ca9f\">\n",
              "    <div class=\"colab-df-container\">\n",
              "      <div>\n",
              "<style scoped>\n",
              "    .dataframe tbody tr th:only-of-type {\n",
              "        vertical-align: middle;\n",
              "    }\n",
              "\n",
              "    .dataframe tbody tr th {\n",
              "        vertical-align: top;\n",
              "    }\n",
              "\n",
              "    .dataframe thead th {\n",
              "        text-align: right;\n",
              "    }\n",
              "</style>\n",
              "<table border=\"1\" class=\"dataframe\">\n",
              "  <thead>\n",
              "    <tr style=\"text-align: right;\">\n",
              "      <th></th>\n",
              "      <th>text</th>\n",
              "      <th>url</th>\n",
              "      <th>title</th>\n",
              "      <th>content</th>\n",
              "      <th>left 0 right 1</th>\n",
              "      <th>retweet_count</th>\n",
              "      <th>favorite_count</th>\n",
              "      <th>source_name</th>\n",
              "      <th>source</th>\n",
              "    </tr>\n",
              "  </thead>\n",
              "  <tbody>\n",
              "    <tr>\n",
              "      <th>0</th>\n",
              "      <td>Why did Kerala have a backlog of 7,000 COVID-1...</td>\n",
              "      <td>https://www.republicworld.com/india-news/gener...</td>\n",
              "      <td>Why Did Kerala Have A Backlog Of 7,000 COVID-1...</td>\n",
              "      <td>in a recent update to the covid situation in k...</td>\n",
              "      <td>NaN</td>\n",
              "      <td>3.0</td>\n",
              "      <td>6.0</td>\n",
              "      <td>republictv</td>\n",
              "      <td>1</td>\n",
              "    </tr>\n",
              "    <tr>\n",
              "      <th>1</th>\n",
              "      <td>Kerala artist creates 24-foot-long Theyyam's f...</td>\n",
              "      <td>https://www.republicworld.com/india-news/city-...</td>\n",
              "      <td>Kerala Artist Creates 24-foot-long Theyyam's F...</td>\n",
              "      <td>a kerala-based artist created an installation ...</td>\n",
              "      <td>NaN</td>\n",
              "      <td>2.0</td>\n",
              "      <td>14.0</td>\n",
              "      <td>republictv</td>\n",
              "      <td>1</td>\n",
              "    </tr>\n",
              "    <tr>\n",
              "      <th>2</th>\n",
              "      <td>PM Modi launches Indian Space Association, hig...</td>\n",
              "      <td>https://www.republicworld.com/india-news/gener...</td>\n",
              "      <td>Govt as an enabler..': PM Modi Launches Indian...</td>\n",
              "      <td>modi modi on monday launched indian space sect...</td>\n",
              "      <td>1.0</td>\n",
              "      <td>4.0</td>\n",
              "      <td>27.0</td>\n",
              "      <td>republictv</td>\n",
              "      <td>1</td>\n",
              "    </tr>\n",
              "    <tr>\n",
              "      <th>3</th>\n",
              "      <td>NEET Phase 2 registration 2021 to end today, h...</td>\n",
              "      <td>https://www.republicworld.com/india-news/educa...</td>\n",
              "      <td>NEET Phase 2 Registration 2021 To End Today, H...</td>\n",
              "      <td>neet phase 2 registration: national testing ag...</td>\n",
              "      <td>NaN</td>\n",
              "      <td>1.0</td>\n",
              "      <td>5.0</td>\n",
              "      <td>republictv</td>\n",
              "      <td>1</td>\n",
              "    </tr>\n",
              "    <tr>\n",
              "      <th>4</th>\n",
              "      <td>US, UK issue advisory; warn citizens to avoid ...</td>\n",
              "      <td>https://www.republicworld.com/world-news/rest-...</td>\n",
              "      <td>Leave immediately' | US, UK Issue Advisory; Wa...</td>\n",
              "      <td>the united states and britain on monday, 11 oc...</td>\n",
              "      <td>NaN</td>\n",
              "      <td>2.0</td>\n",
              "      <td>11.0</td>\n",
              "      <td>republictv</td>\n",
              "      <td>1</td>\n",
              "    </tr>\n",
              "  </tbody>\n",
              "</table>\n",
              "</div>\n",
              "      <button class=\"colab-df-convert\" onclick=\"convertToInteractive('df-ca1560e3-6739-4c43-954c-994d2cd3ca9f')\"\n",
              "              title=\"Convert this dataframe to an interactive table.\"\n",
              "              style=\"display:none;\">\n",
              "        \n",
              "  <svg xmlns=\"http://www.w3.org/2000/svg\" height=\"24px\"viewBox=\"0 0 24 24\"\n",
              "       width=\"24px\">\n",
              "    <path d=\"M0 0h24v24H0V0z\" fill=\"none\"/>\n",
              "    <path d=\"M18.56 5.44l.94 2.06.94-2.06 2.06-.94-2.06-.94-.94-2.06-.94 2.06-2.06.94zm-11 1L8.5 8.5l.94-2.06 2.06-.94-2.06-.94L8.5 2.5l-.94 2.06-2.06.94zm10 10l.94 2.06.94-2.06 2.06-.94-2.06-.94-.94-2.06-.94 2.06-2.06.94z\"/><path d=\"M17.41 7.96l-1.37-1.37c-.4-.4-.92-.59-1.43-.59-.52 0-1.04.2-1.43.59L10.3 9.45l-7.72 7.72c-.78.78-.78 2.05 0 2.83L4 21.41c.39.39.9.59 1.41.59.51 0 1.02-.2 1.41-.59l7.78-7.78 2.81-2.81c.8-.78.8-2.07 0-2.86zM5.41 20L4 18.59l7.72-7.72 1.47 1.35L5.41 20z\"/>\n",
              "  </svg>\n",
              "      </button>\n",
              "      \n",
              "  <style>\n",
              "    .colab-df-container {\n",
              "      display:flex;\n",
              "      flex-wrap:wrap;\n",
              "      gap: 12px;\n",
              "    }\n",
              "\n",
              "    .colab-df-convert {\n",
              "      background-color: #E8F0FE;\n",
              "      border: none;\n",
              "      border-radius: 50%;\n",
              "      cursor: pointer;\n",
              "      display: none;\n",
              "      fill: #1967D2;\n",
              "      height: 32px;\n",
              "      padding: 0 0 0 0;\n",
              "      width: 32px;\n",
              "    }\n",
              "\n",
              "    .colab-df-convert:hover {\n",
              "      background-color: #E2EBFA;\n",
              "      box-shadow: 0px 1px 2px rgba(60, 64, 67, 0.3), 0px 1px 3px 1px rgba(60, 64, 67, 0.15);\n",
              "      fill: #174EA6;\n",
              "    }\n",
              "\n",
              "    [theme=dark] .colab-df-convert {\n",
              "      background-color: #3B4455;\n",
              "      fill: #D2E3FC;\n",
              "    }\n",
              "\n",
              "    [theme=dark] .colab-df-convert:hover {\n",
              "      background-color: #434B5C;\n",
              "      box-shadow: 0px 1px 3px 1px rgba(0, 0, 0, 0.15);\n",
              "      filter: drop-shadow(0px 1px 2px rgba(0, 0, 0, 0.3));\n",
              "      fill: #FFFFFF;\n",
              "    }\n",
              "  </style>\n",
              "\n",
              "      <script>\n",
              "        const buttonEl =\n",
              "          document.querySelector('#df-ca1560e3-6739-4c43-954c-994d2cd3ca9f button.colab-df-convert');\n",
              "        buttonEl.style.display =\n",
              "          google.colab.kernel.accessAllowed ? 'block' : 'none';\n",
              "\n",
              "        async function convertToInteractive(key) {\n",
              "          const element = document.querySelector('#df-ca1560e3-6739-4c43-954c-994d2cd3ca9f');\n",
              "          const dataTable =\n",
              "            await google.colab.kernel.invokeFunction('convertToInteractive',\n",
              "                                                     [key], {});\n",
              "          if (!dataTable) return;\n",
              "\n",
              "          const docLinkHtml = 'Like what you see? Visit the ' +\n",
              "            '<a target=\"_blank\" href=https://colab.research.google.com/notebooks/data_table.ipynb>data table notebook</a>'\n",
              "            + ' to learn more about interactive tables.';\n",
              "          element.innerHTML = '';\n",
              "          dataTable['output_type'] = 'display_data';\n",
              "          await google.colab.output.renderOutput(dataTable, element);\n",
              "          const docLink = document.createElement('div');\n",
              "          docLink.innerHTML = docLinkHtml;\n",
              "          element.appendChild(docLink);\n",
              "        }\n",
              "      </script>\n",
              "    </div>\n",
              "  </div>\n",
              "  "
            ]
          },
          "metadata": {},
          "execution_count": 142
        }
      ]
    },
    {
      "cell_type": "code",
      "source": [
        "##CHECKING NULL VALUES\n",
        "print(republic_df.isna().sum())\n"
      ],
      "metadata": {
        "colab": {
          "base_uri": "https://localhost:8080/"
        },
        "id": "tdiyIsm2SWPR",
        "outputId": "5d4d4d44-c2dd-4d6e-e6ca-1da22c602447"
      },
      "execution_count": 143,
      "outputs": [
        {
          "output_type": "stream",
          "name": "stdout",
          "text": [
            "text               440\n",
            "url                440\n",
            "title              440\n",
            "content            440\n",
            "left 0 right 1    1339\n",
            "retweet_count      440\n",
            "favorite_count     440\n",
            "source_name          0\n",
            "source               0\n",
            "dtype: int64\n"
          ]
        }
      ]
    },
    {
      "cell_type": "code",
      "source": [
        "print(ndtv_df.isna().sum())\n"
      ],
      "metadata": {
        "colab": {
          "base_uri": "https://localhost:8080/"
        },
        "id": "N_WnMnGfScTg",
        "outputId": "d9bde184-98f8-4c48-859e-51bf1d0403f6"
      },
      "execution_count": 144,
      "outputs": [
        {
          "output_type": "stream",
          "name": "stdout",
          "text": [
            "text                 0\n",
            "url                  0\n",
            "title                0\n",
            "content              0\n",
            "left 0 right 1    1042\n",
            "retweet_count        0\n",
            "favorite_count       0\n",
            "source_name          0\n",
            "source               0\n",
            "dtype: int64\n"
          ]
        }
      ]
    },
    {
      "cell_type": "code",
      "source": [
        "republic_df=republic_df.dropna(subset=['content'])\n",
        "ndtv_df=ndtv_df.dropna(subset=['content'])\n"
      ],
      "metadata": {
        "id": "7bWCMpBGSLun"
      },
      "execution_count": 145,
      "outputs": []
    },
    {
      "cell_type": "code",
      "source": [
        "##bias=left 0 right 1 unbiased 3"
      ],
      "metadata": {
        "id": "FGPGaCK10HeT"
      },
      "execution_count": 146,
      "outputs": []
    },
    {
      "cell_type": "code",
      "source": [
        "ndtv_df.rename(columns = {'left 0 right 1':'bias'}, inplace = True)\n",
        "ndtv_df=ndtv_df.fillna({'bias':3})\n",
        "ndtv_df['bias']=ndtv_df['bias'].astype(int)"
      ],
      "metadata": {
        "id": "7ID7LkESz_b1"
      },
      "execution_count": 147,
      "outputs": []
    },
    {
      "cell_type": "code",
      "source": [
        "republic_df.columns"
      ],
      "metadata": {
        "colab": {
          "base_uri": "https://localhost:8080/"
        },
        "id": "AyOeUUgpTIzf",
        "outputId": "c4c0edbd-3ef8-49d5-8243-d87c8de205eb"
      },
      "execution_count": 148,
      "outputs": [
        {
          "output_type": "execute_result",
          "data": {
            "text/plain": [
              "Index(['text', 'url', 'title', 'content', 'left 0 right 1', 'retweet_count',\n",
              "       'favorite_count', 'source_name', 'source'],\n",
              "      dtype='object')"
            ]
          },
          "metadata": {},
          "execution_count": 148
        }
      ]
    },
    {
      "cell_type": "code",
      "source": [
        "republic_df.rename(columns = {'left 0 right 1':'bias'}, inplace = True)\n",
        "republic_df=republic_df.fillna({'bias':3})\n",
        "republic_df['bias']=republic_df['bias'].astype(int)"
      ],
      "metadata": {
        "id": "eZyMjI8bzter",
        "colab": {
          "base_uri": "https://localhost:8080/"
        },
        "outputId": "f7665131-c65d-4c25-e9c7-99be4afba77f"
      },
      "execution_count": 149,
      "outputs": [
        {
          "output_type": "stream",
          "name": "stderr",
          "text": [
            "/usr/local/lib/python3.7/dist-packages/pandas/core/frame.py:5047: SettingWithCopyWarning: \n",
            "A value is trying to be set on a copy of a slice from a DataFrame\n",
            "\n",
            "See the caveats in the documentation: https://pandas.pydata.org/pandas-docs/stable/user_guide/indexing.html#returning-a-view-versus-a-copy\n",
            "  errors=errors,\n"
          ]
        }
      ]
    },
    {
      "cell_type": "code",
      "source": [
        "print(republic_df.isna().sum())\n"
      ],
      "metadata": {
        "colab": {
          "base_uri": "https://localhost:8080/"
        },
        "id": "n-bEeNb0SgVn",
        "outputId": "6ff3685c-999a-4a36-d60a-bed46baf877b"
      },
      "execution_count": 150,
      "outputs": [
        {
          "output_type": "stream",
          "name": "stdout",
          "text": [
            "text              0\n",
            "url               0\n",
            "title             0\n",
            "content           0\n",
            "bias              0\n",
            "retweet_count     0\n",
            "favorite_count    0\n",
            "source_name       0\n",
            "source            0\n",
            "dtype: int64\n"
          ]
        }
      ]
    },
    {
      "cell_type": "code",
      "source": [
        "print(ndtv_df.isna().sum())\n"
      ],
      "metadata": {
        "colab": {
          "base_uri": "https://localhost:8080/"
        },
        "id": "nzbkq1K_Si8R",
        "outputId": "2b260c0c-7ee9-47fb-ff63-d3c887e30d8b"
      },
      "execution_count": 151,
      "outputs": [
        {
          "output_type": "stream",
          "name": "stdout",
          "text": [
            "text              0\n",
            "url               0\n",
            "title             0\n",
            "content           0\n",
            "bias              0\n",
            "retweet_count     0\n",
            "favorite_count    0\n",
            "source_name       0\n",
            "source            0\n",
            "dtype: int64\n"
          ]
        }
      ]
    },
    {
      "cell_type": "markdown",
      "source": [
        "#MIT News Classify"
      ],
      "metadata": {
        "id": "q-V3gopbMP9-"
      }
    },
    {
      "cell_type": "code",
      "source": [
        "# MIT News Classify is a package containing several natural language processing (NLP) and ML-based models that have been finetuned on an Annotated Corpus and its predefined news tags."
      ],
      "metadata": {
        "id": "jISdvYJ4dfBK"
      },
      "execution_count": 185,
      "outputs": []
    },
    {
      "cell_type": "code",
      "source": [
        "ndtv_df['content'][0]"
      ],
      "metadata": {
        "colab": {
          "base_uri": "https://localhost:8080/",
          "height": 122
        },
        "id": "rsAcIBPgV53J",
        "outputId": "4364b0f3-d25f-4b83-acf6-537e9647423c"
      },
      "execution_count": 186,
      "outputs": [
        {
          "output_type": "execute_result",
          "data": {
            "text/plain": [
              "\"an army officer and four other personnel were killed in action during an encounter between security forces and terrorists in jammu and kashmir's poonch district on monday, officials said. an anti-insurgency operation was launched in a village close to dera ki gali in surankote in the early hours following intelligence inputs about the presence of heavily-armed terrorists there, they said. the hiding terrorists fired on the search parties resulting in fierce gunfight and critical injuries to a junior commissioned officer or jco and four other soldiers. they died from their injuries. the encounter with the terrorists was going on and further details are awaited, a defence spokesperson said. officials said there were reports about the presence of a group of heavily-armed terrorists in the chamrer forest, after they managed to sneak from across the line of control (loc). reinforcements have been rushed to the area to plug all escape routes of the terrorists, they said. (with inputs from pti)\""
            ],
            "application/vnd.google.colaboratory.intrinsic+json": {
              "type": "string"
            }
          },
          "metadata": {},
          "execution_count": 186
        }
      ]
    },
    {
      "cell_type": "code",
      "source": [
        "mitx.gettags(ndtv_df['content'][0])"
      ],
      "metadata": {
        "colab": {
          "base_uri": "https://localhost:8080/"
        },
        "id": "vMZHC0DL9mbr",
        "outputId": "f43cbba1-69a0-4d4c-93b1-7f96e6020353"
      },
      "execution_count": 187,
      "outputs": [
        {
          "output_type": "execute_result",
          "data": {
            "text/plain": [
              "['terrorism', 'armament, defense and military forces']"
            ]
          },
          "metadata": {},
          "execution_count": 187
        }
      ]
    },
    {
      "cell_type": "code",
      "source": [
        "ndtv_df['content'][1]"
      ],
      "metadata": {
        "colab": {
          "base_uri": "https://localhost:8080/",
          "height": 122
        },
        "id": "1Zkb6LZSM9j9",
        "outputId": "1a891e74-8821-4183-b2a1-7403aad8b082"
      },
      "execution_count": 188,
      "outputs": [
        {
          "output_type": "execute_result",
          "data": {
            "text/plain": [
              "'aryan khan did not get bail today for the third time since his arrest a week ago in the drugs-on-cruise case. his bail request will be heard on wednesday after the narcotics control bureau (ncb) gives its statement to the court. aryan khan, the 23-year-old son of actor shah rukh khan, has been in a mumbai jail since friday. he and his friend arbazz merchant were was among nine arrested after anti-drugs officials raided a cruise rave party in disguise. the anti-drugs agency had asked the court to extend his custody till friday for more time to file its reply. the court ordered the ncb to do so by wednesday morning instead, posting aryan khan\\'s bail plea hearing to wednesday instead. arguing aryan khan\\'s case, lawyer amit desai had requested that his request for bail be heard today. no drugs were found on him, the lawyer said. \"the offence involves only a one-year sentence. for this child, seven days is not suitable,\" mr desai had said. but the ncb insisted it was not ready with its statement today. aryan khan\\'s last request for bail was turned down by a magistrate who agreed with the anti-drugs agency that his court did not have the jurisdiction to decide. so far, the ncb has argued that aryan khan\\'s release can harm its investigations as he could tamper with evidence and try to influence witnesses. the agency has claimed that aryan khan needs to be questioned along with others arrested in the case. aryan khan\\'s lawyer satish maneshinde stressed in court that no drugs or any material to suggest a conspiracy had been found on him and he could not be clubbed with the other accused.'"
            ],
            "application/vnd.google.colaboratory.intrinsic+json": {
              "type": "string"
            }
          },
          "metadata": {},
          "execution_count": 188
        }
      ]
    },
    {
      "cell_type": "code",
      "source": [
        "mitx.gettags(ndtv_df['content'][1])\n"
      ],
      "metadata": {
        "colab": {
          "base_uri": "https://localhost:8080/"
        },
        "id": "L2NsXomUM_PF",
        "outputId": "8df55895-bd28-4d64-874f-bb299084ed75"
      },
      "execution_count": 189,
      "outputs": [
        {
          "output_type": "execute_result",
          "data": {
            "text/plain": [
              "['drug abuse and traffic']"
            ]
          },
          "metadata": {},
          "execution_count": 189
        }
      ]
    },
    {
      "cell_type": "code",
      "source": [
        "republic_df['content'][0]\n"
      ],
      "metadata": {
        "colab": {
          "base_uri": "https://localhost:8080/",
          "height": 122
        },
        "id": "YU6vyjGzNqKl",
        "outputId": "c15d350d-ceff-4c3d-da50-48e0c4fd0dd8"
      },
      "execution_count": 190,
      "outputs": [
        {
          "output_type": "execute_result",
          "data": {
            "text/plain": [
              "'in a recent update to the covid situation in kerala, the cpm-led kerala government on saturday, october 9, admitted on the floor of the state assembly of underreporting over 7,000 virus-related deaths in the total tally. the chairperson of the national immunisation technical advisory group (ntagi), dr nk arora, highlighting the reason for \\'under-reporting\\' of covid deaths, explains the process of uploading the data to the national portal. he said that kerala is not the only state where the backlog of deaths was reported but there are many states that have been late in updating the information. according to national centre for disease control (ncdc), there is great difficulty in getting accurate information on hospitalisation which is very important as it helps to understand the health system leads. however, most of the states have incomplete data concerned with hospitalisation. he further urged ncdc to work with the state to resolve the issue. further applauding the kerala government\\'s efforts in management of covid pandemic during 2020, dr nk arora said, \"the state had controlled the covid infections very well last year while a surge in the cases was reported from past 2-3 months\". he said that covid cases will decline in kerala as it has a good history with vaccine administration and vaccinated people will be less prone to infections. the cpm-led kerala government on saturday, october 9, admitted on the floor of the state assembly of underreporting over 7,000 virus-related deaths in the total tally. kerala health minister veena george informed the assembly that of the total covid death tally over 7,000 deaths were found to be not included. she claimed that the misinformation of the data was observed due to technical lapses like missing out on patients\\' details and wasn\\'t an intentional act of the government to exclude deaths from the list. in the last assembly session, george affirmed that the department would publish the updated list in three days. to date, kerala has reported a total of 47.8 covid cases with 26,173 deaths. as of october 11, out of 18,132 new covid cases and 193 deaths reported in india, kerala recorded 10,691 cases and 85 deaths. the state has administered a total of 3,66,56,548 covid vaccine doses across 1,273 vaccination sites. (image: ani/pti/representativeimage)'"
            ],
            "application/vnd.google.colaboratory.intrinsic+json": {
              "type": "string"
            }
          },
          "metadata": {},
          "execution_count": 190
        }
      ]
    },
    {
      "cell_type": "code",
      "source": [
        "mitx.gettags(republic_df['content'][0])"
      ],
      "metadata": {
        "colab": {
          "base_uri": "https://localhost:8080/"
        },
        "id": "C235eQr0N7Qm",
        "outputId": "6573192a-b425-4954-aac6-46d24da43d9c"
      },
      "execution_count": 191,
      "outputs": [
        {
          "output_type": "execute_result",
          "data": {
            "text/plain": [
              "['medicine and health',\n",
              " 'diseases and conditions',\n",
              " 'vaccination and immunization']"
            ]
          },
          "metadata": {},
          "execution_count": 191
        }
      ]
    },
    {
      "cell_type": "code",
      "source": [
        "republic_df['content'][1]"
      ],
      "metadata": {
        "colab": {
          "base_uri": "https://localhost:8080/",
          "height": 122
        },
        "id": "zEfluu9sN8tv",
        "outputId": "e112b102-45f0-4a5c-efb4-6cb4bbe72cdf"
      },
      "execution_count": 192,
      "outputs": [
        {
          "output_type": "execute_result",
          "data": {
            "text/plain": [
              "'a kerala-based artist created an installation using biscuits and other bakery products to reflect kerala\\'s ceremonial art genre theyyam. suresh, also known as \\'davinci,\\' spent nearly 15 hours creating the massive 24-foot long art installation. the art installation was created in the hall of a kannur bakery using numerous tables arranged in the centre of the room. the face of theyyam was created using up to 25,000 biscuits of various colours and sizes, as well as other bakery products. suresh was invited to make the art piece in chef muhammad rashid\\'s bakery, \\'bake story.\\' \"we have invited davinci suresh, who made the artwork of north malabar\\'s traditional art form theyyam using bakery items. bake story bakery from kannur also became part of davinci suresh\\'s 100 medium plan,\" remarked the chef. after that, all of the bakery products were given to a veterinary farm to biodegrade. similarly, on thursday, october 7, the odisha lalit kala akademi, in collaboration with the koraput district administration, held a competition on jhoti art in the padampur hamlet of the district, in order to revive the traditional art form of \\'jhoti\\' and encourage women to pursue this folk art. folk art and the customary practice of making murals or rangoli at the front entry of a home during social occasions and religious holidays is known as \\'alpona.\\' jhoti, on the other hand, is not the same as rangoli. while rangolis use coloured powders to make line art, jhoti art uses traditional white, semi-liquid rice or pithau paste to create line art. in this style of art, the fingers are used as a paintbrush.'"
            ],
            "application/vnd.google.colaboratory.intrinsic+json": {
              "type": "string"
            }
          },
          "metadata": {},
          "execution_count": 192
        }
      ]
    },
    {
      "cell_type": "code",
      "source": [
        "mitx.gettags(republic_df['content'][1])"
      ],
      "metadata": {
        "colab": {
          "base_uri": "https://localhost:8080/"
        },
        "id": "aJKCIvatN-S_",
        "outputId": "4144ffd9-8d98-413a-e7cc-7cf3aa1fce6f"
      },
      "execution_count": 193,
      "outputs": [
        {
          "output_type": "execute_result",
          "data": {
            "text/plain": [
              "['art', 'food', 'bakeries and baked products']"
            ]
          },
          "metadata": {},
          "execution_count": 193
        }
      ]
    },
    {
      "cell_type": "code",
      "source": [
        "len(republic_df)"
      ],
      "metadata": {
        "colab": {
          "base_uri": "https://localhost:8080/"
        },
        "id": "s2M0sbCQU4pJ",
        "outputId": "069810c8-c3ad-4b42-8da6-ed2a84052578"
      },
      "execution_count": 194,
      "outputs": [
        {
          "output_type": "execute_result",
          "data": {
            "text/plain": [
              "2196"
            ]
          },
          "metadata": {},
          "execution_count": 194
        }
      ]
    },
    {
      "cell_type": "code",
      "source": [
        "mitx.gettags(republic_df['content'][0])\n"
      ],
      "metadata": {
        "colab": {
          "base_uri": "https://localhost:8080/"
        },
        "id": "K9QB0ygSVWHn",
        "outputId": "1aef856a-d571-4830-b588-e245405745fa"
      },
      "execution_count": 195,
      "outputs": [
        {
          "output_type": "execute_result",
          "data": {
            "text/plain": [
              "['medicine and health',\n",
              " 'diseases and conditions',\n",
              " 'vaccination and immunization']"
            ]
          },
          "metadata": {},
          "execution_count": 195
        }
      ]
    },
    {
      "cell_type": "code",
      "source": [
        "# ##the MIT PACKAGE IDENTIFIES TAGS AS BOTH THE ORIGINAL TAG AND WITH UNITED TAGS\n",
        "# for ex.\n",
        "# ['united states politics and government',\n",
        "#  'politics and government',\n",
        "#  'united states international relations',\n",
        "#  'international relations']\n",
        "\n",
        "\n",
        "#  this can be just \n",
        "#  ['politics and government',\n",
        "#  'international relations']"
      ],
      "metadata": {
        "id": "j9K5jL_VdIdh"
      },
      "execution_count": 196,
      "outputs": []
    },
    {
      "cell_type": "code",
      "source": [
        "listx=[]\n",
        "for x1 in range(len(republic_df)):\n",
        "  templist=[]\n",
        "  test=mitx.gettags(republic_df['content'][x1])\n",
        "  for temp in test:\n",
        "    if temp.find(\"united states\") != -1:\n",
        "      continue\n",
        "    else:\n",
        "      templist.append(temp)\n",
        "  listx.append(templist)"
      ],
      "metadata": {
        "id": "dEv_vh2lRNPH"
      },
      "execution_count": 197,
      "outputs": []
    },
    {
      "cell_type": "code",
      "source": [
        "republic_df['tags']=listx"
      ],
      "metadata": {
        "id": "6HLM8QQ4awqx"
      },
      "execution_count": 198,
      "outputs": []
    },
    {
      "cell_type": "code",
      "source": [
        "listx=[]\n",
        "for x1 in range(len(ndtv_df)):\n",
        "  templist=[]\n",
        "  test=mitx.gettags(ndtv_df['content'][x1])\n",
        "  for temp in test:\n",
        "    if temp.find(\"united states\") != -1:\n",
        "      continue\n",
        "    else:\n",
        "      templist.append(temp)\n",
        "  listx.append(templist)"
      ],
      "metadata": {
        "id": "btuLD1-pRl93"
      },
      "execution_count": 199,
      "outputs": []
    },
    {
      "cell_type": "code",
      "source": [
        "ndtv_df['tags']=listx\n"
      ],
      "metadata": {
        "id": "93KDEcmBaykJ"
      },
      "execution_count": 200,
      "outputs": []
    },
    {
      "cell_type": "code",
      "source": [
        "ndf=ndtv_df\n",
        "rdf=republic_df"
      ],
      "metadata": {
        "id": "Z3I8bj-FRuhO"
      },
      "execution_count": 201,
      "outputs": []
    },
    {
      "cell_type": "code",
      "source": [
        "ndf.head()"
      ],
      "metadata": {
        "colab": {
          "base_uri": "https://localhost:8080/",
          "height": 337
        },
        "id": "skWqqc5NagnA",
        "outputId": "51dec620-65cb-403d-909e-269968b551b5"
      },
      "execution_count": 202,
      "outputs": [
        {
          "output_type": "execute_result",
          "data": {
            "text/plain": [
              "                                                text  \\\n",
              "0  Army Officer, 4 Others Killed In Encounter In ...   \n",
              "1  #AryanKhan Case: No Bail For Him Today, Next H...   \n",
              "2  RT @ndtvfeed: Ex-National Conference Leaders D...   \n",
              "3  RT @ndtvfeed: US Has Lost AI Battle To China, ...   \n",
              "4  RT @ndtvfeed: A Look At Inspiring Messages On ...   \n",
              "\n",
              "                                                 url  \\\n",
              "0  https://www.ndtv.com/india-news/army-officer-4...   \n",
              "1  https://ndtv.com/india-news/mumbai-drug-bust-c...   \n",
              "2  https://www.ndtv.com/india-news/after-resignin...   \n",
              "3  https://www.ndtv.com/world-news/us-has-lost-ar...   \n",
              "4  https://www.ndtv.com/india-news/on-internation...   \n",
              "\n",
              "                                               title  \\\n",
              "0  Army Officer, 4 Personnel Killed In Encounter ...   \n",
              "1  Aryan Khan Case: No Bail For Him Today, Next H...   \n",
              "2  Ex-National Conference Leaders Devender Rana, ...   \n",
              "3  US Has Lost AI Battle To China, Pentagon's Ex-...   \n",
              "4  International Day Of The Girl Child 2021: Lead...   \n",
              "\n",
              "                                             content  bias  retweet_count  \\\n",
              "0  an army officer and four other personnel were ...     3              9   \n",
              "1  aryan khan did not get bail today for the thir...     3              5   \n",
              "2  a day after resigning from the national confer...     1              2   \n",
              "3  china has won the artificial intelligence batt...     0              5   \n",
              "4  various world leaders and un agencies posted w...     3              3   \n",
              "\n",
              "   favorite_count source_name  source  \\\n",
              "0              63        ndtv       0   \n",
              "1              44        ndtv       0   \n",
              "2               0        ndtv       0   \n",
              "3               0        ndtv       0   \n",
              "4               0        ndtv       0   \n",
              "\n",
              "                                                tags  \n",
              "0  [terrorism, armament, defense and military for...  \n",
              "1                           [drug abuse and traffic]  \n",
              "2               [appointments and executive changes]  \n",
              "3  [suspensions, dismissals and resignations, arm...  \n",
              "4                        [women, children and youth]  "
            ],
            "text/html": [
              "\n",
              "  <div id=\"df-96172d3d-ee03-4933-8f6e-12d7fe635ac1\">\n",
              "    <div class=\"colab-df-container\">\n",
              "      <div>\n",
              "<style scoped>\n",
              "    .dataframe tbody tr th:only-of-type {\n",
              "        vertical-align: middle;\n",
              "    }\n",
              "\n",
              "    .dataframe tbody tr th {\n",
              "        vertical-align: top;\n",
              "    }\n",
              "\n",
              "    .dataframe thead th {\n",
              "        text-align: right;\n",
              "    }\n",
              "</style>\n",
              "<table border=\"1\" class=\"dataframe\">\n",
              "  <thead>\n",
              "    <tr style=\"text-align: right;\">\n",
              "      <th></th>\n",
              "      <th>text</th>\n",
              "      <th>url</th>\n",
              "      <th>title</th>\n",
              "      <th>content</th>\n",
              "      <th>bias</th>\n",
              "      <th>retweet_count</th>\n",
              "      <th>favorite_count</th>\n",
              "      <th>source_name</th>\n",
              "      <th>source</th>\n",
              "      <th>tags</th>\n",
              "    </tr>\n",
              "  </thead>\n",
              "  <tbody>\n",
              "    <tr>\n",
              "      <th>0</th>\n",
              "      <td>Army Officer, 4 Others Killed In Encounter In ...</td>\n",
              "      <td>https://www.ndtv.com/india-news/army-officer-4...</td>\n",
              "      <td>Army Officer, 4 Personnel Killed In Encounter ...</td>\n",
              "      <td>an army officer and four other personnel were ...</td>\n",
              "      <td>3</td>\n",
              "      <td>9</td>\n",
              "      <td>63</td>\n",
              "      <td>ndtv</td>\n",
              "      <td>0</td>\n",
              "      <td>[terrorism, armament, defense and military for...</td>\n",
              "    </tr>\n",
              "    <tr>\n",
              "      <th>1</th>\n",
              "      <td>#AryanKhan Case: No Bail For Him Today, Next H...</td>\n",
              "      <td>https://ndtv.com/india-news/mumbai-drug-bust-c...</td>\n",
              "      <td>Aryan Khan Case: No Bail For Him Today, Next H...</td>\n",
              "      <td>aryan khan did not get bail today for the thir...</td>\n",
              "      <td>3</td>\n",
              "      <td>5</td>\n",
              "      <td>44</td>\n",
              "      <td>ndtv</td>\n",
              "      <td>0</td>\n",
              "      <td>[drug abuse and traffic]</td>\n",
              "    </tr>\n",
              "    <tr>\n",
              "      <th>2</th>\n",
              "      <td>RT @ndtvfeed: Ex-National Conference Leaders D...</td>\n",
              "      <td>https://www.ndtv.com/india-news/after-resignin...</td>\n",
              "      <td>Ex-National Conference Leaders Devender Rana, ...</td>\n",
              "      <td>a day after resigning from the national confer...</td>\n",
              "      <td>1</td>\n",
              "      <td>2</td>\n",
              "      <td>0</td>\n",
              "      <td>ndtv</td>\n",
              "      <td>0</td>\n",
              "      <td>[appointments and executive changes]</td>\n",
              "    </tr>\n",
              "    <tr>\n",
              "      <th>3</th>\n",
              "      <td>RT @ndtvfeed: US Has Lost AI Battle To China, ...</td>\n",
              "      <td>https://www.ndtv.com/world-news/us-has-lost-ar...</td>\n",
              "      <td>US Has Lost AI Battle To China, Pentagon's Ex-...</td>\n",
              "      <td>china has won the artificial intelligence batt...</td>\n",
              "      <td>0</td>\n",
              "      <td>5</td>\n",
              "      <td>0</td>\n",
              "      <td>ndtv</td>\n",
              "      <td>0</td>\n",
              "      <td>[suspensions, dismissals and resignations, arm...</td>\n",
              "    </tr>\n",
              "    <tr>\n",
              "      <th>4</th>\n",
              "      <td>RT @ndtvfeed: A Look At Inspiring Messages On ...</td>\n",
              "      <td>https://www.ndtv.com/india-news/on-internation...</td>\n",
              "      <td>International Day Of The Girl Child 2021: Lead...</td>\n",
              "      <td>various world leaders and un agencies posted w...</td>\n",
              "      <td>3</td>\n",
              "      <td>3</td>\n",
              "      <td>0</td>\n",
              "      <td>ndtv</td>\n",
              "      <td>0</td>\n",
              "      <td>[women, children and youth]</td>\n",
              "    </tr>\n",
              "  </tbody>\n",
              "</table>\n",
              "</div>\n",
              "      <button class=\"colab-df-convert\" onclick=\"convertToInteractive('df-96172d3d-ee03-4933-8f6e-12d7fe635ac1')\"\n",
              "              title=\"Convert this dataframe to an interactive table.\"\n",
              "              style=\"display:none;\">\n",
              "        \n",
              "  <svg xmlns=\"http://www.w3.org/2000/svg\" height=\"24px\"viewBox=\"0 0 24 24\"\n",
              "       width=\"24px\">\n",
              "    <path d=\"M0 0h24v24H0V0z\" fill=\"none\"/>\n",
              "    <path d=\"M18.56 5.44l.94 2.06.94-2.06 2.06-.94-2.06-.94-.94-2.06-.94 2.06-2.06.94zm-11 1L8.5 8.5l.94-2.06 2.06-.94-2.06-.94L8.5 2.5l-.94 2.06-2.06.94zm10 10l.94 2.06.94-2.06 2.06-.94-2.06-.94-.94-2.06-.94 2.06-2.06.94z\"/><path d=\"M17.41 7.96l-1.37-1.37c-.4-.4-.92-.59-1.43-.59-.52 0-1.04.2-1.43.59L10.3 9.45l-7.72 7.72c-.78.78-.78 2.05 0 2.83L4 21.41c.39.39.9.59 1.41.59.51 0 1.02-.2 1.41-.59l7.78-7.78 2.81-2.81c.8-.78.8-2.07 0-2.86zM5.41 20L4 18.59l7.72-7.72 1.47 1.35L5.41 20z\"/>\n",
              "  </svg>\n",
              "      </button>\n",
              "      \n",
              "  <style>\n",
              "    .colab-df-container {\n",
              "      display:flex;\n",
              "      flex-wrap:wrap;\n",
              "      gap: 12px;\n",
              "    }\n",
              "\n",
              "    .colab-df-convert {\n",
              "      background-color: #E8F0FE;\n",
              "      border: none;\n",
              "      border-radius: 50%;\n",
              "      cursor: pointer;\n",
              "      display: none;\n",
              "      fill: #1967D2;\n",
              "      height: 32px;\n",
              "      padding: 0 0 0 0;\n",
              "      width: 32px;\n",
              "    }\n",
              "\n",
              "    .colab-df-convert:hover {\n",
              "      background-color: #E2EBFA;\n",
              "      box-shadow: 0px 1px 2px rgba(60, 64, 67, 0.3), 0px 1px 3px 1px rgba(60, 64, 67, 0.15);\n",
              "      fill: #174EA6;\n",
              "    }\n",
              "\n",
              "    [theme=dark] .colab-df-convert {\n",
              "      background-color: #3B4455;\n",
              "      fill: #D2E3FC;\n",
              "    }\n",
              "\n",
              "    [theme=dark] .colab-df-convert:hover {\n",
              "      background-color: #434B5C;\n",
              "      box-shadow: 0px 1px 3px 1px rgba(0, 0, 0, 0.15);\n",
              "      filter: drop-shadow(0px 1px 2px rgba(0, 0, 0, 0.3));\n",
              "      fill: #FFFFFF;\n",
              "    }\n",
              "  </style>\n",
              "\n",
              "      <script>\n",
              "        const buttonEl =\n",
              "          document.querySelector('#df-96172d3d-ee03-4933-8f6e-12d7fe635ac1 button.colab-df-convert');\n",
              "        buttonEl.style.display =\n",
              "          google.colab.kernel.accessAllowed ? 'block' : 'none';\n",
              "\n",
              "        async function convertToInteractive(key) {\n",
              "          const element = document.querySelector('#df-96172d3d-ee03-4933-8f6e-12d7fe635ac1');\n",
              "          const dataTable =\n",
              "            await google.colab.kernel.invokeFunction('convertToInteractive',\n",
              "                                                     [key], {});\n",
              "          if (!dataTable) return;\n",
              "\n",
              "          const docLinkHtml = 'Like what you see? Visit the ' +\n",
              "            '<a target=\"_blank\" href=https://colab.research.google.com/notebooks/data_table.ipynb>data table notebook</a>'\n",
              "            + ' to learn more about interactive tables.';\n",
              "          element.innerHTML = '';\n",
              "          dataTable['output_type'] = 'display_data';\n",
              "          await google.colab.output.renderOutput(dataTable, element);\n",
              "          const docLink = document.createElement('div');\n",
              "          docLink.innerHTML = docLinkHtml;\n",
              "          element.appendChild(docLink);\n",
              "        }\n",
              "      </script>\n",
              "    </div>\n",
              "  </div>\n",
              "  "
            ]
          },
          "metadata": {},
          "execution_count": 202
        }
      ]
    },
    {
      "cell_type": "code",
      "source": [
        ""
      ],
      "metadata": {
        "id": "5c8gwvwSeiWK"
      },
      "execution_count": null,
      "outputs": []
    },
    {
      "cell_type": "markdown",
      "source": [
        "# Sentiment Analysis"
      ],
      "metadata": {
        "id": "cwov7V_Bekjy"
      }
    },
    {
      "cell_type": "code",
      "source": [
        "# VADER works better with things like slang, emojis, etc — whereas TextBlob performs strongly with more formal language usage.Therefore we will use TextBlob.\n",
        "from textblob import TextBlob\n"
      ],
      "metadata": {
        "colab": {
          "base_uri": "https://localhost:8080/"
        },
        "id": "BuJjQ3odeoAR",
        "outputId": "5e8b5867-1bc3-4a53-cef8-38444cdd9e42"
      },
      "execution_count": 204,
      "outputs": [
        {
          "output_type": "execute_result",
          "data": {
            "text/plain": [
              "0.31875"
            ]
          },
          "metadata": {},
          "execution_count": 204
        }
      ]
    },
    {
      "cell_type": "code",
      "source": [
        "(ndf['content'][0])"
      ],
      "metadata": {
        "colab": {
          "base_uri": "https://localhost:8080/",
          "height": 122
        },
        "id": "bpjNLZVEf9LK",
        "outputId": "78e5d31b-85c7-4b8f-88e6-c6db455daf18"
      },
      "execution_count": 207,
      "outputs": [
        {
          "output_type": "execute_result",
          "data": {
            "text/plain": [
              "\"an army officer and four other personnel were killed in action during an encounter between security forces and terrorists in jammu and kashmir's poonch district on monday, officials said. an anti-insurgency operation was launched in a village close to dera ki gali in surankote in the early hours following intelligence inputs about the presence of heavily-armed terrorists there, they said. the hiding terrorists fired on the search parties resulting in fierce gunfight and critical injuries to a junior commissioned officer or jco and four other soldiers. they died from their injuries. the encounter with the terrorists was going on and further details are awaited, a defence spokesperson said. officials said there were reports about the presence of a group of heavily-armed terrorists in the chamrer forest, after they managed to sneak from across the line of control (loc). reinforcements have been rushed to the area to plug all escape routes of the terrorists, they said. (with inputs from pti)\""
            ],
            "application/vnd.google.colaboratory.intrinsic+json": {
              "type": "string"
            }
          },
          "metadata": {},
          "execution_count": 207
        }
      ]
    },
    {
      "cell_type": "code",
      "source": [
        "TextBlob(ndf['content'][0]).sentiment.subjectivity"
      ],
      "metadata": {
        "colab": {
          "base_uri": "https://localhost:8080/"
        },
        "id": "ZlYdKJM-f-9J",
        "outputId": "3bb9e1c7-6a97-42ed-b476-bd23508d9527"
      },
      "execution_count": 208,
      "outputs": [
        {
          "output_type": "execute_result",
          "data": {
            "text/plain": [
              "0.31875"
            ]
          },
          "metadata": {},
          "execution_count": 208
        }
      ]
    },
    {
      "cell_type": "code",
      "source": [
        "TextBlob(ndf['content'][0]).sentiment.polarity"
      ],
      "metadata": {
        "colab": {
          "base_uri": "https://localhost:8080/"
        },
        "id": "zWpMi4zRf5iK",
        "outputId": "6ce1f21f-c04c-47cd-fdea-70aee9742b09"
      },
      "execution_count": 206,
      "outputs": [
        {
          "output_type": "execute_result",
          "data": {
            "text/plain": [
              "-0.03125"
            ]
          },
          "metadata": {},
          "execution_count": 206
        }
      ]
    },
    {
      "cell_type": "markdown",
      "source": [
        "Polarity"
      ],
      "metadata": {
        "id": "LKgzEeGKhKfK"
      }
    },
    {
      "cell_type": "code",
      "source": [
        "listx=[]\n",
        "for x1 in range(len(ndf)):\n",
        "  listx.append(TextBlob(ndf['content'][x1]).sentiment.polarity)\n",
        "ndf['polarity']=listx\n"
      ],
      "metadata": {
        "id": "ofdM0reegpmy"
      },
      "execution_count": 210,
      "outputs": []
    },
    {
      "cell_type": "code",
      "source": [
        "listx=[]\n",
        "for x1 in range(len(rdf)):\n",
        "  listx.append(TextBlob(rdf['content'][x1]).sentiment.polarity)\n",
        "rdf['polarity']=listx\n"
      ],
      "metadata": {
        "id": "CjZMKSkrg-Zh"
      },
      "execution_count": 211,
      "outputs": []
    },
    {
      "cell_type": "code",
      "source": [
        "def getAnalysis(score):\n",
        "  if score < 0:\n",
        "    return \"Negative\"\n",
        "  elif score == 0:\n",
        "    return \"Neutral\"\n",
        "  else:\n",
        "    return \"Positive\""
      ],
      "metadata": {
        "id": "9J1lUWuYhPUi"
      },
      "execution_count": 212,
      "outputs": []
    },
    {
      "cell_type": "code",
      "source": [
        "rdf[\"polarity_score\"] = rdf[\"polarity\"].apply(getAnalysis)\n",
        "ndf[\"polarity_score\"] = ndf[\"polarity\"].apply(getAnalysis)\n"
      ],
      "metadata": {
        "id": "zHUkICwhhb-a"
      },
      "execution_count": 213,
      "outputs": []
    },
    {
      "cell_type": "code",
      "source": [
        "rdf.head(5)"
      ],
      "metadata": {
        "colab": {
          "base_uri": "https://localhost:8080/",
          "height": 441
        },
        "id": "UqS-OtTihm2J",
        "outputId": "79f386dc-860b-4c4f-a4d6-48998050ab9e"
      },
      "execution_count": 215,
      "outputs": [
        {
          "output_type": "execute_result",
          "data": {
            "text/plain": [
              "                                                text  \\\n",
              "0  Why did Kerala have a backlog of 7,000 COVID-1...   \n",
              "1  Kerala artist creates 24-foot-long Theyyam's f...   \n",
              "2  PM Modi launches Indian Space Association, hig...   \n",
              "3  NEET Phase 2 registration 2021 to end today, h...   \n",
              "4  US, UK issue advisory; warn citizens to avoid ...   \n",
              "\n",
              "                                                 url  \\\n",
              "0  https://www.republicworld.com/india-news/gener...   \n",
              "1  https://www.republicworld.com/india-news/city-...   \n",
              "2  https://www.republicworld.com/india-news/gener...   \n",
              "3  https://www.republicworld.com/india-news/educa...   \n",
              "4  https://www.republicworld.com/world-news/rest-...   \n",
              "\n",
              "                                               title  \\\n",
              "0  Why Did Kerala Have A Backlog Of 7,000 COVID-1...   \n",
              "1  Kerala Artist Creates 24-foot-long Theyyam's F...   \n",
              "2  Govt as an enabler..': PM Modi Launches Indian...   \n",
              "3  NEET Phase 2 Registration 2021 To End Today, H...   \n",
              "4  Leave immediately' | US, UK Issue Advisory; Wa...   \n",
              "\n",
              "                                             content  bias  retweet_count  \\\n",
              "0  in a recent update to the covid situation in k...     3            3.0   \n",
              "1  a kerala-based artist created an installation ...     3            2.0   \n",
              "2  modi modi on monday launched indian space sect...     1            4.0   \n",
              "3  neet phase 2 registration: national testing ag...     3            1.0   \n",
              "4  the united states and britain on monday, 11 oc...     3            2.0   \n",
              "\n",
              "   favorite_count source_name  source  \\\n",
              "0             6.0  republictv       1   \n",
              "1            14.0  republictv       1   \n",
              "2            27.0  republictv       1   \n",
              "3             5.0  republictv       1   \n",
              "4            11.0  republictv       1   \n",
              "\n",
              "                                                tags  polarity polarity_score  \n",
              "0  [medicine and health, diseases and conditions,...  0.104411       Positive  \n",
              "1           [art, food, bakeries and baked products] -0.018981       Negative  \n",
              "2                                            [space]  0.130303       Positive  \n",
              "3  [politics and government, elections, tests and...  0.111111       Positive  \n",
              "4  [terrorism, religion and churches, bombs and e... -0.009491       Negative  "
            ],
            "text/html": [
              "\n",
              "  <div id=\"df-3249229c-13a2-4750-861e-06757568049a\">\n",
              "    <div class=\"colab-df-container\">\n",
              "      <div>\n",
              "<style scoped>\n",
              "    .dataframe tbody tr th:only-of-type {\n",
              "        vertical-align: middle;\n",
              "    }\n",
              "\n",
              "    .dataframe tbody tr th {\n",
              "        vertical-align: top;\n",
              "    }\n",
              "\n",
              "    .dataframe thead th {\n",
              "        text-align: right;\n",
              "    }\n",
              "</style>\n",
              "<table border=\"1\" class=\"dataframe\">\n",
              "  <thead>\n",
              "    <tr style=\"text-align: right;\">\n",
              "      <th></th>\n",
              "      <th>text</th>\n",
              "      <th>url</th>\n",
              "      <th>title</th>\n",
              "      <th>content</th>\n",
              "      <th>bias</th>\n",
              "      <th>retweet_count</th>\n",
              "      <th>favorite_count</th>\n",
              "      <th>source_name</th>\n",
              "      <th>source</th>\n",
              "      <th>tags</th>\n",
              "      <th>polarity</th>\n",
              "      <th>polarity_score</th>\n",
              "    </tr>\n",
              "  </thead>\n",
              "  <tbody>\n",
              "    <tr>\n",
              "      <th>0</th>\n",
              "      <td>Why did Kerala have a backlog of 7,000 COVID-1...</td>\n",
              "      <td>https://www.republicworld.com/india-news/gener...</td>\n",
              "      <td>Why Did Kerala Have A Backlog Of 7,000 COVID-1...</td>\n",
              "      <td>in a recent update to the covid situation in k...</td>\n",
              "      <td>3</td>\n",
              "      <td>3.0</td>\n",
              "      <td>6.0</td>\n",
              "      <td>republictv</td>\n",
              "      <td>1</td>\n",
              "      <td>[medicine and health, diseases and conditions,...</td>\n",
              "      <td>0.104411</td>\n",
              "      <td>Positive</td>\n",
              "    </tr>\n",
              "    <tr>\n",
              "      <th>1</th>\n",
              "      <td>Kerala artist creates 24-foot-long Theyyam's f...</td>\n",
              "      <td>https://www.republicworld.com/india-news/city-...</td>\n",
              "      <td>Kerala Artist Creates 24-foot-long Theyyam's F...</td>\n",
              "      <td>a kerala-based artist created an installation ...</td>\n",
              "      <td>3</td>\n",
              "      <td>2.0</td>\n",
              "      <td>14.0</td>\n",
              "      <td>republictv</td>\n",
              "      <td>1</td>\n",
              "      <td>[art, food, bakeries and baked products]</td>\n",
              "      <td>-0.018981</td>\n",
              "      <td>Negative</td>\n",
              "    </tr>\n",
              "    <tr>\n",
              "      <th>2</th>\n",
              "      <td>PM Modi launches Indian Space Association, hig...</td>\n",
              "      <td>https://www.republicworld.com/india-news/gener...</td>\n",
              "      <td>Govt as an enabler..': PM Modi Launches Indian...</td>\n",
              "      <td>modi modi on monday launched indian space sect...</td>\n",
              "      <td>1</td>\n",
              "      <td>4.0</td>\n",
              "      <td>27.0</td>\n",
              "      <td>republictv</td>\n",
              "      <td>1</td>\n",
              "      <td>[space]</td>\n",
              "      <td>0.130303</td>\n",
              "      <td>Positive</td>\n",
              "    </tr>\n",
              "    <tr>\n",
              "      <th>3</th>\n",
              "      <td>NEET Phase 2 registration 2021 to end today, h...</td>\n",
              "      <td>https://www.republicworld.com/india-news/educa...</td>\n",
              "      <td>NEET Phase 2 Registration 2021 To End Today, H...</td>\n",
              "      <td>neet phase 2 registration: national testing ag...</td>\n",
              "      <td>3</td>\n",
              "      <td>1.0</td>\n",
              "      <td>5.0</td>\n",
              "      <td>republictv</td>\n",
              "      <td>1</td>\n",
              "      <td>[politics and government, elections, tests and...</td>\n",
              "      <td>0.111111</td>\n",
              "      <td>Positive</td>\n",
              "    </tr>\n",
              "    <tr>\n",
              "      <th>4</th>\n",
              "      <td>US, UK issue advisory; warn citizens to avoid ...</td>\n",
              "      <td>https://www.republicworld.com/world-news/rest-...</td>\n",
              "      <td>Leave immediately' | US, UK Issue Advisory; Wa...</td>\n",
              "      <td>the united states and britain on monday, 11 oc...</td>\n",
              "      <td>3</td>\n",
              "      <td>2.0</td>\n",
              "      <td>11.0</td>\n",
              "      <td>republictv</td>\n",
              "      <td>1</td>\n",
              "      <td>[terrorism, religion and churches, bombs and e...</td>\n",
              "      <td>-0.009491</td>\n",
              "      <td>Negative</td>\n",
              "    </tr>\n",
              "  </tbody>\n",
              "</table>\n",
              "</div>\n",
              "      <button class=\"colab-df-convert\" onclick=\"convertToInteractive('df-3249229c-13a2-4750-861e-06757568049a')\"\n",
              "              title=\"Convert this dataframe to an interactive table.\"\n",
              "              style=\"display:none;\">\n",
              "        \n",
              "  <svg xmlns=\"http://www.w3.org/2000/svg\" height=\"24px\"viewBox=\"0 0 24 24\"\n",
              "       width=\"24px\">\n",
              "    <path d=\"M0 0h24v24H0V0z\" fill=\"none\"/>\n",
              "    <path d=\"M18.56 5.44l.94 2.06.94-2.06 2.06-.94-2.06-.94-.94-2.06-.94 2.06-2.06.94zm-11 1L8.5 8.5l.94-2.06 2.06-.94-2.06-.94L8.5 2.5l-.94 2.06-2.06.94zm10 10l.94 2.06.94-2.06 2.06-.94-2.06-.94-.94-2.06-.94 2.06-2.06.94z\"/><path d=\"M17.41 7.96l-1.37-1.37c-.4-.4-.92-.59-1.43-.59-.52 0-1.04.2-1.43.59L10.3 9.45l-7.72 7.72c-.78.78-.78 2.05 0 2.83L4 21.41c.39.39.9.59 1.41.59.51 0 1.02-.2 1.41-.59l7.78-7.78 2.81-2.81c.8-.78.8-2.07 0-2.86zM5.41 20L4 18.59l7.72-7.72 1.47 1.35L5.41 20z\"/>\n",
              "  </svg>\n",
              "      </button>\n",
              "      \n",
              "  <style>\n",
              "    .colab-df-container {\n",
              "      display:flex;\n",
              "      flex-wrap:wrap;\n",
              "      gap: 12px;\n",
              "    }\n",
              "\n",
              "    .colab-df-convert {\n",
              "      background-color: #E8F0FE;\n",
              "      border: none;\n",
              "      border-radius: 50%;\n",
              "      cursor: pointer;\n",
              "      display: none;\n",
              "      fill: #1967D2;\n",
              "      height: 32px;\n",
              "      padding: 0 0 0 0;\n",
              "      width: 32px;\n",
              "    }\n",
              "\n",
              "    .colab-df-convert:hover {\n",
              "      background-color: #E2EBFA;\n",
              "      box-shadow: 0px 1px 2px rgba(60, 64, 67, 0.3), 0px 1px 3px 1px rgba(60, 64, 67, 0.15);\n",
              "      fill: #174EA6;\n",
              "    }\n",
              "\n",
              "    [theme=dark] .colab-df-convert {\n",
              "      background-color: #3B4455;\n",
              "      fill: #D2E3FC;\n",
              "    }\n",
              "\n",
              "    [theme=dark] .colab-df-convert:hover {\n",
              "      background-color: #434B5C;\n",
              "      box-shadow: 0px 1px 3px 1px rgba(0, 0, 0, 0.15);\n",
              "      filter: drop-shadow(0px 1px 2px rgba(0, 0, 0, 0.3));\n",
              "      fill: #FFFFFF;\n",
              "    }\n",
              "  </style>\n",
              "\n",
              "      <script>\n",
              "        const buttonEl =\n",
              "          document.querySelector('#df-3249229c-13a2-4750-861e-06757568049a button.colab-df-convert');\n",
              "        buttonEl.style.display =\n",
              "          google.colab.kernel.accessAllowed ? 'block' : 'none';\n",
              "\n",
              "        async function convertToInteractive(key) {\n",
              "          const element = document.querySelector('#df-3249229c-13a2-4750-861e-06757568049a');\n",
              "          const dataTable =\n",
              "            await google.colab.kernel.invokeFunction('convertToInteractive',\n",
              "                                                     [key], {});\n",
              "          if (!dataTable) return;\n",
              "\n",
              "          const docLinkHtml = 'Like what you see? Visit the ' +\n",
              "            '<a target=\"_blank\" href=https://colab.research.google.com/notebooks/data_table.ipynb>data table notebook</a>'\n",
              "            + ' to learn more about interactive tables.';\n",
              "          element.innerHTML = '';\n",
              "          dataTable['output_type'] = 'display_data';\n",
              "          await google.colab.output.renderOutput(dataTable, element);\n",
              "          const docLink = document.createElement('div');\n",
              "          docLink.innerHTML = docLinkHtml;\n",
              "          element.appendChild(docLink);\n",
              "        }\n",
              "      </script>\n",
              "    </div>\n",
              "  </div>\n",
              "  "
            ]
          },
          "metadata": {},
          "execution_count": 215
        }
      ]
    },
    {
      "cell_type": "code",
      "source": [
        "ndf.head(5)\n"
      ],
      "metadata": {
        "colab": {
          "base_uri": "https://localhost:8080/",
          "height": 424
        },
        "id": "EkkbstUzhoV8",
        "outputId": "8afd58c1-c765-457e-9528-9381cad1f8d6"
      },
      "execution_count": 214,
      "outputs": [
        {
          "output_type": "execute_result",
          "data": {
            "text/plain": [
              "                                                text  \\\n",
              "0  Army Officer, 4 Others Killed In Encounter In ...   \n",
              "1  #AryanKhan Case: No Bail For Him Today, Next H...   \n",
              "2  RT @ndtvfeed: Ex-National Conference Leaders D...   \n",
              "3  RT @ndtvfeed: US Has Lost AI Battle To China, ...   \n",
              "4  RT @ndtvfeed: A Look At Inspiring Messages On ...   \n",
              "\n",
              "                                                 url  \\\n",
              "0  https://www.ndtv.com/india-news/army-officer-4...   \n",
              "1  https://ndtv.com/india-news/mumbai-drug-bust-c...   \n",
              "2  https://www.ndtv.com/india-news/after-resignin...   \n",
              "3  https://www.ndtv.com/world-news/us-has-lost-ar...   \n",
              "4  https://www.ndtv.com/india-news/on-internation...   \n",
              "\n",
              "                                               title  \\\n",
              "0  Army Officer, 4 Personnel Killed In Encounter ...   \n",
              "1  Aryan Khan Case: No Bail For Him Today, Next H...   \n",
              "2  Ex-National Conference Leaders Devender Rana, ...   \n",
              "3  US Has Lost AI Battle To China, Pentagon's Ex-...   \n",
              "4  International Day Of The Girl Child 2021: Lead...   \n",
              "\n",
              "                                             content  bias  retweet_count  \\\n",
              "0  an army officer and four other personnel were ...     3              9   \n",
              "1  aryan khan did not get bail today for the thir...     3              5   \n",
              "2  a day after resigning from the national confer...     1              2   \n",
              "3  china has won the artificial intelligence batt...     0              5   \n",
              "4  various world leaders and un agencies posted w...     3              3   \n",
              "\n",
              "   favorite_count source_name  source  \\\n",
              "0              63        ndtv       0   \n",
              "1              44        ndtv       0   \n",
              "2               0        ndtv       0   \n",
              "3               0        ndtv       0   \n",
              "4               0        ndtv       0   \n",
              "\n",
              "                                                tags  polarity polarity_score  \n",
              "0  [terrorism, armament, defense and military for... -0.031250       Negative  \n",
              "1                           [drug abuse and traffic] -0.018687       Negative  \n",
              "2               [appointments and executive changes]  0.084060       Positive  \n",
              "3  [suspensions, dismissals and resignations, arm...  0.008113       Positive  \n",
              "4                        [women, children and youth]  0.102905       Positive  "
            ],
            "text/html": [
              "\n",
              "  <div id=\"df-90e82597-ad33-41e6-ab16-6476129a43e6\">\n",
              "    <div class=\"colab-df-container\">\n",
              "      <div>\n",
              "<style scoped>\n",
              "    .dataframe tbody tr th:only-of-type {\n",
              "        vertical-align: middle;\n",
              "    }\n",
              "\n",
              "    .dataframe tbody tr th {\n",
              "        vertical-align: top;\n",
              "    }\n",
              "\n",
              "    .dataframe thead th {\n",
              "        text-align: right;\n",
              "    }\n",
              "</style>\n",
              "<table border=\"1\" class=\"dataframe\">\n",
              "  <thead>\n",
              "    <tr style=\"text-align: right;\">\n",
              "      <th></th>\n",
              "      <th>text</th>\n",
              "      <th>url</th>\n",
              "      <th>title</th>\n",
              "      <th>content</th>\n",
              "      <th>bias</th>\n",
              "      <th>retweet_count</th>\n",
              "      <th>favorite_count</th>\n",
              "      <th>source_name</th>\n",
              "      <th>source</th>\n",
              "      <th>tags</th>\n",
              "      <th>polarity</th>\n",
              "      <th>polarity_score</th>\n",
              "    </tr>\n",
              "  </thead>\n",
              "  <tbody>\n",
              "    <tr>\n",
              "      <th>0</th>\n",
              "      <td>Army Officer, 4 Others Killed In Encounter In ...</td>\n",
              "      <td>https://www.ndtv.com/india-news/army-officer-4...</td>\n",
              "      <td>Army Officer, 4 Personnel Killed In Encounter ...</td>\n",
              "      <td>an army officer and four other personnel were ...</td>\n",
              "      <td>3</td>\n",
              "      <td>9</td>\n",
              "      <td>63</td>\n",
              "      <td>ndtv</td>\n",
              "      <td>0</td>\n",
              "      <td>[terrorism, armament, defense and military for...</td>\n",
              "      <td>-0.031250</td>\n",
              "      <td>Negative</td>\n",
              "    </tr>\n",
              "    <tr>\n",
              "      <th>1</th>\n",
              "      <td>#AryanKhan Case: No Bail For Him Today, Next H...</td>\n",
              "      <td>https://ndtv.com/india-news/mumbai-drug-bust-c...</td>\n",
              "      <td>Aryan Khan Case: No Bail For Him Today, Next H...</td>\n",
              "      <td>aryan khan did not get bail today for the thir...</td>\n",
              "      <td>3</td>\n",
              "      <td>5</td>\n",
              "      <td>44</td>\n",
              "      <td>ndtv</td>\n",
              "      <td>0</td>\n",
              "      <td>[drug abuse and traffic]</td>\n",
              "      <td>-0.018687</td>\n",
              "      <td>Negative</td>\n",
              "    </tr>\n",
              "    <tr>\n",
              "      <th>2</th>\n",
              "      <td>RT @ndtvfeed: Ex-National Conference Leaders D...</td>\n",
              "      <td>https://www.ndtv.com/india-news/after-resignin...</td>\n",
              "      <td>Ex-National Conference Leaders Devender Rana, ...</td>\n",
              "      <td>a day after resigning from the national confer...</td>\n",
              "      <td>1</td>\n",
              "      <td>2</td>\n",
              "      <td>0</td>\n",
              "      <td>ndtv</td>\n",
              "      <td>0</td>\n",
              "      <td>[appointments and executive changes]</td>\n",
              "      <td>0.084060</td>\n",
              "      <td>Positive</td>\n",
              "    </tr>\n",
              "    <tr>\n",
              "      <th>3</th>\n",
              "      <td>RT @ndtvfeed: US Has Lost AI Battle To China, ...</td>\n",
              "      <td>https://www.ndtv.com/world-news/us-has-lost-ar...</td>\n",
              "      <td>US Has Lost AI Battle To China, Pentagon's Ex-...</td>\n",
              "      <td>china has won the artificial intelligence batt...</td>\n",
              "      <td>0</td>\n",
              "      <td>5</td>\n",
              "      <td>0</td>\n",
              "      <td>ndtv</td>\n",
              "      <td>0</td>\n",
              "      <td>[suspensions, dismissals and resignations, arm...</td>\n",
              "      <td>0.008113</td>\n",
              "      <td>Positive</td>\n",
              "    </tr>\n",
              "    <tr>\n",
              "      <th>4</th>\n",
              "      <td>RT @ndtvfeed: A Look At Inspiring Messages On ...</td>\n",
              "      <td>https://www.ndtv.com/india-news/on-internation...</td>\n",
              "      <td>International Day Of The Girl Child 2021: Lead...</td>\n",
              "      <td>various world leaders and un agencies posted w...</td>\n",
              "      <td>3</td>\n",
              "      <td>3</td>\n",
              "      <td>0</td>\n",
              "      <td>ndtv</td>\n",
              "      <td>0</td>\n",
              "      <td>[women, children and youth]</td>\n",
              "      <td>0.102905</td>\n",
              "      <td>Positive</td>\n",
              "    </tr>\n",
              "  </tbody>\n",
              "</table>\n",
              "</div>\n",
              "      <button class=\"colab-df-convert\" onclick=\"convertToInteractive('df-90e82597-ad33-41e6-ab16-6476129a43e6')\"\n",
              "              title=\"Convert this dataframe to an interactive table.\"\n",
              "              style=\"display:none;\">\n",
              "        \n",
              "  <svg xmlns=\"http://www.w3.org/2000/svg\" height=\"24px\"viewBox=\"0 0 24 24\"\n",
              "       width=\"24px\">\n",
              "    <path d=\"M0 0h24v24H0V0z\" fill=\"none\"/>\n",
              "    <path d=\"M18.56 5.44l.94 2.06.94-2.06 2.06-.94-2.06-.94-.94-2.06-.94 2.06-2.06.94zm-11 1L8.5 8.5l.94-2.06 2.06-.94-2.06-.94L8.5 2.5l-.94 2.06-2.06.94zm10 10l.94 2.06.94-2.06 2.06-.94-2.06-.94-.94-2.06-.94 2.06-2.06.94z\"/><path d=\"M17.41 7.96l-1.37-1.37c-.4-.4-.92-.59-1.43-.59-.52 0-1.04.2-1.43.59L10.3 9.45l-7.72 7.72c-.78.78-.78 2.05 0 2.83L4 21.41c.39.39.9.59 1.41.59.51 0 1.02-.2 1.41-.59l7.78-7.78 2.81-2.81c.8-.78.8-2.07 0-2.86zM5.41 20L4 18.59l7.72-7.72 1.47 1.35L5.41 20z\"/>\n",
              "  </svg>\n",
              "      </button>\n",
              "      \n",
              "  <style>\n",
              "    .colab-df-container {\n",
              "      display:flex;\n",
              "      flex-wrap:wrap;\n",
              "      gap: 12px;\n",
              "    }\n",
              "\n",
              "    .colab-df-convert {\n",
              "      background-color: #E8F0FE;\n",
              "      border: none;\n",
              "      border-radius: 50%;\n",
              "      cursor: pointer;\n",
              "      display: none;\n",
              "      fill: #1967D2;\n",
              "      height: 32px;\n",
              "      padding: 0 0 0 0;\n",
              "      width: 32px;\n",
              "    }\n",
              "\n",
              "    .colab-df-convert:hover {\n",
              "      background-color: #E2EBFA;\n",
              "      box-shadow: 0px 1px 2px rgba(60, 64, 67, 0.3), 0px 1px 3px 1px rgba(60, 64, 67, 0.15);\n",
              "      fill: #174EA6;\n",
              "    }\n",
              "\n",
              "    [theme=dark] .colab-df-convert {\n",
              "      background-color: #3B4455;\n",
              "      fill: #D2E3FC;\n",
              "    }\n",
              "\n",
              "    [theme=dark] .colab-df-convert:hover {\n",
              "      background-color: #434B5C;\n",
              "      box-shadow: 0px 1px 3px 1px rgba(0, 0, 0, 0.15);\n",
              "      filter: drop-shadow(0px 1px 2px rgba(0, 0, 0, 0.3));\n",
              "      fill: #FFFFFF;\n",
              "    }\n",
              "  </style>\n",
              "\n",
              "      <script>\n",
              "        const buttonEl =\n",
              "          document.querySelector('#df-90e82597-ad33-41e6-ab16-6476129a43e6 button.colab-df-convert');\n",
              "        buttonEl.style.display =\n",
              "          google.colab.kernel.accessAllowed ? 'block' : 'none';\n",
              "\n",
              "        async function convertToInteractive(key) {\n",
              "          const element = document.querySelector('#df-90e82597-ad33-41e6-ab16-6476129a43e6');\n",
              "          const dataTable =\n",
              "            await google.colab.kernel.invokeFunction('convertToInteractive',\n",
              "                                                     [key], {});\n",
              "          if (!dataTable) return;\n",
              "\n",
              "          const docLinkHtml = 'Like what you see? Visit the ' +\n",
              "            '<a target=\"_blank\" href=https://colab.research.google.com/notebooks/data_table.ipynb>data table notebook</a>'\n",
              "            + ' to learn more about interactive tables.';\n",
              "          element.innerHTML = '';\n",
              "          dataTable['output_type'] = 'display_data';\n",
              "          await google.colab.output.renderOutput(dataTable, element);\n",
              "          const docLink = document.createElement('div');\n",
              "          docLink.innerHTML = docLinkHtml;\n",
              "          element.appendChild(docLink);\n",
              "        }\n",
              "      </script>\n",
              "    </div>\n",
              "  </div>\n",
              "  "
            ]
          },
          "metadata": {},
          "execution_count": 214
        }
      ]
    },
    {
      "cell_type": "markdown",
      "source": [
        "Subjectivity"
      ],
      "metadata": {
        "id": "T1g9tsE8hNVa"
      }
    },
    {
      "cell_type": "code",
      "source": [
        "listx=[]\n",
        "for x1 in range(len(ndf)):\n",
        "  listx.append(TextBlob(ndf['content'][x1]).sentiment.subjectivity)\n",
        "ndf['subjectivity']=listx\n"
      ],
      "metadata": {
        "id": "knTC78a5hIwy"
      },
      "execution_count": 217,
      "outputs": []
    },
    {
      "cell_type": "code",
      "source": [
        "listx=[]\n",
        "for x1 in range(len(rdf)):\n",
        "  listx.append(TextBlob(rdf['content'][x1]).sentiment.subjectivity)\n",
        "rdf['subjectivity']=listx\n"
      ],
      "metadata": {
        "id": "OOVMKY0WhJ17"
      },
      "execution_count": 218,
      "outputs": []
    },
    {
      "cell_type": "code",
      "source": [
        "ndf.head()"
      ],
      "metadata": {
        "colab": {
          "base_uri": "https://localhost:8080/",
          "height": 511
        },
        "id": "Av6jlgc_gHUC",
        "outputId": "043f14db-daaa-4ec1-bb26-c7cac9cbbcd5"
      },
      "execution_count": 219,
      "outputs": [
        {
          "output_type": "execute_result",
          "data": {
            "text/plain": [
              "                                                text  \\\n",
              "0  Army Officer, 4 Others Killed In Encounter In ...   \n",
              "1  #AryanKhan Case: No Bail For Him Today, Next H...   \n",
              "2  RT @ndtvfeed: Ex-National Conference Leaders D...   \n",
              "3  RT @ndtvfeed: US Has Lost AI Battle To China, ...   \n",
              "4  RT @ndtvfeed: A Look At Inspiring Messages On ...   \n",
              "\n",
              "                                                 url  \\\n",
              "0  https://www.ndtv.com/india-news/army-officer-4...   \n",
              "1  https://ndtv.com/india-news/mumbai-drug-bust-c...   \n",
              "2  https://www.ndtv.com/india-news/after-resignin...   \n",
              "3  https://www.ndtv.com/world-news/us-has-lost-ar...   \n",
              "4  https://www.ndtv.com/india-news/on-internation...   \n",
              "\n",
              "                                               title  \\\n",
              "0  Army Officer, 4 Personnel Killed In Encounter ...   \n",
              "1  Aryan Khan Case: No Bail For Him Today, Next H...   \n",
              "2  Ex-National Conference Leaders Devender Rana, ...   \n",
              "3  US Has Lost AI Battle To China, Pentagon's Ex-...   \n",
              "4  International Day Of The Girl Child 2021: Lead...   \n",
              "\n",
              "                                             content  bias  retweet_count  \\\n",
              "0  an army officer and four other personnel were ...     3              9   \n",
              "1  aryan khan did not get bail today for the thir...     3              5   \n",
              "2  a day after resigning from the national confer...     1              2   \n",
              "3  china has won the artificial intelligence batt...     0              5   \n",
              "4  various world leaders and un agencies posted w...     3              3   \n",
              "\n",
              "   favorite_count source_name  source  \\\n",
              "0              63        ndtv       0   \n",
              "1              44        ndtv       0   \n",
              "2               0        ndtv       0   \n",
              "3               0        ndtv       0   \n",
              "4               0        ndtv       0   \n",
              "\n",
              "                                                tags  polarity polarity_score  \\\n",
              "0  [terrorism, armament, defense and military for... -0.031250       Negative   \n",
              "1                           [drug abuse and traffic] -0.018687       Negative   \n",
              "2               [appointments and executive changes]  0.084060       Positive   \n",
              "3  [suspensions, dismissals and resignations, arm...  0.008113       Positive   \n",
              "4                        [women, children and youth]  0.102905       Positive   \n",
              "\n",
              "   subjectivity  \n",
              "0      0.318750  \n",
              "1      0.407323  \n",
              "2      0.199474  \n",
              "3      0.385273  \n",
              "4      0.209667  "
            ],
            "text/html": [
              "\n",
              "  <div id=\"df-b676fe35-c1f9-43bf-b412-2288a60619c2\">\n",
              "    <div class=\"colab-df-container\">\n",
              "      <div>\n",
              "<style scoped>\n",
              "    .dataframe tbody tr th:only-of-type {\n",
              "        vertical-align: middle;\n",
              "    }\n",
              "\n",
              "    .dataframe tbody tr th {\n",
              "        vertical-align: top;\n",
              "    }\n",
              "\n",
              "    .dataframe thead th {\n",
              "        text-align: right;\n",
              "    }\n",
              "</style>\n",
              "<table border=\"1\" class=\"dataframe\">\n",
              "  <thead>\n",
              "    <tr style=\"text-align: right;\">\n",
              "      <th></th>\n",
              "      <th>text</th>\n",
              "      <th>url</th>\n",
              "      <th>title</th>\n",
              "      <th>content</th>\n",
              "      <th>bias</th>\n",
              "      <th>retweet_count</th>\n",
              "      <th>favorite_count</th>\n",
              "      <th>source_name</th>\n",
              "      <th>source</th>\n",
              "      <th>tags</th>\n",
              "      <th>polarity</th>\n",
              "      <th>polarity_score</th>\n",
              "      <th>subjectivity</th>\n",
              "    </tr>\n",
              "  </thead>\n",
              "  <tbody>\n",
              "    <tr>\n",
              "      <th>0</th>\n",
              "      <td>Army Officer, 4 Others Killed In Encounter In ...</td>\n",
              "      <td>https://www.ndtv.com/india-news/army-officer-4...</td>\n",
              "      <td>Army Officer, 4 Personnel Killed In Encounter ...</td>\n",
              "      <td>an army officer and four other personnel were ...</td>\n",
              "      <td>3</td>\n",
              "      <td>9</td>\n",
              "      <td>63</td>\n",
              "      <td>ndtv</td>\n",
              "      <td>0</td>\n",
              "      <td>[terrorism, armament, defense and military for...</td>\n",
              "      <td>-0.031250</td>\n",
              "      <td>Negative</td>\n",
              "      <td>0.318750</td>\n",
              "    </tr>\n",
              "    <tr>\n",
              "      <th>1</th>\n",
              "      <td>#AryanKhan Case: No Bail For Him Today, Next H...</td>\n",
              "      <td>https://ndtv.com/india-news/mumbai-drug-bust-c...</td>\n",
              "      <td>Aryan Khan Case: No Bail For Him Today, Next H...</td>\n",
              "      <td>aryan khan did not get bail today for the thir...</td>\n",
              "      <td>3</td>\n",
              "      <td>5</td>\n",
              "      <td>44</td>\n",
              "      <td>ndtv</td>\n",
              "      <td>0</td>\n",
              "      <td>[drug abuse and traffic]</td>\n",
              "      <td>-0.018687</td>\n",
              "      <td>Negative</td>\n",
              "      <td>0.407323</td>\n",
              "    </tr>\n",
              "    <tr>\n",
              "      <th>2</th>\n",
              "      <td>RT @ndtvfeed: Ex-National Conference Leaders D...</td>\n",
              "      <td>https://www.ndtv.com/india-news/after-resignin...</td>\n",
              "      <td>Ex-National Conference Leaders Devender Rana, ...</td>\n",
              "      <td>a day after resigning from the national confer...</td>\n",
              "      <td>1</td>\n",
              "      <td>2</td>\n",
              "      <td>0</td>\n",
              "      <td>ndtv</td>\n",
              "      <td>0</td>\n",
              "      <td>[appointments and executive changes]</td>\n",
              "      <td>0.084060</td>\n",
              "      <td>Positive</td>\n",
              "      <td>0.199474</td>\n",
              "    </tr>\n",
              "    <tr>\n",
              "      <th>3</th>\n",
              "      <td>RT @ndtvfeed: US Has Lost AI Battle To China, ...</td>\n",
              "      <td>https://www.ndtv.com/world-news/us-has-lost-ar...</td>\n",
              "      <td>US Has Lost AI Battle To China, Pentagon's Ex-...</td>\n",
              "      <td>china has won the artificial intelligence batt...</td>\n",
              "      <td>0</td>\n",
              "      <td>5</td>\n",
              "      <td>0</td>\n",
              "      <td>ndtv</td>\n",
              "      <td>0</td>\n",
              "      <td>[suspensions, dismissals and resignations, arm...</td>\n",
              "      <td>0.008113</td>\n",
              "      <td>Positive</td>\n",
              "      <td>0.385273</td>\n",
              "    </tr>\n",
              "    <tr>\n",
              "      <th>4</th>\n",
              "      <td>RT @ndtvfeed: A Look At Inspiring Messages On ...</td>\n",
              "      <td>https://www.ndtv.com/india-news/on-internation...</td>\n",
              "      <td>International Day Of The Girl Child 2021: Lead...</td>\n",
              "      <td>various world leaders and un agencies posted w...</td>\n",
              "      <td>3</td>\n",
              "      <td>3</td>\n",
              "      <td>0</td>\n",
              "      <td>ndtv</td>\n",
              "      <td>0</td>\n",
              "      <td>[women, children and youth]</td>\n",
              "      <td>0.102905</td>\n",
              "      <td>Positive</td>\n",
              "      <td>0.209667</td>\n",
              "    </tr>\n",
              "  </tbody>\n",
              "</table>\n",
              "</div>\n",
              "      <button class=\"colab-df-convert\" onclick=\"convertToInteractive('df-b676fe35-c1f9-43bf-b412-2288a60619c2')\"\n",
              "              title=\"Convert this dataframe to an interactive table.\"\n",
              "              style=\"display:none;\">\n",
              "        \n",
              "  <svg xmlns=\"http://www.w3.org/2000/svg\" height=\"24px\"viewBox=\"0 0 24 24\"\n",
              "       width=\"24px\">\n",
              "    <path d=\"M0 0h24v24H0V0z\" fill=\"none\"/>\n",
              "    <path d=\"M18.56 5.44l.94 2.06.94-2.06 2.06-.94-2.06-.94-.94-2.06-.94 2.06-2.06.94zm-11 1L8.5 8.5l.94-2.06 2.06-.94-2.06-.94L8.5 2.5l-.94 2.06-2.06.94zm10 10l.94 2.06.94-2.06 2.06-.94-2.06-.94-.94-2.06-.94 2.06-2.06.94z\"/><path d=\"M17.41 7.96l-1.37-1.37c-.4-.4-.92-.59-1.43-.59-.52 0-1.04.2-1.43.59L10.3 9.45l-7.72 7.72c-.78.78-.78 2.05 0 2.83L4 21.41c.39.39.9.59 1.41.59.51 0 1.02-.2 1.41-.59l7.78-7.78 2.81-2.81c.8-.78.8-2.07 0-2.86zM5.41 20L4 18.59l7.72-7.72 1.47 1.35L5.41 20z\"/>\n",
              "  </svg>\n",
              "      </button>\n",
              "      \n",
              "  <style>\n",
              "    .colab-df-container {\n",
              "      display:flex;\n",
              "      flex-wrap:wrap;\n",
              "      gap: 12px;\n",
              "    }\n",
              "\n",
              "    .colab-df-convert {\n",
              "      background-color: #E8F0FE;\n",
              "      border: none;\n",
              "      border-radius: 50%;\n",
              "      cursor: pointer;\n",
              "      display: none;\n",
              "      fill: #1967D2;\n",
              "      height: 32px;\n",
              "      padding: 0 0 0 0;\n",
              "      width: 32px;\n",
              "    }\n",
              "\n",
              "    .colab-df-convert:hover {\n",
              "      background-color: #E2EBFA;\n",
              "      box-shadow: 0px 1px 2px rgba(60, 64, 67, 0.3), 0px 1px 3px 1px rgba(60, 64, 67, 0.15);\n",
              "      fill: #174EA6;\n",
              "    }\n",
              "\n",
              "    [theme=dark] .colab-df-convert {\n",
              "      background-color: #3B4455;\n",
              "      fill: #D2E3FC;\n",
              "    }\n",
              "\n",
              "    [theme=dark] .colab-df-convert:hover {\n",
              "      background-color: #434B5C;\n",
              "      box-shadow: 0px 1px 3px 1px rgba(0, 0, 0, 0.15);\n",
              "      filter: drop-shadow(0px 1px 2px rgba(0, 0, 0, 0.3));\n",
              "      fill: #FFFFFF;\n",
              "    }\n",
              "  </style>\n",
              "\n",
              "      <script>\n",
              "        const buttonEl =\n",
              "          document.querySelector('#df-b676fe35-c1f9-43bf-b412-2288a60619c2 button.colab-df-convert');\n",
              "        buttonEl.style.display =\n",
              "          google.colab.kernel.accessAllowed ? 'block' : 'none';\n",
              "\n",
              "        async function convertToInteractive(key) {\n",
              "          const element = document.querySelector('#df-b676fe35-c1f9-43bf-b412-2288a60619c2');\n",
              "          const dataTable =\n",
              "            await google.colab.kernel.invokeFunction('convertToInteractive',\n",
              "                                                     [key], {});\n",
              "          if (!dataTable) return;\n",
              "\n",
              "          const docLinkHtml = 'Like what you see? Visit the ' +\n",
              "            '<a target=\"_blank\" href=https://colab.research.google.com/notebooks/data_table.ipynb>data table notebook</a>'\n",
              "            + ' to learn more about interactive tables.';\n",
              "          element.innerHTML = '';\n",
              "          dataTable['output_type'] = 'display_data';\n",
              "          await google.colab.output.renderOutput(dataTable, element);\n",
              "          const docLink = document.createElement('div');\n",
              "          docLink.innerHTML = docLinkHtml;\n",
              "          element.appendChild(docLink);\n",
              "        }\n",
              "      </script>\n",
              "    </div>\n",
              "  </div>\n",
              "  "
            ]
          },
          "metadata": {},
          "execution_count": 219
        }
      ]
    },
    {
      "cell_type": "code",
      "source": [
        "rdf.head()"
      ],
      "metadata": {
        "colab": {
          "base_uri": "https://localhost:8080/",
          "height": 528
        },
        "id": "kon6BfHviU-F",
        "outputId": "647cf831-860b-4eb5-e1ec-5a8799adcd59"
      },
      "execution_count": 220,
      "outputs": [
        {
          "output_type": "execute_result",
          "data": {
            "text/plain": [
              "                                                text  \\\n",
              "0  Why did Kerala have a backlog of 7,000 COVID-1...   \n",
              "1  Kerala artist creates 24-foot-long Theyyam's f...   \n",
              "2  PM Modi launches Indian Space Association, hig...   \n",
              "3  NEET Phase 2 registration 2021 to end today, h...   \n",
              "4  US, UK issue advisory; warn citizens to avoid ...   \n",
              "\n",
              "                                                 url  \\\n",
              "0  https://www.republicworld.com/india-news/gener...   \n",
              "1  https://www.republicworld.com/india-news/city-...   \n",
              "2  https://www.republicworld.com/india-news/gener...   \n",
              "3  https://www.republicworld.com/india-news/educa...   \n",
              "4  https://www.republicworld.com/world-news/rest-...   \n",
              "\n",
              "                                               title  \\\n",
              "0  Why Did Kerala Have A Backlog Of 7,000 COVID-1...   \n",
              "1  Kerala Artist Creates 24-foot-long Theyyam's F...   \n",
              "2  Govt as an enabler..': PM Modi Launches Indian...   \n",
              "3  NEET Phase 2 Registration 2021 To End Today, H...   \n",
              "4  Leave immediately' | US, UK Issue Advisory; Wa...   \n",
              "\n",
              "                                             content  bias  retweet_count  \\\n",
              "0  in a recent update to the covid situation in k...     3            3.0   \n",
              "1  a kerala-based artist created an installation ...     3            2.0   \n",
              "2  modi modi on monday launched indian space sect...     1            4.0   \n",
              "3  neet phase 2 registration: national testing ag...     3            1.0   \n",
              "4  the united states and britain on monday, 11 oc...     3            2.0   \n",
              "\n",
              "   favorite_count source_name  source  \\\n",
              "0             6.0  republictv       1   \n",
              "1            14.0  republictv       1   \n",
              "2            27.0  republictv       1   \n",
              "3             5.0  republictv       1   \n",
              "4            11.0  republictv       1   \n",
              "\n",
              "                                                tags  polarity polarity_score  \\\n",
              "0  [medicine and health, diseases and conditions,...  0.104411       Positive   \n",
              "1           [art, food, bakeries and baked products] -0.018981       Negative   \n",
              "2                                            [space]  0.130303       Positive   \n",
              "3  [politics and government, elections, tests and...  0.111111       Positive   \n",
              "4  [terrorism, religion and churches, bombs and e... -0.009491       Negative   \n",
              "\n",
              "   subjectivity  \n",
              "0      0.477418  \n",
              "1      0.414815  \n",
              "2      0.530038  \n",
              "3      0.728858  \n",
              "4      0.392130  "
            ],
            "text/html": [
              "\n",
              "  <div id=\"df-3e77486f-1ee8-4ae7-af3d-1bc62fd841cf\">\n",
              "    <div class=\"colab-df-container\">\n",
              "      <div>\n",
              "<style scoped>\n",
              "    .dataframe tbody tr th:only-of-type {\n",
              "        vertical-align: middle;\n",
              "    }\n",
              "\n",
              "    .dataframe tbody tr th {\n",
              "        vertical-align: top;\n",
              "    }\n",
              "\n",
              "    .dataframe thead th {\n",
              "        text-align: right;\n",
              "    }\n",
              "</style>\n",
              "<table border=\"1\" class=\"dataframe\">\n",
              "  <thead>\n",
              "    <tr style=\"text-align: right;\">\n",
              "      <th></th>\n",
              "      <th>text</th>\n",
              "      <th>url</th>\n",
              "      <th>title</th>\n",
              "      <th>content</th>\n",
              "      <th>bias</th>\n",
              "      <th>retweet_count</th>\n",
              "      <th>favorite_count</th>\n",
              "      <th>source_name</th>\n",
              "      <th>source</th>\n",
              "      <th>tags</th>\n",
              "      <th>polarity</th>\n",
              "      <th>polarity_score</th>\n",
              "      <th>subjectivity</th>\n",
              "    </tr>\n",
              "  </thead>\n",
              "  <tbody>\n",
              "    <tr>\n",
              "      <th>0</th>\n",
              "      <td>Why did Kerala have a backlog of 7,000 COVID-1...</td>\n",
              "      <td>https://www.republicworld.com/india-news/gener...</td>\n",
              "      <td>Why Did Kerala Have A Backlog Of 7,000 COVID-1...</td>\n",
              "      <td>in a recent update to the covid situation in k...</td>\n",
              "      <td>3</td>\n",
              "      <td>3.0</td>\n",
              "      <td>6.0</td>\n",
              "      <td>republictv</td>\n",
              "      <td>1</td>\n",
              "      <td>[medicine and health, diseases and conditions,...</td>\n",
              "      <td>0.104411</td>\n",
              "      <td>Positive</td>\n",
              "      <td>0.477418</td>\n",
              "    </tr>\n",
              "    <tr>\n",
              "      <th>1</th>\n",
              "      <td>Kerala artist creates 24-foot-long Theyyam's f...</td>\n",
              "      <td>https://www.republicworld.com/india-news/city-...</td>\n",
              "      <td>Kerala Artist Creates 24-foot-long Theyyam's F...</td>\n",
              "      <td>a kerala-based artist created an installation ...</td>\n",
              "      <td>3</td>\n",
              "      <td>2.0</td>\n",
              "      <td>14.0</td>\n",
              "      <td>republictv</td>\n",
              "      <td>1</td>\n",
              "      <td>[art, food, bakeries and baked products]</td>\n",
              "      <td>-0.018981</td>\n",
              "      <td>Negative</td>\n",
              "      <td>0.414815</td>\n",
              "    </tr>\n",
              "    <tr>\n",
              "      <th>2</th>\n",
              "      <td>PM Modi launches Indian Space Association, hig...</td>\n",
              "      <td>https://www.republicworld.com/india-news/gener...</td>\n",
              "      <td>Govt as an enabler..': PM Modi Launches Indian...</td>\n",
              "      <td>modi modi on monday launched indian space sect...</td>\n",
              "      <td>1</td>\n",
              "      <td>4.0</td>\n",
              "      <td>27.0</td>\n",
              "      <td>republictv</td>\n",
              "      <td>1</td>\n",
              "      <td>[space]</td>\n",
              "      <td>0.130303</td>\n",
              "      <td>Positive</td>\n",
              "      <td>0.530038</td>\n",
              "    </tr>\n",
              "    <tr>\n",
              "      <th>3</th>\n",
              "      <td>NEET Phase 2 registration 2021 to end today, h...</td>\n",
              "      <td>https://www.republicworld.com/india-news/educa...</td>\n",
              "      <td>NEET Phase 2 Registration 2021 To End Today, H...</td>\n",
              "      <td>neet phase 2 registration: national testing ag...</td>\n",
              "      <td>3</td>\n",
              "      <td>1.0</td>\n",
              "      <td>5.0</td>\n",
              "      <td>republictv</td>\n",
              "      <td>1</td>\n",
              "      <td>[politics and government, elections, tests and...</td>\n",
              "      <td>0.111111</td>\n",
              "      <td>Positive</td>\n",
              "      <td>0.728858</td>\n",
              "    </tr>\n",
              "    <tr>\n",
              "      <th>4</th>\n",
              "      <td>US, UK issue advisory; warn citizens to avoid ...</td>\n",
              "      <td>https://www.republicworld.com/world-news/rest-...</td>\n",
              "      <td>Leave immediately' | US, UK Issue Advisory; Wa...</td>\n",
              "      <td>the united states and britain on monday, 11 oc...</td>\n",
              "      <td>3</td>\n",
              "      <td>2.0</td>\n",
              "      <td>11.0</td>\n",
              "      <td>republictv</td>\n",
              "      <td>1</td>\n",
              "      <td>[terrorism, religion and churches, bombs and e...</td>\n",
              "      <td>-0.009491</td>\n",
              "      <td>Negative</td>\n",
              "      <td>0.392130</td>\n",
              "    </tr>\n",
              "  </tbody>\n",
              "</table>\n",
              "</div>\n",
              "      <button class=\"colab-df-convert\" onclick=\"convertToInteractive('df-3e77486f-1ee8-4ae7-af3d-1bc62fd841cf')\"\n",
              "              title=\"Convert this dataframe to an interactive table.\"\n",
              "              style=\"display:none;\">\n",
              "        \n",
              "  <svg xmlns=\"http://www.w3.org/2000/svg\" height=\"24px\"viewBox=\"0 0 24 24\"\n",
              "       width=\"24px\">\n",
              "    <path d=\"M0 0h24v24H0V0z\" fill=\"none\"/>\n",
              "    <path d=\"M18.56 5.44l.94 2.06.94-2.06 2.06-.94-2.06-.94-.94-2.06-.94 2.06-2.06.94zm-11 1L8.5 8.5l.94-2.06 2.06-.94-2.06-.94L8.5 2.5l-.94 2.06-2.06.94zm10 10l.94 2.06.94-2.06 2.06-.94-2.06-.94-.94-2.06-.94 2.06-2.06.94z\"/><path d=\"M17.41 7.96l-1.37-1.37c-.4-.4-.92-.59-1.43-.59-.52 0-1.04.2-1.43.59L10.3 9.45l-7.72 7.72c-.78.78-.78 2.05 0 2.83L4 21.41c.39.39.9.59 1.41.59.51 0 1.02-.2 1.41-.59l7.78-7.78 2.81-2.81c.8-.78.8-2.07 0-2.86zM5.41 20L4 18.59l7.72-7.72 1.47 1.35L5.41 20z\"/>\n",
              "  </svg>\n",
              "      </button>\n",
              "      \n",
              "  <style>\n",
              "    .colab-df-container {\n",
              "      display:flex;\n",
              "      flex-wrap:wrap;\n",
              "      gap: 12px;\n",
              "    }\n",
              "\n",
              "    .colab-df-convert {\n",
              "      background-color: #E8F0FE;\n",
              "      border: none;\n",
              "      border-radius: 50%;\n",
              "      cursor: pointer;\n",
              "      display: none;\n",
              "      fill: #1967D2;\n",
              "      height: 32px;\n",
              "      padding: 0 0 0 0;\n",
              "      width: 32px;\n",
              "    }\n",
              "\n",
              "    .colab-df-convert:hover {\n",
              "      background-color: #E2EBFA;\n",
              "      box-shadow: 0px 1px 2px rgba(60, 64, 67, 0.3), 0px 1px 3px 1px rgba(60, 64, 67, 0.15);\n",
              "      fill: #174EA6;\n",
              "    }\n",
              "\n",
              "    [theme=dark] .colab-df-convert {\n",
              "      background-color: #3B4455;\n",
              "      fill: #D2E3FC;\n",
              "    }\n",
              "\n",
              "    [theme=dark] .colab-df-convert:hover {\n",
              "      background-color: #434B5C;\n",
              "      box-shadow: 0px 1px 3px 1px rgba(0, 0, 0, 0.15);\n",
              "      filter: drop-shadow(0px 1px 2px rgba(0, 0, 0, 0.3));\n",
              "      fill: #FFFFFF;\n",
              "    }\n",
              "  </style>\n",
              "\n",
              "      <script>\n",
              "        const buttonEl =\n",
              "          document.querySelector('#df-3e77486f-1ee8-4ae7-af3d-1bc62fd841cf button.colab-df-convert');\n",
              "        buttonEl.style.display =\n",
              "          google.colab.kernel.accessAllowed ? 'block' : 'none';\n",
              "\n",
              "        async function convertToInteractive(key) {\n",
              "          const element = document.querySelector('#df-3e77486f-1ee8-4ae7-af3d-1bc62fd841cf');\n",
              "          const dataTable =\n",
              "            await google.colab.kernel.invokeFunction('convertToInteractive',\n",
              "                                                     [key], {});\n",
              "          if (!dataTable) return;\n",
              "\n",
              "          const docLinkHtml = 'Like what you see? Visit the ' +\n",
              "            '<a target=\"_blank\" href=https://colab.research.google.com/notebooks/data_table.ipynb>data table notebook</a>'\n",
              "            + ' to learn more about interactive tables.';\n",
              "          element.innerHTML = '';\n",
              "          dataTable['output_type'] = 'display_data';\n",
              "          await google.colab.output.renderOutput(dataTable, element);\n",
              "          const docLink = document.createElement('div');\n",
              "          docLink.innerHTML = docLinkHtml;\n",
              "          element.appendChild(docLink);\n",
              "        }\n",
              "      </script>\n",
              "    </div>\n",
              "  </div>\n",
              "  "
            ]
          },
          "metadata": {},
          "execution_count": 220
        }
      ]
    },
    {
      "cell_type": "code",
      "source": [
        "def getsubAnalysis(score):\n",
        "  if score > 0.5:\n",
        "    return \"High subjectivity\"\n",
        "  else:\n",
        "    return \"Low subjectivity\""
      ],
      "metadata": {
        "id": "lAF_p2NJkZD7"
      },
      "execution_count": 231,
      "outputs": []
    },
    {
      "cell_type": "code",
      "source": [
        "rdf[\"subjectivity_score\"] = rdf[\"subjectivity\"].apply(getsubAnalysis)\n",
        "ndf[\"subjectivity_score\"] = ndf[\"subjectivity\"].apply(getsubAnalysis)\n"
      ],
      "metadata": {
        "id": "IYuBt9SJkbJr"
      },
      "execution_count": 232,
      "outputs": []
    },
    {
      "cell_type": "code",
      "source": [
        "rdf.head()"
      ],
      "metadata": {
        "colab": {
          "base_uri": "https://localhost:8080/",
          "height": 669
        },
        "id": "lMI-jdsnktYy",
        "outputId": "37dccff5-6604-4326-a275-a0f4e1810e4d"
      },
      "execution_count": 233,
      "outputs": [
        {
          "output_type": "execute_result",
          "data": {
            "text/plain": [
              "                                                text  \\\n",
              "0  Why did Kerala have a backlog of 7,000 COVID-1...   \n",
              "1  Kerala artist creates 24-foot-long Theyyam's f...   \n",
              "2  PM Modi launches Indian Space Association, hig...   \n",
              "3  NEET Phase 2 registration 2021 to end today, h...   \n",
              "4  US, UK issue advisory; warn citizens to avoid ...   \n",
              "\n",
              "                                                 url  \\\n",
              "0  https://www.republicworld.com/india-news/gener...   \n",
              "1  https://www.republicworld.com/india-news/city-...   \n",
              "2  https://www.republicworld.com/india-news/gener...   \n",
              "3  https://www.republicworld.com/india-news/educa...   \n",
              "4  https://www.republicworld.com/world-news/rest-...   \n",
              "\n",
              "                                               title  \\\n",
              "0  Why Did Kerala Have A Backlog Of 7,000 COVID-1...   \n",
              "1  Kerala Artist Creates 24-foot-long Theyyam's F...   \n",
              "2  Govt as an enabler..': PM Modi Launches Indian...   \n",
              "3  NEET Phase 2 Registration 2021 To End Today, H...   \n",
              "4  Leave immediately' | US, UK Issue Advisory; Wa...   \n",
              "\n",
              "                                             content  bias  retweet_count  \\\n",
              "0  in a recent update to the covid situation in k...     3            3.0   \n",
              "1  a kerala-based artist created an installation ...     3            2.0   \n",
              "2  modi modi on monday launched indian space sect...     1            4.0   \n",
              "3  neet phase 2 registration: national testing ag...     3            1.0   \n",
              "4  the united states and britain on monday, 11 oc...     3            2.0   \n",
              "\n",
              "   favorite_count source_name  source  \\\n",
              "0             6.0  republictv       1   \n",
              "1            14.0  republictv       1   \n",
              "2            27.0  republictv       1   \n",
              "3             5.0  republictv       1   \n",
              "4            11.0  republictv       1   \n",
              "\n",
              "                                                tags  polarity polarity_score  \\\n",
              "0  [medicine and health, diseases and conditions,...  0.104411       Positive   \n",
              "1           [art, food, bakeries and baked products] -0.018981       Negative   \n",
              "2                                            [space]  0.130303       Positive   \n",
              "3  [politics and government, elections, tests and...  0.111111       Positive   \n",
              "4  [terrorism, religion and churches, bombs and e... -0.009491       Negative   \n",
              "\n",
              "   subjectivity subjectivity_score  \n",
              "0      0.477418   Low subjectivity  \n",
              "1      0.414815   Low subjectivity  \n",
              "2      0.530038  High subjectivity  \n",
              "3      0.728858  High subjectivity  \n",
              "4      0.392130   Low subjectivity  "
            ],
            "text/html": [
              "\n",
              "  <div id=\"df-7a90709c-d57c-4a70-a0b3-3b2429f7f286\">\n",
              "    <div class=\"colab-df-container\">\n",
              "      <div>\n",
              "<style scoped>\n",
              "    .dataframe tbody tr th:only-of-type {\n",
              "        vertical-align: middle;\n",
              "    }\n",
              "\n",
              "    .dataframe tbody tr th {\n",
              "        vertical-align: top;\n",
              "    }\n",
              "\n",
              "    .dataframe thead th {\n",
              "        text-align: right;\n",
              "    }\n",
              "</style>\n",
              "<table border=\"1\" class=\"dataframe\">\n",
              "  <thead>\n",
              "    <tr style=\"text-align: right;\">\n",
              "      <th></th>\n",
              "      <th>text</th>\n",
              "      <th>url</th>\n",
              "      <th>title</th>\n",
              "      <th>content</th>\n",
              "      <th>bias</th>\n",
              "      <th>retweet_count</th>\n",
              "      <th>favorite_count</th>\n",
              "      <th>source_name</th>\n",
              "      <th>source</th>\n",
              "      <th>tags</th>\n",
              "      <th>polarity</th>\n",
              "      <th>polarity_score</th>\n",
              "      <th>subjectivity</th>\n",
              "      <th>subjectivity_score</th>\n",
              "    </tr>\n",
              "  </thead>\n",
              "  <tbody>\n",
              "    <tr>\n",
              "      <th>0</th>\n",
              "      <td>Why did Kerala have a backlog of 7,000 COVID-1...</td>\n",
              "      <td>https://www.republicworld.com/india-news/gener...</td>\n",
              "      <td>Why Did Kerala Have A Backlog Of 7,000 COVID-1...</td>\n",
              "      <td>in a recent update to the covid situation in k...</td>\n",
              "      <td>3</td>\n",
              "      <td>3.0</td>\n",
              "      <td>6.0</td>\n",
              "      <td>republictv</td>\n",
              "      <td>1</td>\n",
              "      <td>[medicine and health, diseases and conditions,...</td>\n",
              "      <td>0.104411</td>\n",
              "      <td>Positive</td>\n",
              "      <td>0.477418</td>\n",
              "      <td>Low subjectivity</td>\n",
              "    </tr>\n",
              "    <tr>\n",
              "      <th>1</th>\n",
              "      <td>Kerala artist creates 24-foot-long Theyyam's f...</td>\n",
              "      <td>https://www.republicworld.com/india-news/city-...</td>\n",
              "      <td>Kerala Artist Creates 24-foot-long Theyyam's F...</td>\n",
              "      <td>a kerala-based artist created an installation ...</td>\n",
              "      <td>3</td>\n",
              "      <td>2.0</td>\n",
              "      <td>14.0</td>\n",
              "      <td>republictv</td>\n",
              "      <td>1</td>\n",
              "      <td>[art, food, bakeries and baked products]</td>\n",
              "      <td>-0.018981</td>\n",
              "      <td>Negative</td>\n",
              "      <td>0.414815</td>\n",
              "      <td>Low subjectivity</td>\n",
              "    </tr>\n",
              "    <tr>\n",
              "      <th>2</th>\n",
              "      <td>PM Modi launches Indian Space Association, hig...</td>\n",
              "      <td>https://www.republicworld.com/india-news/gener...</td>\n",
              "      <td>Govt as an enabler..': PM Modi Launches Indian...</td>\n",
              "      <td>modi modi on monday launched indian space sect...</td>\n",
              "      <td>1</td>\n",
              "      <td>4.0</td>\n",
              "      <td>27.0</td>\n",
              "      <td>republictv</td>\n",
              "      <td>1</td>\n",
              "      <td>[space]</td>\n",
              "      <td>0.130303</td>\n",
              "      <td>Positive</td>\n",
              "      <td>0.530038</td>\n",
              "      <td>High subjectivity</td>\n",
              "    </tr>\n",
              "    <tr>\n",
              "      <th>3</th>\n",
              "      <td>NEET Phase 2 registration 2021 to end today, h...</td>\n",
              "      <td>https://www.republicworld.com/india-news/educa...</td>\n",
              "      <td>NEET Phase 2 Registration 2021 To End Today, H...</td>\n",
              "      <td>neet phase 2 registration: national testing ag...</td>\n",
              "      <td>3</td>\n",
              "      <td>1.0</td>\n",
              "      <td>5.0</td>\n",
              "      <td>republictv</td>\n",
              "      <td>1</td>\n",
              "      <td>[politics and government, elections, tests and...</td>\n",
              "      <td>0.111111</td>\n",
              "      <td>Positive</td>\n",
              "      <td>0.728858</td>\n",
              "      <td>High subjectivity</td>\n",
              "    </tr>\n",
              "    <tr>\n",
              "      <th>4</th>\n",
              "      <td>US, UK issue advisory; warn citizens to avoid ...</td>\n",
              "      <td>https://www.republicworld.com/world-news/rest-...</td>\n",
              "      <td>Leave immediately' | US, UK Issue Advisory; Wa...</td>\n",
              "      <td>the united states and britain on monday, 11 oc...</td>\n",
              "      <td>3</td>\n",
              "      <td>2.0</td>\n",
              "      <td>11.0</td>\n",
              "      <td>republictv</td>\n",
              "      <td>1</td>\n",
              "      <td>[terrorism, religion and churches, bombs and e...</td>\n",
              "      <td>-0.009491</td>\n",
              "      <td>Negative</td>\n",
              "      <td>0.392130</td>\n",
              "      <td>Low subjectivity</td>\n",
              "    </tr>\n",
              "  </tbody>\n",
              "</table>\n",
              "</div>\n",
              "      <button class=\"colab-df-convert\" onclick=\"convertToInteractive('df-7a90709c-d57c-4a70-a0b3-3b2429f7f286')\"\n",
              "              title=\"Convert this dataframe to an interactive table.\"\n",
              "              style=\"display:none;\">\n",
              "        \n",
              "  <svg xmlns=\"http://www.w3.org/2000/svg\" height=\"24px\"viewBox=\"0 0 24 24\"\n",
              "       width=\"24px\">\n",
              "    <path d=\"M0 0h24v24H0V0z\" fill=\"none\"/>\n",
              "    <path d=\"M18.56 5.44l.94 2.06.94-2.06 2.06-.94-2.06-.94-.94-2.06-.94 2.06-2.06.94zm-11 1L8.5 8.5l.94-2.06 2.06-.94-2.06-.94L8.5 2.5l-.94 2.06-2.06.94zm10 10l.94 2.06.94-2.06 2.06-.94-2.06-.94-.94-2.06-.94 2.06-2.06.94z\"/><path d=\"M17.41 7.96l-1.37-1.37c-.4-.4-.92-.59-1.43-.59-.52 0-1.04.2-1.43.59L10.3 9.45l-7.72 7.72c-.78.78-.78 2.05 0 2.83L4 21.41c.39.39.9.59 1.41.59.51 0 1.02-.2 1.41-.59l7.78-7.78 2.81-2.81c.8-.78.8-2.07 0-2.86zM5.41 20L4 18.59l7.72-7.72 1.47 1.35L5.41 20z\"/>\n",
              "  </svg>\n",
              "      </button>\n",
              "      \n",
              "  <style>\n",
              "    .colab-df-container {\n",
              "      display:flex;\n",
              "      flex-wrap:wrap;\n",
              "      gap: 12px;\n",
              "    }\n",
              "\n",
              "    .colab-df-convert {\n",
              "      background-color: #E8F0FE;\n",
              "      border: none;\n",
              "      border-radius: 50%;\n",
              "      cursor: pointer;\n",
              "      display: none;\n",
              "      fill: #1967D2;\n",
              "      height: 32px;\n",
              "      padding: 0 0 0 0;\n",
              "      width: 32px;\n",
              "    }\n",
              "\n",
              "    .colab-df-convert:hover {\n",
              "      background-color: #E2EBFA;\n",
              "      box-shadow: 0px 1px 2px rgba(60, 64, 67, 0.3), 0px 1px 3px 1px rgba(60, 64, 67, 0.15);\n",
              "      fill: #174EA6;\n",
              "    }\n",
              "\n",
              "    [theme=dark] .colab-df-convert {\n",
              "      background-color: #3B4455;\n",
              "      fill: #D2E3FC;\n",
              "    }\n",
              "\n",
              "    [theme=dark] .colab-df-convert:hover {\n",
              "      background-color: #434B5C;\n",
              "      box-shadow: 0px 1px 3px 1px rgba(0, 0, 0, 0.15);\n",
              "      filter: drop-shadow(0px 1px 2px rgba(0, 0, 0, 0.3));\n",
              "      fill: #FFFFFF;\n",
              "    }\n",
              "  </style>\n",
              "\n",
              "      <script>\n",
              "        const buttonEl =\n",
              "          document.querySelector('#df-7a90709c-d57c-4a70-a0b3-3b2429f7f286 button.colab-df-convert');\n",
              "        buttonEl.style.display =\n",
              "          google.colab.kernel.accessAllowed ? 'block' : 'none';\n",
              "\n",
              "        async function convertToInteractive(key) {\n",
              "          const element = document.querySelector('#df-7a90709c-d57c-4a70-a0b3-3b2429f7f286');\n",
              "          const dataTable =\n",
              "            await google.colab.kernel.invokeFunction('convertToInteractive',\n",
              "                                                     [key], {});\n",
              "          if (!dataTable) return;\n",
              "\n",
              "          const docLinkHtml = 'Like what you see? Visit the ' +\n",
              "            '<a target=\"_blank\" href=https://colab.research.google.com/notebooks/data_table.ipynb>data table notebook</a>'\n",
              "            + ' to learn more about interactive tables.';\n",
              "          element.innerHTML = '';\n",
              "          dataTable['output_type'] = 'display_data';\n",
              "          await google.colab.output.renderOutput(dataTable, element);\n",
              "          const docLink = document.createElement('div');\n",
              "          docLink.innerHTML = docLinkHtml;\n",
              "          element.appendChild(docLink);\n",
              "        }\n",
              "      </script>\n",
              "    </div>\n",
              "  </div>\n",
              "  "
            ]
          },
          "metadata": {},
          "execution_count": 233
        }
      ]
    },
    {
      "cell_type": "code",
      "source": [
        "ndf.head()"
      ],
      "metadata": {
        "colab": {
          "base_uri": "https://localhost:8080/",
          "height": 615
        },
        "id": "UNXSlnAckt9z",
        "outputId": "b74a061b-7305-479a-9b5d-a0ccfb6d90ec"
      },
      "execution_count": 234,
      "outputs": [
        {
          "output_type": "execute_result",
          "data": {
            "text/plain": [
              "                                                text  \\\n",
              "0  Army Officer, 4 Others Killed In Encounter In ...   \n",
              "1  #AryanKhan Case: No Bail For Him Today, Next H...   \n",
              "2  RT @ndtvfeed: Ex-National Conference Leaders D...   \n",
              "3  RT @ndtvfeed: US Has Lost AI Battle To China, ...   \n",
              "4  RT @ndtvfeed: A Look At Inspiring Messages On ...   \n",
              "\n",
              "                                                 url  \\\n",
              "0  https://www.ndtv.com/india-news/army-officer-4...   \n",
              "1  https://ndtv.com/india-news/mumbai-drug-bust-c...   \n",
              "2  https://www.ndtv.com/india-news/after-resignin...   \n",
              "3  https://www.ndtv.com/world-news/us-has-lost-ar...   \n",
              "4  https://www.ndtv.com/india-news/on-internation...   \n",
              "\n",
              "                                               title  \\\n",
              "0  Army Officer, 4 Personnel Killed In Encounter ...   \n",
              "1  Aryan Khan Case: No Bail For Him Today, Next H...   \n",
              "2  Ex-National Conference Leaders Devender Rana, ...   \n",
              "3  US Has Lost AI Battle To China, Pentagon's Ex-...   \n",
              "4  International Day Of The Girl Child 2021: Lead...   \n",
              "\n",
              "                                             content  bias  retweet_count  \\\n",
              "0  an army officer and four other personnel were ...     3              9   \n",
              "1  aryan khan did not get bail today for the thir...     3              5   \n",
              "2  a day after resigning from the national confer...     1              2   \n",
              "3  china has won the artificial intelligence batt...     0              5   \n",
              "4  various world leaders and un agencies posted w...     3              3   \n",
              "\n",
              "   favorite_count source_name  source  \\\n",
              "0              63        ndtv       0   \n",
              "1              44        ndtv       0   \n",
              "2               0        ndtv       0   \n",
              "3               0        ndtv       0   \n",
              "4               0        ndtv       0   \n",
              "\n",
              "                                                tags  polarity polarity_score  \\\n",
              "0  [terrorism, armament, defense and military for... -0.031250       Negative   \n",
              "1                           [drug abuse and traffic] -0.018687       Negative   \n",
              "2               [appointments and executive changes]  0.084060       Positive   \n",
              "3  [suspensions, dismissals and resignations, arm...  0.008113       Positive   \n",
              "4                        [women, children and youth]  0.102905       Positive   \n",
              "\n",
              "   subjectivity subjectivity_score  \n",
              "0      0.318750   Low subjectivity  \n",
              "1      0.407323   Low subjectivity  \n",
              "2      0.199474   Low subjectivity  \n",
              "3      0.385273   Low subjectivity  \n",
              "4      0.209667   Low subjectivity  "
            ],
            "text/html": [
              "\n",
              "  <div id=\"df-303368af-c778-4331-a33a-05cf6ca6ba25\">\n",
              "    <div class=\"colab-df-container\">\n",
              "      <div>\n",
              "<style scoped>\n",
              "    .dataframe tbody tr th:only-of-type {\n",
              "        vertical-align: middle;\n",
              "    }\n",
              "\n",
              "    .dataframe tbody tr th {\n",
              "        vertical-align: top;\n",
              "    }\n",
              "\n",
              "    .dataframe thead th {\n",
              "        text-align: right;\n",
              "    }\n",
              "</style>\n",
              "<table border=\"1\" class=\"dataframe\">\n",
              "  <thead>\n",
              "    <tr style=\"text-align: right;\">\n",
              "      <th></th>\n",
              "      <th>text</th>\n",
              "      <th>url</th>\n",
              "      <th>title</th>\n",
              "      <th>content</th>\n",
              "      <th>bias</th>\n",
              "      <th>retweet_count</th>\n",
              "      <th>favorite_count</th>\n",
              "      <th>source_name</th>\n",
              "      <th>source</th>\n",
              "      <th>tags</th>\n",
              "      <th>polarity</th>\n",
              "      <th>polarity_score</th>\n",
              "      <th>subjectivity</th>\n",
              "      <th>subjectivity_score</th>\n",
              "    </tr>\n",
              "  </thead>\n",
              "  <tbody>\n",
              "    <tr>\n",
              "      <th>0</th>\n",
              "      <td>Army Officer, 4 Others Killed In Encounter In ...</td>\n",
              "      <td>https://www.ndtv.com/india-news/army-officer-4...</td>\n",
              "      <td>Army Officer, 4 Personnel Killed In Encounter ...</td>\n",
              "      <td>an army officer and four other personnel were ...</td>\n",
              "      <td>3</td>\n",
              "      <td>9</td>\n",
              "      <td>63</td>\n",
              "      <td>ndtv</td>\n",
              "      <td>0</td>\n",
              "      <td>[terrorism, armament, defense and military for...</td>\n",
              "      <td>-0.031250</td>\n",
              "      <td>Negative</td>\n",
              "      <td>0.318750</td>\n",
              "      <td>Low subjectivity</td>\n",
              "    </tr>\n",
              "    <tr>\n",
              "      <th>1</th>\n",
              "      <td>#AryanKhan Case: No Bail For Him Today, Next H...</td>\n",
              "      <td>https://ndtv.com/india-news/mumbai-drug-bust-c...</td>\n",
              "      <td>Aryan Khan Case: No Bail For Him Today, Next H...</td>\n",
              "      <td>aryan khan did not get bail today for the thir...</td>\n",
              "      <td>3</td>\n",
              "      <td>5</td>\n",
              "      <td>44</td>\n",
              "      <td>ndtv</td>\n",
              "      <td>0</td>\n",
              "      <td>[drug abuse and traffic]</td>\n",
              "      <td>-0.018687</td>\n",
              "      <td>Negative</td>\n",
              "      <td>0.407323</td>\n",
              "      <td>Low subjectivity</td>\n",
              "    </tr>\n",
              "    <tr>\n",
              "      <th>2</th>\n",
              "      <td>RT @ndtvfeed: Ex-National Conference Leaders D...</td>\n",
              "      <td>https://www.ndtv.com/india-news/after-resignin...</td>\n",
              "      <td>Ex-National Conference Leaders Devender Rana, ...</td>\n",
              "      <td>a day after resigning from the national confer...</td>\n",
              "      <td>1</td>\n",
              "      <td>2</td>\n",
              "      <td>0</td>\n",
              "      <td>ndtv</td>\n",
              "      <td>0</td>\n",
              "      <td>[appointments and executive changes]</td>\n",
              "      <td>0.084060</td>\n",
              "      <td>Positive</td>\n",
              "      <td>0.199474</td>\n",
              "      <td>Low subjectivity</td>\n",
              "    </tr>\n",
              "    <tr>\n",
              "      <th>3</th>\n",
              "      <td>RT @ndtvfeed: US Has Lost AI Battle To China, ...</td>\n",
              "      <td>https://www.ndtv.com/world-news/us-has-lost-ar...</td>\n",
              "      <td>US Has Lost AI Battle To China, Pentagon's Ex-...</td>\n",
              "      <td>china has won the artificial intelligence batt...</td>\n",
              "      <td>0</td>\n",
              "      <td>5</td>\n",
              "      <td>0</td>\n",
              "      <td>ndtv</td>\n",
              "      <td>0</td>\n",
              "      <td>[suspensions, dismissals and resignations, arm...</td>\n",
              "      <td>0.008113</td>\n",
              "      <td>Positive</td>\n",
              "      <td>0.385273</td>\n",
              "      <td>Low subjectivity</td>\n",
              "    </tr>\n",
              "    <tr>\n",
              "      <th>4</th>\n",
              "      <td>RT @ndtvfeed: A Look At Inspiring Messages On ...</td>\n",
              "      <td>https://www.ndtv.com/india-news/on-internation...</td>\n",
              "      <td>International Day Of The Girl Child 2021: Lead...</td>\n",
              "      <td>various world leaders and un agencies posted w...</td>\n",
              "      <td>3</td>\n",
              "      <td>3</td>\n",
              "      <td>0</td>\n",
              "      <td>ndtv</td>\n",
              "      <td>0</td>\n",
              "      <td>[women, children and youth]</td>\n",
              "      <td>0.102905</td>\n",
              "      <td>Positive</td>\n",
              "      <td>0.209667</td>\n",
              "      <td>Low subjectivity</td>\n",
              "    </tr>\n",
              "  </tbody>\n",
              "</table>\n",
              "</div>\n",
              "      <button class=\"colab-df-convert\" onclick=\"convertToInteractive('df-303368af-c778-4331-a33a-05cf6ca6ba25')\"\n",
              "              title=\"Convert this dataframe to an interactive table.\"\n",
              "              style=\"display:none;\">\n",
              "        \n",
              "  <svg xmlns=\"http://www.w3.org/2000/svg\" height=\"24px\"viewBox=\"0 0 24 24\"\n",
              "       width=\"24px\">\n",
              "    <path d=\"M0 0h24v24H0V0z\" fill=\"none\"/>\n",
              "    <path d=\"M18.56 5.44l.94 2.06.94-2.06 2.06-.94-2.06-.94-.94-2.06-.94 2.06-2.06.94zm-11 1L8.5 8.5l.94-2.06 2.06-.94-2.06-.94L8.5 2.5l-.94 2.06-2.06.94zm10 10l.94 2.06.94-2.06 2.06-.94-2.06-.94-.94-2.06-.94 2.06-2.06.94z\"/><path d=\"M17.41 7.96l-1.37-1.37c-.4-.4-.92-.59-1.43-.59-.52 0-1.04.2-1.43.59L10.3 9.45l-7.72 7.72c-.78.78-.78 2.05 0 2.83L4 21.41c.39.39.9.59 1.41.59.51 0 1.02-.2 1.41-.59l7.78-7.78 2.81-2.81c.8-.78.8-2.07 0-2.86zM5.41 20L4 18.59l7.72-7.72 1.47 1.35L5.41 20z\"/>\n",
              "  </svg>\n",
              "      </button>\n",
              "      \n",
              "  <style>\n",
              "    .colab-df-container {\n",
              "      display:flex;\n",
              "      flex-wrap:wrap;\n",
              "      gap: 12px;\n",
              "    }\n",
              "\n",
              "    .colab-df-convert {\n",
              "      background-color: #E8F0FE;\n",
              "      border: none;\n",
              "      border-radius: 50%;\n",
              "      cursor: pointer;\n",
              "      display: none;\n",
              "      fill: #1967D2;\n",
              "      height: 32px;\n",
              "      padding: 0 0 0 0;\n",
              "      width: 32px;\n",
              "    }\n",
              "\n",
              "    .colab-df-convert:hover {\n",
              "      background-color: #E2EBFA;\n",
              "      box-shadow: 0px 1px 2px rgba(60, 64, 67, 0.3), 0px 1px 3px 1px rgba(60, 64, 67, 0.15);\n",
              "      fill: #174EA6;\n",
              "    }\n",
              "\n",
              "    [theme=dark] .colab-df-convert {\n",
              "      background-color: #3B4455;\n",
              "      fill: #D2E3FC;\n",
              "    }\n",
              "\n",
              "    [theme=dark] .colab-df-convert:hover {\n",
              "      background-color: #434B5C;\n",
              "      box-shadow: 0px 1px 3px 1px rgba(0, 0, 0, 0.15);\n",
              "      filter: drop-shadow(0px 1px 2px rgba(0, 0, 0, 0.3));\n",
              "      fill: #FFFFFF;\n",
              "    }\n",
              "  </style>\n",
              "\n",
              "      <script>\n",
              "        const buttonEl =\n",
              "          document.querySelector('#df-303368af-c778-4331-a33a-05cf6ca6ba25 button.colab-df-convert');\n",
              "        buttonEl.style.display =\n",
              "          google.colab.kernel.accessAllowed ? 'block' : 'none';\n",
              "\n",
              "        async function convertToInteractive(key) {\n",
              "          const element = document.querySelector('#df-303368af-c778-4331-a33a-05cf6ca6ba25');\n",
              "          const dataTable =\n",
              "            await google.colab.kernel.invokeFunction('convertToInteractive',\n",
              "                                                     [key], {});\n",
              "          if (!dataTable) return;\n",
              "\n",
              "          const docLinkHtml = 'Like what you see? Visit the ' +\n",
              "            '<a target=\"_blank\" href=https://colab.research.google.com/notebooks/data_table.ipynb>data table notebook</a>'\n",
              "            + ' to learn more about interactive tables.';\n",
              "          element.innerHTML = '';\n",
              "          dataTable['output_type'] = 'display_data';\n",
              "          await google.colab.output.renderOutput(dataTable, element);\n",
              "          const docLink = document.createElement('div');\n",
              "          docLink.innerHTML = docLinkHtml;\n",
              "          element.appendChild(docLink);\n",
              "        }\n",
              "      </script>\n",
              "    </div>\n",
              "  </div>\n",
              "  "
            ]
          },
          "metadata": {},
          "execution_count": 234
        }
      ]
    },
    {
      "cell_type": "code",
      "source": [
        "with open('/content/drive/MyDrive/project_data/ndtv_data_with_classification_and_sentiment.pkl', 'wb') as fid:\n",
        "     pickle.dump(ndf, fid)\n",
        "with open('/content/drive/MyDrive/project_data/republic_data_with_classification_and_sentiment.pkl', 'wb') as fid:\n",
        "     pickle.dump(rdf, fid)"
      ],
      "metadata": {
        "id": "yt-jrSK8lyBi"
      },
      "execution_count": 235,
      "outputs": []
    }
  ]
}